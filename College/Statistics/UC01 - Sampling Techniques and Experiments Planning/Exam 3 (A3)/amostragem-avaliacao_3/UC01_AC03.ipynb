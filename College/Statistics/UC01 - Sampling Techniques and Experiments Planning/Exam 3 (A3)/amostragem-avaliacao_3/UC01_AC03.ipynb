{
 "cells": [
  {
   "cell_type": "markdown",
   "id": "b182a64b-8f8b-480f-b97c-8e7c2ee385fc",
   "metadata": {},
   "source": [
    "# Enunciado"
   ]
  },
  {
   "cell_type": "markdown",
   "id": "a63a1f4f-91d1-4720-b40a-e041c62cdef4",
   "metadata": {
    "editable": true,
    "slideshow": {
     "slide_type": ""
    },
    "tags": []
   },
   "source": [
    "**Descrição do projeto:**\n",
    "\n",
    "Você será encarregado(a) de realizar um projeto para comparar diferentes métodos de amostragem. Este projeto será conduzido de forma virtual, levando em consideração a natureza do ensino à distância (EAD).\n",
    "\n",
    "**Passos do projeto:**\n",
    "\n",
    "1. Seleção da população virtual: \n",
    "\n",
    "Identifique e defina uma população virtual que possa ser acessada com facilidade, como estudantes de um curso online, membros de uma comunidade virtual, seguidores em redes sociais etc.\n",
    "\n",
    "2. Métodos de amostragem: \n",
    "\n",
    "Escolha pelo menos dois métodos de amostragem para comparar. Exemplos incluem amostragem aleatória simples, amostragem estratificada, amostragem por conglomerados, entre outros.\n",
    "\n",
    "3. Simulação da amostragem: \n",
    "\n",
    "Utilize ferramentas online para simular a aplicação dos métodos de amostragem na população virtual selecionada.\n",
    "\n",
    "4. Coleta de dados simulados: \n",
    "\n",
    "Simule a coleta de dados, utilizando ferramentas virtuais para representar os resultados obtidos através das amostras.\n",
    "\n",
    "5. Análise comparativa: \n",
    "\n",
    "Compare os resultados obtidos com cada método de amostragem simulado. Considere aspectos como eficiência, representatividade, praticidade e viabilidade para estudantes EAD.\n",
    "\n",
    "6. Apresentação dos resultados: \n",
    "\n",
    "Prepare um breve relatório que descreva o processo do projeto, os métodos utilizados, os resultados simulados e as conclusões tiradas da comparação entre os métodos de amostragem.\n",
    "\n",
    "7. Observações:\n",
    "\n",
    "Os estudantes podem usar dados de alguma pesquisa ou estimar valores.\n",
    "\n",
    "Entregar um relatório com os tópicos apresentados acima."
   ]
  },
  {
   "cell_type": "markdown",
   "id": "0e6b9d63-29f1-4925-adb2-afffd56e6b78",
   "metadata": {},
   "source": [
    "# Resolução\n",
    "\n",
    "O dataset de trabalho hipotético será composto de 5 turmas sucessivas (900 a 950 pessoas cada turma) de um curso profissional preparatório.\n",
    "As dimensões analíticas contempladas serão:\n",
    "\n",
    "- $X_{1}$ (Turma):\n",
    "$$\n",
    "x_{1} \\in \\mathbb{I} \\; | \\; 1 \\le x_{1} \\le 5\n",
    "$$\n",
    "\n",
    "- $X_{2}$ (Sexo):\n",
    "$$\n",
    "x_{2} \\in \\{M, F\\}\n",
    "$$\n",
    "\n",
    "- $X_{3}$ (Nota Final):\\*\n",
    "$$\n",
    "x_{3} \\in \\mathbb{R} \\; | \\; 0 \\le x_{3} \\le 10\n",
    "$$\n",
    "\n",
    "\n",
    "- $X_{4}$ (Conclusão):\n",
    "$$\n",
    "x_{4} \\in \\{\\text{True}, \\text{False}\\}\n",
    "$$\n",
    "\n",
    "\n",
    "\n",
    "A partir do Dataset gerado, duas técnicas de amostragem diferentes serão empregadas para gerar amostras a serem avaliadas:\n",
    "1. Amostragem Aleatória Simples\\\n",
    "   1.1. Com repetição\\\n",
    "   1.2. Sem repetição\n",
    "2. Amostragem Sistemática\n",
    "\n",
    "Partindo-se das amostras geradas, estas serão comparadas quanto a qualidade, expressa em termos de representatividade e eficiência, em relação à população.\n",
    "\n",
    "\\* **Para simplificação didática, considerar nota final como uma nota composta de avaliações realizadas ao longo do curso, e não uma nota pontualmente composta no final do curso.**"
   ]
  },
  {
   "cell_type": "markdown",
   "id": "572a5156-04c3-439a-b6e4-102e91b0931e",
   "metadata": {},
   "source": [
    "## Setup"
   ]
  },
  {
   "cell_type": "code",
   "execution_count": 1,
   "id": "cdf54e90-bc42-4a77-96ab-9ab646a196d6",
   "metadata": {},
   "outputs": [],
   "source": [
    "import pandas as pd\n",
    "import numpy as np\n",
    "from numpy.typing import NDArray\n",
    "import matplotlib.pyplot as plt\n",
    "import os"
   ]
  },
  {
   "cell_type": "code",
   "execution_count": 2,
   "id": "13904b05-7740-4bc3-8129-e6cdd664456a",
   "metadata": {},
   "outputs": [],
   "source": [
    "np.random.seed(123)"
   ]
  },
  {
   "cell_type": "markdown",
   "id": "24915593-2fe6-498e-b312-90b4b7370ca8",
   "metadata": {},
   "source": [
    "## Base de dados"
   ]
  },
  {
   "cell_type": "code",
   "execution_count": 3,
   "id": "9d39bede-e3e1-41a8-8eaf-cc8f84e8d6d5",
   "metadata": {},
   "outputs": [
    {
     "name": "stdout",
     "output_type": "stream",
     "text": [
      "\n",
      "Explicação:\n",
      "Para gerar algum grau de variabilidade nos dados, foi criada uma heurística\n",
      "relacionando conclusão do curso a sexo e nota final.\n",
      "Se o aluno possui nota final maior do que 9, a chance dele ter finalizado é\n",
      "de 90%\n",
      " - Nota Final >= 9 ------------> P(X4) = 0.9\n",
      " - 6 <= Nota Final < 9 --------> P(X4) = 0.7 se homem e P(X4) = 0.8 se mulher\n",
      " - 4 <= Nota Final < 6 --------> P(X4) = 0.6 se homem e P(X4) = 0.5 se mulher\n",
      " - Nota Final < 4 -------------> P(X4) = 0.35\n",
      "\n"
     ]
    }
   ],
   "source": [
    "# Funções auxiliares\n",
    "\n",
    "def generate_finish_status(student: dict) -> bool:\n",
    "    if student['final_grade'] >= 9:\n",
    "        return np.random.choice(a=[True, False], p=[0.9, 0.1])\n",
    "    elif 6 <= student['final_grade'] < 9:\n",
    "        if student['sex'] == 'M':\n",
    "            return np.random.choice(a=[True, False], p=[0.7, 0.3])\n",
    "        return np.random.choice(a=[True, False], p=[0.8, 0.2])\n",
    "    elif 4 <= student['final_grade'] < 6:\n",
    "        if student['sex'] == 'M':\n",
    "            return np.random.choice(a=[True, False], p=[0.6, 0.4])\n",
    "        return np.random.choice(a=[True, False], p=[0.5, 0.5])\n",
    "    return np.random.choice(a=[True, False], p=[0.35, 0.65])\n",
    "\n",
    "print(\"\"\"\n",
    "Explicação:\n",
    "Para gerar algum grau de variabilidade nos dados, foi criada uma heurística\n",
    "relacionando conclusão do curso a sexo e nota final.\n",
    "Se o aluno possui nota final maior do que 9, a chance dele ter finalizado é\n",
    "de 90%\n",
    " - Nota Final >= 9 ------------> P(X4) = 0.9\n",
    " - 6 <= Nota Final < 9 --------> P(X4) = 0.7 se homem e P(X4) = 0.8 se mulher\n",
    " - 4 <= Nota Final < 6 --------> P(X4) = 0.6 se homem e P(X4) = 0.5 se mulher\n",
    " - Nota Final < 4 -------------> P(X4) = 0.35\n",
    "\"\"\")"
   ]
  },
  {
   "cell_type": "code",
   "execution_count": 4,
   "id": "acb94526-9bb6-4463-bd46-45e946d9ab72",
   "metadata": {
    "editable": true,
    "slideshow": {
     "slide_type": ""
    },
    "tags": []
   },
   "outputs": [
    {
     "name": "stdout",
     "output_type": "stream",
     "text": [
      "Turma 1: 945 alunos\n",
      "Turma 2: 928 alunos\n",
      "Turma 3: 929 alunos\n",
      "Turma 4: 918 alunos\n",
      "Turma 5: 928 alunos\n",
      "Total: 4648 alunos\n"
     ]
    }
   ],
   "source": [
    "classes = [class_number for class_number in range(1, 6)]\n",
    "data = []\n",
    "\n",
    "# Iterando sobre turmas\n",
    "for class_number in classes:\n",
    "    class_students = []\n",
    "    class_total_count = np.random.randint(900, 951)\n",
    "    for student_index in range(class_total_count):\n",
    "        base_student = dict([('class', class_number)])\n",
    "        base_student['sex'] = np.random.choice(a=['M', 'F'], p=[0.6, 0.4])\n",
    "        base_student['final_grade'] = float(f'{np.random.normal(loc=6.5, scale=1.0):.1f}')\n",
    "        base_student['finished'] = generate_finish_status(base_student)\n",
    "        class_students.append(base_student)\n",
    "    # Incorporamos a turma à população\n",
    "    print(f'Turma {class_number}: {class_total_count} alunos')\n",
    "    data.extend(class_students)\n",
    "\n",
    "print(f'Total: {len(data)} alunos')"
   ]
  },
  {
   "cell_type": "code",
   "execution_count": 5,
   "id": "29b8999b-8b7c-4dc7-884b-b34d94db1908",
   "metadata": {},
   "outputs": [
    {
     "data": {
      "text/html": [
       "<div>\n",
       "<style scoped>\n",
       "    .dataframe tbody tr th:only-of-type {\n",
       "        vertical-align: middle;\n",
       "    }\n",
       "\n",
       "    .dataframe tbody tr th {\n",
       "        vertical-align: top;\n",
       "    }\n",
       "\n",
       "    .dataframe thead th {\n",
       "        text-align: right;\n",
       "    }\n",
       "</style>\n",
       "<table border=\"1\" class=\"dataframe\">\n",
       "  <thead>\n",
       "    <tr style=\"text-align: right;\">\n",
       "      <th></th>\n",
       "      <th>class</th>\n",
       "      <th>sex</th>\n",
       "      <th>final_grade</th>\n",
       "      <th>finished</th>\n",
       "    </tr>\n",
       "  </thead>\n",
       "  <tbody>\n",
       "    <tr>\n",
       "      <th>0</th>\n",
       "      <td>1</td>\n",
       "      <td>M</td>\n",
       "      <td>6.8</td>\n",
       "      <td>False</td>\n",
       "    </tr>\n",
       "    <tr>\n",
       "      <th>1</th>\n",
       "      <td>1</td>\n",
       "      <td>M</td>\n",
       "      <td>5.0</td>\n",
       "      <td>False</td>\n",
       "    </tr>\n",
       "    <tr>\n",
       "      <th>2</th>\n",
       "      <td>1</td>\n",
       "      <td>F</td>\n",
       "      <td>4.1</td>\n",
       "      <td>True</td>\n",
       "    </tr>\n",
       "    <tr>\n",
       "      <th>3</th>\n",
       "      <td>1</td>\n",
       "      <td>F</td>\n",
       "      <td>6.1</td>\n",
       "      <td>True</td>\n",
       "    </tr>\n",
       "    <tr>\n",
       "      <th>4</th>\n",
       "      <td>1</td>\n",
       "      <td>M</td>\n",
       "      <td>8.0</td>\n",
       "      <td>True</td>\n",
       "    </tr>\n",
       "  </tbody>\n",
       "</table>\n",
       "</div>"
      ],
      "text/plain": [
       "   class sex  final_grade  finished\n",
       "0      1   M          6.8     False\n",
       "1      1   M          5.0     False\n",
       "2      1   F          4.1      True\n",
       "3      1   F          6.1      True\n",
       "4      1   M          8.0      True"
      ]
     },
     "execution_count": 5,
     "metadata": {},
     "output_type": "execute_result"
    }
   ],
   "source": [
    "df = pd.DataFrame(data=data)\n",
    "df.head()"
   ]
  },
  {
   "cell_type": "markdown",
   "id": "d015f92e-e0b9-4d47-bf1e-d0db021244e9",
   "metadata": {},
   "source": [
    "## Amostragem"
   ]
  },
  {
   "cell_type": "markdown",
   "id": "da5afdb5-64b1-4c67-a22e-6ae667910999",
   "metadata": {},
   "source": [
    "Para calcular o tamanho mínimo da amostra, usaremos a fórmula de Slovin:\n",
    "$$\n",
    "n = \\frac{N}{1 + (N \\times e^2)}\n",
    "$$\n",
    "Onde:\n",
    "- $n$ é o tamanho da amostra\n",
    "- $N$ é o tamanho da população\n",
    "- $e$ é a margem de erro assumida, que para este caso será de 0.05.\n"
   ]
  },
  {
   "cell_type": "code",
   "execution_count": 8,
   "id": "3659cc32-111f-4d96-ba7e-c27048cb2494",
   "metadata": {},
   "outputs": [
    {
     "name": "stdout",
     "output_type": "stream",
     "text": [
      "O tamanho mínimo calculado que espera-se para a amostra é de 369\n"
     ]
    }
   ],
   "source": [
    "sample_size = int(np.ceil(df.shape[0] / ( 1 + ( df.shape[0] * ( 0.05 ) ** 2 ))))\n",
    "print(f'O tamanho mínimo calculado que espera-se para a amostra é de {sample_size}')"
   ]
  },
  {
   "cell_type": "markdown",
   "id": "53e80319-5fa0-4097-a7b2-c4f75215ce7c",
   "metadata": {},
   "source": [
    "### Amostra Aleatória Simples\n",
    "\n",
    "$$\n",
    "s = \\{x_{i_{1}},x_{i_{2}},\\dots,x_{i_{k}}\\} \\space | \\space P(x_{1}) = P(x_{2}) = ... = P(x_{k}) = \\frac{1}{n}\n",
    "$$"
   ]
  },
  {
   "cell_type": "markdown",
   "id": "89398bdb-8172-435b-8d38-b3e825b3dfe7",
   "metadata": {},
   "source": [
    "#### Sem Repetição (AAS)\n",
    "\n",
    "Com esta técnica, escolhemos $n$ vezes um elemento aleatório da população, garantindo que este elemento apareça no máximo uma única vez na amostra final."
   ]
  },
  {
   "cell_type": "code",
   "execution_count": 9,
   "id": "d852f755-3b28-443a-b2ed-b0aaf4836d2b",
   "metadata": {},
   "outputs": [
    {
     "name": "stdout",
     "output_type": "stream",
     "text": [
      "Amostra Aleatória Simples sem repetição finalizada (369 elementos)\n"
     ]
    }
   ],
   "source": [
    "simple_random_sample_without_replacement = []\n",
    "chosen_numbers = []\n",
    "while len(simple_random_sample_without_replacement) < sample_size:\n",
    "    random_choice = np.random.randint(low=0, high=df.shape[0])\n",
    "    if random_choice not in chosen_numbers:\n",
    "        simple_random_sample_without_replacement += [df.loc[random_choice].copy().to_dict()]\n",
    "        chosen_numbers += [random_choice]\n",
    "print(f'Amostra Aleatória Simples sem repetição finalizada ({len(simple_random_sample_without_replacement)} elementos)')"
   ]
  },
  {
   "cell_type": "code",
   "execution_count": 10,
   "id": "263d7e33-f747-445e-a404-7f540249f9c5",
   "metadata": {},
   "outputs": [
    {
     "data": {
      "text/html": [
       "<div>\n",
       "<style scoped>\n",
       "    .dataframe tbody tr th:only-of-type {\n",
       "        vertical-align: middle;\n",
       "    }\n",
       "\n",
       "    .dataframe tbody tr th {\n",
       "        vertical-align: top;\n",
       "    }\n",
       "\n",
       "    .dataframe thead th {\n",
       "        text-align: right;\n",
       "    }\n",
       "</style>\n",
       "<table border=\"1\" class=\"dataframe\">\n",
       "  <thead>\n",
       "    <tr style=\"text-align: right;\">\n",
       "      <th></th>\n",
       "      <th>class</th>\n",
       "      <th>sex</th>\n",
       "      <th>final_grade</th>\n",
       "      <th>finished</th>\n",
       "    </tr>\n",
       "  </thead>\n",
       "  <tbody>\n",
       "    <tr>\n",
       "      <th>0</th>\n",
       "      <td>5</td>\n",
       "      <td>F</td>\n",
       "      <td>5.8</td>\n",
       "      <td>True</td>\n",
       "    </tr>\n",
       "    <tr>\n",
       "      <th>1</th>\n",
       "      <td>4</td>\n",
       "      <td>M</td>\n",
       "      <td>8.4</td>\n",
       "      <td>True</td>\n",
       "    </tr>\n",
       "    <tr>\n",
       "      <th>2</th>\n",
       "      <td>2</td>\n",
       "      <td>M</td>\n",
       "      <td>7.4</td>\n",
       "      <td>True</td>\n",
       "    </tr>\n",
       "    <tr>\n",
       "      <th>3</th>\n",
       "      <td>5</td>\n",
       "      <td>F</td>\n",
       "      <td>6.3</td>\n",
       "      <td>True</td>\n",
       "    </tr>\n",
       "    <tr>\n",
       "      <th>4</th>\n",
       "      <td>3</td>\n",
       "      <td>M</td>\n",
       "      <td>7.6</td>\n",
       "      <td>True</td>\n",
       "    </tr>\n",
       "  </tbody>\n",
       "</table>\n",
       "</div>"
      ],
      "text/plain": [
       "   class sex  final_grade  finished\n",
       "0      5   F          5.8      True\n",
       "1      4   M          8.4      True\n",
       "2      2   M          7.4      True\n",
       "3      5   F          6.3      True\n",
       "4      3   M          7.6      True"
      ]
     },
     "execution_count": 10,
     "metadata": {},
     "output_type": "execute_result"
    }
   ],
   "source": [
    "df_aas = pd.DataFrame(data=simple_random_sample_without_replacement)\n",
    "df_aas.head()"
   ]
  },
  {
   "cell_type": "markdown",
   "id": "fb9a755b-d177-4d42-9a6e-1d85a69e2132",
   "metadata": {},
   "source": [
    "#### Com Repetição (AASc)\n",
    "\n",
    "Com esta técnica, escolhemos $n$ vezes elementos aleatórios da população, independente da repetição."
   ]
  },
  {
   "cell_type": "code",
   "execution_count": 11,
   "id": "a5632da6-5870-4588-9d5c-c15088899c2d",
   "metadata": {},
   "outputs": [
    {
     "name": "stdout",
     "output_type": "stream",
     "text": [
      "Amostra Aleatória Simples com repetição finalizada (369 elementos)\n"
     ]
    }
   ],
   "source": [
    "simple_random_sample_with_replacement = []\n",
    "chosen_numbers = []\n",
    "for i in range(sample_size):\n",
    "    random_choice = np.random.randint(low=0, high=df.shape[0])\n",
    "    simple_random_sample_with_replacement += [df.loc[random_choice].copy().to_dict()]\n",
    "print(f'Amostra Aleatória Simples com repetição finalizada ({len(simple_random_sample_with_replacement)} elementos)')"
   ]
  },
  {
   "cell_type": "code",
   "execution_count": 12,
   "id": "dbaf116c-c826-409c-8e7b-7b85576dfe53",
   "metadata": {},
   "outputs": [
    {
     "data": {
      "text/html": [
       "<div>\n",
       "<style scoped>\n",
       "    .dataframe tbody tr th:only-of-type {\n",
       "        vertical-align: middle;\n",
       "    }\n",
       "\n",
       "    .dataframe tbody tr th {\n",
       "        vertical-align: top;\n",
       "    }\n",
       "\n",
       "    .dataframe thead th {\n",
       "        text-align: right;\n",
       "    }\n",
       "</style>\n",
       "<table border=\"1\" class=\"dataframe\">\n",
       "  <thead>\n",
       "    <tr style=\"text-align: right;\">\n",
       "      <th></th>\n",
       "      <th>class</th>\n",
       "      <th>sex</th>\n",
       "      <th>final_grade</th>\n",
       "      <th>finished</th>\n",
       "    </tr>\n",
       "  </thead>\n",
       "  <tbody>\n",
       "    <tr>\n",
       "      <th>0</th>\n",
       "      <td>2</td>\n",
       "      <td>F</td>\n",
       "      <td>6.7</td>\n",
       "      <td>True</td>\n",
       "    </tr>\n",
       "    <tr>\n",
       "      <th>1</th>\n",
       "      <td>4</td>\n",
       "      <td>M</td>\n",
       "      <td>7.1</td>\n",
       "      <td>False</td>\n",
       "    </tr>\n",
       "    <tr>\n",
       "      <th>2</th>\n",
       "      <td>3</td>\n",
       "      <td>M</td>\n",
       "      <td>6.7</td>\n",
       "      <td>False</td>\n",
       "    </tr>\n",
       "    <tr>\n",
       "      <th>3</th>\n",
       "      <td>3</td>\n",
       "      <td>M</td>\n",
       "      <td>6.7</td>\n",
       "      <td>True</td>\n",
       "    </tr>\n",
       "    <tr>\n",
       "      <th>4</th>\n",
       "      <td>2</td>\n",
       "      <td>M</td>\n",
       "      <td>7.1</td>\n",
       "      <td>False</td>\n",
       "    </tr>\n",
       "  </tbody>\n",
       "</table>\n",
       "</div>"
      ],
      "text/plain": [
       "   class sex  final_grade  finished\n",
       "0      2   F          6.7      True\n",
       "1      4   M          7.1     False\n",
       "2      3   M          6.7     False\n",
       "3      3   M          6.7      True\n",
       "4      2   M          7.1     False"
      ]
     },
     "execution_count": 12,
     "metadata": {},
     "output_type": "execute_result"
    }
   ],
   "source": [
    "df_aasc = pd.DataFrame(data=simple_random_sample_with_replacement)\n",
    "df_aasc.head()"
   ]
  },
  {
   "cell_type": "markdown",
   "id": "bc7b99f6-a45b-4162-975e-8d20e5cb5382",
   "metadata": {},
   "source": [
    "### Amostra Sistemática\n",
    "\n",
    "Hipoteticamente, usaremos esta técnica para estudar conclusão (`finished`) do curso.\n",
    "Para isso, a primeira coisa a ser feita deve ser ordenar o dataframe em relação à variável de estudo:"
   ]
  },
  {
   "cell_type": "code",
   "execution_count": 13,
   "id": "863e407c-ed7d-4fb6-aa12-b071cca35a2a",
   "metadata": {},
   "outputs": [
    {
     "data": {
      "text/html": [
       "<div>\n",
       "<style scoped>\n",
       "    .dataframe tbody tr th:only-of-type {\n",
       "        vertical-align: middle;\n",
       "    }\n",
       "\n",
       "    .dataframe tbody tr th {\n",
       "        vertical-align: top;\n",
       "    }\n",
       "\n",
       "    .dataframe thead th {\n",
       "        text-align: right;\n",
       "    }\n",
       "</style>\n",
       "<table border=\"1\" class=\"dataframe\">\n",
       "  <thead>\n",
       "    <tr style=\"text-align: right;\">\n",
       "      <th></th>\n",
       "      <th>index</th>\n",
       "      <th>class</th>\n",
       "      <th>sex</th>\n",
       "      <th>final_grade</th>\n",
       "      <th>finished</th>\n",
       "    </tr>\n",
       "  </thead>\n",
       "  <tbody>\n",
       "    <tr>\n",
       "      <th>0</th>\n",
       "      <td>0</td>\n",
       "      <td>1</td>\n",
       "      <td>M</td>\n",
       "      <td>6.8</td>\n",
       "      <td>False</td>\n",
       "    </tr>\n",
       "    <tr>\n",
       "      <th>1</th>\n",
       "      <td>1583</td>\n",
       "      <td>2</td>\n",
       "      <td>F</td>\n",
       "      <td>5.9</td>\n",
       "      <td>False</td>\n",
       "    </tr>\n",
       "    <tr>\n",
       "      <th>2</th>\n",
       "      <td>1581</td>\n",
       "      <td>2</td>\n",
       "      <td>M</td>\n",
       "      <td>5.7</td>\n",
       "      <td>False</td>\n",
       "    </tr>\n",
       "    <tr>\n",
       "      <th>3</th>\n",
       "      <td>1580</td>\n",
       "      <td>2</td>\n",
       "      <td>F</td>\n",
       "      <td>8.3</td>\n",
       "      <td>False</td>\n",
       "    </tr>\n",
       "    <tr>\n",
       "      <th>4</th>\n",
       "      <td>1579</td>\n",
       "      <td>2</td>\n",
       "      <td>M</td>\n",
       "      <td>7.1</td>\n",
       "      <td>False</td>\n",
       "    </tr>\n",
       "  </tbody>\n",
       "</table>\n",
       "</div>"
      ],
      "text/plain": [
       "   index  class sex  final_grade  finished\n",
       "0      0      1   M          6.8     False\n",
       "1   1583      2   F          5.9     False\n",
       "2   1581      2   M          5.7     False\n",
       "3   1580      2   F          8.3     False\n",
       "4   1579      2   M          7.1     False"
      ]
     },
     "execution_count": 13,
     "metadata": {},
     "output_type": "execute_result"
    }
   ],
   "source": [
    "df_systematic_sample = df.sort_values(by=['finished']).reset_index()\n",
    "df_systematic_sample.head()"
   ]
  },
  {
   "cell_type": "markdown",
   "id": "ed944f37-c625-4677-b27c-ae42c8927e0e",
   "metadata": {},
   "source": [
    "Em seguida, calcula-se o fator de sistematização $k$:\n",
    "$$\n",
    "k = \\frac{N}{n}\n",
    "$$"
   ]
  },
  {
   "cell_type": "code",
   "execution_count": 14,
   "id": "aa3fc57a-a5ff-45f0-9bf8-d3727faf9984",
   "metadata": {},
   "outputs": [
    {
     "name": "stdout",
     "output_type": "stream",
     "text": [
      "O fator de sistematização k é 12\n"
     ]
    }
   ],
   "source": [
    "k_factor = int(np.floor(df_systematic_sample.shape[0] / sample_size))\n",
    "print(f'O fator de sistematização k é {k_factor}')"
   ]
  },
  {
   "cell_type": "markdown",
   "id": "e48474f2-8e4d-45fe-9dcd-75046035c503",
   "metadata": {},
   "source": [
    "Em seguida, escolhemos um número aleatório de 1 a $k$, de onde a contagem e coleta sistemática começará:"
   ]
  },
  {
   "cell_type": "code",
   "execution_count": 15,
   "id": "ce27cf77-14ac-4e3a-8954-c282e0eaba4c",
   "metadata": {},
   "outputs": [
    {
     "name": "stdout",
     "output_type": "stream",
     "text": [
      "A contagem começará do 2º elemento, com coletas sucessivas em intervalos de 12 elementos\n"
     ]
    }
   ],
   "source": [
    "start_point = np.random.randint(low=0, high=k_factor)\n",
    "print(f'A contagem começará do {start_point}º elemento, com coletas sucessivas em intervalos de {k_factor} elementos')"
   ]
  },
  {
   "cell_type": "code",
   "execution_count": 16,
   "id": "1f814237-a990-44ae-b6e9-0f2abb400c94",
   "metadata": {},
   "outputs": [
    {
     "name": "stdout",
     "output_type": "stream",
     "text": [
      "Amostra Sistemática finalizada (369 elementos)\n"
     ]
    }
   ],
   "source": [
    "systematic_sample = []\n",
    "next_item = start_point\n",
    "for i in range(sample_size):\n",
    "    systematic_sample += [df_systematic_sample.loc[next_item].copy().to_dict()]\n",
    "    next_item += k_factor\n",
    "print(f'Amostra Sistemática finalizada ({len(systematic_sample)} elementos)')"
   ]
  },
  {
   "cell_type": "code",
   "execution_count": 17,
   "id": "27bddef6-9740-4448-82f8-dd305c18ec68",
   "metadata": {},
   "outputs": [
    {
     "data": {
      "text/html": [
       "<div>\n",
       "<style scoped>\n",
       "    .dataframe tbody tr th:only-of-type {\n",
       "        vertical-align: middle;\n",
       "    }\n",
       "\n",
       "    .dataframe tbody tr th {\n",
       "        vertical-align: top;\n",
       "    }\n",
       "\n",
       "    .dataframe thead th {\n",
       "        text-align: right;\n",
       "    }\n",
       "</style>\n",
       "<table border=\"1\" class=\"dataframe\">\n",
       "  <thead>\n",
       "    <tr style=\"text-align: right;\">\n",
       "      <th></th>\n",
       "      <th>index</th>\n",
       "      <th>class</th>\n",
       "      <th>sex</th>\n",
       "      <th>final_grade</th>\n",
       "      <th>finished</th>\n",
       "    </tr>\n",
       "  </thead>\n",
       "  <tbody>\n",
       "    <tr>\n",
       "      <th>0</th>\n",
       "      <td>1581</td>\n",
       "      <td>2</td>\n",
       "      <td>M</td>\n",
       "      <td>5.7</td>\n",
       "      <td>False</td>\n",
       "    </tr>\n",
       "    <tr>\n",
       "      <th>1</th>\n",
       "      <td>3556</td>\n",
       "      <td>4</td>\n",
       "      <td>M</td>\n",
       "      <td>7.3</td>\n",
       "      <td>False</td>\n",
       "    </tr>\n",
       "    <tr>\n",
       "      <th>2</th>\n",
       "      <td>3537</td>\n",
       "      <td>4</td>\n",
       "      <td>M</td>\n",
       "      <td>6.7</td>\n",
       "      <td>False</td>\n",
       "    </tr>\n",
       "    <tr>\n",
       "      <th>3</th>\n",
       "      <td>3518</td>\n",
       "      <td>4</td>\n",
       "      <td>M</td>\n",
       "      <td>6.9</td>\n",
       "      <td>False</td>\n",
       "    </tr>\n",
       "    <tr>\n",
       "      <th>4</th>\n",
       "      <td>1599</td>\n",
       "      <td>2</td>\n",
       "      <td>M</td>\n",
       "      <td>7.1</td>\n",
       "      <td>False</td>\n",
       "    </tr>\n",
       "  </tbody>\n",
       "</table>\n",
       "</div>"
      ],
      "text/plain": [
       "   index  class sex  final_grade  finished\n",
       "0   1581      2   M          5.7     False\n",
       "1   3556      4   M          7.3     False\n",
       "2   3537      4   M          6.7     False\n",
       "3   3518      4   M          6.9     False\n",
       "4   1599      2   M          7.1     False"
      ]
     },
     "execution_count": 17,
     "metadata": {},
     "output_type": "execute_result"
    }
   ],
   "source": [
    "df_ss = pd.DataFrame(data=systematic_sample)\n",
    "df_ss.head()"
   ]
  },
  {
   "cell_type": "markdown",
   "id": "ebbd74b1-2d95-48d7-87ee-f7fea78e575a",
   "metadata": {},
   "source": [
    "## Resultados"
   ]
  },
  {
   "cell_type": "markdown",
   "id": "66e82894-814a-406e-a99d-9b12d735c9aa",
   "metadata": {},
   "source": [
    "A partir do dataset simulado, com **4648 observações**, foram geradas **três** amostras diferentes, baseadas em três técnicas de amostragem probabilística:\n",
    "1. **Amostra Aleatória Simples sem repetição**\n",
    "2. **Amostra Aleatória Simples com repetição**\n",
    "3. **Amostra Sistemática**\n",
    "\n",
    "Para o cálculo do tamanho mínimo amostral, foi utilizada a [fórmula de Slovin](https://statorials.org/pt/formula-de-slovins/), obtendo-se o tamanho mínimo de **369 elementos**, base para coleta em todas as amostras."
   ]
  },
  {
   "cell_type": "markdown",
   "id": "ac3d8da3-2d2c-460a-85eb-e7aa135a37c2",
   "metadata": {},
   "source": [
    "### Proporção\n",
    "\n",
    "Analisando a **proporção** da **distribuição de turmas** na população e em cada uma das 3 amostras:"
   ]
  },
  {
   "cell_type": "code",
   "execution_count": 18,
   "id": "44ebe9e9-4c50-434b-80cd-a3afe3dd16d8",
   "metadata": {},
   "outputs": [],
   "source": [
    "def analyze_report(col_analyzed:str, data:pd.DataFrame, df_label:str) -> None:\n",
    "    for value in df[col_analyzed].unique():\n",
    "        print(f'{value}: {data[data[col_analyzed] == value].shape[0] / data.shape[0]:.2f}')\n",
    "    print('')"
   ]
  },
  {
   "cell_type": "code",
   "execution_count": 19,
   "id": "8c527911-e38c-460b-b4b5-7a8042188fa3",
   "metadata": {},
   "outputs": [
    {
     "name": "stdout",
     "output_type": "stream",
     "text": [
      "Proporção de turma --> População\n",
      "1: 0.20\n",
      "2: 0.20\n",
      "3: 0.20\n",
      "4: 0.20\n",
      "5: 0.20\n",
      "\n",
      "Proporção de turma --> Amostra Aleatória Simples sem repetição (ASS)\n",
      "1: 0.16\n",
      "2: 0.21\n",
      "3: 0.21\n",
      "4: 0.21\n",
      "5: 0.20\n",
      "\n",
      "Proporção de turma --> Amostra Aleatória Simples com repetição (ASSc)\n",
      "1: 0.23\n",
      "2: 0.20\n",
      "3: 0.16\n",
      "4: 0.20\n",
      "5: 0.22\n",
      "\n",
      "Proporção de turma --> Amostra Sistemática\n",
      "1: 0.21\n",
      "2: 0.18\n",
      "3: 0.18\n",
      "4: 0.22\n",
      "5: 0.22\n",
      "\n"
     ]
    }
   ],
   "source": [
    "analyzing_aspect = \"Proporção de turma\"\n",
    "\n",
    "print(f'{analyzing_aspect} --> População')\n",
    "analyze_report(col_analyzed='class', data=df, df_label='populacao')\n",
    "\n",
    "print(f'{analyzing_aspect} --> Amostra Aleatória Simples sem repetição (ASS)')\n",
    "analyze_report(col_analyzed='class', data=df_aas, df_label='AAS')\n",
    "\n",
    "print(f'{analyzing_aspect} --> Amostra Aleatória Simples com repetição (ASSc)')\n",
    "analyze_report(col_analyzed='class', data=df_aasc, df_label='AASc')\n",
    "\n",
    "print(f'{analyzing_aspect} --> Amostra Sistemática')\n",
    "analyze_report(col_analyzed='class', data=df_ss, df_label='sys_sample')"
   ]
  },
  {
   "cell_type": "markdown",
   "id": "7606fa88-a43b-46de-b322-e583213af31d",
   "metadata": {},
   "source": [
    "Analisando a **proporção** da **distribuição de sexo** na população e em cada uma das 3 amostras:"
   ]
  },
  {
   "cell_type": "code",
   "execution_count": 20,
   "id": "ab830d66-f5c3-44d5-bf4c-1e09f2f8ace8",
   "metadata": {},
   "outputs": [
    {
     "name": "stdout",
     "output_type": "stream",
     "text": [
      "Proporção de sexo --> População\n",
      "M: 0.61\n",
      "F: 0.39\n",
      "\n",
      "Proporção de sexo --> Amostra Aleatória Simples sem repetição (ASS)\n",
      "M: 0.59\n",
      "F: 0.41\n",
      "\n",
      "Proporção de sexo --> Amostra Aleatória Simples com repetição (ASSc)\n",
      "M: 0.53\n",
      "F: 0.47\n",
      "\n",
      "Proporção de sexo --> Amostra Sistemática\n",
      "M: 0.58\n",
      "F: 0.42\n",
      "\n"
     ]
    }
   ],
   "source": [
    "analyzing_aspect = \"Proporção de sexo\"\n",
    "\n",
    "print(f'{analyzing_aspect} --> População')\n",
    "analyze_report(col_analyzed='sex', data=df, df_label='populacao')\n",
    "\n",
    "print(f'{analyzing_aspect} --> Amostra Aleatória Simples sem repetição (ASS)')\n",
    "analyze_report(col_analyzed='sex', data=df_aas, df_label='AAS')\n",
    "\n",
    "print(f'{analyzing_aspect} --> Amostra Aleatória Simples com repetição (ASSc)')\n",
    "analyze_report(col_analyzed='sex', data=df_aasc, df_label='AASc')\n",
    "\n",
    "print(f'{analyzing_aspect} --> Amostra Sistemática')\n",
    "analyze_report(col_analyzed='sex', data=df_ss, df_label='sys_sample')"
   ]
  },
  {
   "cell_type": "markdown",
   "id": "592bcb33-ca3e-4acc-845b-3b66cbddb028",
   "metadata": {},
   "source": [
    "Analisando a **proporção** da **distribuição de formados** na população e em cada uma das 3 amostras:"
   ]
  },
  {
   "cell_type": "code",
   "execution_count": 21,
   "id": "59eaaa10-00c0-438f-a048-56a2a4f5a331",
   "metadata": {},
   "outputs": [
    {
     "name": "stdout",
     "output_type": "stream",
     "text": [
      "Proporção de formados --> População\n",
      "False: 0.31\n",
      "True: 0.69\n",
      "\n",
      "Proporção de formados --> Amostra Aleatória Simples sem repetição (AAS)\n",
      "False: 0.30\n",
      "True: 0.70\n",
      "\n",
      "Proporção de formados --> Amostra Aleatória Simples com repetição (AASc)\n",
      "False: 0.32\n",
      "True: 0.68\n",
      "\n",
      "Proporção de formados --> Amostra Sistemática\n",
      "False: 0.33\n",
      "True: 0.67\n",
      "\n"
     ]
    }
   ],
   "source": [
    "analyzing_aspect = \"Proporção de formados\"\n",
    "\n",
    "print(f'{analyzing_aspect} --> População')\n",
    "analyze_report(col_analyzed='finished', data=df, df_label='populacao')\n",
    "\n",
    "print(f'{analyzing_aspect} --> Amostra Aleatória Simples sem repetição (AAS)')\n",
    "analyze_report(col_analyzed='finished', data=df_aas, df_label='AAS')\n",
    "\n",
    "print(f'{analyzing_aspect} --> Amostra Aleatória Simples com repetição (AASc)')\n",
    "analyze_report(col_analyzed='finished', data=df_aasc, df_label='AASc')\n",
    "\n",
    "print(f'{analyzing_aspect} --> Amostra Sistemática')\n",
    "analyze_report(col_analyzed='finished', data=df_ss, df_label='sys_sample')"
   ]
  },
  {
   "cell_type": "markdown",
   "id": "1c155095-6303-4f7c-90b6-1b643b5a5d28",
   "metadata": {},
   "source": [
    "### Média\n",
    "\n",
    "Analisando a **média** das **notas finais** na população e em cada uma das 3 amostras:"
   ]
  },
  {
   "cell_type": "code",
   "execution_count": 22,
   "id": "c5e06f24-45e5-436c-878c-37ec1d7eece0",
   "metadata": {},
   "outputs": [],
   "source": [
    "def analyzing_report_quantitative_general(col_analyzed:str, data:pd.DataFrame, df_label:str) -> str:\n",
    "    print(f'{data[col_analyzed].mean():.2f}')\n",
    "    print('')"
   ]
  },
  {
   "cell_type": "code",
   "execution_count": 23,
   "id": "3303d440-ff62-4edd-a47f-ab3b8f1c153c",
   "metadata": {},
   "outputs": [
    {
     "name": "stdout",
     "output_type": "stream",
     "text": [
      "Média - Nota Final Geral --> População\n",
      "6.52\n",
      "\n",
      "Média - Nota Final Geral --> Amostra Aleatória Simples sem repetição (ASS)\n",
      "6.52\n",
      "\n",
      "Média - Nota Final Geral --> Amostra Aleatória Simples com repetição (ASSc)\n",
      "6.56\n",
      "\n",
      "Média - Nota Final Geral --> Amostra Sistemática\n",
      "6.63\n",
      "\n"
     ]
    }
   ],
   "source": [
    "analyzing_aspect = \"Média - Nota Final Geral\"\n",
    "\n",
    "\n",
    "print(f'{analyzing_aspect} --> População')\n",
    "analyzing_report_quantitative_general(col_analyzed='final_grade', data=df, df_label='populacao')\n",
    "\n",
    "print(f'{analyzing_aspect} --> Amostra Aleatória Simples sem repetição (ASS)')\n",
    "analyzing_report_quantitative_general(col_analyzed='final_grade', data=df_aas, df_label='ASS')\n",
    "\n",
    "print(f'{analyzing_aspect} --> Amostra Aleatória Simples com repetição (ASSc)')\n",
    "analyzing_report_quantitative_general(col_analyzed='final_grade', data=df_aasc, df_label='ASSc')\n",
    "\n",
    "print(f'{analyzing_aspect} --> Amostra Sistemática')\n",
    "analyzing_report_quantitative_general(col_analyzed='final_grade', data=df_ss, df_label='sys_sample')"
   ]
  },
  {
   "cell_type": "code",
   "execution_count": 24,
   "id": "b31c4f71-9a1a-49eb-83b3-d4fb5076bc16",
   "metadata": {},
   "outputs": [
    {
     "data": {
      "image/png": "[encoded data removed]",
      "text/plain": [
       "<Figure size 1000x800 with 4 Axes>"
      ]
     },
     "metadata": {},
     "output_type": "display_data"
    }
   ],
   "source": [
    "fig, axs = plt.subplots(2, 2, figsize=(10, 8))\n",
    "\n",
    "# hists\n",
    "axs[0, 0].hist(df['final_grade'], bins=30, color='blue', alpha=0.7)\n",
    "axs[0, 0].set_title('Nota Final - População')\n",
    "\n",
    "axs[0, 1].hist(df_aas['final_grade'], bins=30, color='green', alpha=0.7)\n",
    "axs[0, 1].set_title('Nota Final - Amostra Aleatória Simples sem rep.')\n",
    "\n",
    "axs[1, 0].hist(df_aasc['final_grade'], bins=30, color='red', alpha=0.7)\n",
    "axs[1, 0].set_title('Nota Final - Amostra Aleatória Simples com rep.')\n",
    "\n",
    "axs[1, 1].hist(df_ss['final_grade'], bins=30, color='purple', alpha=0.7)\n",
    "axs[1, 1].set_title('Nota Final - Amostra Sistemática')\n",
    "\n",
    "plt.tight_layout()\n",
    "plt.show()\n"
   ]
  },
  {
   "cell_type": "markdown",
   "id": "6206c8d0-d189-4f6a-bdda-2d593df00a18",
   "metadata": {},
   "source": [
    "## Discussão"
   ]
  },
  {
   "cell_type": "markdown",
   "id": "18269500-8cf9-4ab0-8b5b-555c19e3d017",
   "metadata": {},
   "source": [
    "- **Turma** (`class`): Tanto a amostra aleatória simples sem repetição quanto a amostra sistemática tiveram composições semelhantes à da população em relação ao aspecto turma, com a **amostra sistemática** levando pequena vantagem em relação às amostras aleatórias simples sem reposição. Isso porque a população teve uma distribuição equilibrada de 20% para cada turma, sendo a **amostra sistemática** aquela que se saiu melhor no quesito proporção, seguida da **amostra aleatória simples sem repetição**, que pecou na representação dos alunos da turma 1 (16% versus 20%). Por último a **amostra aleatória simples com repetição** foi aquela que pior representou cada turma se comparado à composição real, o que é teoricamente esperado, já que a probabilidade de seleção de cada elemento é constante, e não se altera em nenhum momento durante o processo de composição da amostra.\n",
    "\n",
    "- **Sexo** (`sex`): Com uma distribuição real de 61% homens e 39% mulheres, as **amostras sistemática e aleatória simples sem repetição (ASS)** também tiveram proporções muito próximas às proporções reais, com uma ligeira vantagem para a amostra aleatória simples sem repetição, que teve um desvio de apenas dois pontos percentuais (comparado aos três pontos percentuais de desvio da amostra sistemática). A **amostra aleatória simples com repetição** foi a que mais destoou das proporções reais em relação a sexo.\n",
    "\n",
    "- **Nota final** (`final_grade`): Em relação às notas finais, a amostra aleatória simples sem repetição resultou em uma nota final média idêntica à média real (6.52) e curiosamente apresenta a distribuição de notas finais que mais se destoa em relação ao formato da distribuição real. No entanto, as outras duas amostras também tiveram valores muito próximos aos valores da média real, com leve desvantagem para a amostra sistemática, que foi a que mais se distanciou matematicamente entre as duas restantes.\n",
    "\n",
    "- **Finalistas** (`finished`): Todas as técnicas resultaram em amostras proporcionalmente próximas em relação ao percentual real de graduados (0.69), com a amostra sistemática sendo aquela que mais se distanciou matematicamente da proporção real.\n",
    "\n",
    "Uma ideia de investigação ulterior que poderia ser emplacada seria a quebra das dimensões analíticas em estratos (como estratificação por turmas ou faixas de notas finais) e análise das proporções e/ou médias entre estratos para cada amostra.\n",
    "\n",
    "Como conclusão temos a priori que as três técnicas empregadas resultando em amostras aparentemente representativas, pois refletem padrões próximos àqueles observados na população real. Em termos de implementação, a amostra sistemática requer ordenação do conjunto de dados, o que pode ser uma tarefa complexa e computacionalmente cara em contextos onde o número de elementos dentro da população é grande. Por não necessitar de ordenação, a amostragem aleatória simples (com e sem repetição) acabam levando vantagem devido ao fato de não exigirem esse procedimento, embora possam compartilhar algumas desvantagens como custos na coleta dos elementos."
   ]
  }
 ],
 "metadata": {
  "kernelspec": {
   "display_name": "Python (Poetry) - AC3",
   "language": "python",
   "name": "poetry_project_ac3"
  },
  "language_info": {
   "codemirror_mode": {
    "name": "ipython",
    "version": 3
   },
   "file_extension": ".py",
   "mimetype": "text/x-python",
   "name": "python",
   "nbconvert_exporter": "python",
   "pygments_lexer": "ipython3",
   "version": "3.10.12"
  }
 },
 "nbformat": 4,
 "nbformat_minor": 5
}
