{
 "cells": [
  {
   "cell_type": "markdown",
   "metadata": {
    "id": "Wj4HQzTFPaXe"
   },
   "source": [
    "# Enunciado\n",
    "\n",
    "Você foi contratado por uma empresa de pesquisa para conduzir um estudo sobre o hábito de consumo de _fast-food_ entre os jovens adultos em uma determinada cidade. Sua tarefa é elaborar um plano de amostragem que garanta a representatividade dos dados coletados. Além disso, você deverá analisar os resultados da pesquisa e fornecer _insights_ sobre o comportamento de consumo de _fast-food_ nessa população.\n",
    "\n",
    "**O que será feito?**\n",
    "\n",
    "1. Pesquise sobre diferentes métodos de amostragem, como amostragem aleatória simples, amostragem estratificada e amostragem por conglomerados.\n",
    "\n",
    "**Como será feito?**\n",
    "\n",
    "1. Elabore um plano de amostragem detalhado, indicando o método escolhido e os critérios de seleção da amostra.\n",
    "2. Realize a coleta de dados, seguindo o plano de amostragem elaborado.\n",
    "3. Analise os dados coletados e apresente os resultados de forma clara e objetiva, destacando as principais conclusões sobre o hábito de consumo de _fast-food_ entre os jovens adultos na cidade estudada.\n",
    "\n",
    "**O que deve ser entregue?**\n",
    "\n",
    "1. Prepare um relatório final resumido que inclua o plano de amostragem, a descrição da metodologia de coleta de dados, os resultados da pesquisa e suas análises."
   ]
  },
  {
   "cell_type": "markdown",
   "metadata": {
    "id": "hmnSmJzPPaPE"
   },
   "source": [
    "# Resolução"
   ]
  },
  {
   "cell_type": "markdown",
   "metadata": {
    "id": "IRM29fsWNqZK"
   },
   "source": [
    "## Setup"
   ]
  },
  {
   "cell_type": "code",
   "execution_count": 1,
   "metadata": {
    "id": "M4HOyUTFNsy8"
   },
   "outputs": [],
   "source": [
    "import pandas as pd\n",
    "import numpy as np\n",
    "from numpy.typing import NDArray\n",
    "import matplotlib.pyplot as plt\n",
    "import os"
   ]
  },
  {
   "cell_type": "markdown",
   "metadata": {
    "id": "BJ2dzmV2Ntb1"
   },
   "source": [
    "## Simulação de base de dados\n",
    "\n",
    "O dataset simulado pretende-se a um cadastro de pedidos de 850,000 clientes de uma rede de Fast Food de uma única cidade com uma nota de avaliação do pedido em escala Likert (1 até 4).\\\n",
    "Para fins de simplificação de complexidades desnecessárias, são considerados apenas todos os clientes como únicos.\n",
    "\n",
    "- **Sexo** (str): M, F\n",
    "- **Idade** (int): $[18, 61]$\n",
    "- **Salário** (float): $\\text{LogNormal}(\\mu=3000, \\sigma=0.5)$\n",
    "- **Zona Residencial** (str): Norte, Sul, Leste, Oeste, Centro\n",
    "- **Lanche** (str): Hamburguer, Macarrão, Pizza\n",
    "- **Bebida** (str): Água, Coca-Cola, Pepsi\n",
    "- **Sobremesa** (str): Sorvete de Chocolate, Sorvete de Caramelo, Fruta\n",
    "- **Avaliação** (int): $[1, 4]$\n"
   ]
  },
  {
   "cell_type": "code",
   "execution_count": 2,
   "metadata": {
    "id": "bSwsbbiGY7qE"
   },
   "outputs": [],
   "source": [
    "np.random.seed(123)\n",
    "\n",
    "# Funções auxiliares\n",
    "def gen_meal() -> np.str_:\n",
    "    return np.random.choice(a=['Hamburguer', 'Macarrão', 'Pizza', np.nan], p=[0.4, 0.2, 0.3, 0.1])\n",
    "\n",
    "def gen_beverage() -> np.str_:\n",
    "    return np.random.choice(a=['Água', 'Coca-cola', 'Pepsi', np.nan], p=[0.1, 0.6, 0.1, 0.2])\n",
    "\n",
    "def gen_dessert() -> np.str_:\n",
    "    return np.random.choice(a=['Sorvete de Chocolate', 'Sorvete de Caramelo', 'Fruta', np.nan], p=[0.2, 0.2, 0.1, 0.5])"
   ]
  },
  {
   "cell_type": "code",
   "execution_count": 3,
   "metadata": {
    "colab": {
     "base_uri": "https://localhost:8080/",
     "height": 206
    },
    "id": "Tzkn29f7QHn8",
    "outputId": "bf58ab64-7c83-44a8-e9c7-90cd882955f9",
    "scrolled": true
   },
   "outputs": [
    {
     "data": {
      "text/html": [
       "<div>\n",
       "<style scoped>\n",
       "    .dataframe tbody tr th:only-of-type {\n",
       "        vertical-align: middle;\n",
       "    }\n",
       "\n",
       "    .dataframe tbody tr th {\n",
       "        vertical-align: top;\n",
       "    }\n",
       "\n",
       "    .dataframe thead th {\n",
       "        text-align: right;\n",
       "    }\n",
       "</style>\n",
       "<table border=\"1\" class=\"dataframe\">\n",
       "  <thead>\n",
       "    <tr style=\"text-align: right;\">\n",
       "      <th></th>\n",
       "      <th>Sexo</th>\n",
       "      <th>Idade</th>\n",
       "      <th>Salário</th>\n",
       "      <th>Zona residencial</th>\n",
       "      <th>Lanche</th>\n",
       "      <th>Bebida</th>\n",
       "      <th>Sobremesa</th>\n",
       "      <th>Avaliação</th>\n",
       "    </tr>\n",
       "  </thead>\n",
       "  <tbody>\n",
       "    <tr>\n",
       "      <th>0</th>\n",
       "      <td>M</td>\n",
       "      <td>23</td>\n",
       "      <td>6850.561072</td>\n",
       "      <td>Centro</td>\n",
       "      <td>Pizza</td>\n",
       "      <td>Coca-cola</td>\n",
       "      <td>Sorvete de Caramelo</td>\n",
       "      <td>3</td>\n",
       "    </tr>\n",
       "    <tr>\n",
       "      <th>1</th>\n",
       "      <td>F</td>\n",
       "      <td>22</td>\n",
       "      <td>2861.247745</td>\n",
       "      <td>Sul</td>\n",
       "      <td>Macarrão</td>\n",
       "      <td>Coca-cola</td>\n",
       "      <td>Sorvete de Caramelo</td>\n",
       "      <td>3</td>\n",
       "    </tr>\n",
       "    <tr>\n",
       "      <th>2</th>\n",
       "      <td>M</td>\n",
       "      <td>28</td>\n",
       "      <td>3638.987517</td>\n",
       "      <td>Oeste</td>\n",
       "      <td>Hamburguer</td>\n",
       "      <td>Coca-cola</td>\n",
       "      <td>NaN</td>\n",
       "      <td>3</td>\n",
       "    </tr>\n",
       "    <tr>\n",
       "      <th>3</th>\n",
       "      <td>M</td>\n",
       "      <td>27</td>\n",
       "      <td>1468.544741</td>\n",
       "      <td>Norte</td>\n",
       "      <td>Pizza</td>\n",
       "      <td>Coca-cola</td>\n",
       "      <td>Sorvete de Caramelo</td>\n",
       "      <td>2</td>\n",
       "    </tr>\n",
       "    <tr>\n",
       "      <th>4</th>\n",
       "      <td>M</td>\n",
       "      <td>27</td>\n",
       "      <td>2750.532274</td>\n",
       "      <td>Centro</td>\n",
       "      <td>Macarrão</td>\n",
       "      <td>Coca-cola</td>\n",
       "      <td>Fruta</td>\n",
       "      <td>3</td>\n",
       "    </tr>\n",
       "  </tbody>\n",
       "</table>\n",
       "</div>"
      ],
      "text/plain": [
       "  Sexo  Idade      Salário Zona residencial      Lanche     Bebida  \\\n",
       "0    M     23  6850.561072           Centro       Pizza  Coca-cola   \n",
       "1    F     22  2861.247745              Sul    Macarrão  Coca-cola   \n",
       "2    M     28  3638.987517            Oeste  Hamburguer  Coca-cola   \n",
       "3    M     27  1468.544741            Norte       Pizza  Coca-cola   \n",
       "4    M     27  2750.532274           Centro    Macarrão  Coca-cola   \n",
       "\n",
       "             Sobremesa  Avaliação  \n",
       "0  Sorvete de Caramelo          3  \n",
       "1  Sorvete de Caramelo          3  \n",
       "2                  NaN          3  \n",
       "3  Sorvete de Caramelo          2  \n",
       "4                Fruta          3  "
      ]
     },
     "metadata": {},
     "output_type": "display_data"
    }
   ],
   "source": [
    "try:\n",
    "  df = pd.read_csv('Simulação - Base clientes FastFood.csv', encoding = 'UTF-8')\n",
    "except FileNotFoundError:\n",
    "  num_records = 850000\n",
    "\n",
    "  def create_record() -> dict:\n",
    "    global contador\n",
    "    meal = gen_meal()\n",
    "    beverage = gen_beverage()\n",
    "    dessert = gen_dessert()\n",
    "\n",
    "    # Garantir que pelo menos um dos itens do pedido não seja missing value\n",
    "    while not meal and not beverage and not dessert:\n",
    "      meal = gen_meal()\n",
    "      beverage = gen_beverage()\n",
    "      dessert = gen_dessert()\n",
    "\n",
    "    return {\n",
    "        'Sexo': np.random.choice(a=['M', 'F'], p=[0.6, 0.4]),\n",
    "        'Idade': int(np.random.normal(loc=25, scale=3)),\n",
    "        'Salário': np.random.lognormal(mean=np.log(3000), sigma=0.5),\n",
    "        'Zona residencial': np.random.choice(a=['Norte', 'Sul', 'Leste', 'Oeste', 'Centro'], p=[0.3, 0.2, 0.1, 0.15, 0.25]),\n",
    "        'Lanche': meal,\n",
    "        'Bebida': beverage,\n",
    "        'Sobremesa': dessert,\n",
    "        'Avaliação': np.random.choice(a=[1,2,3,4], p=[0.15, 0.3, 0.4, 0.15])\n",
    "      }\n",
    "\n",
    "  # Base simulada\n",
    "  data = [create_record() for _ in range(num_records)]\n",
    "  df = pd.DataFrame(data)\n",
    "\n",
    "  df.to_csv('Simulação - Base clientes FastFood.csv', encoding='UTF-8', index=False)\n",
    "finally:\n",
    "  display(df.head())"
   ]
  },
  {
   "cell_type": "markdown",
   "metadata": {
    "id": "E-pMG7PhCUSa"
   },
   "source": [
    "### Tratamentos"
   ]
  },
  {
   "cell_type": "code",
   "execution_count": 4,
   "metadata": {
    "id": "iPa5XFvECjn2"
   },
   "outputs": [],
   "source": [
    "# Correção de tipos - Dados Categóricos\n",
    "df['Sexo'] = pd.Categorical(values=df['Sexo'],\n",
    "                                 categories = ['M', 'F'])\n",
    "df['Avaliação'] = pd.Categorical(values=df['Avaliação'],\n",
    "                                 categories = [1, 2, 3, 4],\n",
    "                                 ordered = True)\n",
    "df['Zona residencial'] = pd.Categorical(values=df['Zona residencial'],\n",
    "                                 categories = ['Norte', 'Sul', 'Leste', 'Oeste', 'Centro'])\n",
    "df['Lanche'] = pd.Categorical(values=df['Lanche'],\n",
    "                              categories = ['Hamburguer', 'Macarrão', 'Pizza'])\n",
    "df['Bebida'] = pd.Categorical(values=df['Bebida'],\n",
    "                              categories = ['Água', 'Coca-cola', 'Pepsi'])\n",
    "df['Sobremesa'] = pd.Categorical(values=df['Sobremesa'],\n",
    "                                 categories = ['Sorvete de Chocolate', 'Sorvete de Caramelo', 'Fruta'])\n",
    "\n",
    "# Ajustes ?\n",
    "df['Lanche'] = df['Lanche'].astype(str)\n",
    "df['Bebida'] = df['Bebida'].astype(str)\n",
    "df['Sobremesa'] = df['Sobremesa'].astype(str)"
   ]
  },
  {
   "cell_type": "markdown",
   "metadata": {
    "id": "WzagcFwyeeQi"
   },
   "source": [
    "### Extra - Visualização"
   ]
  },
  {
   "cell_type": "code",
   "execution_count": 5,
   "metadata": {
    "colab": {
     "base_uri": "https://localhost:8080/",
     "height": 472
    },
    "id": "29AqBKl63hFV",
    "outputId": "57d53737-da72-446d-b3e5-1ac9fe9fcc00"
   },
   "outputs": [
    {
     "data": {
      "image/png": "[encoded data removed]",
      "text/plain": [
       "<Figure size 640x480 with 1 Axes>"
      ]
     },
     "metadata": {},
     "output_type": "display_data"
    }
   ],
   "source": [
    "# Sexo\n",
    "\n",
    "plt.hist(df['Sexo'])\n",
    "plt.title('Distribuição de Sexo')\n",
    "plt.xlabel('Sexo')\n",
    "plt.ylabel('Densidade')\n",
    "plt.show()"
   ]
  },
  {
   "cell_type": "code",
   "execution_count": 6,
   "metadata": {
    "colab": {
     "base_uri": "https://localhost:8080/",
     "height": 472
    },
    "id": "FAJvQSc93-Wc",
    "outputId": "9fd01919-c02c-4d51-abe8-cb32feb8ea20"
   },
   "outputs": [
    {
     "data": {
      "image/png": "[encoded data removed]",
      "text/plain": [
       "<Figure size 640x480 with 1 Axes>"
      ]
     },
     "metadata": {},
     "output_type": "display_data"
    }
   ],
   "source": [
    "# Idade\n",
    "\n",
    "plt.hist(df['Idade'])\n",
    "plt.title('Distribuição de Idade')\n",
    "plt.xlabel('Idade')\n",
    "plt.ylabel('Densidade')\n",
    "plt.show()"
   ]
  },
  {
   "cell_type": "code",
   "execution_count": 7,
   "metadata": {
    "colab": {
     "base_uri": "https://localhost:8080/",
     "height": 472
    },
    "id": "GKTgn4dFT6sZ",
    "outputId": "11f958bb-2911-48af-b052-b1541b74307f"
   },
   "outputs": [
    {
     "data": {
      "image/png": "[encoded data removed]",
      "text/plain": [
       "<Figure size 640x480 with 1 Axes>"
      ]
     },
     "metadata": {},
     "output_type": "display_data"
    }
   ],
   "source": [
    "# Salários\n",
    "\n",
    "plt.hist(df['Salário'], bins=100, density=True)\n",
    "plt.title('Distribuição de Salários')\n",
    "plt.xlabel('Salário')\n",
    "plt.ylabel('Densidade')\n",
    "plt.xlim(0, 20000)\n",
    "plt.show()"
   ]
  },
  {
   "cell_type": "code",
   "execution_count": 8,
   "metadata": {
    "colab": {
     "base_uri": "https://localhost:8080/",
     "height": 472
    },
    "id": "JTovMUAk4GJr",
    "outputId": "279736a6-f91a-44d1-ecfb-f86df7932f60"
   },
   "outputs": [
    {
     "data": {
      "image/png": "[encoded data removed]",
      "text/plain": [
       "<Figure size 640x480 with 1 Axes>"
      ]
     },
     "metadata": {},
     "output_type": "display_data"
    }
   ],
   "source": [
    "# Zona residencial\n",
    "\n",
    "plt.hist(df['Zona residencial'])\n",
    "plt.title('Distribuição de Zona residencial')\n",
    "plt.xlabel('Zona residencial')\n",
    "plt.ylabel('Densidade')\n",
    "plt.show()"
   ]
  },
  {
   "cell_type": "code",
   "execution_count": 9,
   "metadata": {},
   "outputs": [
    {
     "data": {
      "text/plain": [
       "Lanche\n",
       "Hamburguer    340396\n",
       "Pizza         255396\n",
       "Macarrão      169590\n",
       "nan            84618\n",
       "Name: count, dtype: int64"
      ]
     },
     "execution_count": 9,
     "metadata": {},
     "output_type": "execute_result"
    }
   ],
   "source": [
    "df['Lanche'].value_counts()"
   ]
  },
  {
   "cell_type": "code",
   "execution_count": 10,
   "metadata": {
    "colab": {
     "base_uri": "https://localhost:8080/",
     "height": 774
    },
    "id": "Mtk5daUu4WjP",
    "outputId": "8a552609-df0a-4520-e70c-c744275f2a40"
   },
   "outputs": [
    {
     "data": {
      "image/png": "[encoded data removed]",
      "text/plain": [
       "<Figure size 640x480 with 1 Axes>"
      ]
     },
     "metadata": {},
     "output_type": "display_data"
    }
   ],
   "source": [
    "# Lanche\n",
    "\n",
    "plt.hist(df['Lanche'])\n",
    "plt.title('Distribuição de Lanche')\n",
    "plt.xlabel('Lanche')\n",
    "plt.ylabel('Densidade')\n",
    "plt.show()"
   ]
  },
  {
   "cell_type": "code",
   "execution_count": 11,
   "metadata": {
    "id": "kp717q7k4fXr"
   },
   "outputs": [
    {
     "data": {
      "image/png": "[encoded data removed]",
      "text/plain": [
       "<Figure size 640x480 with 1 Axes>"
      ]
     },
     "metadata": {},
     "output_type": "display_data"
    }
   ],
   "source": [
    "# Bebida\n",
    "\n",
    "plt.hist(df['Bebida'])\n",
    "plt.title('Distribuição de Bebida')\n",
    "plt.xlabel('Bebida')\n",
    "plt.ylabel('Densidade')\n",
    "plt.show()"
   ]
  },
  {
   "cell_type": "code",
   "execution_count": 12,
   "metadata": {
    "id": "13YemDl_4oqZ"
   },
   "outputs": [
    {
     "data": {
      "image/png": "[encoded data removed]",
      "text/plain": [
       "<Figure size 640x480 with 1 Axes>"
      ]
     },
     "metadata": {},
     "output_type": "display_data"
    }
   ],
   "source": [
    "# Sobremesa\n",
    "\n",
    "plt.hist(df['Sobremesa'])\n",
    "plt.title('Distribuição de Sobremesa')\n",
    "plt.xlabel('Sobremesa')\n",
    "plt.ylabel('Densidade')\n",
    "plt.show()"
   ]
  },
  {
   "cell_type": "code",
   "execution_count": 13,
   "metadata": {
    "id": "_vFNEt4_4o3x"
   },
   "outputs": [
    {
     "data": {
      "image/png": "[encoded data removed]",
      "text/plain": [
       "<Figure size 640x480 with 1 Axes>"
      ]
     },
     "metadata": {},
     "output_type": "display_data"
    }
   ],
   "source": [
    "# Avaliação\n",
    "\n",
    "plt.hist(df['Avaliação'])\n",
    "plt.title('Distribuição de Avaliação')\n",
    "plt.xlabel('Avaliação')\n",
    "plt.ylabel('Densidade')\n",
    "plt.xticks([1, 2, 3, 4])\n",
    "plt.show()"
   ]
  },
  {
   "cell_type": "markdown",
   "metadata": {
    "id": "hjCtGWykfFvp"
   },
   "source": [
    "## Plano de Amostragem\n",
    "Tendo em vista que este notebook tem propósitos meramente didáticos, vou explorar as três técnicas principais de amostragem probabilística. Para cada técnica empregada, um problema hipotético diferente será analisado."
   ]
  },
  {
   "cell_type": "markdown",
   "metadata": {
    "id": "mWC4P3bmGQGL"
   },
   "source": [
    "A primeira coisa a ser definida é o tamanho da amostra que iremos trabalhar, de modo que atenda minimamente aos requisitos de representatividade para inferências.\n"
   ]
  },
  {
   "cell_type": "markdown",
   "metadata": {
    "id": "oJrNvfvKfaGB"
   },
   "source": [
    "### Amostragem Aleatória Simples (Simple Random Sampling)\n",
    "Supondo que o objetivo do estudo seja analisar **a média de idade dos clientes da rede de Fast Food**, poderíamos consultar um sistema de referências contendo as idades dos clientes.\\\n",
    "Nesse caso, o sistema de referências mais apropriado seria o próprio cadastro eletrônico de clientes."
   ]
  },
  {
   "cell_type": "markdown",
   "metadata": {
    "id": "2KMTyDdE6nCd"
   },
   "source": [
    "De modo a evitar perda de informação relacionada à distribuição dos dados, utilizaremos a Amostragem Aleatória Simples com Repetição (AASc).\n",
    "Para isso, precisamos respeitar o princípio básico de que a probabilidade de seleção deve ser a mesma para cada variável, além de ser não nula: $$s = \\{x_{i_{1}},x_{i_{2}},\\dots,x_{i_{k}}\\} \\space | \\space P(x_{1}) = P(x_{2}) = ... = P(x_{k}) = \\frac{1}{n} $$\n",
    "\n",
    "Como trabalharemos com AASc, há total independência da seleção de cada unidade amostral, o que minimiza ainda mais a perda de padrões ou enviesamento da amostra resultante.\n",
    "\n",
    "Dessa maneira, primeiro numeramos todos os 850 mil clientes. Para fazer isso, basta criar um vetor com numeração aleatória sem repetição, de 1 a 850000, armazenando na coluna `aasc_indice`:"
   ]
  },
  {
   "cell_type": "code",
   "execution_count": 14,
   "metadata": {
    "colab": {
     "base_uri": "https://localhost:8080/",
     "height": 237
    },
    "id": "uU2wGy-nAE_E",
    "outputId": "a18d5d26-434c-4272-c82b-8d5b843053c7"
   },
   "outputs": [
    {
     "data": {
      "text/html": [
       "<div>\n",
       "<style scoped>\n",
       "    .dataframe tbody tr th:only-of-type {\n",
       "        vertical-align: middle;\n",
       "    }\n",
       "\n",
       "    .dataframe tbody tr th {\n",
       "        vertical-align: top;\n",
       "    }\n",
       "\n",
       "    .dataframe thead th {\n",
       "        text-align: right;\n",
       "    }\n",
       "</style>\n",
       "<table border=\"1\" class=\"dataframe\">\n",
       "  <thead>\n",
       "    <tr style=\"text-align: right;\">\n",
       "      <th></th>\n",
       "      <th>Sexo</th>\n",
       "      <th>Idade</th>\n",
       "      <th>Salário</th>\n",
       "      <th>Zona residencial</th>\n",
       "      <th>Lanche</th>\n",
       "      <th>Bebida</th>\n",
       "      <th>Sobremesa</th>\n",
       "      <th>Avaliação</th>\n",
       "    </tr>\n",
       "    <tr>\n",
       "      <th>indice_amostragem</th>\n",
       "      <th></th>\n",
       "      <th></th>\n",
       "      <th></th>\n",
       "      <th></th>\n",
       "      <th></th>\n",
       "      <th></th>\n",
       "      <th></th>\n",
       "      <th></th>\n",
       "    </tr>\n",
       "  </thead>\n",
       "  <tbody>\n",
       "    <tr>\n",
       "      <th>320115</th>\n",
       "      <td>M</td>\n",
       "      <td>23</td>\n",
       "      <td>6850.561072</td>\n",
       "      <td>Centro</td>\n",
       "      <td>Pizza</td>\n",
       "      <td>Coca-cola</td>\n",
       "      <td>Sorvete de Caramelo</td>\n",
       "      <td>3</td>\n",
       "    </tr>\n",
       "    <tr>\n",
       "      <th>722600</th>\n",
       "      <td>F</td>\n",
       "      <td>22</td>\n",
       "      <td>2861.247745</td>\n",
       "      <td>Sul</td>\n",
       "      <td>Macarrão</td>\n",
       "      <td>Coca-cola</td>\n",
       "      <td>Sorvete de Caramelo</td>\n",
       "      <td>3</td>\n",
       "    </tr>\n",
       "    <tr>\n",
       "      <th>640597</th>\n",
       "      <td>M</td>\n",
       "      <td>28</td>\n",
       "      <td>3638.987517</td>\n",
       "      <td>Oeste</td>\n",
       "      <td>Hamburguer</td>\n",
       "      <td>Coca-cola</td>\n",
       "      <td>nan</td>\n",
       "      <td>3</td>\n",
       "    </tr>\n",
       "    <tr>\n",
       "      <th>105073</th>\n",
       "      <td>M</td>\n",
       "      <td>27</td>\n",
       "      <td>1468.544741</td>\n",
       "      <td>Norte</td>\n",
       "      <td>Pizza</td>\n",
       "      <td>Coca-cola</td>\n",
       "      <td>Sorvete de Caramelo</td>\n",
       "      <td>2</td>\n",
       "    </tr>\n",
       "    <tr>\n",
       "      <th>293636</th>\n",
       "      <td>M</td>\n",
       "      <td>27</td>\n",
       "      <td>2750.532274</td>\n",
       "      <td>Centro</td>\n",
       "      <td>Macarrão</td>\n",
       "      <td>Coca-cola</td>\n",
       "      <td>Fruta</td>\n",
       "      <td>3</td>\n",
       "    </tr>\n",
       "  </tbody>\n",
       "</table>\n",
       "</div>"
      ],
      "text/plain": [
       "                  Sexo  Idade      Salário Zona residencial      Lanche  \\\n",
       "indice_amostragem                                                         \n",
       "320115               M     23  6850.561072           Centro       Pizza   \n",
       "722600               F     22  2861.247745              Sul    Macarrão   \n",
       "640597               M     28  3638.987517            Oeste  Hamburguer   \n",
       "105073               M     27  1468.544741            Norte       Pizza   \n",
       "293636               M     27  2750.532274           Centro    Macarrão   \n",
       "\n",
       "                      Bebida            Sobremesa Avaliação  \n",
       "indice_amostragem                                            \n",
       "320115             Coca-cola  Sorvete de Caramelo         3  \n",
       "722600             Coca-cola  Sorvete de Caramelo         3  \n",
       "640597             Coca-cola                  nan         3  \n",
       "105073             Coca-cola  Sorvete de Caramelo         2  \n",
       "293636             Coca-cola                Fruta         3  "
      ]
     },
     "execution_count": 14,
     "metadata": {},
     "output_type": "execute_result"
    }
   ],
   "source": [
    "df['indice_amostragem'] = np.random.choice(a=list(range(1, 850001)), size=850000, replace=False)\n",
    "df = df.set_index(keys=['indice_amostragem'])\n",
    "df.head()"
   ]
  },
  {
   "cell_type": "code",
   "execution_count": 15,
   "metadata": {
    "colab": {
     "base_uri": "https://localhost:8080/"
    },
    "id": "eHZ9GmH4HpIn",
    "outputId": "af67de0b-e986-47b9-d1d6-751866ce4ad8"
   },
   "outputs": [
    {
     "data": {
      "text/plain": [
       "3.012485564882962"
      ]
     },
     "execution_count": 15,
     "metadata": {},
     "output_type": "execute_result"
    }
   ],
   "source": [
    "# Desvio Padrão Populacional (idade)\n",
    "df['Idade'].std()"
   ]
  },
  {
   "cell_type": "markdown",
   "metadata": {
    "id": "PShENFtYFirL"
   },
   "source": [
    "Agora passamos para a etapa de estimar o tamanho ideal para a amostra no cálculo da média de idades.\n",
    "Neste caso, com o desvio padrão populacional ($\\sigma$) conhecido, podemos utilizar a fórmula de Cochran:\n",
    "$$\n",
    "n = \\left(\\frac{Z_{C.L.} \\times \\sigma}{e}\\right)^{2}\n",
    "$$\n",
    "Onde:\n",
    "- $Z_{\\text{C.L.}}$ é Z Score do nível de confiança (0.95 neste caso)\n",
    "- $\\sigma$ é o desvio padrão populacional\n",
    "- $E$ é a margem de erro de tolerância (0.05 neste caso)."
   ]
  },
  {
   "cell_type": "code",
   "execution_count": 16,
   "metadata": {
    "colab": {
     "base_uri": "https://localhost:8080/"
    },
    "id": "Y7WmlxU26vY-",
    "outputId": "ecf1c4a5-f2fd-4d7a-ed2d-244be5198619"
   },
   "outputs": [
    {
     "name": "stdout",
     "output_type": "stream",
     "text": [
      "Tamanho da amostra (AASc): 13946\n"
     ]
    }
   ],
   "source": [
    "sample_size = np.ceil(( ( 1.96 * df['Idade'].std() ) / ( 0.05 ) ) ** 2)\n",
    "print(f'Tamanho da amostra (AASc): %d' % sample_size)"
   ]
  },
  {
   "cell_type": "markdown",
   "metadata": {
    "id": "6kfz-Q6T7S8E"
   },
   "source": [
    "Em seguida, precisamos aplicar o **fator de correção de população finita** por estarmos tratando de uma população finita:\\\n",
    "$$\n",
    "n = \\frac{n_{0}}{1 + \\frac{(n_{0} - 1)}{N}}\n",
    "$$"
   ]
  },
  {
   "cell_type": "code",
   "execution_count": 17,
   "metadata": {
    "colab": {
     "base_uri": "https://localhost:8080/"
    },
    "id": "XzHkirQO7ZxM",
    "outputId": "138edd64-c2c0-4def-9341-2ad51c0be320"
   },
   "outputs": [
    {
     "name": "stdout",
     "output_type": "stream",
     "text": [
      "Tamanho da amostra (AASc) ajustado: 13721\n"
     ]
    }
   ],
   "source": [
    "sample_size = int(np.ceil(( sample_size ) / ( ( 1 + ( sample_size - 1 ) / (df.shape[0]) ) )))\n",
    "print(f'Tamanho da amostra (AASc) ajustado: %d'%sample_size)"
   ]
  },
  {
   "cell_type": "markdown",
   "metadata": {
    "id": "0KOS3obB_bb2"
   },
   "source": [
    "Com um número aproximado do mínimo de elementos de uma amostra ($n = 13720$), podemos compôr a amostra, bastando retirar $n$ vezes um número aleatório entre 1 e 850000.\n",
    "\n",
    "Obs: Poderíamos usar a função [sample](https://numpy.org/doc/stable/reference/random/generated/numpy.random.random_sample.html#numpy.random.random_sample) do módulo Random do Numpy, mas a propósitos de didática, faremos manualmente."
   ]
  },
  {
   "cell_type": "code",
   "execution_count": 18,
   "metadata": {
    "colab": {
     "base_uri": "https://localhost:8080/",
     "height": 237
    },
    "id": "vqIBpnQ8CZlz",
    "outputId": "c6a28537-59fb-4e97-d997-d5b967a822d7"
   },
   "outputs": [
    {
     "data": {
      "text/html": [
       "<div>\n",
       "<style scoped>\n",
       "    .dataframe tbody tr th:only-of-type {\n",
       "        vertical-align: middle;\n",
       "    }\n",
       "\n",
       "    .dataframe tbody tr th {\n",
       "        vertical-align: top;\n",
       "    }\n",
       "\n",
       "    .dataframe thead th {\n",
       "        text-align: right;\n",
       "    }\n",
       "</style>\n",
       "<table border=\"1\" class=\"dataframe\">\n",
       "  <thead>\n",
       "    <tr style=\"text-align: right;\">\n",
       "      <th></th>\n",
       "      <th>Sexo</th>\n",
       "      <th>Idade</th>\n",
       "      <th>Salário</th>\n",
       "      <th>Zona residencial</th>\n",
       "      <th>Lanche</th>\n",
       "      <th>Bebida</th>\n",
       "      <th>Sobremesa</th>\n",
       "      <th>Avaliação</th>\n",
       "    </tr>\n",
       "    <tr>\n",
       "      <th>indice_amostragem</th>\n",
       "      <th></th>\n",
       "      <th></th>\n",
       "      <th></th>\n",
       "      <th></th>\n",
       "      <th></th>\n",
       "      <th></th>\n",
       "      <th></th>\n",
       "      <th></th>\n",
       "    </tr>\n",
       "  </thead>\n",
       "  <tbody>\n",
       "    <tr>\n",
       "      <th>37</th>\n",
       "      <td>F</td>\n",
       "      <td>29</td>\n",
       "      <td>1965.117407</td>\n",
       "      <td>Norte</td>\n",
       "      <td>Pizza</td>\n",
       "      <td>Coca-cola</td>\n",
       "      <td>nan</td>\n",
       "      <td>1</td>\n",
       "    </tr>\n",
       "    <tr>\n",
       "      <th>171</th>\n",
       "      <td>M</td>\n",
       "      <td>22</td>\n",
       "      <td>4324.896387</td>\n",
       "      <td>Centro</td>\n",
       "      <td>Macarrão</td>\n",
       "      <td>Coca-cola</td>\n",
       "      <td>Sorvete de Caramelo</td>\n",
       "      <td>2</td>\n",
       "    </tr>\n",
       "    <tr>\n",
       "      <th>224</th>\n",
       "      <td>M</td>\n",
       "      <td>26</td>\n",
       "      <td>692.507888</td>\n",
       "      <td>Centro</td>\n",
       "      <td>Hamburguer</td>\n",
       "      <td>Coca-cola</td>\n",
       "      <td>Fruta</td>\n",
       "      <td>2</td>\n",
       "    </tr>\n",
       "    <tr>\n",
       "      <th>315</th>\n",
       "      <td>M</td>\n",
       "      <td>28</td>\n",
       "      <td>7078.032796</td>\n",
       "      <td>Centro</td>\n",
       "      <td>Pizza</td>\n",
       "      <td>Coca-cola</td>\n",
       "      <td>Sorvete de Chocolate</td>\n",
       "      <td>2</td>\n",
       "    </tr>\n",
       "    <tr>\n",
       "      <th>362</th>\n",
       "      <td>F</td>\n",
       "      <td>27</td>\n",
       "      <td>6146.231900</td>\n",
       "      <td>Centro</td>\n",
       "      <td>Macarrão</td>\n",
       "      <td>Coca-cola</td>\n",
       "      <td>nan</td>\n",
       "      <td>2</td>\n",
       "    </tr>\n",
       "  </tbody>\n",
       "</table>\n",
       "</div>"
      ],
      "text/plain": [
       "                  Sexo  Idade      Salário Zona residencial      Lanche  \\\n",
       "indice_amostragem                                                         \n",
       "37                   F     29  1965.117407            Norte       Pizza   \n",
       "171                  M     22  4324.896387           Centro    Macarrão   \n",
       "224                  M     26   692.507888           Centro  Hamburguer   \n",
       "315                  M     28  7078.032796           Centro       Pizza   \n",
       "362                  F     27  6146.231900           Centro    Macarrão   \n",
       "\n",
       "                      Bebida             Sobremesa Avaliação  \n",
       "indice_amostragem                                             \n",
       "37                 Coca-cola                   nan         1  \n",
       "171                Coca-cola   Sorvete de Caramelo         2  \n",
       "224                Coca-cola                 Fruta         2  \n",
       "315                Coca-cola  Sorvete de Chocolate         2  \n",
       "362                Coca-cola                   nan         2  "
      ]
     },
     "execution_count": 18,
     "metadata": {},
     "output_type": "execute_result"
    }
   ],
   "source": [
    "# Sorteio das n unidades amostrais\n",
    "simple_random_sample = np.random.choice(a=list(range(1, 850001)), size=sample_size, replace=True)\n",
    "sample = pd.DataFrame(data={ 'elementos' : simple_random_sample}).set_index('elementos')\n",
    "\n",
    "# Composição da amostra com base nos números sorteados\n",
    "df_simple_random_sample = df.join(other=sample, how='right')\n",
    "\n",
    "# Preview da amostra selecionada via Amostragem Aleatória Simples\n",
    "df_simple_random_sample.head()"
   ]
  },
  {
   "cell_type": "markdown",
   "metadata": {
    "id": "E5MnEDKABgIs"
   },
   "source": [
    "#### Sugestão de passos adicionais\n",
    "\n",
    "Construir o Intervalo de Confiança para a média de idade dos clientes da amostra coletada"
   ]
  },
  {
   "cell_type": "code",
   "execution_count": 19,
   "metadata": {
    "colab": {
     "base_uri": "https://localhost:8080/",
     "height": 394
    },
    "id": "IrE351wdBZDp",
    "outputId": "5a83769b-3e47-4c17-e79b-1bd346ef1c7e"
   },
   "outputs": [
    {
     "data": {
      "text/html": [
       "<div>\n",
       "<style scoped>\n",
       "    .dataframe tbody tr th:only-of-type {\n",
       "        vertical-align: middle;\n",
       "    }\n",
       "\n",
       "    .dataframe tbody tr th {\n",
       "        vertical-align: top;\n",
       "    }\n",
       "\n",
       "    .dataframe thead th {\n",
       "        text-align: right;\n",
       "    }\n",
       "</style>\n",
       "<table border=\"1\" class=\"dataframe\">\n",
       "  <thead>\n",
       "    <tr style=\"text-align: right;\">\n",
       "      <th></th>\n",
       "      <th>Sexo</th>\n",
       "      <th>Idade</th>\n",
       "      <th>Salário</th>\n",
       "      <th>Zona residencial</th>\n",
       "      <th>Lanche</th>\n",
       "      <th>Bebida</th>\n",
       "      <th>Sobremesa</th>\n",
       "      <th>Avaliação</th>\n",
       "    </tr>\n",
       "  </thead>\n",
       "  <tbody>\n",
       "    <tr>\n",
       "      <th>count</th>\n",
       "      <td>13721</td>\n",
       "      <td>13721.000000</td>\n",
       "      <td>13721.000000</td>\n",
       "      <td>13721</td>\n",
       "      <td>13721</td>\n",
       "      <td>13721</td>\n",
       "      <td>13721</td>\n",
       "      <td>13721.0</td>\n",
       "    </tr>\n",
       "    <tr>\n",
       "      <th>unique</th>\n",
       "      <td>2</td>\n",
       "      <td>NaN</td>\n",
       "      <td>NaN</td>\n",
       "      <td>5</td>\n",
       "      <td>4</td>\n",
       "      <td>4</td>\n",
       "      <td>4</td>\n",
       "      <td>4.0</td>\n",
       "    </tr>\n",
       "    <tr>\n",
       "      <th>top</th>\n",
       "      <td>M</td>\n",
       "      <td>NaN</td>\n",
       "      <td>NaN</td>\n",
       "      <td>Norte</td>\n",
       "      <td>Hamburguer</td>\n",
       "      <td>Coca-cola</td>\n",
       "      <td>nan</td>\n",
       "      <td>3.0</td>\n",
       "    </tr>\n",
       "    <tr>\n",
       "      <th>freq</th>\n",
       "      <td>8252</td>\n",
       "      <td>NaN</td>\n",
       "      <td>NaN</td>\n",
       "      <td>4057</td>\n",
       "      <td>5425</td>\n",
       "      <td>8330</td>\n",
       "      <td>6804</td>\n",
       "      <td>5466.0</td>\n",
       "    </tr>\n",
       "    <tr>\n",
       "      <th>mean</th>\n",
       "      <td>NaN</td>\n",
       "      <td>24.499016</td>\n",
       "      <td>3423.018358</td>\n",
       "      <td>NaN</td>\n",
       "      <td>NaN</td>\n",
       "      <td>NaN</td>\n",
       "      <td>NaN</td>\n",
       "      <td>NaN</td>\n",
       "    </tr>\n",
       "    <tr>\n",
       "      <th>std</th>\n",
       "      <td>NaN</td>\n",
       "      <td>3.047489</td>\n",
       "      <td>1819.680191</td>\n",
       "      <td>NaN</td>\n",
       "      <td>NaN</td>\n",
       "      <td>NaN</td>\n",
       "      <td>NaN</td>\n",
       "      <td>NaN</td>\n",
       "    </tr>\n",
       "    <tr>\n",
       "      <th>min</th>\n",
       "      <td>NaN</td>\n",
       "      <td>13.000000</td>\n",
       "      <td>435.283479</td>\n",
       "      <td>NaN</td>\n",
       "      <td>NaN</td>\n",
       "      <td>NaN</td>\n",
       "      <td>NaN</td>\n",
       "      <td>NaN</td>\n",
       "    </tr>\n",
       "    <tr>\n",
       "      <th>25%</th>\n",
       "      <td>NaN</td>\n",
       "      <td>22.000000</td>\n",
       "      <td>2167.351529</td>\n",
       "      <td>NaN</td>\n",
       "      <td>NaN</td>\n",
       "      <td>NaN</td>\n",
       "      <td>NaN</td>\n",
       "      <td>NaN</td>\n",
       "    </tr>\n",
       "    <tr>\n",
       "      <th>50%</th>\n",
       "      <td>NaN</td>\n",
       "      <td>24.000000</td>\n",
       "      <td>3011.475524</td>\n",
       "      <td>NaN</td>\n",
       "      <td>NaN</td>\n",
       "      <td>NaN</td>\n",
       "      <td>NaN</td>\n",
       "      <td>NaN</td>\n",
       "    </tr>\n",
       "    <tr>\n",
       "      <th>75%</th>\n",
       "      <td>NaN</td>\n",
       "      <td>27.000000</td>\n",
       "      <td>4227.689365</td>\n",
       "      <td>NaN</td>\n",
       "      <td>NaN</td>\n",
       "      <td>NaN</td>\n",
       "      <td>NaN</td>\n",
       "      <td>NaN</td>\n",
       "    </tr>\n",
       "    <tr>\n",
       "      <th>max</th>\n",
       "      <td>NaN</td>\n",
       "      <td>36.000000</td>\n",
       "      <td>28579.084397</td>\n",
       "      <td>NaN</td>\n",
       "      <td>NaN</td>\n",
       "      <td>NaN</td>\n",
       "      <td>NaN</td>\n",
       "      <td>NaN</td>\n",
       "    </tr>\n",
       "  </tbody>\n",
       "</table>\n",
       "</div>"
      ],
      "text/plain": [
       "         Sexo         Idade       Salário Zona residencial      Lanche  \\\n",
       "count   13721  13721.000000  13721.000000            13721       13721   \n",
       "unique      2           NaN           NaN                5           4   \n",
       "top         M           NaN           NaN            Norte  Hamburguer   \n",
       "freq     8252           NaN           NaN             4057        5425   \n",
       "mean      NaN     24.499016   3423.018358              NaN         NaN   \n",
       "std       NaN      3.047489   1819.680191              NaN         NaN   \n",
       "min       NaN     13.000000    435.283479              NaN         NaN   \n",
       "25%       NaN     22.000000   2167.351529              NaN         NaN   \n",
       "50%       NaN     24.000000   3011.475524              NaN         NaN   \n",
       "75%       NaN     27.000000   4227.689365              NaN         NaN   \n",
       "max       NaN     36.000000  28579.084397              NaN         NaN   \n",
       "\n",
       "           Bebida Sobremesa  Avaliação  \n",
       "count       13721     13721    13721.0  \n",
       "unique          4         4        4.0  \n",
       "top     Coca-cola       nan        3.0  \n",
       "freq         8330      6804     5466.0  \n",
       "mean          NaN       NaN        NaN  \n",
       "std           NaN       NaN        NaN  \n",
       "min           NaN       NaN        NaN  \n",
       "25%           NaN       NaN        NaN  \n",
       "50%           NaN       NaN        NaN  \n",
       "75%           NaN       NaN        NaN  \n",
       "max           NaN       NaN        NaN  "
      ]
     },
     "execution_count": 19,
     "metadata": {},
     "output_type": "execute_result"
    }
   ],
   "source": [
    "df_simple_random_sample.describe(include='all')"
   ]
  },
  {
   "cell_type": "markdown",
   "metadata": {
    "id": "Ubg2vLj_ferG"
   },
   "source": [
    "### Amostragem Sistemática (Systematic Sampling)\n",
    "\n",
    "Se, no entanto, desejamos **analisar a proporção de clientes que tiveram uma experiência positiva**, podemos utilizar a amostragem sistemática para compôr a amostra. Para isso, precisamos primeiro ordenar a população de acordo com a característica de interesse, isto é, de acordo com `Avaliação`."
   ]
  },
  {
   "cell_type": "code",
   "execution_count": 20,
   "metadata": {
    "colab": {
     "base_uri": "https://localhost:8080/",
     "height": 237
    },
    "id": "BrzC2BKgtBi1",
    "outputId": "1ee31f5c-90d6-460d-e70b-8b07e6c0ba04"
   },
   "outputs": [
    {
     "data": {
      "text/html": [
       "<div>\n",
       "<style scoped>\n",
       "    .dataframe tbody tr th:only-of-type {\n",
       "        vertical-align: middle;\n",
       "    }\n",
       "\n",
       "    .dataframe tbody tr th {\n",
       "        vertical-align: top;\n",
       "    }\n",
       "\n",
       "    .dataframe thead th {\n",
       "        text-align: right;\n",
       "    }\n",
       "</style>\n",
       "<table border=\"1\" class=\"dataframe\">\n",
       "  <thead>\n",
       "    <tr style=\"text-align: right;\">\n",
       "      <th></th>\n",
       "      <th>Sexo</th>\n",
       "      <th>Idade</th>\n",
       "      <th>Salário</th>\n",
       "      <th>Zona residencial</th>\n",
       "      <th>Lanche</th>\n",
       "      <th>Bebida</th>\n",
       "      <th>Sobremesa</th>\n",
       "      <th>Avaliação</th>\n",
       "    </tr>\n",
       "    <tr>\n",
       "      <th>indice_amostragem</th>\n",
       "      <th></th>\n",
       "      <th></th>\n",
       "      <th></th>\n",
       "      <th></th>\n",
       "      <th></th>\n",
       "      <th></th>\n",
       "      <th></th>\n",
       "      <th></th>\n",
       "    </tr>\n",
       "  </thead>\n",
       "  <tbody>\n",
       "    <tr>\n",
       "      <th>773631</th>\n",
       "      <td>F</td>\n",
       "      <td>19</td>\n",
       "      <td>4115.928092</td>\n",
       "      <td>Sul</td>\n",
       "      <td>Pizza</td>\n",
       "      <td>Coca-cola</td>\n",
       "      <td>nan</td>\n",
       "      <td>1</td>\n",
       "    </tr>\n",
       "    <tr>\n",
       "      <th>54836</th>\n",
       "      <td>F</td>\n",
       "      <td>25</td>\n",
       "      <td>1862.081996</td>\n",
       "      <td>Centro</td>\n",
       "      <td>Pizza</td>\n",
       "      <td>Coca-cola</td>\n",
       "      <td>Sorvete de Chocolate</td>\n",
       "      <td>1</td>\n",
       "    </tr>\n",
       "    <tr>\n",
       "      <th>768917</th>\n",
       "      <td>F</td>\n",
       "      <td>25</td>\n",
       "      <td>1818.055333</td>\n",
       "      <td>Norte</td>\n",
       "      <td>Pizza</td>\n",
       "      <td>Coca-cola</td>\n",
       "      <td>Sorvete de Caramelo</td>\n",
       "      <td>1</td>\n",
       "    </tr>\n",
       "    <tr>\n",
       "      <th>614533</th>\n",
       "      <td>F</td>\n",
       "      <td>19</td>\n",
       "      <td>1518.508223</td>\n",
       "      <td>Oeste</td>\n",
       "      <td>Pizza</td>\n",
       "      <td>Coca-cola</td>\n",
       "      <td>nan</td>\n",
       "      <td>1</td>\n",
       "    </tr>\n",
       "    <tr>\n",
       "      <th>71178</th>\n",
       "      <td>M</td>\n",
       "      <td>29</td>\n",
       "      <td>3458.853689</td>\n",
       "      <td>Centro</td>\n",
       "      <td>nan</td>\n",
       "      <td>Coca-cola</td>\n",
       "      <td>nan</td>\n",
       "      <td>1</td>\n",
       "    </tr>\n",
       "  </tbody>\n",
       "</table>\n",
       "</div>"
      ],
      "text/plain": [
       "                  Sexo  Idade      Salário Zona residencial Lanche     Bebida  \\\n",
       "indice_amostragem                                                               \n",
       "773631               F     19  4115.928092              Sul  Pizza  Coca-cola   \n",
       "54836                F     25  1862.081996           Centro  Pizza  Coca-cola   \n",
       "768917               F     25  1818.055333            Norte  Pizza  Coca-cola   \n",
       "614533               F     19  1518.508223            Oeste  Pizza  Coca-cola   \n",
       "71178                M     29  3458.853689           Centro    nan  Coca-cola   \n",
       "\n",
       "                              Sobremesa Avaliação  \n",
       "indice_amostragem                                  \n",
       "773631                              nan         1  \n",
       "54836              Sorvete de Chocolate         1  \n",
       "768917              Sorvete de Caramelo         1  \n",
       "614533                              nan         1  \n",
       "71178                               nan         1  "
      ]
     },
     "execution_count": 20,
     "metadata": {},
     "output_type": "execute_result"
    }
   ],
   "source": [
    "df = df.sort_values(by=['Avaliação'])\n",
    "df.head()"
   ]
  },
  {
   "cell_type": "markdown",
   "metadata": {
    "id": "yv5OItUvoI2Y"
   },
   "source": [
    "Com a população já ordenada, e supondo um cenário de cegueira total em relação às proporções, podemos partir de uma estimativa conservadora de que 50% ($p=0.5$) dos clientes tiveram uma experiência positiva (nota 3 ou 4) para extrair uma amostra usando a técnica de amostragem sistemática, com intervalo de confiança de 95% e margem de erro de 5%.\n",
    "\n",
    "$$\n",
    "n = \\frac{Z^{2} \\times p \\times (1-p)}{e^{2}}\n",
    "$$"
   ]
  },
  {
   "cell_type": "code",
   "execution_count": 21,
   "metadata": {
    "colab": {
     "base_uri": "https://localhost:8080/"
    },
    "id": "KiCRTQadNbbH",
    "outputId": "720a810f-b72c-4358-e130-ec919ee18205"
   },
   "outputs": [
    {
     "name": "stdout",
     "output_type": "stream",
     "text": [
      "O tamanho mínimo da amostra sistemática deve ser 196\n"
     ]
    }
   ],
   "source": [
    "proportion = 0.5\n",
    "sample_size = np.ceil(( 1.96 * proportion * ( 1 - proportion ) ) / ( 0.05 ** 2 ))\n",
    "print(f'O tamanho mínimo da amostra sistemática deve ser %d' % sample_size)"
   ]
  },
  {
   "cell_type": "markdown",
   "metadata": {
    "id": "4suokn5tNMgr"
   },
   "source": [
    "Cálculo do fator de sistematização $k$:\n",
    "\n",
    "$$\n",
    "k = \\frac{N}{n}\n",
    "$$"
   ]
  },
  {
   "cell_type": "code",
   "execution_count": 22,
   "metadata": {
    "colab": {
     "base_uri": "https://localhost:8080/"
    },
    "id": "2L3i124JM2jS",
    "outputId": "30e6a494-0b35-4fad-d48a-304474f7c470"
   },
   "outputs": [
    {
     "name": "stdout",
     "output_type": "stream",
     "text": [
      "O fator de sistematização para esta amostra sistemática é 4337\n"
     ]
    }
   ],
   "source": [
    "k_interval = np.ceil(df.shape[0] / sample_size)\n",
    "print(f'O fator de sistematização para esta amostra sistemática é %d' % k_interval)"
   ]
  },
  {
   "cell_type": "markdown",
   "metadata": {
    "id": "strS0erbrAfb"
   },
   "source": [
    "Com a população já ordenada de acordo com a característica de interesse, escolhemos um número de 1 a $s$, que será o elemento inicial da amostra.\\\n",
    "Em seguida, selecionaremos da amostra ordenada um elemento a cada $k$ elementos"
   ]
  },
  {
   "cell_type": "code",
   "execution_count": 23,
   "metadata": {
    "colab": {
     "base_uri": "https://localhost:8080/"
    },
    "id": "PHu0yf93rQIo",
    "outputId": "76488a5e-76ca-4ec9-ac2d-740ad953610b"
   },
   "outputs": [
    {
     "name": "stdout",
     "output_type": "stream",
     "text": [
      "A contagem iniciará na posição 2143 e um elemento será colhido a cada 4337.0 sucessivas elementos\n",
      "A amostra sistemática possui 196 elementos únicos\n"
     ]
    }
   ],
   "source": [
    "# Posição de Início\n",
    "systematic_sampling_start = np.random.randint(low=1, high=k_interval)\n",
    "print('A contagem iniciará na posição {} e um elemento será colhido a cada {} sucessivas elementos'.format(systematic_sampling_start, k_interval))\n",
    "\n",
    "\n",
    "# Seleção dos índices dos elementos da Amostra\n",
    "\n",
    "sample = [df.index[systematic_sampling_start]]\n",
    "\n",
    "sample.extend([df.index[systematic_sampling_start * i] for i in range(1, (int(np.ceil(df.shape[0] / k_interval))) + 1)])\n",
    "\n",
    "print('A amostra sistemática possui {} elementos únicos'.format(pd.Series(sample).nunique()))\n"
   ]
  },
  {
   "cell_type": "markdown",
   "metadata": {
    "id": "-b-YLY6oxRbi"
   },
   "source": [
    "### Amostragem por Estratificação (Stratified Sampling)\n",
    "\n",
    "Em uma amostragem estratificada, a principal vantagem é conseguir garantir que os estratos de uma determinada característica de interesse estejam representados na amostra final.\\\n",
    "Dessa forma, suponhamos que nosso interesse de estudo seja estudar alguma característica da população (digamos, preferência por lanches) tendo como base grupos homogêneos de **faixa salarial dos clientes da rede de Fast Food**, então podemos criar estratos em torno da faixa salarial, arbitrariamente definidos por:\n",
    "\n",
    "- Estrato A: Até R\\$ 1000\n",
    "- Estrato B: Entre R\\$ 1001 a R\\$ 3000\n",
    "- Estrato C: Entre R\\$ 3001 a R\\$ 5000\n",
    "- Estrato D: Entre R\\$ 5001 a R\\$ 7000\n",
    "- Estrato E: Acima de R\\$ 7000"
   ]
  },
  {
   "cell_type": "markdown",
   "metadata": {
    "id": "J2Z174Y5i_0_"
   },
   "source": [
    "O tamanho da amostra será o mesmo já calculado anteriormente:\n",
    "$$\n",
    "n = \\frac{Z^{2} \\times p \\times (1-p)}{e^{2}}\n",
    "$$"
   ]
  },
  {
   "cell_type": "code",
   "execution_count": 24,
   "metadata": {
    "id": "I1V3l0W-j2Om"
   },
   "outputs": [
    {
     "name": "stdout",
     "output_type": "stream",
     "text": [
      "Tamanho mínimo da amostra estratificada: 385.0\n"
     ]
    }
   ],
   "source": [
    "stratified_sample_size = np.ceil(( ( 1.96 ** 2 ) * 0.5 * 0.5 ) / ( 0.05 ** 2 ))\n",
    "print(\"Tamanho mínimo da amostra estratificada: {}\".format(stratified_sample_size))"
   ]
  },
  {
   "cell_type": "markdown",
   "metadata": {},
   "source": [
    "Com o tamanho da amostra em mãos, agora devemos determinar as proporções dos estratos de faixa etária arbitrariamente definidos aqui (A, B, C, D e E)"
   ]
  },
  {
   "cell_type": "code",
   "execution_count": 25,
   "metadata": {},
   "outputs": [
    {
     "name": "stdout",
     "output_type": "stream",
     "text": [
      "\n",
      "Os estratos de faixa salarial são:\n",
      "A: 0.0138\n",
      "B: 0.4856\n",
      "C: 0.3463\n",
      "D: 0.1084\n",
      "E: 0.0453\n",
      "\n"
     ]
    }
   ],
   "source": [
    "def create_wage_ranges(wage: float) -> str:\n",
    "    stratum = None\n",
    "    if  wage <= 1000:\n",
    "        stratum = 'A'\n",
    "    elif 1001 <= wage < 3000:\n",
    "        stratum = 'B'\n",
    "    elif 3001 <= wage < 5000:\n",
    "        stratum = 'C'\n",
    "    elif 5001 <= wage < 7000:\n",
    "        stratum = 'D'\n",
    "    elif wage >= 7001:\n",
    "        stratum = 'E'\n",
    "    return stratum\n",
    "\n",
    "# Definindo os estratos no DataFrame\n",
    "df['Estratos_Salário'] = df['Salário'].apply(create_wage_ranges)\n",
    "\n",
    "# Definindo as proporções:\n",
    "wage_stratum = {\n",
    "    'A': df.loc[df['Estratos_Salário'] == 'A'].shape[0] / df.shape[0],\n",
    "    'B': df.loc[df['Estratos_Salário'] == 'B'].shape[0] / df.shape[0],\n",
    "    'C': df.loc[df['Estratos_Salário'] == 'C'].shape[0] / df.shape[0],\n",
    "    'D': df.loc[df['Estratos_Salário'] == 'D'].shape[0] / df.shape[0],\n",
    "    'E': df.loc[df['Estratos_Salário'] == 'E'].shape[0] / df.shape[0]\n",
    "}\n",
    "\n",
    "#\n",
    "print(\"\"\"\n",
    "Os estratos de faixa salarial são:\n",
    "A: {:.4f}\n",
    "B: {:.4f}\n",
    "C: {:.4f}\n",
    "D: {:.4f}\n",
    "E: {:.4f}\n",
    "\"\"\".format(wage_stratum['A'],\n",
    "           wage_stratum['B'],\n",
    "           wage_stratum['C'],\n",
    "           wage_stratum['D'],\n",
    "           wage_stratum['E']))"
   ]
  },
  {
   "cell_type": "markdown",
   "metadata": {},
   "source": [
    "Por fim, distribuímos o percentual correspondente a cada estrato de faixa de renda dentre o tamanho mínimo da amostra calculado:\\\n",
    "$n_{A} = n \\times p_{A}$\\\n",
    "$n_{B} = n \\times p_{B}$\\\n",
    "$n_{C} = n \\times p_{C}$\\\n",
    "$n_{D} = n \\times p_{D}$\\\n",
    "$n_{E} = n \\times p_{E}$"
   ]
  },
  {
   "cell_type": "code",
   "execution_count": 26,
   "metadata": {},
   "outputs": [
    {
     "name": "stdout",
     "output_type": "stream",
     "text": [
      "Estrato A: 6.0\n",
      "Estrato B: 187.0\n",
      "Estrato C: 134.0\n",
      "Estrato D: 42.0\n",
      "Estrato E: 18.0\n",
      "Total: 387.0\n"
     ]
    }
   ],
   "source": [
    "def generate_sample_stratum_totals() -> None:\n",
    "    total = 0\n",
    "    for stratum in wage_stratum:\n",
    "        total += np.ceil(wage_stratum[stratum] * stratified_sample_size)\n",
    "        print(\"Estrato {}: {}\".format(stratum, np.ceil(wage_stratum[stratum] * stratified_sample_size)))\n",
    "    print(\"Total: {}\".format(total))\n",
    "\n",
    "generate_sample_stratum_totals()"
   ]
  },
  {
   "cell_type": "markdown",
   "metadata": {},
   "source": [
    "Com os tamanhos proporcionais de cada estrato calculados, partimos para a etapa de amostragem aleatória simples dentro de cada estrato para composição da amostra final:"
   ]
  },
  {
   "cell_type": "code",
   "execution_count": 27,
   "metadata": {},
   "outputs": [
    {
     "data": {
      "text/html": [
       "<div>\n",
       "<style scoped>\n",
       "    .dataframe tbody tr th:only-of-type {\n",
       "        vertical-align: middle;\n",
       "    }\n",
       "\n",
       "    .dataframe tbody tr th {\n",
       "        vertical-align: top;\n",
       "    }\n",
       "\n",
       "    .dataframe thead th {\n",
       "        text-align: right;\n",
       "    }\n",
       "</style>\n",
       "<table border=\"1\" class=\"dataframe\">\n",
       "  <thead>\n",
       "    <tr style=\"text-align: right;\">\n",
       "      <th></th>\n",
       "      <th>Sexo</th>\n",
       "      <th>Idade</th>\n",
       "      <th>Salário</th>\n",
       "      <th>Zona residencial</th>\n",
       "      <th>Lanche</th>\n",
       "      <th>Bebida</th>\n",
       "      <th>Sobremesa</th>\n",
       "      <th>Avaliação</th>\n",
       "      <th>Estratos_Salário</th>\n",
       "    </tr>\n",
       "  </thead>\n",
       "  <tbody>\n",
       "    <tr>\n",
       "      <th>0</th>\n",
       "      <td>M</td>\n",
       "      <td>24</td>\n",
       "      <td>3273.877446</td>\n",
       "      <td>Oeste</td>\n",
       "      <td>Hamburguer</td>\n",
       "      <td>nan</td>\n",
       "      <td>Fruta</td>\n",
       "      <td>3</td>\n",
       "      <td>C</td>\n",
       "    </tr>\n",
       "    <tr>\n",
       "      <th>1</th>\n",
       "      <td>F</td>\n",
       "      <td>21</td>\n",
       "      <td>4471.971073</td>\n",
       "      <td>Norte</td>\n",
       "      <td>Hamburguer</td>\n",
       "      <td>Coca-cola</td>\n",
       "      <td>Sorvete de Caramelo</td>\n",
       "      <td>2</td>\n",
       "      <td>C</td>\n",
       "    </tr>\n",
       "    <tr>\n",
       "      <th>2</th>\n",
       "      <td>M</td>\n",
       "      <td>27</td>\n",
       "      <td>4519.599990</td>\n",
       "      <td>Norte</td>\n",
       "      <td>Hamburguer</td>\n",
       "      <td>Coca-cola</td>\n",
       "      <td>Sorvete de Chocolate</td>\n",
       "      <td>4</td>\n",
       "      <td>C</td>\n",
       "    </tr>\n",
       "    <tr>\n",
       "      <th>3</th>\n",
       "      <td>M</td>\n",
       "      <td>30</td>\n",
       "      <td>3286.655388</td>\n",
       "      <td>Norte</td>\n",
       "      <td>Pizza</td>\n",
       "      <td>Coca-cola</td>\n",
       "      <td>Sorvete de Chocolate</td>\n",
       "      <td>3</td>\n",
       "      <td>C</td>\n",
       "    </tr>\n",
       "    <tr>\n",
       "      <th>4</th>\n",
       "      <td>F</td>\n",
       "      <td>26</td>\n",
       "      <td>3075.102834</td>\n",
       "      <td>Oeste</td>\n",
       "      <td>Pizza</td>\n",
       "      <td>Coca-cola</td>\n",
       "      <td>nan</td>\n",
       "      <td>3</td>\n",
       "      <td>C</td>\n",
       "    </tr>\n",
       "    <tr>\n",
       "      <th>...</th>\n",
       "      <td>...</td>\n",
       "      <td>...</td>\n",
       "      <td>...</td>\n",
       "      <td>...</td>\n",
       "      <td>...</td>\n",
       "      <td>...</td>\n",
       "      <td>...</td>\n",
       "      <td>...</td>\n",
       "      <td>...</td>\n",
       "    </tr>\n",
       "    <tr>\n",
       "      <th>382</th>\n",
       "      <td>M</td>\n",
       "      <td>29</td>\n",
       "      <td>832.631286</td>\n",
       "      <td>Centro</td>\n",
       "      <td>Macarrão</td>\n",
       "      <td>Água</td>\n",
       "      <td>nan</td>\n",
       "      <td>4</td>\n",
       "      <td>A</td>\n",
       "    </tr>\n",
       "    <tr>\n",
       "      <th>383</th>\n",
       "      <td>F</td>\n",
       "      <td>24</td>\n",
       "      <td>997.091538</td>\n",
       "      <td>Leste</td>\n",
       "      <td>Pizza</td>\n",
       "      <td>Pepsi</td>\n",
       "      <td>nan</td>\n",
       "      <td>4</td>\n",
       "      <td>A</td>\n",
       "    </tr>\n",
       "    <tr>\n",
       "      <th>384</th>\n",
       "      <td>M</td>\n",
       "      <td>27</td>\n",
       "      <td>925.938903</td>\n",
       "      <td>Sul</td>\n",
       "      <td>Hamburguer</td>\n",
       "      <td>Coca-cola</td>\n",
       "      <td>Sorvete de Chocolate</td>\n",
       "      <td>3</td>\n",
       "      <td>A</td>\n",
       "    </tr>\n",
       "    <tr>\n",
       "      <th>385</th>\n",
       "      <td>M</td>\n",
       "      <td>27</td>\n",
       "      <td>894.559714</td>\n",
       "      <td>Centro</td>\n",
       "      <td>Hamburguer</td>\n",
       "      <td>Coca-cola</td>\n",
       "      <td>Fruta</td>\n",
       "      <td>3</td>\n",
       "      <td>A</td>\n",
       "    </tr>\n",
       "    <tr>\n",
       "      <th>386</th>\n",
       "      <td>F</td>\n",
       "      <td>19</td>\n",
       "      <td>919.673852</td>\n",
       "      <td>Centro</td>\n",
       "      <td>Macarrão</td>\n",
       "      <td>Pepsi</td>\n",
       "      <td>Sorvete de Chocolate</td>\n",
       "      <td>2</td>\n",
       "      <td>A</td>\n",
       "    </tr>\n",
       "  </tbody>\n",
       "</table>\n",
       "<p>387 rows × 9 columns</p>\n",
       "</div>"
      ],
      "text/plain": [
       "    Sexo  Idade      Salário Zona residencial      Lanche     Bebida  \\\n",
       "0      M     24  3273.877446            Oeste  Hamburguer        nan   \n",
       "1      F     21  4471.971073            Norte  Hamburguer  Coca-cola   \n",
       "2      M     27  4519.599990            Norte  Hamburguer  Coca-cola   \n",
       "3      M     30  3286.655388            Norte       Pizza  Coca-cola   \n",
       "4      F     26  3075.102834            Oeste       Pizza  Coca-cola   \n",
       "..   ...    ...          ...              ...         ...        ...   \n",
       "382    M     29   832.631286           Centro    Macarrão       Água   \n",
       "383    F     24   997.091538            Leste       Pizza      Pepsi   \n",
       "384    M     27   925.938903              Sul  Hamburguer  Coca-cola   \n",
       "385    M     27   894.559714           Centro  Hamburguer  Coca-cola   \n",
       "386    F     19   919.673852           Centro    Macarrão      Pepsi   \n",
       "\n",
       "                Sobremesa Avaliação Estratos_Salário  \n",
       "0                   Fruta         3                C  \n",
       "1     Sorvete de Caramelo         2                C  \n",
       "2    Sorvete de Chocolate         4                C  \n",
       "3    Sorvete de Chocolate         3                C  \n",
       "4                     nan         3                C  \n",
       "..                    ...       ...              ...  \n",
       "382                   nan         4                A  \n",
       "383                   nan         4                A  \n",
       "384  Sorvete de Chocolate         3                A  \n",
       "385                 Fruta         3                A  \n",
       "386  Sorvete de Chocolate         2                A  \n",
       "\n",
       "[387 rows x 9 columns]"
      ]
     },
     "metadata": {},
     "output_type": "display_data"
    }
   ],
   "source": [
    "def generate_stratified_sample(df: pd.DataFrame, column: str, n: int) -> list:\n",
    "    stratas = pd.Series(df[column].unique()).dropna().values\n",
    "    # Objeto que armazenará o índice dos elementos \n",
    "    index_sample = []\n",
    "\n",
    "    for stratum in stratas:\n",
    "        stratum_index_sample = []\n",
    "        # Dataframe total dos representantes do estrato\n",
    "        df_stratum = df.loc[df[column] == stratum].copy()\n",
    "        \n",
    "        # Quantidade de elementos por estrato\n",
    "        n_sample_stratum = int(np.ceil(stratified_sample_size * ( df_stratum.shape[0] / df.shape[0] )))\n",
    "\n",
    "        # Numeração ordenada dos elementos do estrato (1 até n_{estrato})\n",
    "        serial_numbering = pd.Series([i for i in range(1, df_stratum.shape[0] + 1)])\n",
    "        df_stratum = df_stratum.reset_index().assign(numeracao_temporaria_estrato=serial_numbering)\n",
    "        \n",
    "        \n",
    "        # Coleta aleatória de elementos\n",
    "        for i in range(n_sample_stratum):\n",
    "            random_choice = np.random.randint(low = df_stratum['numeracao_temporaria_estrato'].min(),\n",
    "                                              high = df_stratum['numeracao_temporaria_estrato'].max() + 1)\n",
    "            stratum_index_sample += [df_stratum[df_stratum['numeracao_temporaria_estrato'] == random_choice]['indice_amostragem'].item()]\n",
    "            \n",
    "        # Incorporamos a lista com as amostras aleatórias do estrato para a lista da amostra final\n",
    "        index_sample.extend(stratum_index_sample)\n",
    "    return index_sample\n",
    "\n",
    "\n",
    "index_sample = generate_stratified_sample(df, 'Estratos_Salário', stratified_sample_size)\n",
    "\n",
    "\n",
    "# Amostra final:\n",
    "stratified_sample = pd.merge(left=pd.DataFrame(data={'index':index_sample}),\n",
    "                             right=df,\n",
    "                             left_on='index',\n",
    "                             right_index=True).reset_index(drop=True).drop(labels='index', axis=1)\n",
    "display(stratified_sample)"
   ]
  },
  {
   "cell_type": "markdown",
   "metadata": {},
   "source": [
    "## Conclusão"
   ]
  },
  {
   "cell_type": "markdown",
   "metadata": {},
   "source": [
    "A base de dados simulada consiste em uma lista de cadastro de 850,000 clientes únicos de uma rede de lojas fisctícias de Fast Food, cujas dimensões descritivas bem como a distribuição dos dados foram apresentadas e exploradas no tópico de [simulação da base de dados apontada](#Simulação%20da%20base%20de%20dados).\n",
    "\n",
    "Para utilizar as técnicas de amostragem probabilística, três situações hipotéticas foram criadas:\n",
    "\n",
    "1. **Amostragem Aleatória Simples com Repetição (AASc)**: Para esta técnica, o problema fictício abordado foi analisar **a idade média dos clientes da rede de lojas**.\\\n",
    "Neste exemplo, o desvio padrão populacional $\\sigma$ foi calculado, o que nem sempre é possível em situações reais. Métricas de variabilidade ajudam no cálculo de tamanho mínimo da amostra, já que variáveis com grande variabilidade requerem amostras mais volumosas para estudos de inferência populacional.\n",
    "No caso, foi trabalhada uma amostra de tamanho $n=13721$ e a metodologia empregada foi a numeração sequencial de todos os 850000, onde $n$ sucessivos sorteios de números entre 1 e 850000 foram realizados, sendo cada número sorteado incorporado à amostra final.\n",
    "\n",
    "2. **Amostragem Sistemática**: Para esta técnica, o problema fictício selecionado foi analisar a **proporção dos clientes que tiveram uma experiência positiva** (ou seja, levando-se em consideração uma escala de 1 a 4, a proporção dos clientes que deram nota 3 ou 4).\n",
    "Para isto ser possível, esta técnica requer a ordenação da população de acordo com a característica de interesse, que no caso desse exercício foram as notas dos clientes.\\\n",
    "Então o primeiro passo foi a ordenação do conjunto de dados pela nota de avaliação. Em seguida foi calculada o tamanho mínimo da amostra levando-se em consideração uma proporção arbitrariamente estimada de 50%, um nível de confiança de 95% e 5% de margem de erro. No final, foi calculado também o fator de sistematização $k$ (baseado no tamanho mínimo da amostra), que é o intervalo de coleta das observações ordenadas.\\\n",
    "A amostra final se deu através das $n$ coletas de observações do conjunto de dados, em intervalos regulares de $k$ elementos. \n",
    "\n",
    "4. **Amostragem por Estratificação**: No caso da amostragem estratificada, o problema hipotético foi a composição de uma amostra para estudo baseada na **representatividade de estratos de faixa de renda**. Para isso, foram definidos arbitrariamente 5 grupos homogêneos (estratos) baseados em intervalos de salários. Em seguida, foram calculados as proporções de cada estrato em relação à população real. Após o cálculo do tamanho mínimo amostral, a proporção de predominância de cada estrato foi adaptado para o tamanho mínimo da amostra.\\\n",
    "Por fim, a população foi dividida em 5 subsets, baseado no pertencimento a cada um dos estratos, e uma técnica de amostragem aleatória simples com repetição (AASc) foi empregada em cada subset respeitando a proporcionalidade extraída da população, discutida logo acima. A amostra final, portanto, se seguiu como a soma de cada amostra realizada para cada estrato.\n",
    "\n",
    "\n",
    "\n",
    "Embora nenhum estudo ulterior tenha sido conduzido com as amostras coletadas, cabe salientar que este aqui se trata de um exercício totalmente controlado, isto é, partindo de uma base de dados contendo plena informação à respeito da população de estudo, como por exemplo médias, medianas, proporções, distribuição, variância, etc. bem como o acesso às unidades amostrais que não obriga o uso de técnicas não probabilísticas, a condução da processo de amostragem é muito mais fácil, justamente por conhecermos os parâmetros populacionais de antemão. O desafio se reflete justamente na condução de processos de amostragem quando não há esse conhecimento prévio (censo) sobre a população."
   ]
  }
 ],
 "metadata": {
  "colab": {
   "provenance": [],
   "toc_visible": true
  },
  "kernelspec": {
   "display_name": "Python 3 (ipykernel)",
   "language": "python",
   "name": "python3"
  },
  "language_info": {
   "codemirror_mode": {
    "name": "ipython",
    "version": 3
   },
   "file_extension": ".py",
   "mimetype": "text/x-python",
   "name": "python",
   "nbconvert_exporter": "python",
   "pygments_lexer": "ipython3",
   "version": "3.11.6"
  }
 },
 "nbformat": 4,
 "nbformat_minor": 4
}
