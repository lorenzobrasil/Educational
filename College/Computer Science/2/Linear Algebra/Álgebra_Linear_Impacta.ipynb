{
  "nbformat": 4,
  "nbformat_minor": 0,
  "metadata": {
    "colab": {
      "name": "Álgebra_Linear_Impacta.ipynb",
      "provenance": [],
      "collapsed_sections": [
        "DHtdJ_Uzk7Az",
        "Jto4qfUVM89e",
        "sIfRw1LcNCRf",
        "IFu2EFvINGwh",
        "y6Vv2ySKO22U",
        "pnCKnfe-O-86"
      ]
    },
    "kernelspec": {
      "name": "python3",
      "display_name": "Python 3"
    },
    "language_info": {
      "name": "python"
    }
  },
  "cells": [
    {
      "cell_type": "markdown",
      "metadata": {
        "id": "DHtdJ_Uzk7Az"
      },
      "source": [
        "# **Aula 03: Numpy - Parte 1**\n"
      ]
    },
    {
      "cell_type": "markdown",
      "metadata": {
        "id": "3LYFdYiJnNyG"
      },
      "source": [
        "## **1- Passos iniciais**"
      ]
    },
    {
      "cell_type": "markdown",
      "metadata": {
        "id": "Oxrz4GBwl9wr"
      },
      "source": [
        "Importando o numpy"
      ]
    },
    {
      "cell_type": "code",
      "metadata": {
        "id": "Ql6zT-M8lDtz"
      },
      "source": [
        "import numpy as np"
      ],
      "execution_count": 1,
      "outputs": []
    },
    {
      "cell_type": "markdown",
      "metadata": {
        "id": "ie2Ewa2ClL6R"
      },
      "source": [
        "Criando um array:"
      ]
    },
    {
      "cell_type": "code",
      "metadata": {
        "id": "sST6cBhQlPGd",
        "colab": {
          "base_uri": "https://localhost:8080/",
          "height": 0
        },
        "outputId": "fabac24a-8640-499e-8847-22bf1fc3e8b1"
      },
      "source": [
        "lista = [1,2,3,4,5]\n",
        "print(lista)\n",
        "a = np.array(lista)\n",
        "print(a)"
      ],
      "execution_count": 2,
      "outputs": [
        {
          "output_type": "stream",
          "name": "stdout",
          "text": [
            "[1, 2, 3, 4, 5]\n",
            "[1 2 3 4 5]\n"
          ]
        }
      ]
    },
    {
      "cell_type": "markdown",
      "metadata": {
        "id": "ReBe4v1QmF4H"
      },
      "source": [
        "Verificando as dimensões"
      ]
    },
    {
      "cell_type": "code",
      "metadata": {
        "colab": {
          "base_uri": "https://localhost:8080/",
          "height": 0
        },
        "id": "BIskIw_KmNL_",
        "outputId": "d7476170-f79c-4a60-a9ec-5b424790cce9"
      },
      "source": [
        "print(a.shape)\n",
        "a.dtype\n"
      ],
      "execution_count": 3,
      "outputs": [
        {
          "output_type": "stream",
          "name": "stdout",
          "text": [
            "(5,)\n"
          ]
        },
        {
          "output_type": "execute_result",
          "data": {
            "text/plain": [
              "dtype('int64')"
            ]
          },
          "metadata": {},
          "execution_count": 3
        }
      ]
    },
    {
      "cell_type": "markdown",
      "metadata": {
        "id": "uCg3dIyJnGaQ"
      },
      "source": [
        "Criando array multidimensional"
      ]
    },
    {
      "cell_type": "code",
      "metadata": {
        "id": "Mup1WqCGnJwJ",
        "colab": {
          "base_uri": "https://localhost:8080/",
          "height": 0
        },
        "outputId": "579ff28f-b759-4831-cc6a-c4ee1cd6a1b9"
      },
      "source": [
        "a = np.array([[1,2,3,4], [5,6,7,8]])\n",
        "print(a)\n",
        "print(a.shape)"
      ],
      "execution_count": 4,
      "outputs": [
        {
          "output_type": "stream",
          "name": "stdout",
          "text": [
            "[[1 2 3 4]\n",
            " [5 6 7 8]]\n",
            "(2, 4)\n"
          ]
        }
      ]
    },
    {
      "cell_type": "markdown",
      "metadata": {
        "id": "uH4XciFwqsY5"
      },
      "source": [
        "## **2. Funções para criação de array**"
      ]
    },
    {
      "cell_type": "markdown",
      "metadata": {
        "id": "wDB916fdncwr"
      },
      "source": [
        "### **2.1 Função empty: Cria um array da dimensão especificada com valores aleatórios**"
      ]
    },
    {
      "cell_type": "code",
      "metadata": {
        "id": "adqTHVg4n05k",
        "colab": {
          "base_uri": "https://localhost:8080/",
          "height": 0
        },
        "outputId": "3d9c5eb9-7536-45c8-f181-e624e30b0063"
      },
      "source": [
        "a = np.empty([3,3])\n",
        "print(a)"
      ],
      "execution_count": 5,
      "outputs": [
        {
          "output_type": "stream",
          "name": "stdout",
          "text": [
            "[[4.65484060e-310 3.60739284e-313 1.38338381e-322]\n",
            " [4.65484060e-310 0.00000000e+000 0.00000000e+000]\n",
            " [4.94065646e-323 0.00000000e+000 0.00000000e+000]]\n"
          ]
        }
      ]
    },
    {
      "cell_type": "markdown",
      "metadata": {
        "id": "LoMhTs0FozSx"
      },
      "source": [
        "### **2.2 Função np.zeros: Cria um array preenchido com zeros com as dimensões especificadas**"
      ]
    },
    {
      "cell_type": "code",
      "metadata": {
        "id": "wX4wSQ1aonJN",
        "colab": {
          "base_uri": "https://localhost:8080/",
          "height": 0
        },
        "outputId": "91567662-539b-4f6d-9f66-46f7edd655ca"
      },
      "source": [
        "a = np.zeros([3,5])\n",
        "print(a)\n",
        "print(a.shape)"
      ],
      "execution_count": 6,
      "outputs": [
        {
          "output_type": "stream",
          "name": "stdout",
          "text": [
            "[[0. 0. 0. 0. 0.]\n",
            " [0. 0. 0. 0. 0.]\n",
            " [0. 0. 0. 0. 0.]]\n",
            "(3, 5)\n"
          ]
        }
      ]
    },
    {
      "cell_type": "markdown",
      "metadata": {
        "id": "eNRZKR9WpP67"
      },
      "source": [
        "### **2.3 Função np.ones: Cria um array preenchido com um's com as dimensões especificadas**"
      ]
    },
    {
      "cell_type": "code",
      "metadata": {
        "id": "4O9oH9HXo-N9",
        "colab": {
          "base_uri": "https://localhost:8080/",
          "height": 0
        },
        "outputId": "04b4442a-cf24-4c4b-a4d7-916df9a7219d"
      },
      "source": [
        "a = np.ones([2,10], dtype = int)\n",
        "print(a)\n",
        "print(a.shape)"
      ],
      "execution_count": 7,
      "outputs": [
        {
          "output_type": "stream",
          "name": "stdout",
          "text": [
            "[[1 1 1 1 1 1 1 1 1 1]\n",
            " [1 1 1 1 1 1 1 1 1 1]]\n",
            "(2, 10)\n"
          ]
        }
      ]
    },
    {
      "cell_type": "markdown",
      "metadata": {
        "id": "Q7jZhB7Jpyva"
      },
      "source": [
        "### **2.4 Função np.arange: Cria um array preenchido com valores que vão de um número a outro seguindo um determinado passo.**"
      ]
    },
    {
      "cell_type": "code",
      "metadata": {
        "id": "OMNTJ6ZKpcFh",
        "colab": {
          "base_uri": "https://localhost:8080/",
          "height": 0
        },
        "outputId": "026f2b3f-5fdc-429a-d265-89a3daff2fb4"
      },
      "source": [
        "a = np.arange(10, 20, 1)\n",
        "print(a)\n",
        "b = np.arange(1, 10, 2)\n",
        "print(b)"
      ],
      "execution_count": 8,
      "outputs": [
        {
          "output_type": "stream",
          "name": "stdout",
          "text": [
            "[10 11 12 13 14 15 16 17 18 19]\n",
            "[1 3 5 7 9]\n"
          ]
        }
      ]
    },
    {
      "cell_type": "markdown",
      "metadata": {
        "id": "ZMZEPYVHqICR"
      },
      "source": [
        "### **2.5 Função np.linspace: Cria um array preenchido com valores igualmente espaçados dentro de um determinado intervalo**"
      ]
    },
    {
      "cell_type": "code",
      "metadata": {
        "colab": {
          "base_uri": "https://localhost:8080/",
          "height": 0
        },
        "id": "NhmT-9uPp_lV",
        "outputId": "fd44e748-f679-43fc-ba65-d94b82a040a8"
      },
      "source": [
        "a = np.linspace(1, 2, 5)\n",
        "print(a)"
      ],
      "execution_count": 9,
      "outputs": [
        {
          "output_type": "stream",
          "name": "stdout",
          "text": [
            "[1.   1.25 1.5  1.75 2.  ]\n"
          ]
        }
      ]
    },
    {
      "cell_type": "markdown",
      "metadata": {
        "id": "DIZO8sg2zFjT"
      },
      "source": [
        "### **2.6 Função np.astype: Converte um determinado tipo de dado de um array em outro (não altera o original)**"
      ]
    },
    {
      "cell_type": "code",
      "metadata": {
        "colab": {
          "base_uri": "https://localhost:8080/",
          "height": 0
        },
        "id": "hIUH0oxkqS5w",
        "outputId": "69d703ae-1e90-477e-b289-d8634237ff7c"
      },
      "source": [
        "b = a.astype(int)\n",
        "print(b)"
      ],
      "execution_count": 10,
      "outputs": [
        {
          "output_type": "stream",
          "name": "stdout",
          "text": [
            "[1 1 1 1 2]\n"
          ]
        }
      ]
    },
    {
      "cell_type": "markdown",
      "metadata": {
        "id": "amFiTlz349QV"
      },
      "source": [
        "## **3. Slice de array ou indexação**"
      ]
    },
    {
      "cell_type": "code",
      "metadata": {
        "id": "CA8RnHHerBhI",
        "colab": {
          "base_uri": "https://localhost:8080/",
          "height": 0
        },
        "outputId": "1928b544-1e6e-4a4c-885e-9d70b243bbcf"
      },
      "source": [
        "# array unidimensional\n",
        "a = np.array([11, 32, 56, 84])\n",
        "print(a[0])\n",
        "print(a[3])\n",
        "print(a[0:2])\n",
        "print(a[-1])"
      ],
      "execution_count": 11,
      "outputs": [
        {
          "output_type": "stream",
          "name": "stdout",
          "text": [
            "11\n",
            "84\n",
            "[11 32]\n",
            "84\n"
          ]
        }
      ]
    },
    {
      "cell_type": "code",
      "metadata": {
        "id": "ZRu3JD9YzL69",
        "colab": {
          "base_uri": "https://localhost:8080/",
          "height": 0
        },
        "outputId": "63f2a4c2-17b0-4c52-bdbf-413ba7995b82"
      },
      "source": [
        "# array bidimensional\n",
        "a = np.array([[11, 32, 56, 84], [35, 56, 87, 91]])\n",
        "print(a[:, :-1])\n",
        "print(a[:, 0])"
      ],
      "execution_count": 12,
      "outputs": [
        {
          "output_type": "stream",
          "name": "stdout",
          "text": [
            "[[11 32 56]\n",
            " [35 56 87]]\n",
            "[11 35]\n"
          ]
        }
      ]
    },
    {
      "cell_type": "markdown",
      "metadata": {
        "id": "uBX5m35-3rnF"
      },
      "source": [
        "### **3.1 Exemplo prático de como usa-se slice de array para criação de conjuntos de treino e teste**"
      ]
    },
    {
      "cell_type": "code",
      "metadata": {
        "colab": {
          "base_uri": "https://localhost:8080/",
          "height": 0
        },
        "id": "NQSQiCNt2epc",
        "outputId": "9f41814f-1d7f-44f5-bf94-dff0c468c156"
      },
      "source": [
        "data = np.array([[11, 32, 46, 56], [1, 30, 95, 33], [10, 100, 21, 13]])\n",
        "split = 2\n",
        "train, test = data[:split, :], data[split:, :]\n",
        "print(data)\n",
        "print(\"Conjunto treino:\\n\", train)\n",
        "print(\"Conjunto teste:\\n\", test)"
      ],
      "execution_count": 13,
      "outputs": [
        {
          "output_type": "stream",
          "name": "stdout",
          "text": [
            "[[ 11  32  46  56]\n",
            " [  1  30  95  33]\n",
            " [ 10 100  21  13]]\n",
            "Conjunto treino:\n",
            " [[11 32 46 56]\n",
            " [ 1 30 95 33]]\n",
            "Conjunto teste:\n",
            " [[ 10 100  21  13]]\n"
          ]
        }
      ]
    },
    {
      "cell_type": "markdown",
      "metadata": {
        "id": "lC-y27da-aVV"
      },
      "source": [
        "### **3.2 Indexação booleana**"
      ]
    },
    {
      "cell_type": "code",
      "metadata": {
        "id": "_Zc8qSJp3v79",
        "colab": {
          "base_uri": "https://localhost:8080/",
          "height": 0
        },
        "outputId": "91a2acf1-433f-46a5-b56f-342a02af14f1"
      },
      "source": [
        "a = np.linspace(0, 100, 100, dtype = int)\n",
        "x = a[(a > 20) & ( a > 50)] # Maiores que 20 e maiores que 50 (ou seja, maiores que 50)\n",
        "print(x)\n",
        "y = a[(a < 10) | (a > 90)] # Menores que 10 ou maiores que 90\n",
        "print(y)"
      ],
      "execution_count": 14,
      "outputs": [
        {
          "output_type": "stream",
          "name": "stdout",
          "text": [
            "[ 51  52  53  54  55  56  57  58  59  60  61  62  63  64  65  66  67  68\n",
            "  69  70  71  72  73  74  75  76  77  78  79  80  81  82  83  84  85  86\n",
            "  87  88  89  90  91  92  93  94  95  96  97  98 100]\n",
            "[  0   1   2   3   4   5   6   7   8   9  91  92  93  94  95  96  97  98\n",
            " 100]\n"
          ]
        }
      ]
    },
    {
      "cell_type": "markdown",
      "metadata": {
        "id": "-NVCtGVB-U6l"
      },
      "source": [
        "## **4- Shape de dados**"
      ]
    },
    {
      "cell_type": "code",
      "metadata": {
        "id": "Eu52itgV8lwb",
        "colab": {
          "base_uri": "https://localhost:8080/",
          "height": 0
        },
        "outputId": "87e32e1f-603c-45d3-e9f8-dec81d1bf5dd"
      },
      "source": [
        "a = np.arange(1,51)\n",
        "print(a)\n",
        "print(a.shape)"
      ],
      "execution_count": 15,
      "outputs": [
        {
          "output_type": "stream",
          "name": "stdout",
          "text": [
            "[ 1  2  3  4  5  6  7  8  9 10 11 12 13 14 15 16 17 18 19 20 21 22 23 24\n",
            " 25 26 27 28 29 30 31 32 33 34 35 36 37 38 39 40 41 42 43 44 45 46 47 48\n",
            " 49 50]\n",
            "(50,)\n"
          ]
        }
      ]
    },
    {
      "cell_type": "code",
      "metadata": {
        "colab": {
          "base_uri": "https://localhost:8080/",
          "height": 0
        },
        "id": "Z4yPhoJw-JkS",
        "outputId": "fd6f6768-7b3f-4f7a-a89a-7c512357ac93"
      },
      "source": [
        "data = np.array([[11,32,67],\n",
        "                 [6,43,21],\n",
        "                [32,54,61],\n",
        "                 [21,87,45]])\n",
        "print(data.shape)\n",
        "print(\"Linhas = %d\" % data.shape[0])\n",
        "print(\"Colunas = %d\" % data.shape[1])"
      ],
      "execution_count": 16,
      "outputs": [
        {
          "output_type": "stream",
          "name": "stdout",
          "text": [
            "(4, 3)\n",
            "Linhas = 4\n",
            "Colunas = 3\n"
          ]
        }
      ]
    },
    {
      "cell_type": "markdown",
      "metadata": {
        "id": "uz6mF0qNBbiN"
      },
      "source": [
        "### **4.1 Função Reshape**\n"
      ]
    },
    {
      "cell_type": "markdown",
      "metadata": {
        "id": "ItakgjXL-i_x"
      },
      "source": [
        "Depois de fatiar seus dados, pode ser necessário redimensioná-los.\n",
        "\n",
        "Por exemplo, algumas bibliotecas, como scikit-learn, podem exigir que um array unidimensional de variáveis ​​de saída (y) seja moldados como um array bidimensional com uma coluna e resultados para cada coluna.\n",
        "\n",
        "Alguns algoritmos, como a redes neurais recorrentes LSTM ( Long Short-Term Memory) em Keras, requer que a entrada seja especificada como uma matriz tridimensional composta de amostras, etapas de tempo e recursos.\n",
        "\n",
        "É importante sabermos redimensionar seus arrays NumPy para que seus dados atendam à expectativa de Bibliotecas Python."
      ]
    },
    {
      "cell_type": "markdown",
      "metadata": {
        "id": "PO7RH2oY_tzH"
      },
      "source": [
        "**Transformando vetor 1D em 2D**"
      ]
    },
    {
      "cell_type": "code",
      "metadata": {
        "colab": {
          "base_uri": "https://localhost:8080/",
          "height": 0
        },
        "id": "BoEt8wKf_MBU",
        "outputId": "bfc5ef4a-8d8f-45ee-e049-8bc32f621bbb"
      },
      "source": [
        "a = np.arange(6)\n",
        "print(a)\n",
        "print(\"Redimensionado para 2D:\")\n",
        "a = a.reshape(2,3)\n",
        "print(a)\n",
        "print(\"Redimensionado para 2D:\")\n",
        "a = a.reshape(3,2)\n",
        "print(a)"
      ],
      "execution_count": 17,
      "outputs": [
        {
          "output_type": "stream",
          "name": "stdout",
          "text": [
            "[0 1 2 3 4 5]\n",
            "Redimensionado para 2D:\n",
            "[[0 1 2]\n",
            " [3 4 5]]\n",
            "Redimensionado para 2D:\n",
            "[[0 1]\n",
            " [2 3]\n",
            " [4 5]]\n"
          ]
        }
      ]
    },
    {
      "cell_type": "markdown",
      "metadata": {
        "id": "I0v-9i_3odWy"
      },
      "source": [
        "**Transformando vetor 2D em 3D**"
      ]
    },
    {
      "cell_type": "code",
      "metadata": {
        "id": "r8oRU2Om__4j",
        "colab": {
          "base_uri": "https://localhost:8080/",
          "height": 0
        },
        "outputId": "80553785-973a-42c8-dd50-2bd3bf0305a7"
      },
      "source": [
        "a = np.array([[1, 2, 3, 4, 5], [6, 7, 8, 9, 10], [11, 12, 13, 14, 15]])\n",
        "a.reshape(a.shape[0], a.shape[1], 1)"
      ],
      "execution_count": 18,
      "outputs": [
        {
          "output_type": "execute_result",
          "data": {
            "text/plain": [
              "array([[[ 1],\n",
              "        [ 2],\n",
              "        [ 3],\n",
              "        [ 4],\n",
              "        [ 5]],\n",
              "\n",
              "       [[ 6],\n",
              "        [ 7],\n",
              "        [ 8],\n",
              "        [ 9],\n",
              "        [10]],\n",
              "\n",
              "       [[11],\n",
              "        [12],\n",
              "        [13],\n",
              "        [14],\n",
              "        [15]]])"
            ]
          },
          "metadata": {},
          "execution_count": 18
        }
      ]
    },
    {
      "cell_type": "markdown",
      "metadata": {
        "id": "1tcD5UPJCBOM"
      },
      "source": [
        "### **4.2 Função flatten**\n"
      ]
    },
    {
      "cell_type": "markdown",
      "metadata": {
        "id": "ht7_Gz-RBoQj"
      },
      "source": [
        "A função flatten transforma qualquer vetor ndimensional em uma só dimensão."
      ]
    },
    {
      "cell_type": "code",
      "metadata": {
        "colab": {
          "base_uri": "https://localhost:8080/",
          "height": 0
        },
        "id": "lhSoxmOlB42p",
        "outputId": "b35543ca-61e3-44cc-ba45-3f0d1f9a95e3"
      },
      "source": [
        "data = np.array([[11,32,67],\n",
        "                 [6,43,21],\n",
        "                [32,54,61],\n",
        "                 [21,87,45]])\n",
        "data = data.flatten()\n",
        "print(data)\n",
        "print(data.shape)"
      ],
      "execution_count": 19,
      "outputs": [
        {
          "output_type": "stream",
          "name": "stdout",
          "text": [
            "[11 32 67  6 43 21 32 54 61 21 87 45]\n",
            "(12,)\n"
          ]
        }
      ]
    },
    {
      "cell_type": "markdown",
      "metadata": {
        "id": "DU5vsNl3D3QE"
      },
      "source": [
        "### **4.3 Função insert**\n"
      ]
    },
    {
      "cell_type": "markdown",
      "metadata": {
        "id": "2ZNb1XMNCG--"
      },
      "source": [
        "A função insert insere um ou mais valores em uma determinada linha ou coluna de um vetor"
      ]
    },
    {
      "cell_type": "code",
      "metadata": {
        "colab": {
          "base_uri": "https://localhost:8080/",
          "height": 0
        },
        "id": "zM-8rP1pCWI9",
        "outputId": "5c9d247d-1246-4879-d1bf-eba02f75cdd8"
      },
      "source": [
        "data = np.array([[5, 5, 5], [5, 5, 5], [5, 5, 5]])\n",
        "print(data)\n",
        "# inserindo uma nova coluna na posição 1\n",
        "data = np.insert(data, 1, [0, 0, 0], axis = 1)\n",
        "print(data)"
      ],
      "execution_count": 20,
      "outputs": [
        {
          "output_type": "stream",
          "name": "stdout",
          "text": [
            "[[5 5 5]\n",
            " [5 5 5]\n",
            " [5 5 5]]\n",
            "[[5 0 5 5]\n",
            " [5 0 5 5]\n",
            " [5 0 5 5]]\n"
          ]
        }
      ]
    },
    {
      "cell_type": "code",
      "metadata": {
        "colab": {
          "base_uri": "https://localhost:8080/",
          "height": 0
        },
        "id": "Mrdi3Ii_DO0F",
        "outputId": "2b10683a-68df-4be5-f2f6-c0490da2fadd"
      },
      "source": [
        "data = np.array([[5, 5, 5], [5, 5, 5], [5, 5, 5]])\n",
        "print(data)\n",
        "# inserindo uma nova linha\n",
        "data = np.insert(data, 2, [1, 2, 3], axis = 0)\n",
        "print(data)"
      ],
      "execution_count": 21,
      "outputs": [
        {
          "output_type": "stream",
          "name": "stdout",
          "text": [
            "[[5 5 5]\n",
            " [5 5 5]\n",
            " [5 5 5]]\n",
            "[[5 5 5]\n",
            " [5 5 5]\n",
            " [1 2 3]\n",
            " [5 5 5]]\n"
          ]
        }
      ]
    },
    {
      "cell_type": "markdown",
      "metadata": {
        "id": "epIoc5xU_WH7"
      },
      "source": [
        "### **4.4 Função delete**\n"
      ]
    },
    {
      "cell_type": "code",
      "metadata": {
        "colab": {
          "base_uri": "https://localhost:8080/",
          "height": 0
        },
        "id": "hsgyRPPZD-Dk",
        "outputId": "27c5cf0d-e0ce-405f-e6c7-7cb3f0ee7d4b"
      },
      "source": [
        "#np.delete(array, posição, axis)\n",
        "data = np.array([[11,32],\n",
        "              [6,43],\n",
        "              [32,7]])\n",
        "\n",
        "#remove a primeira linha\n",
        "data = np.delete(data,0,0)\n",
        "print(data)"
      ],
      "execution_count": 22,
      "outputs": [
        {
          "output_type": "stream",
          "name": "stdout",
          "text": [
            "[[ 6 43]\n",
            " [32  7]]\n"
          ]
        }
      ]
    },
    {
      "cell_type": "markdown",
      "metadata": {
        "id": "cwuYVxQknVzR"
      },
      "source": [
        "## **Exercícios**"
      ]
    },
    {
      "cell_type": "markdown",
      "metadata": {
        "id": "i4vJ_w3J5GpQ"
      },
      "source": [
        "### **Exercício 1:**\n",
        "Crie um array com 50 elementos (começando do 1) e depois selecione apenas os múltiplos de 3"
      ]
    },
    {
      "cell_type": "code",
      "metadata": {
        "colab": {
          "base_uri": "https://localhost:8080/",
          "height": 0
        },
        "id": "4S9bqbvglZQG",
        "outputId": "a97486a7-dc6b-4d74-ef13-00c0649db225"
      },
      "source": [
        "a = np.arange(1, 51)\n",
        "a[a % 3 == 0]"
      ],
      "execution_count": 23,
      "outputs": [
        {
          "output_type": "execute_result",
          "data": {
            "text/plain": [
              "array([ 3,  6,  9, 12, 15, 18, 21, 24, 27, 30, 33, 36, 39, 42, 45, 48])"
            ]
          },
          "metadata": {},
          "execution_count": 23
        }
      ]
    },
    {
      "cell_type": "markdown",
      "metadata": {
        "id": "fNok8hs1kvkH"
      },
      "source": [
        "### **Exercício 2:**\n",
        "\n",
        "1- Crie um array de 10 posições:\n",
        "\n",
        "2- insira 3 elementos no início desse array\n",
        "\n",
        "3- Remova o último elemento do array\n",
        "\n",
        "4- Redimensione o array como uma matriz 3x4\n",
        "\n",
        "5- Insira uma nova linha com apenas zeros no final da matriz\n",
        "\n",
        "6- Exiba a dimensionalidade da matriz final\n",
        "\n"
      ]
    },
    {
      "cell_type": "code",
      "metadata": {
        "colab": {
          "base_uri": "https://localhost:8080/",
          "height": 0
        },
        "id": "PgegkMvZ51Ec",
        "outputId": "ae19d1ed-8ee2-4e30-ab94-da5b4db5e35f"
      },
      "source": [
        "# 1\n",
        "a = np.linspace(0, 10, 10, dtype = int, endpoint = False)\n",
        "print(a)"
      ],
      "execution_count": 24,
      "outputs": [
        {
          "output_type": "stream",
          "name": "stdout",
          "text": [
            "[0 1 2 3 4 5 6 7 8 9]\n"
          ]
        }
      ]
    },
    {
      "cell_type": "code",
      "metadata": {
        "colab": {
          "base_uri": "https://localhost:8080/",
          "height": 0
        },
        "id": "d_NJvoYj6gJN",
        "outputId": "6adab712-033e-4a39-d8fb-be5e8bcffc71"
      },
      "source": [
        "# 2\n",
        "\n",
        "for i in range(3):\n",
        "  a = np.insert(a, 0, 0)\n",
        "# Ao invés de usar o loop, pode-se adicionar os três elementos passando um vetor como argumento nessa função: a = np.insert(a, 0, [0, 0, 0])\n",
        "print(a)\n",
        "print(a.shape)\n"
      ],
      "execution_count": 25,
      "outputs": [
        {
          "output_type": "stream",
          "name": "stdout",
          "text": [
            "[0 0 0 0 1 2 3 4 5 6 7 8 9]\n",
            "(13,)\n"
          ]
        }
      ]
    },
    {
      "cell_type": "code",
      "metadata": {
        "colab": {
          "base_uri": "https://localhost:8080/",
          "height": 0
        },
        "id": "N2hBiVxO7ktp",
        "outputId": "400fa807-5db8-4492-9867-4a05643eb3d1"
      },
      "source": [
        "# 3\n",
        "print(len(a))\n",
        "a = a[: len(a) - 1]\n",
        "#Também é possível usar a função delete: a = np.delete(a, (len(a) - 1))\n",
        "print(len(a))"
      ],
      "execution_count": 26,
      "outputs": [
        {
          "output_type": "stream",
          "name": "stdout",
          "text": [
            "13\n",
            "12\n"
          ]
        }
      ]
    },
    {
      "cell_type": "code",
      "metadata": {
        "colab": {
          "base_uri": "https://localhost:8080/",
          "height": 0
        },
        "id": "EhPw30XyFTS7",
        "outputId": "b6665bc7-7d9c-4348-c162-bdd157cfba35"
      },
      "source": [
        "# 4\n",
        "a = np.reshape(a, (3, 4))\n",
        "print(a)\n",
        "a.shape"
      ],
      "execution_count": 27,
      "outputs": [
        {
          "output_type": "stream",
          "name": "stdout",
          "text": [
            "[[0 0 0 0]\n",
            " [1 2 3 4]\n",
            " [5 6 7 8]]\n"
          ]
        },
        {
          "output_type": "execute_result",
          "data": {
            "text/plain": [
              "(3, 4)"
            ]
          },
          "metadata": {},
          "execution_count": 27
        }
      ]
    },
    {
      "cell_type": "code",
      "metadata": {
        "colab": {
          "base_uri": "https://localhost:8080/",
          "height": 0
        },
        "id": "WdEh8qIKGo0f",
        "outputId": "8d9c774f-55fb-4889-8fe0-e91645237121"
      },
      "source": [
        "# 5 e 6\n",
        "a = np.insert(a, len(a), [0, 0, 0, 0], axis = 0)\n",
        "print(a)\n",
        "a.shape"
      ],
      "execution_count": 28,
      "outputs": [
        {
          "output_type": "stream",
          "name": "stdout",
          "text": [
            "[[0 0 0 0]\n",
            " [1 2 3 4]\n",
            " [5 6 7 8]\n",
            " [0 0 0 0]]\n"
          ]
        },
        {
          "output_type": "execute_result",
          "data": {
            "text/plain": [
              "(4, 4)"
            ]
          },
          "metadata": {},
          "execution_count": 28
        }
      ]
    },
    {
      "cell_type": "markdown",
      "metadata": {
        "id": "Jto4qfUVM89e"
      },
      "source": [
        "# **Aula 04: Numpy - Parte 02**"
      ]
    },
    {
      "cell_type": "markdown",
      "metadata": {
        "id": "dIsF9et9e9m4"
      },
      "source": [
        "## **6. Operações sobre Arrays**"
      ]
    },
    {
      "cell_type": "markdown",
      "metadata": {
        "id": "Ne-f_a9MiY6w"
      },
      "source": [
        "### **max()**: Retorna o valor máximo de um array"
      ]
    },
    {
      "cell_type": "code",
      "metadata": {
        "colab": {
          "base_uri": "https://localhost:8080/",
          "height": 0
        },
        "id": "VJ-rlDTZe9m_",
        "outputId": "7cd1176d-6620-41ff-e677-5d0850e46acd"
      },
      "source": [
        "a = np.random.rand(3)\n",
        "print(a)\n",
        "a.max()"
      ],
      "execution_count": 29,
      "outputs": [
        {
          "output_type": "stream",
          "name": "stdout",
          "text": [
            "[0.75225797 0.65594001 0.39247899]\n"
          ]
        },
        {
          "output_type": "execute_result",
          "data": {
            "text/plain": [
              "0.7522579659932921"
            ]
          },
          "metadata": {},
          "execution_count": 29
        }
      ]
    },
    {
      "cell_type": "markdown",
      "metadata": {
        "id": "t5pc6y93e9m_"
      },
      "source": [
        "### **min()**: Retorna o valor mínimo de um array"
      ]
    },
    {
      "cell_type": "code",
      "metadata": {
        "id": "UhwiS9ube9m_",
        "colab": {
          "base_uri": "https://localhost:8080/",
          "height": 0
        },
        "outputId": "5db28130-e387-4bd1-ce14-d248acff0b63"
      },
      "source": [
        "a = np.random.rand(3)\n",
        "print(a)\n",
        "a.min()"
      ],
      "execution_count": 30,
      "outputs": [
        {
          "output_type": "stream",
          "name": "stdout",
          "text": [
            "[0.65116117 0.01231949 0.14555125]\n"
          ]
        },
        {
          "output_type": "execute_result",
          "data": {
            "text/plain": [
              "0.012319493604852738"
            ]
          },
          "metadata": {},
          "execution_count": 30
        }
      ]
    },
    {
      "cell_type": "markdown",
      "metadata": {
        "id": "GtPnKR7Ye9nA"
      },
      "source": [
        "### **argmax()**: Retorna o índice do valor máximo de um array"
      ]
    },
    {
      "cell_type": "code",
      "metadata": {
        "id": "nHsbKY1be9nA",
        "colab": {
          "base_uri": "https://localhost:8080/",
          "height": 0
        },
        "outputId": "5f094038-182a-4681-f546-9d1b32e46abd"
      },
      "source": [
        "a = np.random.randint(0, 10, 5)\n",
        "print(a)\n",
        "print(a.argmax())"
      ],
      "execution_count": 31,
      "outputs": [
        {
          "output_type": "stream",
          "name": "stdout",
          "text": [
            "[4 2 6 4 5]\n",
            "2\n"
          ]
        }
      ]
    },
    {
      "cell_type": "markdown",
      "metadata": {
        "id": "FLIUQ-Pie9nA"
      },
      "source": [
        "### **argmin()**: Retorna o índice do valor mínimo de um array"
      ]
    },
    {
      "cell_type": "code",
      "metadata": {
        "id": "mE57N-CDe9nA",
        "colab": {
          "base_uri": "https://localhost:8080/",
          "height": 0
        },
        "outputId": "5ac6dd68-43c2-46ba-ab10-f0479ad657a1"
      },
      "source": [
        "a = np.random.rand(10)\n",
        "print(a)\n",
        "print(a.argmin())"
      ],
      "execution_count": 32,
      "outputs": [
        {
          "output_type": "stream",
          "name": "stdout",
          "text": [
            "[0.2040261  0.21379574 0.86770501 0.05288594 0.295702   0.32359513\n",
            " 0.23760663 0.5198658  0.84410515 0.41246346]\n",
            "3\n"
          ]
        }
      ]
    },
    {
      "cell_type": "markdown",
      "metadata": {
        "id": "m72FY0Qhe9nA"
      },
      "source": [
        "### **mean()**: Retorna o valor que representa a média dos elementos de um array"
      ]
    },
    {
      "cell_type": "code",
      "metadata": {
        "id": "rx0oobyDe9nA",
        "colab": {
          "base_uri": "https://localhost:8080/",
          "height": 0
        },
        "outputId": "af4112f6-32c4-4f80-95f2-6f894b81f9ae"
      },
      "source": [
        "a = np.random.randint(0, 100, 5)\n",
        "print(a)\n",
        "a.mean()"
      ],
      "execution_count": 33,
      "outputs": [
        {
          "output_type": "stream",
          "name": "stdout",
          "text": [
            "[ 6 14 63 72 10]\n"
          ]
        },
        {
          "output_type": "execute_result",
          "data": {
            "text/plain": [
              "33.0"
            ]
          },
          "metadata": {},
          "execution_count": 33
        }
      ]
    },
    {
      "cell_type": "markdown",
      "metadata": {
        "id": "3SKejLB3e9nA"
      },
      "source": [
        "### **unique()**: "
      ]
    },
    {
      "cell_type": "code",
      "metadata": {
        "id": "CgxMQange9nA",
        "colab": {
          "base_uri": "https://localhost:8080/",
          "height": 0
        },
        "outputId": "058da16e-9fc3-4027-e018-934af9e56ed6"
      },
      "source": [
        "a = np.random.randint(0, 7, 10)\n",
        "print(a)\n",
        "np.unique(a) #Retorna os elementos únicos do array a"
      ],
      "execution_count": 34,
      "outputs": [
        {
          "output_type": "stream",
          "name": "stdout",
          "text": [
            "[6 2 5 0 3 3 3 1 6 5]\n"
          ]
        },
        {
          "output_type": "execute_result",
          "data": {
            "text/plain": [
              "array([0, 1, 2, 3, 5, 6])"
            ]
          },
          "metadata": {},
          "execution_count": 34
        }
      ]
    },
    {
      "cell_type": "markdown",
      "metadata": {
        "id": "a9Ek6sexCmc1"
      },
      "source": [
        "### **max()**: Retorna o valor máximo de um array"
      ]
    },
    {
      "cell_type": "code",
      "metadata": {
        "id": "EN3aHINxPFA7",
        "colab": {
          "base_uri": "https://localhost:8080/",
          "height": 0
        },
        "outputId": "567a22f1-c6ca-400d-f9ca-15450319d1a9"
      },
      "source": [
        "a = np.random.rand(3)\n",
        "print(a)\n",
        "a.max()"
      ],
      "execution_count": 35,
      "outputs": [
        {
          "output_type": "stream",
          "name": "stdout",
          "text": [
            "[0.69466555 0.06906879 0.18815736]\n"
          ]
        },
        {
          "output_type": "execute_result",
          "data": {
            "text/plain": [
              "0.6946655505327061"
            ]
          },
          "metadata": {},
          "execution_count": 35
        }
      ]
    },
    {
      "cell_type": "markdown",
      "metadata": {
        "id": "iIlUlCjgO0zt"
      },
      "source": [
        "### **min()**: Retorna o valor mínimo de um array"
      ]
    },
    {
      "cell_type": "code",
      "metadata": {
        "id": "U8qA2-8DPlkc",
        "colab": {
          "base_uri": "https://localhost:8080/",
          "height": 0
        },
        "outputId": "7be91c0e-94c9-4ee4-876d-7cb5ac04b93a"
      },
      "source": [
        "a = np.random.rand(3)\n",
        "print(a)\n",
        "a.min()"
      ],
      "execution_count": 36,
      "outputs": [
        {
          "output_type": "stream",
          "name": "stdout",
          "text": [
            "[0.37968479 0.97331152 0.8936621 ]\n"
          ]
        },
        {
          "output_type": "execute_result",
          "data": {
            "text/plain": [
              "0.37968478720210896"
            ]
          },
          "metadata": {},
          "execution_count": 36
        }
      ]
    },
    {
      "cell_type": "markdown",
      "metadata": {
        "id": "tpEDtXo0O09r"
      },
      "source": [
        "### **argmax()**: Retorna o índice do valor máximo de um array"
      ]
    },
    {
      "cell_type": "code",
      "metadata": {
        "id": "Bkowj0ZSQGog",
        "colab": {
          "base_uri": "https://localhost:8080/",
          "height": 0
        },
        "outputId": "480f8e68-4fbb-4c7b-b795-8e668ca0be8f"
      },
      "source": [
        "a = np.random.randint(0, 10, 5)\n",
        "print(a)\n",
        "print(a.argmax())"
      ],
      "execution_count": 37,
      "outputs": [
        {
          "output_type": "stream",
          "name": "stdout",
          "text": [
            "[3 0 9 8 5]\n",
            "2\n"
          ]
        }
      ]
    },
    {
      "cell_type": "markdown",
      "metadata": {
        "id": "XRg31gFPO1GU"
      },
      "source": [
        "### **argmin()**: Retorna o índice do valor mínimo de um array"
      ]
    },
    {
      "cell_type": "code",
      "metadata": {
        "id": "e5d9FJ6GQuLd",
        "colab": {
          "base_uri": "https://localhost:8080/",
          "height": 0
        },
        "outputId": "99267a56-268e-4815-e95b-85dd7be6a4fc"
      },
      "source": [
        "a = np.random.rand(10)\n",
        "print(a)\n",
        "print(a.argmin())"
      ],
      "execution_count": 38,
      "outputs": [
        {
          "output_type": "stream",
          "name": "stdout",
          "text": [
            "[0.35203954 0.37485804 0.69136711 0.42924991 0.01993705 0.3978754\n",
            " 0.59644421 0.91535338 0.25269227 0.17467917]\n",
            "4\n"
          ]
        }
      ]
    },
    {
      "cell_type": "markdown",
      "metadata": {
        "id": "wpqwgcj1O1Px"
      },
      "source": [
        "### **mean()**: Retorna o valor que representa a média dos elementos de um array"
      ]
    },
    {
      "cell_type": "code",
      "metadata": {
        "id": "MipYFoJ7RCmp",
        "colab": {
          "base_uri": "https://localhost:8080/",
          "height": 0
        },
        "outputId": "c8f690c1-1df1-43dc-d9bc-7e6e834a07e3"
      },
      "source": [
        "a = np.random.randint(0, 100, 5)\n",
        "print(a)\n",
        "a.mean()"
      ],
      "execution_count": 39,
      "outputs": [
        {
          "output_type": "stream",
          "name": "stdout",
          "text": [
            "[10 54 18 33 77]\n"
          ]
        },
        {
          "output_type": "execute_result",
          "data": {
            "text/plain": [
              "38.4"
            ]
          },
          "metadata": {},
          "execution_count": 39
        }
      ]
    },
    {
      "cell_type": "markdown",
      "metadata": {
        "id": "sVAgalMAO2or"
      },
      "source": [
        "### **unique()**: "
      ]
    },
    {
      "cell_type": "code",
      "metadata": {
        "id": "jYGILr0dRNbu",
        "colab": {
          "base_uri": "https://localhost:8080/",
          "height": 0
        },
        "outputId": "e8512f52-1767-459c-a343-01507a47b299"
      },
      "source": [
        "a = np.random.randint(0, 7, 10)\n",
        "print(a)\n",
        "np.unique(a) #Retorna os elementos únicos do array a"
      ],
      "execution_count": 40,
      "outputs": [
        {
          "output_type": "stream",
          "name": "stdout",
          "text": [
            "[1 5 6 1 6 2 0 2 1 2]\n"
          ]
        },
        {
          "output_type": "execute_result",
          "data": {
            "text/plain": [
              "array([0, 1, 2, 5, 6])"
            ]
          },
          "metadata": {},
          "execution_count": 40
        }
      ]
    },
    {
      "cell_type": "markdown",
      "metadata": {
        "id": "Xef4qJ_Tn6PF"
      },
      "source": [
        "## **7. Números aleatórios**"
      ]
    },
    {
      "cell_type": "markdown",
      "metadata": {
        "id": "GH0B3oboOlNc"
      },
      "source": [
        "### **np.random.randint**: Gera números inteiros aleatórios no range especificado"
      ]
    },
    {
      "cell_type": "code",
      "metadata": {
        "id": "miJecoBtCZ94",
        "colab": {
          "base_uri": "https://localhost:8080/",
          "height": 0
        },
        "outputId": "2a0ad548-a79e-403d-c525-9b8894260012"
      },
      "source": [
        "a = np.random.randint(0,10)\n",
        "print(a)\n",
        "b = np.random.randint(0, 10, 10)\n",
        "print(b)"
      ],
      "execution_count": 41,
      "outputs": [
        {
          "output_type": "stream",
          "name": "stdout",
          "text": [
            "4\n",
            "[0 1 8 6 8 3 6 1 0 7]\n"
          ]
        }
      ]
    },
    {
      "cell_type": "markdown",
      "metadata": {
        "id": "qe_p75GJHUDV"
      },
      "source": [
        "### **np.random.rand**: Gera números reais aleatórios entre 0 e 1"
      ]
    },
    {
      "cell_type": "code",
      "metadata": {
        "id": "FOzaQ7P3Czue",
        "colab": {
          "base_uri": "https://localhost:8080/",
          "height": 0
        },
        "outputId": "d32a2dc4-78e3-46a4-c439-c7efe83cc6f3"
      },
      "source": [
        "a = np.random.rand()\n",
        "print(a)\n",
        "b = np.random.rand(10)\n",
        "print(b)"
      ],
      "execution_count": 42,
      "outputs": [
        {
          "output_type": "stream",
          "name": "stdout",
          "text": [
            "0.7851390202266852\n",
            "[0.15054207 0.08507474 0.95311091 0.1378107  0.55939523 0.77031127\n",
            " 0.67575186 0.81282276 0.71187258 0.60893834]\n"
          ]
        }
      ]
    },
    {
      "cell_type": "code",
      "metadata": {
        "id": "n71jMdFdDePX",
        "colab": {
          "base_uri": "https://localhost:8080/",
          "height": 0
        },
        "outputId": "5bc1c3e7-fe54-4e27-f2cb-2a0a6b2a21e2"
      },
      "source": [
        "# Criando matrizes com números aleatórios:\n",
        "c = np.random.rand(5, 5)\n",
        "print(c)\n",
        "# Transformando a matriz de reais em inteiros usando a função astype\n",
        "c = (c*10).astype(int)\n",
        "print(c)"
      ],
      "execution_count": 43,
      "outputs": [
        {
          "output_type": "stream",
          "name": "stdout",
          "text": [
            "[[1.95144231e-01 6.95814021e-01 4.60623517e-01 9.99023066e-02\n",
            "  3.81270462e-01]\n",
            " [4.89060395e-01 2.52518011e-01 5.62007419e-01 6.10677855e-01\n",
            "  3.46132703e-01]\n",
            " [4.73905894e-01 6.96506081e-01 1.48989939e-01 9.35010920e-01\n",
            "  4.01415900e-04]\n",
            " [5.49607987e-02 7.58145704e-01 8.43468633e-01 8.31999929e-01\n",
            "  3.71578593e-01]\n",
            " [1.05967335e-01 9.94708738e-01 4.42295826e-01 2.56022304e-01\n",
            "  9.45651241e-01]]\n",
            "[[1 6 4 0 3]\n",
            " [4 2 5 6 3]\n",
            " [4 6 1 9 0]\n",
            " [0 7 8 8 3]\n",
            " [1 9 4 2 9]]\n"
          ]
        }
      ]
    },
    {
      "cell_type": "markdown",
      "metadata": {
        "id": "nzVWIRSLoV8F"
      },
      "source": [
        "### **np.random.randn**: Gera uma matriz com as dimensões especificadas a partir de valores de uma distribuição normal padrão (Caso a curva normal não seja a padrão, usar a fórmula *dp * np.random.randn() + média*)"
      ]
    },
    {
      "cell_type": "code",
      "metadata": {
        "id": "Ftu46qPBNU0z",
        "colab": {
          "base_uri": "https://localhost:8080/",
          "height": 0
        },
        "outputId": "0b815fee-3b3d-46b8-9318-12ac737648c9"
      },
      "source": [
        "a = np.random.randn(3, 3)\n",
        "a"
      ],
      "execution_count": 44,
      "outputs": [
        {
          "output_type": "execute_result",
          "data": {
            "text/plain": [
              "array([[ 0.40576456,  0.64944389, -0.10315239],\n",
              "       [ 0.64235488,  0.99211446, -0.26993654],\n",
              "       [ 0.18855817,  1.35466215,  0.32037022]])"
            ]
          },
          "metadata": {},
          "execution_count": 44
        }
      ]
    },
    {
      "cell_type": "code",
      "metadata": {
        "id": "3_TjXzLZNfqI",
        "colab": {
          "base_uri": "https://localhost:8080/",
          "height": 0
        },
        "outputId": "1b5320b5-7461-463d-e2fd-e683e4a12b78"
      },
      "source": [
        "# Gerando uma matriz 3x3 a partir de valores de uma distribuição normal de média = 10 e dp = 2 (olhar a fórmula)\n",
        "a = 2 * np.random.randn(3, 3) + 10\n",
        "a"
      ],
      "execution_count": 45,
      "outputs": [
        {
          "output_type": "execute_result",
          "data": {
            "text/plain": [
              "array([[13.9846843 ,  8.58691929,  6.02974624],\n",
              "       [12.91617969,  8.65667143, 10.99159135],\n",
              "       [11.95478476, 10.57248194,  6.51818091]])"
            ]
          },
          "metadata": {},
          "execution_count": 45
        }
      ]
    },
    {
      "cell_type": "markdown",
      "metadata": {
        "id": "LUXsJkxbCQxj"
      },
      "source": [
        "## **Exercícios**"
      ]
    },
    {
      "cell_type": "markdown",
      "metadata": {
        "id": "dSAY7jC2ol_l"
      },
      "source": [
        "**Exercício 3:**\n",
        "a) Gere um array de 25 elementos, começando no elemento 1 até o elemento 25\n",
        "b) Converter em uma matriz 5x5\n",
        "c) Substituir os elementos pares por 0 e ímpares por 1\n",
        "d) Calcule quantos elementos ímpares existem em cada linha."
      ]
    },
    {
      "cell_type": "code",
      "metadata": {
        "id": "3CbfeYYBo9gm",
        "colab": {
          "base_uri": "https://localhost:8080/",
          "height": 0
        },
        "outputId": "8196853d-05f7-4261-a0b5-d611974e5623"
      },
      "source": [
        "#a\n",
        "a = np.arange(1, 26, dtype = int)\n",
        "a"
      ],
      "execution_count": 46,
      "outputs": [
        {
          "output_type": "execute_result",
          "data": {
            "text/plain": [
              "array([ 1,  2,  3,  4,  5,  6,  7,  8,  9, 10, 11, 12, 13, 14, 15, 16, 17,\n",
              "       18, 19, 20, 21, 22, 23, 24, 25])"
            ]
          },
          "metadata": {},
          "execution_count": 46
        }
      ]
    },
    {
      "cell_type": "code",
      "metadata": {
        "id": "Qx2EwVb6pWR1",
        "colab": {
          "base_uri": "https://localhost:8080/",
          "height": 0
        },
        "outputId": "33d7afa0-59fe-4985-e6ea-65a074b2a161"
      },
      "source": [
        "#b\n",
        "print(a)\n",
        "print(a.shape)\n",
        "a = np.reshape(a, (5,5))\n",
        "print(a)\n",
        "print(a.shape)"
      ],
      "execution_count": 47,
      "outputs": [
        {
          "output_type": "stream",
          "name": "stdout",
          "text": [
            "[ 1  2  3  4  5  6  7  8  9 10 11 12 13 14 15 16 17 18 19 20 21 22 23 24\n",
            " 25]\n",
            "(25,)\n",
            "[[ 1  2  3  4  5]\n",
            " [ 6  7  8  9 10]\n",
            " [11 12 13 14 15]\n",
            " [16 17 18 19 20]\n",
            " [21 22 23 24 25]]\n",
            "(5, 5)\n"
          ]
        }
      ]
    },
    {
      "cell_type": "code",
      "metadata": {
        "id": "qlgnHwb0qX0e",
        "colab": {
          "base_uri": "https://localhost:8080/",
          "height": 0
        },
        "outputId": "42708bf4-4216-4b7d-95f3-7e66d14e382a"
      },
      "source": [
        "#c\n",
        "print(a)\n",
        "a = np.where(a % 2 == 0, 0, a)\n",
        "print(a)\n",
        "a = np.where(a % 2 == 1, 1, a)\n",
        "\n",
        "# Também é possível resolver da seguinte maneira: a[a % 2 == 0] = 0 e a[a % 2 == 1] = 1\n",
        "print(a)"
      ],
      "execution_count": 48,
      "outputs": [
        {
          "output_type": "stream",
          "name": "stdout",
          "text": [
            "[[ 1  2  3  4  5]\n",
            " [ 6  7  8  9 10]\n",
            " [11 12 13 14 15]\n",
            " [16 17 18 19 20]\n",
            " [21 22 23 24 25]]\n",
            "[[ 1  0  3  0  5]\n",
            " [ 0  7  0  9  0]\n",
            " [11  0 13  0 15]\n",
            " [ 0 17  0 19  0]\n",
            " [21  0 23  0 25]]\n",
            "[[1 0 1 0 1]\n",
            " [0 1 0 1 0]\n",
            " [1 0 1 0 1]\n",
            " [0 1 0 1 0]\n",
            " [1 0 1 0 1]]\n"
          ]
        }
      ]
    },
    {
      "cell_type": "code",
      "metadata": {
        "id": "QeDU1imHrWDv",
        "colab": {
          "base_uri": "https://localhost:8080/",
          "height": 0
        },
        "outputId": "45d52002-df01-43f6-e9eb-8794a3282de2"
      },
      "source": [
        "#d\n",
        "#Solução manual\n",
        "contador = np.array([], dtype = int)\n",
        "for i in a:\n",
        "  cont = 0\n",
        "  for j in i:\n",
        "    if j % 2 == 1:\n",
        "      cont += 1\n",
        "  contador = np.insert(contador, 0, cont)\n",
        "print(contador)\n",
        "\n",
        "#Solução usando o comando sum\n",
        "print(a.sum(axis = 1))"
      ],
      "execution_count": 49,
      "outputs": [
        {
          "output_type": "stream",
          "name": "stdout",
          "text": [
            "[3 2 3 2 3]\n",
            "[3 2 3 2 3]\n"
          ]
        }
      ]
    },
    {
      "cell_type": "markdown",
      "metadata": {
        "id": "3PYkUmFGwOiq"
      },
      "source": [
        "**Exercício 4**: Calcular o volume do cilindro, dado raio = 10 e altura = 50"
      ]
    },
    {
      "cell_type": "code",
      "metadata": {
        "id": "K7KsgFy3xJb_",
        "colab": {
          "base_uri": "https://localhost:8080/",
          "height": 0
        },
        "outputId": "bd3bbd66-f283-4ae7-c9f4-ce50dbcb13ac"
      },
      "source": [
        "raio = 10\n",
        "altura = 50\n",
        "\n",
        "volume = np.pi * (raio ** 2) * altura\n",
        "print(volume) "
      ],
      "execution_count": 50,
      "outputs": [
        {
          "output_type": "stream",
          "name": "stdout",
          "text": [
            "15707.963267948966\n"
          ]
        }
      ]
    },
    {
      "cell_type": "markdown",
      "metadata": {
        "id": "RxHPV61oxjtb"
      },
      "source": [
        "**Exercício 5**: Calcular o volume de 5 cilindros, dados\n",
        "raios = [10, 15, 11, 17, 19]\n",
        "alturas = [100, 120, 115, 140, 180]"
      ]
    },
    {
      "cell_type": "code",
      "metadata": {
        "id": "nlIwY3aBydWu",
        "colab": {
          "base_uri": "https://localhost:8080/",
          "height": 0
        },
        "outputId": "f2ced685-0efd-4cbe-abe2-28ff7be79fd3"
      },
      "source": [
        "raios = np.array([10, 15, 11, 17, 19])\n",
        "alturas = np.array([100, 120, 115, 140, 180])\n",
        "volumes = (raios ** 2) * np.pi * alturas\n",
        "print(volumes)"
      ],
      "execution_count": 51,
      "outputs": [
        {
          "output_type": "stream",
          "name": "stdout",
          "text": [
            "[ 31415.9265359   84823.00164692  43715.2617747  127108.83876424\n",
            " 204140.69063026]\n"
          ]
        }
      ]
    },
    {
      "cell_type": "markdown",
      "metadata": {
        "id": "Xj_m4J_H--VO"
      },
      "source": [
        "**Exercício 6**: Utilize o NumPy para calcular a distância Euclidiana  entre os vetores x = (2,8) e y = (9,1)"
      ]
    },
    {
      "cell_type": "code",
      "metadata": {
        "id": "CjF2AdAq-KF9",
        "colab": {
          "base_uri": "https://localhost:8080/",
          "height": 0
        },
        "outputId": "afc66713-c22f-4a76-8bcb-f0b15c3a93bc"
      },
      "source": [
        "x = np.array([2, 8])\n",
        "y = np.array([9, 1])\n",
        "d = np.sqrt(np.sum((x - y)**2))\n",
        "d"
      ],
      "execution_count": 52,
      "outputs": [
        {
          "output_type": "execute_result",
          "data": {
            "text/plain": [
              "9.899494936611665"
            ]
          },
          "metadata": {},
          "execution_count": 52
        }
      ]
    },
    {
      "cell_type": "markdown",
      "metadata": {
        "id": "FVHFP6mREFoU"
      },
      "source": [
        "**Exercício 7**: Simule 20 arremessos de um dado de 6 faces • Conte quantas vezes o número 5 apareceu nesses 20  arremessos"
      ]
    },
    {
      "cell_type": "code",
      "metadata": {
        "id": "yEBhmGYN_AQN",
        "colab": {
          "base_uri": "https://localhost:8080/",
          "height": 0
        },
        "outputId": "7299a358-1c9e-4e1b-d475-6c092e0b0f82"
      },
      "source": [
        "np.random.seed(1)\n",
        "tentativas = np.random.choice(a = [1, 2, 3, 4, 5, 6], size = 20, p = [1/6, 1/6, 1/6, 1/6, 1/6, 1/6])\n",
        "print(tentativas)\n",
        "tentativas[tentativas != 5] = 0\n",
        "tentativas[tentativas == 5] = 1\n",
        "tentativas.sum()\n",
        "#Esse método altera o vetor original\n"
      ],
      "execution_count": 53,
      "outputs": [
        {
          "output_type": "stream",
          "name": "stdout",
          "text": [
            "[3 5 1 2 1 1 2 3 3 4 3 5 2 6 1 5 3 4 1 2]\n"
          ]
        },
        {
          "output_type": "execute_result",
          "data": {
            "text/plain": [
              "3"
            ]
          },
          "metadata": {},
          "execution_count": 53
        }
      ]
    },
    {
      "cell_type": "markdown",
      "metadata": {
        "id": "Ln3XFusa9fMw"
      },
      "source": [
        "**Exercício 8**:\n",
        "Construir uma tabela que representa os dados de um grupo  de 10 pessoas.\n",
        "Cada pessoa será representada como uma linha da tabela, e  as características de cada pessoa são descritas nas colunas.\n",
        "Considerar as seguintes colunas:\n",
        "*   Idade: Média 30.0, desvio padrão 5\n",
        "*   Peso: Média 60.0, desvio padrão 3\n",
        "*   Altura: Média 1.70, desvio padrão 0.20 \n",
        "\n",
        "*   Salario: Média 2000.0, desvio padrão 500\n",
        "\n",
        "• Após a construção da tabela, calcule e exiba o valor máximo e  o mínimo de \n",
        "cada característica "
      ]
    },
    {
      "cell_type": "code",
      "metadata": {
        "id": "LzIlhMp5FE1y",
        "colab": {
          "base_uri": "https://localhost:8080/",
          "height": 0
        },
        "outputId": "ce805adb-5bd4-435d-a72c-1ac4b1419639"
      },
      "source": [
        "# Ajustando configurações de ponto flutuante e exibição de notação científica\n",
        "np.set_printoptions(precision = 2, suppress = True)\n",
        "\n",
        "#Construindo as colunas de acordo com as distribuições informadas:\n",
        "idade = 5 * np.random.randn(10) + 30\n",
        "peso = 3 * np.random.randn(10) + 60\n",
        "altura = 0.2 * np.random.randn(10) + 1.7\n",
        "salario = 500 * np.random.randn(10) + 2000\n",
        "\n",
        "# Inserindo os vetores criados como colunas em um array pessoas\n",
        "pessoas = idade.reshape(10, 1)\n",
        "print(\"idade\\n\",pessoas)\n",
        "pessoas = np.insert(pessoas, 1, peso, axis = 1)\n",
        "print(\"idade, peso\\n\",pessoas)\n",
        "pessoas = np.insert(pessoas, 2, altura, axis = 1)\n",
        "print(\"idade, peso, altura\\n\",pessoas)\n",
        "pessoas = np.insert(pessoas, 3, salario, axis = 1)\n",
        "print(\"idade, peso, altura, salario\\n\",pessoas)\n",
        "\n",
        "# Calculando o valor máximo e mínimo de cada característica:\n",
        "print(\"Valores máximos\\n\",pessoas.max(axis = 0))\n",
        "print(\"Valores mínimos\\n\",pessoas.min(axis = 0))\n",
        "\n",
        "#Adicional: Criar conjunto de treino e conjunto de teste\n",
        "split = 8\n",
        "treino = pessoas[:split, :]\n",
        "teste = pessoas [split:, :]\n",
        "print(\"Conjunto treino\\n\",treino)\n",
        "print(\"Conjunto teste\\n\",teste)"
      ],
      "execution_count": 54,
      "outputs": [
        {
          "output_type": "stream",
          "name": "stdout",
          "text": [
            "idade\n",
            " [[35.67]\n",
            " [24.5 ]\n",
            " [29.14]\n",
            " [25.61]\n",
            " [30.21]\n",
            " [32.91]\n",
            " [24.5 ]\n",
            " [35.72]\n",
            " [34.51]\n",
            " [32.51]]\n",
            "idade, peso\n",
            " [[35.67 62.7 ]\n",
            " [24.5  57.95]\n",
            " [29.14 59.63]\n",
            " [25.61 57.19]\n",
            " [30.21 59.2 ]\n",
            " [32.91 61.59]\n",
            " [24.5  57.93]\n",
            " [35.72 58.81]\n",
            " [34.51 57.94]\n",
            " [32.51 57.46]]\n",
            "idade, peso, altura\n",
            " [[35.67 62.7   1.57]\n",
            " [24.5  57.95  1.7 ]\n",
            " [29.14 59.63  1.48]\n",
            " [25.61 57.19  1.75]\n",
            " [30.21 59.2   2.03]\n",
            " [32.91 61.59  1.85]\n",
            " [24.5  57.93  1.66]\n",
            " [35.72 58.81  1.52]\n",
            " [34.51 57.94  1.55]\n",
            " [32.51 57.46  2.04]]\n",
            "idade, peso, altura, salario\n",
            " [[  35.67   62.7     1.57 2025.4 ]\n",
            " [  24.5    57.95    1.7  1681.5 ]\n",
            " [  29.14   59.63    1.48 2095.46]\n",
            " [  25.61   57.19    1.75 3050.13]\n",
            " [  30.21   59.2     2.03 2060.08]\n",
            " [  32.91   61.59    1.85 2308.6 ]\n",
            " [  24.5    57.93    1.66 2150.09]\n",
            " [  35.72   58.81    1.52 1823.88]\n",
            " [  34.51   57.94    1.55 1428.74]\n",
            " [  32.51   57.46    2.04 1825.33]]\n",
            "Valores máximos\n",
            " [  35.72   62.7     2.04 3050.13]\n",
            "Valores mínimos\n",
            " [  24.5    57.19    1.48 1428.74]\n",
            "Conjunto treino\n",
            " [[  35.67   62.7     1.57 2025.4 ]\n",
            " [  24.5    57.95    1.7  1681.5 ]\n",
            " [  29.14   59.63    1.48 2095.46]\n",
            " [  25.61   57.19    1.75 3050.13]\n",
            " [  30.21   59.2     2.03 2060.08]\n",
            " [  32.91   61.59    1.85 2308.6 ]\n",
            " [  24.5    57.93    1.66 2150.09]\n",
            " [  35.72   58.81    1.52 1823.88]]\n",
            "Conjunto teste\n",
            " [[  34.51   57.94    1.55 1428.74]\n",
            " [  32.51   57.46    2.04 1825.33]]\n"
          ]
        }
      ]
    },
    {
      "cell_type": "markdown",
      "metadata": {
        "id": "Xhnp7og2iAxa"
      },
      "source": [
        "# **Aula 05 - Espaços Vetoriais**"
      ]
    },
    {
      "cell_type": "markdown",
      "metadata": {
        "id": "4Zftqr_2e9m_"
      },
      "source": [
        "### Aula teórica (espaço vetorial)"
      ]
    },
    {
      "cell_type": "markdown",
      "metadata": {
        "id": "sIfRw1LcNCRf"
      },
      "source": [
        "# **Aula 06 - Bases Vetoriais**"
      ]
    },
    {
      "cell_type": "markdown",
      "metadata": {
        "id": "Wf0bHlv7rHsl"
      },
      "source": [
        "### Aula teórica (Base vetorial)\n",
        "\n",
        "Ver [Revisão: Espaço Vetorial e Base Vetorial (aula 07)](https://colab.research.google.com/drive/1JVoNdmzx0boRhMW6orQw3W7lfuNG6dve#scrollTo=eYzxLqVICoOn)"
      ]
    },
    {
      "cell_type": "markdown",
      "metadata": {
        "id": "xe1qanw5NFJV"
      },
      "source": [
        "# **Aula 07: Matrizes - parte 1**"
      ]
    },
    {
      "cell_type": "markdown",
      "metadata": {
        "id": "eYzxLqVICoOn"
      },
      "source": [
        "## **Revisão: Espaço Vetorial e Base Vetorial**"
      ]
    },
    {
      "cell_type": "markdown",
      "metadata": {
        "id": "I4Z7FPQyCVsX"
      },
      "source": [
        "### **Espaço Vetorial**\n"
      ]
    },
    {
      "cell_type": "markdown",
      "metadata": {
        "id": "D3cDzWwaeQLI"
      },
      "source": [
        "Um espaço vetorial V consiste em um conjunto não vazio de objetos que podem ser somados e multiplicados por um número que pertence a um conjunto determinado, satisfazendo as seguintes propriedades de soma e multiplicação:\n",
        "\n",
        "Soma:\n",
        "1.   $\\vec{u}$,$\\vec{v}$ ∈ V: $\\vec{u}$ + $\\vec{v}$ ∈ V\n",
        "2.   Propriedade comutativa: $\\vec{u}$ + $\\vec{v}$ = $\\vec{v}$ + $\\vec{u}$\n",
        "3.   Propriedade associativa: ($\\vec{u}$ + $\\vec{v}$) + $\\vec{w}$ = ($\\vec{w}$ + $\\vec{v}$) + $\\vec{u}$\n",
        "4. Elemento neutro: ∃ $\\vec{0}$ ∈ V | $\\vec{v}$ + $\\vec{0}$ = $\\vec{v}$ ∀ $\\vec{v}$\n",
        "5. Elemento oposto: $\\vec{v}$ + ($\\vec{-v}$) = $\\vec{0}$\n",
        "\n",
        "\n",
        "Multiplicação\n",
        "1.   ${x}_{1}$ ∈ V, x ∈ U | $\\vec{v}$ * x ∈ V\n",
        "2.   Propriedade distributiva: x * ($\\vec{v}$ + $\\vec{w}$) = x * $\\vec{v}$ + x * $\\vec{w}$\n",
        "3.  Propriedade associativa: $\\vec{v}$ (${x}_{1}$ * ${x}_{2}$) = ${x}_{1}$ ($\\vec{v}$ * ${x}_{2}$)\n",
        "4. 1 * $\\vec{v}$ = $\\vec{v}$"
      ]
    },
    {
      "cell_type": "markdown",
      "metadata": {
        "id": "5aOAHUCePrVu"
      },
      "source": [
        "### **Combinação Linear**\n",
        "\n"
      ]
    },
    {
      "cell_type": "markdown",
      "metadata": {
        "id": "D7DQ0em1aGDI"
      },
      "source": [
        "**Definição:** É o ato de gerar um vetor à partir de outros usando pesos (esses pesos na verdade são chamados de constantes, e são escalares que multiplicam os vetores)\n",
        "\n",
        "Por exemplo: Dados $\\vec{{v}_{1}}$, $\\vec{{v}_{2}}$ e $\\vec{{v}_{3}}$, obtenha vetores $\\vec{y}$ à partir de uma combinação linear.\n",
        "\n",
        "Solução:\n",
        "\n",
        "CL1: $\\vec{y}$ = 2$\\vec{{v}_{1}}$ + 3$\\vec{{v}_{2}}$ + $\\vec{{v}_{3}}$\n",
        "\n",
        "CL2: $\\vec{y}$ = 5$\\vec{{v}_{1}}$ - 9$\\vec{{v}_{2}}$ + 10$\\vec{{v}_{3}}$\n",
        "\n",
        "$$ {CL}_{n}: \\vec{y} = {C}_{1}*\\vec{{v}_{1}} + {C}_{2}*\\vec{{v}_{2}} + {C}_{3}*\\vec{{v}_{3}} + ... +  {C}_{n}*\\vec{{v}_{n}} $$\n",
        "\n",
        "Obs: Os pesos (nesse caso ${C}_{1}$, ${C}_{2}$ e ${C}_{3}$) que multiplicam os vetores pré-estabelecidos da combinação linear devem sempre ser escalares.\n",
        "\n",
        "\n",
        "---\n",
        "\n",
        "\n",
        "**Exercício:** O vetor $\\vec{v} = [8, -2]$ é combinação linear de $\\vec{{v}_{1}} = [1, 1]$ e $\\vec{{v}_{2}} = [1, -1]$\n",
        "\n",
        "\\\\\n",
        "Solução:\\\n",
        "Utilizando a \"fórmula\" geral apresentada acima...\\\n",
        "${CL}_{n}: \\vec{y} = {C}_{1}*\\vec{{v}_{1}} + {C}_{2}*\\vec{{v}_{2}} + {C}_{3}*\\vec{{v}_{3}} + ... +  {C}_{n}*\\vec{{v}_{n}}$\n",
        "\n",
        "\n",
        "Temos a seguinte equação:\\\n",
        "$\\begin{bmatrix}\n",
        "    8 \\\\\n",
        "    -2\\\\\n",
        "\\end{bmatrix} = {C}_{1} * \\begin{bmatrix}\n",
        "    1 \\\\\n",
        "    1\\\\\n",
        "\\end{bmatrix} +  {C}_{2} * \\begin{bmatrix}\n",
        "    1 \\\\\n",
        "    -1\\\\\n",
        "\\end{bmatrix}$\n",
        "\n",
        "\n",
        "Caímos em um sistema linear:\\\n",
        "$\n",
        "\\begin{equation}\n",
        "  \\begin{cases}\n",
        "    {C}_{1} + {C}_{2} = 8\\\\\n",
        "    {C}_{1} - {C}_{2} = -2\\\\\n",
        "  \\end{cases}\n",
        "\\end{equation}\n",
        "$\n",
        "\n",
        "Resolvendo o sistema linear, temos que  ${C}_{1}$ = 3, ${C}_{2}$ = 5. Esses são os pesos para que a combinação linear de $\\vec{{v}_{1}}$ e $\\vec{{v}_{2}}$ resulte no vetor $\\vec{v}$"
      ]
    },
    {
      "cell_type": "markdown",
      "metadata": {
        "id": "dZoqQPEHxITn"
      },
      "source": [
        "#### **Dependência Linear**"
      ]
    },
    {
      "cell_type": "markdown",
      "metadata": {
        "id": "e_qRhB2oZc95"
      },
      "source": [
        "**Vetores linearmente dependentes:**\n",
        "São vetores que podem ser obtidos através de uma combinação linear de vetores do conjunto V, enquanto vetores linearmente independentes não podem ser obtidos através de combinação linear de vetores de V.\n",
        "\n",
        "Na prática, vetores linearmente dependentes são paralelos (possuem a mesma direção), enquanto vetores linearmente independentes não são paralelos.\n",
        "\n",
        "---\n",
        "**Como saber se dois ou mais vetores são L.I. (linearmente independentes)?**\n",
        " \n",
        "\n",
        "*   **Método 1:** Se a C.L. desses vetores em um vetor nulo tiver como resultado das constantes **apenas** a solução trivial (${C}_{1} = {C}_{2} = {C}_{3} = ... = {C}_{n} = 0$)\n",
        "\n",
        "\n",
        "*   **Método 2:** Caso **não** haja uma razão constante entre cada componente dos vetores.\\\n",
        "Por exemplo, os vetores $\\vec{{v}_{1}} = \\begin{bmatrix}\n",
        "    1 \\\\\n",
        "    5\\\\\n",
        "    7\\\\\n",
        "\\end{bmatrix}$ e $\\vec{{v}_{2}} = \\begin{bmatrix}\n",
        "    2 \\\\\n",
        "    10\\\\\n",
        "    14\\\\\n",
        "\\end{bmatrix}$ são L.D. pois possuem uma mesma razão r entre cada elemento correspondente (r = 1/2 = 5/10 = 7/14)\n",
        "\n",
        "\n",
        "*    **Método 3:** Por último, o determinante da matriz composta pelos vetores analisados deve ser $\\neq 0$"
      ]
    },
    {
      "cell_type": "markdown",
      "metadata": {
        "id": "nCDIEHqORNpY"
      },
      "source": [
        "### **Base vetorial**\n",
        "\n"
      ]
    },
    {
      "cell_type": "markdown",
      "metadata": {
        "id": "d8TBFOuneTfP"
      },
      "source": [
        "Um conjunto de vetores {$\\vec{{v}_{1}}$, $\\vec{{v}_{2}}$, $\\vec{{v}_{3}}$, ..., $\\vec{{v}_{n}}$} pertencentes ao espaço vetorial V será chamado de base de V, se respeitarem as seguintes propriedades:\n",
        "\n",
        "\n",
        "*   I- **{$\\vec{{v}_{1}}$, $\\vec{{v}_{2}}$, $\\vec{{v}_{3}}$, ..., $\\vec{{v}_{n}}$} são L.I. (Linearmente Independentes)**\n",
        "*   II- **[$\\vec{{v}_{1}}$, $\\vec{{v}_{2}}$, $\\vec{{v}_{3}}$, ..., $\\vec{{v}_{n}}$] é conjunto gerador de V**\n",
        "*   III- **Os vetores do conjunto precisam ter a mesma dimensão e o número de vetores do conjunto deve ser igual ou superior ao número de componentes (dimensão) dos vetores.**\n",
        "\n",
        "Obs: O uso de chaves na segunda propriedade indica obrigatoriamente CONJUNTO GERADOR, que é o nome dado ao conjunto de vetores que consegue, através de CL, gerar qualquer vetor de V."
      ]
    },
    {
      "cell_type": "markdown",
      "metadata": {
        "id": "NdTXfPeDi43e"
      },
      "source": [
        "####**Exercício 1:** O conjunto {$\\vec{{e}_{1}}$, $\\vec{{e}_{2}}$}, com $\\vec{{e}_{1}}$ = (1, 0) e $\\vec{{e}_{2}}$ = (0, 1) é uma base de $\\mathbb{R}^{2}$. Essa base é chamada de base canônica de $\\mathbb{R}^{2}$"
      ]
    },
    {
      "cell_type": "markdown",
      "metadata": {
        "id": "P74G3s6r9K3E"
      },
      "source": [
        "**Resposta:**\\\n",
        "Para que o conjunto apresentado seja de fato uma base de $\\mathbb{R}^{2}$, as propriedades vistas devem ser confirmadas:\n",
        "\n",
        "\n",
        "**Propriedade I**- Para checar se são linearmente independentes, uma das formas vistas é verificar se o determinante da matriz composta pelos vetores seja diferente de zero:\\\n",
        "$A = \\begin{bmatrix}\n",
        "    1 & 0\\\\\n",
        "    0 & 1\\\\\n",
        "\\end{bmatrix}$\\\n",
        "det(A) = 1 - 0 = 1, logo os vetores da base canônica do espaço vetorial apresentado ($\\mathbb{R}^{2}$) são L.I. (linearmente independentes)\n",
        "\n",
        "\\\n",
        "\n",
        "**Propriedade II**- Para checar se é conjunto gerador (ou seja, podem formar outros vetores através de combinações lineares), utilizemos uma forma genérica de representar um vetor qualquer de $\\mathbb{R}^{2}$, $\\vec{v} = [x, y]$. Precisamos verificar se a base canônica é geradora de $\\vec{v}$. Para isso utilizamos a fórmula vista da combinação linear:\\\n",
        "$\\begin{bmatrix}\n",
        "    x \\\\\n",
        "    y \\\\\n",
        "\\end{bmatrix} = {C}_{1} . \\begin{bmatrix}\n",
        "    1 \\\\\n",
        "    0 \\\\\n",
        "\\end{bmatrix} + {C}_{2} . \\begin{bmatrix}\n",
        "    0 \\\\\n",
        "    1 \\\\\n",
        "\\end{bmatrix}$\n",
        "\n",
        "\n",
        "$\n",
        "\\begin{equation}\n",
        "  \\begin{cases}\n",
        "    {C}_{1} + 0 = x\\\\\n",
        "    {C}_{2} + 0 = y\\\\\n",
        "  \\end{cases}\n",
        "\\end{equation} \\iff {C}_{1} = x, {C}_{2} = y\n",
        "$\n",
        "\n",
        "Vemos que os pesos dos vetores da base são respectivamente iguais a x e y. Logo, qualquer vetor contido em $\\mathbb{R}^{2}$ pode ser obtido através de C.L. dos vetores da base canônica (em $\\mathbb{R}^{2}$, são $[0, 1]$ e $[1, 0]$).\n",
        "\n",
        "\\\n",
        "\n",
        "**Propriedade III**- Os vetores possuem a mesma dimensão (ambos são bidimensionais) e o número de vetores contidos na base é igual à dimensionalidade dos vetores.\n",
        "\n",
        "\\\n",
        "Por isso, ao confirmar as propriedades, podemos dizer que o conjunto $[ [1, 0], [0, 1]]$ é gerador e, portanto, é base vetorial de $\\mathbb{R}^{2}$"
      ]
    },
    {
      "cell_type": "markdown",
      "metadata": {
        "id": "GJnFsi8Irukx"
      },
      "source": [
        "####**Exercício 2:** Verifique que o conjunto {$\\vec{{v}_{1}}$, $\\vec{{v}_{2}}$}, com $\\vec{{v}_{1}}$ = (1, 1) e $\\vec{{v}_{2}}$ = (2, -1) é uma base de $\\mathbb{R}^{2}$\\\n"
      ]
    },
    {
      "cell_type": "markdown",
      "metadata": {
        "id": "igWkx3gQ9bee"
      },
      "source": [
        "**Resposta:**\n",
        "Assim como no exercício 1, checamos as propriedades de bases vetoriais:\n",
        "*   **Propriedade 1:**\\\n",
        "$A = \\begin{bmatrix}\n",
        "    1 & 1\\\\\n",
        "    2 & -1\\\\\n",
        "\\end{bmatrix}$\\\n",
        "det(A) = -1 -2 = -3\\\n",
        "Determinante da matriz é diferente de zero, então são linearmente independentes\n",
        "*   **Propriedade 2:**\\\n",
        "$\\begin{bmatrix}\n",
        "    x \\\\\n",
        "    y \\\\\n",
        "\\end{bmatrix} = {C}_{1} . \\begin{bmatrix}\n",
        "    1 \\\\\n",
        "    1 \\\\\n",
        "\\end{bmatrix} + {C}_{2} . \\begin{bmatrix}\n",
        "    2 \\\\\n",
        "    -1 \\\\\n",
        "\\end{bmatrix}$\n",
        "\n",
        "$\n",
        "\\begin{equation}\n",
        "  \\begin{cases}\n",
        "    {C}_{1} + 2{C}_{2} = x\\\\\n",
        "    {C}_{1} - {C}_{2} = y\\\\\n",
        "  \\end{cases}\n",
        "\\end{equation} \\iff {C}_{1} = \\frac{x + 2y}{3}, {C}_{2} = \\frac{x - y}{3}\n",
        "$\n",
        "\n",
        "Como existem valores em $\\mathbb{R}^{2}$ que satisfazem as constantes, então dizemos que o conjunto é gerador, portanto uma base vetorial de $\\mathbb{R}^{2}$\n",
        "\n",
        "*   **Propriedade 3:**\\\n",
        "Também está satisfeita pois existem dois vetores no conjunto gerador (ambos bidimensionais)"
      ]
    },
    {
      "cell_type": "markdown",
      "metadata": {
        "id": "QAxzJVODfT0K"
      },
      "source": [
        "## **Conteúdo da Aula:**"
      ]
    },
    {
      "cell_type": "markdown",
      "metadata": {
        "id": "-ARnNXbd8n-f"
      },
      "source": [
        "**Resolvendo sistemas lineares utilizando matrizes:**\\\n",
        "É necessário que a matriz seja quadrática (1x1, 2x2, 3x3, 4x4, ...) e o seu determinante seja diferente de zero.\\\n",
        "Para resolver o sistema, basta calcular cada variável v como det(v) / det(m). Exemplo:\n",
        "\n",
        "Tenhamos o seguinte sistema linear:\\\n",
        "$\n",
        "\\begin{equation}\n",
        "  \\begin{cases}\n",
        "    x + y + z = 6\\\\\n",
        "    x + 2y + 2z = 9\\\\\n",
        "    2x + y + 3z = 11\n",
        "  \\end{cases}\n",
        "\\end{equation}\n",
        "$\n",
        "\n",
        "O valor de x, por exemplo, será expresso por det(x)/det(m), sendo:\\\n",
        "**m** a matriz composta pelos coeficientes das variáveis do sistema linear (aqui são os valores que acompanham x, y e z);\\\n",
        "**x** a matriz composta pelos coeficientes das variáveis y e z junto aos resultados das equações substituindo onde estariam os coeficientes de x.\n",
        "\n",
        "$M = \\begin{bmatrix}\n",
        "    1 & 1 & 1\\\\\n",
        "    1 & 2 & 2\\\\\n",
        "    2 & 1 & 3\n",
        "\\end{bmatrix}$\\\n",
        "$X = \\begin{bmatrix}\n",
        "    6 & 1 & 1\\\\\n",
        "    9 & 2 & 2\\\\\n",
        "    11 & 1 & 3\n",
        "\\end{bmatrix}$\n",
        "\n",
        "x, portanto será expresso pelo determinante da matriz x dividido pelo determinante da matriz M, ou seja, x = $\\frac{det(x)}{det(m)}$\n",
        "\n",
        "O mesmo raciocínio vale para as variáveis restantes do sistema linear.\\\n",
        "Nesse caso, y = $\\frac{det(y)}{det(m)}$ e z = $\\frac{det(z)}{det(m)}$\n",
        "\n",
        "Obs: A título de consulta, a matriz y e a matriz z são as seguintes\\\n",
        "$Y = \\begin{bmatrix}\n",
        "    1 & 6 & 1\\\\\n",
        "    1 & 9 & 2\\\\\n",
        "    2 & 11 & 3\n",
        "\\end{bmatrix}$\n",
        "\n",
        "$Z = \\begin{bmatrix}\n",
        "    1 & 1 & 6\\\\\n",
        "    1 & 2 & 9\\\\\n",
        "    2 & 1 & 11\n",
        "\\end{bmatrix}$"
      ]
    },
    {
      "cell_type": "markdown",
      "metadata": {
        "id": "45rtYIJ4QXIE"
      },
      "source": [
        "### **Definição de Vetor**"
      ]
    },
    {
      "cell_type": "code",
      "metadata": {
        "colab": {
          "base_uri": "https://localhost:8080/",
          "height": 0
        },
        "id": "EYRdhgRfQDBi",
        "outputId": "f04ea784-772b-4b99-9e98-fbe52f3aba23"
      },
      "source": [
        "#Um vetor é representado em Python como um array da Numpy\n",
        "v = np.array([1,2,3])\n",
        "print(v)"
      ],
      "execution_count": 55,
      "outputs": [
        {
          "output_type": "stream",
          "name": "stdout",
          "text": [
            "[1 2 3]\n"
          ]
        }
      ]
    },
    {
      "cell_type": "markdown",
      "metadata": {
        "id": "ntShZTvCP3mp"
      },
      "source": [
        "### **Operações com Vetor**"
      ]
    },
    {
      "cell_type": "code",
      "metadata": {
        "colab": {
          "base_uri": "https://localhost:8080/",
          "height": 0
        },
        "id": "I18xdIW4Qcus",
        "outputId": "54c74fdc-2b59-451f-bd5d-dd7fe8ef8350"
      },
      "source": [
        "# Soma de vetores\n",
        "v, u = np.array([1,2,3]), np.array([4,5,6])\n",
        "soma = v + u\n",
        "print(soma)"
      ],
      "execution_count": 56,
      "outputs": [
        {
          "output_type": "stream",
          "name": "stdout",
          "text": [
            "[5 7 9]\n"
          ]
        }
      ]
    },
    {
      "cell_type": "code",
      "metadata": {
        "colab": {
          "base_uri": "https://localhost:8080/",
          "height": 0
        },
        "id": "lWGSafJEQooY",
        "outputId": "5981811b-da66-4245-a8a2-b42824b4ef01"
      },
      "source": [
        "#Subtração de vetores\n",
        "sub = v - u\n",
        "print(sub)"
      ],
      "execution_count": 57,
      "outputs": [
        {
          "output_type": "stream",
          "name": "stdout",
          "text": [
            "[-3 -3 -3]\n"
          ]
        }
      ]
    },
    {
      "cell_type": "code",
      "metadata": {
        "colab": {
          "base_uri": "https://localhost:8080/",
          "height": 0
        },
        "id": "9_4V33AAQxJ6",
        "outputId": "909b6d8f-a3ed-429f-9dd1-a0cd0a408ca3"
      },
      "source": [
        "# Multiplicação de vetores\n",
        "mult = v * u\n",
        "print(mult)"
      ],
      "execution_count": 58,
      "outputs": [
        {
          "output_type": "stream",
          "name": "stdout",
          "text": [
            "[ 4 10 18]\n"
          ]
        }
      ]
    },
    {
      "cell_type": "code",
      "metadata": {
        "colab": {
          "base_uri": "https://localhost:8080/",
          "height": 0
        },
        "id": "-5EaqiwlRB-Y",
        "outputId": "1467c9e9-d836-451a-f33b-7676f72d3b30"
      },
      "source": [
        "# Divisão de vetores\n",
        "div = v / u\n",
        "print(div)"
      ],
      "execution_count": 59,
      "outputs": [
        {
          "output_type": "stream",
          "name": "stdout",
          "text": [
            "[0.25 0.4  0.5 ]\n"
          ]
        }
      ]
    },
    {
      "cell_type": "code",
      "metadata": {
        "colab": {
          "base_uri": "https://localhost:8080/",
          "height": 0
        },
        "id": "5GkaB3-ORHcY",
        "outputId": "706c2a56-b7b8-4b5f-b442-a6bd264a8df1"
      },
      "source": [
        "# Produto interno (somatório da multiplicação de componente a componente dos vetores)\n",
        "prod_int = np.dot(v, u)\n",
        "print(prod_int)\n",
        "#Outras maneiras de escrever esse produto interno entre v e u:\n",
        "print('método 2: {}'.format(v.dot(u)))\n",
        "print('método 3: {}'.format(u.dot(v)))\n"
      ],
      "execution_count": 60,
      "outputs": [
        {
          "output_type": "stream",
          "name": "stdout",
          "text": [
            "32\n",
            "método 2: 32\n",
            "método 3: 32\n"
          ]
        }
      ]
    },
    {
      "cell_type": "code",
      "metadata": {
        "id": "4ehTB8VESWBg",
        "colab": {
          "base_uri": "https://localhost:8080/",
          "height": 0
        },
        "outputId": "25741a1f-e198-4798-f566-39e3004049be"
      },
      "source": [
        "# Multiplicação de vetor por escalar\n",
        "print(u)\n",
        "print(3 * u)"
      ],
      "execution_count": 61,
      "outputs": [
        {
          "output_type": "stream",
          "name": "stdout",
          "text": [
            "[4 5 6]\n",
            "[12 15 18]\n"
          ]
        }
      ]
    },
    {
      "cell_type": "code",
      "metadata": {
        "colab": {
          "base_uri": "https://localhost:8080/",
          "height": 0
        },
        "id": "2TmgfhFhTB2V",
        "outputId": "ca6aed58-4abd-45cc-e70e-e10a1d8565b1"
      },
      "source": [
        "# Norma L1 do vetor (somatório da norma de cada componente do vetor)\n",
        "# L1 de |v| = |v1| + |v2| + |v3| + ... + |vn|\n",
        "print(u)\n",
        "print(np.linalg.norm(u, 1))"
      ],
      "execution_count": 62,
      "outputs": [
        {
          "output_type": "stream",
          "name": "stdout",
          "text": [
            "[4 5 6]\n",
            "15.0\n"
          ]
        }
      ]
    },
    {
      "cell_type": "code",
      "metadata": {
        "colab": {
          "base_uri": "https://localhost:8080/",
          "height": 0
        },
        "id": "4sZaOQ3mYVo_",
        "outputId": "d74d1da3-c364-4265-d9cc-8384bb128c77"
      },
      "source": [
        "# Norma L2 do vetor, norma Euclidiana. É a padrão dessa função\n",
        "# L2 de |v| = sqrt(|v1|**2 + |v2|**2 + |v3|**2 + ... + |vn|**2)\n",
        "print(u)\n",
        "print(np.linalg.norm(u))"
      ],
      "execution_count": 63,
      "outputs": [
        {
          "output_type": "stream",
          "name": "stdout",
          "text": [
            "[4 5 6]\n",
            "8.774964387392123\n"
          ]
        }
      ]
    },
    {
      "cell_type": "code",
      "metadata": {
        "colab": {
          "base_uri": "https://localhost:8080/",
          "height": 0
        },
        "id": "rS9XhqXYavs6",
        "outputId": "a1566865-aa9a-4c2e-84bd-1f8f65d8248e"
      },
      "source": [
        "# Norma máxima do vetor\n",
        "# Linf(v) de |v| = |v|inf = max{v1, v2, v3}\n",
        "import math\n",
        "print(u)\n",
        "print(np.linalg.norm(u, math.inf))\n",
        "\n",
        "# Norma mínima do vetor\n",
        "# Linf(v) de |v| = |v|inf = max{v1, v2, v3}\n",
        "print(np.linalg.norm(u, - math.inf))"
      ],
      "execution_count": 64,
      "outputs": [
        {
          "output_type": "stream",
          "name": "stdout",
          "text": [
            "[4 5 6]\n",
            "6.0\n",
            "4.0\n"
          ]
        }
      ]
    },
    {
      "cell_type": "code",
      "metadata": {
        "colab": {
          "base_uri": "https://localhost:8080/",
          "height": 0
        },
        "id": "yZC7qQumcJ3b",
        "outputId": "68008453-4aca-4ca6-b0ed-a8a4425262f8"
      },
      "source": [
        "# Infinito em Python\n",
        "inf_pos = float('inf')\n",
        "inf_neg = float('-inf')\n",
        "print('Infinito positivo: {}'.format(inf_pos))\n",
        "print('Infinito negativo: {}'.format(inf_neg))\n",
        "print(inf_pos > 5)\n",
        "print(inf_pos < 1)\n",
        "\n"
      ],
      "execution_count": 65,
      "outputs": [
        {
          "output_type": "stream",
          "name": "stdout",
          "text": [
            "Infinito positivo: inf\n",
            "Infinito negativo: -inf\n",
            "True\n",
            "False\n"
          ]
        }
      ]
    },
    {
      "cell_type": "markdown",
      "metadata": {
        "id": "9-xqHgHwQYG-"
      },
      "source": [
        "### **Definição de Matriz**"
      ]
    },
    {
      "cell_type": "code",
      "metadata": {
        "colab": {
          "base_uri": "https://localhost:8080/",
          "height": 0
        },
        "id": "PK8dYERzct2w",
        "outputId": "2c157d75-51ba-4f94-c6ce-28fe94f2fe6b"
      },
      "source": [
        "# Uma matriz pode ser representada em Python usando array 2D\n",
        "# Pode ser construído por uma lista de lista\n",
        "A = np.array([\n",
        "    [1,2,3],\n",
        "    [4,5,6]]\n",
        ")\n",
        "print(A)"
      ],
      "execution_count": 66,
      "outputs": [
        {
          "output_type": "stream",
          "name": "stdout",
          "text": [
            "[[1 2 3]\n",
            " [4 5 6]]\n"
          ]
        }
      ]
    },
    {
      "cell_type": "markdown",
      "metadata": {
        "id": "hXdVyifZQYNH"
      },
      "source": [
        "### **Operação com Matrizes**"
      ]
    },
    {
      "cell_type": "code",
      "metadata": {
        "colab": {
          "base_uri": "https://localhost:8080/",
          "height": 0
        },
        "id": "IruURnDkdFiM",
        "outputId": "6bf58b59-8114-406a-ee5b-5e2abba0fe36"
      },
      "source": [
        "# Soma de Matrizes:\n",
        "A = np.array([\n",
        "              [1,2,3],\n",
        "              [4,5,6]\n",
        "])\n",
        "B = np.array([\n",
        "              [7,8,9],\n",
        "              [10,11,12]\n",
        "])\n",
        "C = A + B\n",
        "print('soma:\\n',C)\n",
        "# Subtração de matrizes\n",
        "D = A - B\n",
        "print('subtração:\\n',D)"
      ],
      "execution_count": 67,
      "outputs": [
        {
          "output_type": "stream",
          "name": "stdout",
          "text": [
            "soma:\n",
            " [[ 8 10 12]\n",
            " [14 16 18]]\n",
            "subtração:\n",
            " [[-6 -6 -6]\n",
            " [-6 -6 -6]]\n"
          ]
        }
      ]
    },
    {
      "cell_type": "code",
      "metadata": {
        "colab": {
          "base_uri": "https://localhost:8080/",
          "height": 0
        },
        "id": "kGn47-8tdpAm",
        "outputId": "50876c14-e405-4649-de15-b18c896eb4f2"
      },
      "source": [
        "#Multiplicação de matrizes (Produto de Hadamard).\n",
        "# É a multiplicação de cada componente de uma matriz pela correspondente\n",
        "# em outra matriz:\n",
        "print('A:\\n',A)\n",
        "print()\n",
        "print('B:\\n',B)\n",
        "print()\n",
        "Mult_Matriz = A * B\n",
        "print('Produto de Hadamard:\\n',Mult_Matriz)"
      ],
      "execution_count": 68,
      "outputs": [
        {
          "output_type": "stream",
          "name": "stdout",
          "text": [
            "A:\n",
            " [[1 2 3]\n",
            " [4 5 6]]\n",
            "\n",
            "B:\n",
            " [[ 7  8  9]\n",
            " [10 11 12]]\n",
            "\n",
            "Produto de Hadamard:\n",
            " [[ 7 16 27]\n",
            " [40 55 72]]\n"
          ]
        }
      ]
    },
    {
      "cell_type": "code",
      "metadata": {
        "colab": {
          "base_uri": "https://localhost:8080/",
          "height": 0
        },
        "id": "MAZ5wGZNeJYv",
        "outputId": "b9c99991-dadd-4e54-f9d4-2b4a387acae4"
      },
      "source": [
        "# Divisão de matrizes.\n",
        "# Divisão de cada componente de uma matriz pela correspondente\n",
        "# em outra matriz:\n",
        "print('A:\\n',A)\n",
        "print()\n",
        "print('B:\\n',B)\n",
        "print()\n",
        "Div_Matriz = A / B\n",
        "print('Divisão:\\n',Div_Matriz)"
      ],
      "execution_count": 69,
      "outputs": [
        {
          "output_type": "stream",
          "name": "stdout",
          "text": [
            "A:\n",
            " [[1 2 3]\n",
            " [4 5 6]]\n",
            "\n",
            "B:\n",
            " [[ 7  8  9]\n",
            " [10 11 12]]\n",
            "\n",
            "Divisão:\n",
            " [[0.14 0.25 0.33]\n",
            " [0.4  0.45 0.5 ]]\n"
          ]
        }
      ]
    },
    {
      "cell_type": "code",
      "metadata": {
        "colab": {
          "base_uri": "https://localhost:8080/",
          "height": 0
        },
        "id": "LpTKjipdeyYc",
        "outputId": "f49e21c9-d3f2-4bff-aa34-63a6b63c5e5a"
      },
      "source": [
        "# Multiplicação de matrizes tradicional\n",
        "# Pré-requisito: N de colunas da primeira == N de linhas da segunda\n",
        "# ou... len(A[0]) == len(B)\n",
        "# ou ainda... A(i,j) B(j,k)\n",
        "A = np.array([[1,2],\n",
        "              [3,4],\n",
        "              [5,6]\n",
        "              \n",
        "])\n",
        "B = np.array([[1,2],\n",
        "              [3,4]\n",
        "              \n",
        "])\n",
        "print('A:\\n',A)\n",
        "print()\n",
        "print('B:\\n',B)\n",
        "print()\n",
        "Mult_matrizes = np.dot(A,B) # Método 1\n",
        "print('Multiplicação tradicional (Método 1, np.dot(A,B)):\\n', Mult_matrizes)\n",
        "print('Multiplicação tradicional (Método 2, operador A@B):\\n', A@B)"
      ],
      "execution_count": 70,
      "outputs": [
        {
          "output_type": "stream",
          "name": "stdout",
          "text": [
            "A:\n",
            " [[1 2]\n",
            " [3 4]\n",
            " [5 6]]\n",
            "\n",
            "B:\n",
            " [[1 2]\n",
            " [3 4]]\n",
            "\n",
            "Multiplicação tradicional (Método 1, np.dot(A,B)):\n",
            " [[ 7 10]\n",
            " [15 22]\n",
            " [23 34]]\n",
            "Multiplicação tradicional (Método 2, operador A@B):\n",
            " [[ 7 10]\n",
            " [15 22]\n",
            " [23 34]]\n"
          ]
        }
      ]
    },
    {
      "cell_type": "code",
      "metadata": {
        "colab": {
          "base_uri": "https://localhost:8080/",
          "height": 0
        },
        "id": "EBI-ghWnh1h_",
        "outputId": "e0592163-60bf-4e1b-9178-1fd71d0a6cb3"
      },
      "source": [
        "# Multiplicação de matriz por vetor.\n",
        "# Pré-requisito: Número de colunas da matriz deve ser igual\n",
        "# ao número de componentes do vetor.\n",
        "# O resultado é sempre um vetor\n",
        "A = np.array([[1,2,3],\n",
        "              [3,4,5]])\n",
        "\n",
        "B = np.array([1,2,3])\n",
        "print('A:\\n',A)\n",
        "print()\n",
        "print('B:\\n',B)\n",
        "print()\n",
        "Mult_matriz_vetor = np.dot(A,B) # Método 1\n",
        "print('Multiplicação tradicional (Método 1, np.dot(A,B)):\\n', Mult_matriz_vetor)\n",
        "print('Multiplicação tradicional (Método 2, operador A@B):\\n', A@B)"
      ],
      "execution_count": 71,
      "outputs": [
        {
          "output_type": "stream",
          "name": "stdout",
          "text": [
            "A:\n",
            " [[1 2 3]\n",
            " [3 4 5]]\n",
            "\n",
            "B:\n",
            " [1 2 3]\n",
            "\n",
            "Multiplicação tradicional (Método 1, np.dot(A,B)):\n",
            " [14 26]\n",
            "Multiplicação tradicional (Método 2, operador A@B):\n",
            " [14 26]\n"
          ]
        }
      ]
    },
    {
      "cell_type": "markdown",
      "metadata": {
        "id": "RDD5XnVmQYRJ"
      },
      "source": [
        "### **Tipos de Matrizes**"
      ]
    },
    {
      "cell_type": "markdown",
      "metadata": {
        "id": "C5TS38Ssjhd2"
      },
      "source": [
        "(1) Matriz quadrada:\\\n",
        "linhas = colunas\n",
        "\n",
        "(2) Matriz simétrica:\\\n",
        "$A$ = ${A}^{t}$\\\n",
        "aij = aji\n",
        "\n",
        "(3) Matriz triangular:\\\n",
        "  (3.1) Matriz triangular Superior (np.tril(matrix))\\\n",
        "  (3.2) Matriz triangular Inferior (np.triu(matrix))\n",
        "\n",
        "\n",
        "\n"
      ]
    },
    {
      "cell_type": "code",
      "metadata": {
        "colab": {
          "base_uri": "https://localhost:8080/",
          "height": 0
        },
        "id": "xe2k1xFxk2pq",
        "outputId": "ed5491fe-b3ea-47a9-b27d-5ca851b56f83"
      },
      "source": [
        "# Exemplo de matriz triangular:\n",
        "A = np.array([[1,2,3],\n",
        "              [4,5,6],\n",
        "              [7,8,9]])\n",
        "print('Matriz A:\\n', A)\n",
        "print()\n",
        "print('Matriz triangular superior:\\n', np.triu(A))\n",
        "print()\n",
        "print('Matriz triangular inferior:\\n', np.tril(A))\n",
        "\n",
        "# Obs: Os métodos tril e triu não decompõem a matriz A, ou seja,\n",
        "# essas matrizes triangulares não são as triangulares inferior/\n",
        "# superior de A (pois esse processo envolve fatoração de matrizes)"
      ],
      "execution_count": 72,
      "outputs": [
        {
          "output_type": "stream",
          "name": "stdout",
          "text": [
            "Matriz A:\n",
            " [[1 2 3]\n",
            " [4 5 6]\n",
            " [7 8 9]]\n",
            "\n",
            "Matriz triangular superior:\n",
            " [[1 2 3]\n",
            " [0 5 6]\n",
            " [0 0 9]]\n",
            "\n",
            "Matriz triangular inferior:\n",
            " [[1 0 0]\n",
            " [4 5 0]\n",
            " [7 8 9]]\n"
          ]
        }
      ]
    },
    {
      "cell_type": "markdown",
      "metadata": {
        "id": "IFu2EFvINGwh"
      },
      "source": [
        "# **Aula 08: Matrizes - parte 2**"
      ]
    },
    {
      "cell_type": "markdown",
      "metadata": {
        "id": "A0E2kDelxf3L"
      },
      "source": [
        "## **Gráfico para vetores**"
      ]
    },
    {
      "cell_type": "code",
      "metadata": {
        "id": "lWIKU4t2tsUt"
      },
      "source": [
        "import matplotlib.pyplot as plt"
      ],
      "execution_count": 73,
      "outputs": []
    },
    {
      "cell_type": "code",
      "metadata": {
        "id": "AfyZn-x6uAlq"
      },
      "source": [
        "def plotVectors(vets, cores, alpha=1):\n",
        "  plt.figure()\n",
        "  plt.axvline(x=0, color='#A9A9A9', zorder=0)\n",
        "  plt.axhline(y=0, color='#A9A9A9', zorder=0)\n",
        "  for i in range(len(vets)):\n",
        "    x = np.concatenate([[0,0],vets[i]])\n",
        "    plt.quiver([x[0]],\n",
        "               [x[1]],\n",
        "               [x[2]],\n",
        "               [x[3]],\n",
        "               angles ='xy', scale_units='xy', scale=1, color=cores[i], alpha=alpha)"
      ],
      "execution_count": 74,
      "outputs": []
    },
    {
      "cell_type": "code",
      "metadata": {
        "colab": {
          "base_uri": "https://localhost:8080/",
          "height": 286
        },
        "id": "tlr0XhcyvfOb",
        "outputId": "e0a1efbf-2a11-434e-b25d-7bc9004ed9cc"
      },
      "source": [
        "plotVectors([[2,3],[4,-1]], ['red', 'blue'])\n",
        "plt.xlim(-1, 5)\n",
        "plt.ylim(-2, 5)"
      ],
      "execution_count": 75,
      "outputs": [
        {
          "output_type": "execute_result",
          "data": {
            "text/plain": [
              "(-2.0, 5.0)"
            ]
          },
          "metadata": {},
          "execution_count": 75
        },
        {
          "output_type": "display_data",
          "data": {
            "image/png": "[encoded data removed]",
            "text/plain": [
              "<Figure size 432x288 with 1 Axes>"
            ]
          },
          "metadata": {
            "needs_background": "light"
          }
        }
      ]
    },
    {
      "cell_type": "code",
      "metadata": {
        "colab": {
          "base_uri": "https://localhost:8080/",
          "height": 286
        },
        "id": "TpaXyB-nxOj-",
        "outputId": "82db471c-80f4-4f97-806c-d73e3312b0f6"
      },
      "source": [
        "u=[1,0]\n",
        "v=[0,1]\n",
        "plotVectors([u,v],['red','blue'])\n",
        "plt.xlim(-2,2)\n",
        "plt.ylim(-2,2)"
      ],
      "execution_count": 76,
      "outputs": [
        {
          "output_type": "execute_result",
          "data": {
            "text/plain": [
              "(-2.0, 2.0)"
            ]
          },
          "metadata": {},
          "execution_count": 76
        },
        {
          "output_type": "display_data",
          "data": {
            "image/png": "[encoded data removed]",
            "text/plain": [
              "<Figure size 432x288 with 1 Axes>"
            ]
          },
          "metadata": {
            "needs_background": "light"
          }
        }
      ]
    },
    {
      "cell_type": "markdown",
      "metadata": {
        "id": "rzypsAsS4tBp"
      },
      "source": [
        "## **Ângulo entre vetores**"
      ]
    },
    {
      "cell_type": "code",
      "metadata": {
        "colab": {
          "base_uri": "https://localhost:8080/",
          "height": 0
        },
        "id": "JpTwBqIpx8Se",
        "outputId": "3224a8fc-d963-4c82-9ae6-b26f1c262005"
      },
      "source": [
        "# Produto interno de 2 vetores ortogonais ou perpendiculares (R2) é igual a 0\n",
        "u = np.array([1, 0])\n",
        "v = np.array([0, 1])\n",
        "pInterno = u.dot(v)\n",
        "print(pInterno)\n"
      ],
      "execution_count": 77,
      "outputs": [
        {
          "output_type": "stream",
          "name": "stdout",
          "text": [
            "0\n"
          ]
        }
      ]
    },
    {
      "cell_type": "code",
      "metadata": {
        "id": "UjIVa6q9yX1j"
      },
      "source": [
        "# Angulo entre 2 vetores. Calcular arco cosseno do ângulo theta\n",
        "# theta = arccos(produto_interno / (norma(u) * norma(v)))\n",
        "def ang2Vetores(u, v):\n",
        "  pInterno = u.dot(v)\n",
        "  nu = np.linalg.norm(u)\n",
        "  nv = np.linalg.norm(v)\n",
        "  theta = np.arccos(pInterno / (nu * nv)) #valor em radianos\n",
        "  return np.rad2deg(theta)"
      ],
      "execution_count": 78,
      "outputs": []
    },
    {
      "cell_type": "code",
      "metadata": {
        "colab": {
          "base_uri": "https://localhost:8080/",
          "height": 0
        },
        "id": "F8g1vefq0pMC",
        "outputId": "8b05cac0-edac-4029-e403-f8ed99bdea23"
      },
      "source": [
        "u2 = np.array([1,0])\n",
        "v2 = np.array([0,1])\n",
        "print(ang2Vetores(u2, v2))"
      ],
      "execution_count": 79,
      "outputs": [
        {
          "output_type": "stream",
          "name": "stdout",
          "text": [
            "90.0\n"
          ]
        }
      ]
    },
    {
      "cell_type": "markdown",
      "metadata": {
        "id": "FhmZ7cLY5ZV-"
      },
      "source": [
        "## **Matriz identidade**"
      ]
    },
    {
      "cell_type": "code",
      "metadata": {
        "colab": {
          "base_uri": "https://localhost:8080/",
          "height": 0
        },
        "id": "TR4Leuwn4wqd",
        "outputId": "22f27466-a53d-40b1-8c4e-417bd8a31213"
      },
      "source": [
        "#Para gerar a matriz identidade\n",
        "I = np.identity(3)\n",
        "I"
      ],
      "execution_count": 80,
      "outputs": [
        {
          "output_type": "execute_result",
          "data": {
            "text/plain": [
              "array([[1., 0., 0.],\n",
              "       [0., 1., 0.],\n",
              "       [0., 0., 1.]])"
            ]
          },
          "metadata": {},
          "execution_count": 80
        }
      ]
    },
    {
      "cell_type": "code",
      "metadata": {
        "colab": {
          "base_uri": "https://localhost:8080/",
          "height": 0
        },
        "id": "CqWgkufM41Xr",
        "outputId": "59b33969-2d35-4c58-e104-ef5d024c52dd"
      },
      "source": [
        "I2 = np.eye(2, dtype=int)\n",
        "I3 = np.eye(4, dtype=int)\n",
        "I4 = np.eye(2, 1, dtype=int)\n",
        "print(I2)\n",
        "print()\n",
        "print(I3)\n",
        "print()\n",
        "print(I4)"
      ],
      "execution_count": 81,
      "outputs": [
        {
          "output_type": "stream",
          "name": "stdout",
          "text": [
            "[[1 0]\n",
            " [0 1]]\n",
            "\n",
            "[[1 0 0 0]\n",
            " [0 1 0 0]\n",
            " [0 0 1 0]\n",
            " [0 0 0 1]]\n",
            "\n",
            "[[1]\n",
            " [0]]\n"
          ]
        }
      ]
    },
    {
      "cell_type": "markdown",
      "metadata": {
        "id": "syVqE3O-BT13"
      },
      "source": [
        "## **Matriz transposta**"
      ]
    },
    {
      "cell_type": "code",
      "metadata": {
        "id": "1mkU5jo15b9b"
      },
      "source": [
        "A = np.array([[1,2],\n",
        "              [3,4],\n",
        "              [5,6]])"
      ],
      "execution_count": 82,
      "outputs": []
    },
    {
      "cell_type": "code",
      "metadata": {
        "colab": {
          "base_uri": "https://localhost:8080/",
          "height": 0
        },
        "id": "EG34lA4-5jsQ",
        "outputId": "e03fd1aa-b138-40a3-9886-19c3c81f36ac"
      },
      "source": [
        "#1 Usando a função transpose() da Numpy\n",
        "AT = np.transpose(A)\n",
        "print(AT)"
      ],
      "execution_count": 83,
      "outputs": [
        {
          "output_type": "stream",
          "name": "stdout",
          "text": [
            "[[1 3 5]\n",
            " [2 4 6]]\n"
          ]
        }
      ]
    },
    {
      "cell_type": "code",
      "metadata": {
        "colab": {
          "base_uri": "https://localhost:8080/",
          "height": 0
        },
        "id": "gv9fZOTV59cx",
        "outputId": "66958349-17df-4bf7-e4a4-4c0c125d818f"
      },
      "source": [
        "#2 Usando o atributo .T da matriz\n",
        "AT2 = A.T\n",
        "print(AT2)"
      ],
      "execution_count": 84,
      "outputs": [
        {
          "output_type": "stream",
          "name": "stdout",
          "text": [
            "[[1 3 5]\n",
            " [2 4 6]]\n"
          ]
        }
      ]
    },
    {
      "cell_type": "markdown",
      "metadata": {
        "id": "4om0rlXyfQy0"
      },
      "source": [
        "## **Determinante**\n",
        "Matriz quadrada A\n",
        "notação: det(A) ou |A|"
      ]
    },
    {
      "cell_type": "code",
      "metadata": {
        "colab": {
          "base_uri": "https://localhost:8080/",
          "height": 0
        },
        "id": "DA5Mm6gqBcto",
        "outputId": "0b0b50b6-b7fb-4d76-9077-76b9759b9f65"
      },
      "source": [
        "A = np.array([[1,2,3],\n",
        "             [4,5,6],\n",
        "             [7,8,9]])\n",
        "detA = np.linalg.det(A)\n",
        "print(detA)"
      ],
      "execution_count": 85,
      "outputs": [
        {
          "output_type": "stream",
          "name": "stdout",
          "text": [
            "0.0\n"
          ]
        }
      ]
    },
    {
      "cell_type": "markdown",
      "metadata": {
        "id": "necYGBPgsv1t"
      },
      "source": [
        "Matriz identidade"
      ]
    },
    {
      "cell_type": "markdown",
      "metadata": {
        "id": "KLS-RA1ZB6Qj"
      },
      "source": [
        "## **Matriz Inversa**\n",
        "A.B = B.A = I\n",
        "\n",
        "B = A<sup>-1</sup> (Ou seja, B é inversa de A)\n",
        "\n",
        "Existe B se, e somente se, det(A) != 0"
      ]
    },
    {
      "cell_type": "code",
      "metadata": {
        "colab": {
          "base_uri": "https://localhost:8080/",
          "height": 0
        },
        "id": "v7gltP1bCFOV",
        "outputId": "9dd7db30-79ea-4253-ffae-b0a1873daafc"
      },
      "source": [
        "A = np.array([[1.0, 2.0],\n",
        "              [3.0, 4.0]])\n",
        "#Condição 1\n",
        "print('det(A): {}'.format(np.linalg.det(A)))\n",
        "\n",
        "B = np.linalg.inv(A)\n",
        "print('A inversa de A:\\n{}'.format(B))"
      ],
      "execution_count": 86,
      "outputs": [
        {
          "output_type": "stream",
          "name": "stdout",
          "text": [
            "det(A): -2.0000000000000004\n",
            "A inversa de A:\n",
            "[[-2.   1. ]\n",
            " [ 1.5 -0.5]]\n"
          ]
        }
      ]
    },
    {
      "cell_type": "code",
      "metadata": {
        "colab": {
          "base_uri": "https://localhost:8080/",
          "height": 0
        },
        "id": "Xr404qe8CoI0",
        "outputId": "f5c8b877-efef-4015-86dc-fb27d8e0b36a"
      },
      "source": [
        "print('A.B = I:\\n{}'.format(A.dot(B)))"
      ],
      "execution_count": 87,
      "outputs": [
        {
          "output_type": "stream",
          "name": "stdout",
          "text": [
            "A.B = I:\n",
            "[[1. 0.]\n",
            " [0. 1.]]\n"
          ]
        }
      ]
    },
    {
      "cell_type": "markdown",
      "metadata": {
        "id": "EO_1k43VrSJh"
      },
      "source": [
        "## **Matriz Ortogonal**\n",
        "\n",
        "Uma matriz é ortogonal quando sua transposta é igual a sua inversa:\n",
        "\n",
        "A<sup>T</sup> = A<sup>-1</sup>\n",
        "\n",
        "Sabemos que a inversa de uma matriz existe quando o determinante é diferente de zero\n",
        "\n",
        "Propriedades:\n",
        "\n",
        "1. A<sup>-1</sup> também será ortogonal\n",
        "2. det(A) = +- 1\n",
        "3. Dois vetores são ortogonais, quando o produto interno é igual a zero.\n",
        "4. A<sup>T</sup>.A = A.A<sup>T</sup> = I\n",
        "\n"
      ]
    },
    {
      "cell_type": "code",
      "metadata": {
        "colab": {
          "base_uri": "https://localhost:8080/",
          "height": 0
        },
        "id": "Suq5SCEVFcox",
        "outputId": "b5fb44fa-401f-42e3-b91b-8a560c51283a"
      },
      "source": [
        "Q = np.array([[1, 0],\n",
        "              [0, -1]])\n",
        "print('Matriz ortogonal Q:\\n{}'.format(Q))\n",
        "print()\n",
        "print('Matriz inversa Q:\\n{}'.format(np.linalg.inv(Q)))\n",
        "print()\n",
        "print('Matriz transposta de Q:\\n{}'.format(Q.T))\n",
        "print()\n",
        "print('Q.QT = I:\\n{}'.format(np.dot(Q, Q.T))) #Propriedade 4"
      ],
      "execution_count": 88,
      "outputs": [
        {
          "output_type": "stream",
          "name": "stdout",
          "text": [
            "Matriz ortogonal Q:\n",
            "[[ 1  0]\n",
            " [ 0 -1]]\n",
            "\n",
            "Matriz inversa Q:\n",
            "[[ 1.  0.]\n",
            " [-0. -1.]]\n",
            "\n",
            "Matriz transposta de Q:\n",
            "[[ 1  0]\n",
            " [ 0 -1]]\n",
            "\n",
            "Q.QT = I:\n",
            "[[1 0]\n",
            " [0 1]]\n"
          ]
        }
      ]
    },
    {
      "cell_type": "code",
      "metadata": {
        "id": "6eIEYu03Fbva"
      },
      "source": [
        ""
      ],
      "execution_count": 88,
      "outputs": []
    },
    {
      "cell_type": "markdown",
      "metadata": {
        "id": "eOKKdGBAD2SW"
      },
      "source": [
        "## **Matrizes Esparsas**\n"
      ]
    },
    {
      "cell_type": "code",
      "metadata": {
        "colab": {
          "base_uri": "https://localhost:8080/",
          "height": 0
        },
        "id": "-HohjOymL4fp",
        "outputId": "6878ce2d-2861-4082-891e-dbdd060ad34d"
      },
      "source": [
        "from scipy import sparse as sps\n",
        "# Criando uma matriz densa\n",
        "A = np.array([[1, 0, 0, 0, 0, 0, 1, 0, 0],\n",
        "              [0, 0, 0, 0, 0, 2, 0, 0, 0],\n",
        "              [0, 0, 0, 0, 0, 0, 0, 2, 0]])\n",
        "\n",
        "# Convertendo para uma matriz esparsa (método CSR)\n",
        "S = sps.csr_matrix(A)\n",
        "print(S)\n",
        "\n",
        "#Reconstruindo a matriz densa\n",
        "B = S.todense()\n",
        "print(B)\n",
        "\n",
        "# O número de elementos diferentes de zero\n",
        "esparsidade = 1.0 - np.count_nonzero(A)/A.size\n",
        "print('Esparsidade = {}]'.format(esparsidade))"
      ],
      "execution_count": 89,
      "outputs": [
        {
          "output_type": "stream",
          "name": "stdout",
          "text": [
            "  (0, 0)\t1\n",
            "  (0, 6)\t1\n",
            "  (1, 5)\t2\n",
            "  (2, 7)\t2\n",
            "[[1 0 0 0 0 0 1 0 0]\n",
            " [0 0 0 0 0 2 0 0 0]\n",
            " [0 0 0 0 0 0 0 2 0]]\n",
            "Esparsidade = 0.8518518518518519]\n"
          ]
        }
      ]
    },
    {
      "cell_type": "markdown",
      "metadata": {
        "id": "YhguiyL0KfLe"
      },
      "source": [
        "## **Tensor**\n",
        "\n",
        "Um tensor é uma generalização de vetores e matrizes e pode ser entendido como um array multidimensional.\n",
        "\n",
        "Em Python, um tensor pode ser definido como uma lista de listas, ou array ndimensional"
      ]
    },
    {
      "cell_type": "code",
      "metadata": {
        "colab": {
          "base_uri": "https://localhost:8080/",
          "height": 0
        },
        "id": "o3uO2E3APmZE",
        "outputId": "ebcb8ffc-fb5e-4597-ef9e-3aa06f8b04c4"
      },
      "source": [
        "T1 = np.array([\n",
        "              [[1,2,3],[4,5,6],[7,8,9]],\n",
        "              [[10,11,12], [13,14,15], [16,17,18]],\n",
        "              [[19,20,21], [22,23,24], [25,26,27]]\n",
        "              ])\n",
        "print(T1.shape)"
      ],
      "execution_count": 90,
      "outputs": [
        {
          "output_type": "stream",
          "name": "stdout",
          "text": [
            "(3, 3, 3)\n"
          ]
        }
      ]
    },
    {
      "cell_type": "code",
      "metadata": {
        "colab": {
          "base_uri": "https://localhost:8080/",
          "height": 0
        },
        "id": "MkvnRhInR6yw",
        "outputId": "8ed9266b-4fcb-44d9-caef-2c8a77becaf8"
      },
      "source": [
        "#Adição de T1 com T2\n",
        "T2 = np.array([[[1, 1, 6],\n",
        "        [1, 0, 1],\n",
        "        [6, 9, 1]],\n",
        "\n",
        "       [[3, 8, 7],\n",
        "        [5, 7, 4],\n",
        "        [5, 2, 8]],\n",
        "\n",
        "       [[5, 8, 6],\n",
        "        [7, 4, 4],\n",
        "        [5, 7, 0]]])\n",
        "print('Soma:\\n{}'.format(T1 + T2))\n",
        "print()\n",
        "\n",
        "# Produto de tensores (Multiplicação de T1 com T2)\n",
        "print('Multiplicação:\\n{}'.format(T1 * T2))\n",
        "print()\n",
        "\n",
        "# Divisão de tensores (Divisão de T1 por T2)\n",
        "print('Divisão:\\n{}'.format(T1 / T2))"
      ],
      "execution_count": 91,
      "outputs": [
        {
          "output_type": "stream",
          "name": "stdout",
          "text": [
            "Soma:\n",
            "[[[ 2  3  9]\n",
            "  [ 5  5  7]\n",
            "  [13 17 10]]\n",
            "\n",
            " [[13 19 19]\n",
            "  [18 21 19]\n",
            "  [21 19 26]]\n",
            "\n",
            " [[24 28 27]\n",
            "  [29 27 28]\n",
            "  [30 33 27]]]\n",
            "\n",
            "Multiplicação:\n",
            "[[[  1   2  18]\n",
            "  [  4   0   6]\n",
            "  [ 42  72   9]]\n",
            "\n",
            " [[ 30  88  84]\n",
            "  [ 65  98  60]\n",
            "  [ 80  34 144]]\n",
            "\n",
            " [[ 95 160 126]\n",
            "  [154  92  96]\n",
            "  [125 182   0]]]\n",
            "\n",
            "Divisão:\n",
            "[[[1.   2.   0.5 ]\n",
            "  [4.    inf 6.  ]\n",
            "  [1.17 0.89 9.  ]]\n",
            "\n",
            " [[3.33 1.38 1.71]\n",
            "  [2.6  2.   3.75]\n",
            "  [3.2  8.5  2.25]]\n",
            "\n",
            " [[3.8  2.5  3.5 ]\n",
            "  [3.14 5.75 6.  ]\n",
            "  [5.   3.71  inf]]]\n"
          ]
        },
        {
          "output_type": "stream",
          "name": "stderr",
          "text": [
            "/usr/local/lib/python3.7/dist-packages/ipykernel_launcher.py:21: RuntimeWarning: divide by zero encountered in true_divide\n"
          ]
        }
      ]
    },
    {
      "cell_type": "markdown",
      "metadata": {
        "id": "y6Vv2ySKO22U"
      },
      "source": [
        "# **Aula 09: Autovalores e autovetores**"
      ]
    },
    {
      "cell_type": "markdown",
      "metadata": {
        "id": "UbEG3MczQYUz"
      },
      "source": [
        "## **Autovalores**\n"
      ]
    },
    {
      "cell_type": "markdown",
      "metadata": {
        "id": "TzJfscv03bPF"
      },
      "source": [
        "### Definição"
      ]
    },
    {
      "cell_type": "markdown",
      "metadata": {
        "id": "Kh_kgjfj3l2b"
      },
      "source": [
        "Seja A uma matriz quadrada de ordem n: ${A}_{n,n}$\\\n",
        "Então um vetor não nulo $\\vec{x}$ será autovetor de ${A}$ se ${A}$.$\\vec{x}$ for um múltiplo escalar de x:\\\n",
        "$${A}.\\vec{x} = \\lambda.\\vec{x}$$\n",
        "\n",
        "Obs: Autovetor é uma entidade que sempre aparece relacionada a um escalar (que chamamos de autovalor e aparece nas notações matemáticas como lambda $\\lambda$)."
      ]
    },
    {
      "cell_type": "markdown",
      "metadata": {
        "id": "0xnrK7Vt1yqq"
      },
      "source": [
        "Obs:\\\n",
        "$|\\lambda| > 1 \\to$ Dilata o autovetor $\\vec{x}$\\\n",
        "$|\\lambda| < 1 \\to$ Retrai o autovetor $\\vec{x}$\\\n",
        "$|\\lambda| = 0 \\to$ Anula o autovetor $\\vec{x}$\\\n",
        "$|\\lambda| < 0 \\to$ Inverte o sentido do autovetor $\\vec{x}$"
      ]
    },
    {
      "cell_type": "markdown",
      "metadata": {
        "id": "fIaElj5c4g42"
      },
      "source": [
        "Exemplo:\\\n",
        "O vetor $X = \\begin{bmatrix} 1\\\\ 2\\\\ \\end{bmatrix}$ é autovetor de $A = \\begin{bmatrix}\n",
        "    3 & 0\\\\\n",
        "    8 & -1\\\\\n",
        "\\end{bmatrix}$, pois:\n",
        "\n",
        "$\\begin{bmatrix} 1\\\\ 2\\\\ \\end{bmatrix} . \\begin{bmatrix}\n",
        "    3 & 0\\\\\n",
        "    8 & -1\\\\\n",
        "\\end{bmatrix} = \\begin{bmatrix} 3\\\\ 6\\\\ \\end{bmatrix} = 3 . \\begin{bmatrix} 1\\\\ 2\\\\ \\end{bmatrix}$\n",
        "\n",
        "\\\n",
        "\n",
        "\\\n",
        "Reescrevendo de acordo com a equação apresentada inicialmente:\n",
        "\n",
        "\n",
        "$\\begin{bmatrix}\n",
        "    3 & 0\\\\\n",
        "    8 & -1\\\\\n",
        "\\end{bmatrix} . \\begin{bmatrix} 1\\\\ 2\\\\ \\end{bmatrix} = 3 . \\begin{bmatrix} 1\\\\ 2\\\\ \\end{bmatrix}$\n",
        "\n",
        "$\\quad\\space\\space{A}\\quad\\space\\space\\space\\space\\space\\space\\space\\space\\vec{x} \\qquad \\lambda\\space\\space\\space\\space\\vec{x}$\n",
        "\n",
        "**No caso acima, dizemos que o escalar 3 (representado por $\\lambda$) é o autovalor associado a $A$ e $\\vec{x}$ é o autovetor associado ao autovalor $\\lambda$**\n",
        "\n"
      ]
    },
    {
      "cell_type": "markdown",
      "metadata": {
        "id": "X94f7hfLaU3R"
      },
      "source": [
        "### Propriedades"
      ]
    },
    {
      "cell_type": "markdown",
      "metadata": {
        "id": "A7q85kx-am4G"
      },
      "source": [
        "Se $\\vec{x}$ é autovetor associado a $\\lambda$ de $A$, então $k.\\vec{x}$ também é autovetor de $A$, associado ao mesmo autovalor $\\lambda$, onde $k$ é um escalar.\n",
        "\n",
        "Portanto, se $\\lambda$ é autovalor de $A$, então:\\\n",
        "1- $\\lambda^{k}$ é autovalor de $A^{k}$\\\n",
        "2- $\\lambda^{-1}$ é autovalor de $A^{-1}$\\\n",
        "3- $k.\\lambda$ é autovalor de $k.A$"
      ]
    },
    {
      "cell_type": "markdown",
      "metadata": {
        "id": "Ey5SZJch3qGc"
      },
      "source": [
        "### Como encontrar o Autovalor?"
      ]
    },
    {
      "cell_type": "markdown",
      "metadata": {
        "id": "aqQOwu6r3tR6"
      },
      "source": [
        "Para encontrar o(s) autovalor(es), temos que resolver o sistema de equações proveniente da equação característica:\n",
        "\n",
        "$$det(\\lambda.\\mathbb{I} - A) = 0$$"
      ]
    },
    {
      "cell_type": "markdown",
      "metadata": {
        "id": "5BQ5qwBT9HZp"
      },
      "source": [
        "####Exercícios de fixação"
      ]
    },
    {
      "cell_type": "markdown",
      "metadata": {
        "id": "ULiXt0Ll9QI7"
      },
      "source": [
        "Exercício 2:\\\n",
        "Encontrar os autovalores de $A = \\begin{bmatrix}\n",
        "    2 & 2\\\\\n",
        "    2 & 2\\\\\n",
        "\\end{bmatrix}$\n",
        "\n",
        "---\n",
        "\n",
        "Para encontrar os autovalores de A, recorremos à equação característica:\n",
        "det($\\lambda . \\mathbb{I} - A$) = 0\\\n",
        "$\\begin{vmatrix}\n",
        "\\lambda - 2 & -2 \\\\ \n",
        "-2 & \\lambda - 2\\\\\n",
        "\\end{vmatrix} \\iff (\\lambda - 2)(\\lambda - 2) - 4 = 0 \\iff \\lambda^{2} - 4\\lambda + 4 -4= 0 \\iff \\lambda^{2} - 4\\lambda = 0$\n",
        "\n",
        "Logo: $\\lambda(\\lambda-4) = 0$ e temos que $\\lambda = 0$ ou $\\lambda = 4$\n",
        "\n",
        "\\\n",
        "\n",
        "Resposta: Os autovalores são 0 ou 4"
      ]
    },
    {
      "cell_type": "markdown",
      "metadata": {
        "id": "l78AmWsL9XFf"
      },
      "source": [
        "Exercício 3:\\\n",
        "Encontrar os autovalores de $A = \\begin{bmatrix}\n",
        "    0 & 1 & 0 \\\\\n",
        "    0 & 0 & 1 \\\\\n",
        "    4 & 17 & 8 \\\\\n",
        "\\end{bmatrix}$ e $B = \\begin{bmatrix}\n",
        "    1/2 & 0 & 0 \\\\\n",
        "    -1 & 2/3 & 0 \\\\\n",
        "    5 & -8 & 1 \\\\\n",
        "\\end{bmatrix}$:\n",
        "\n",
        "\n",
        "---\n",
        "\n",
        "Basta aplicar a mesma lógica do exercício 2.\n",
        "\n",
        "\n",
        "Observação: Da matriz B temos a seguinte propriedade:\\\n",
        "**Em matrizes triangulares (inferior ou superior), os autovalores ($\\lambda_{1}$, $\\lambda_{2}$,...) sempre correspondem aos valores da diagonal principal da matriz $A$**"
      ]
    },
    {
      "cell_type": "markdown",
      "metadata": {
        "id": "gBXA1biqmCOX"
      },
      "source": [
        "## **Autovetores**"
      ]
    },
    {
      "cell_type": "markdown",
      "metadata": {
        "id": "aDAmnbTGEN6d"
      },
      "source": [
        "Serão melhores explorados na próxima aula"
      ]
    },
    {
      "cell_type": "markdown",
      "metadata": {
        "id": "pnCKnfe-O-86"
      },
      "source": [
        "# **Aula 10: Autovalores, autovetores e autoespaços**"
      ]
    },
    {
      "cell_type": "markdown",
      "metadata": {
        "id": "YEqJP1_MEy8Y"
      },
      "source": [
        "## **Matriz Singular**"
      ]
    },
    {
      "cell_type": "markdown",
      "metadata": {
        "id": "5JRYX_zgdia1"
      },
      "source": [
        "### Definição"
      ]
    },
    {
      "cell_type": "markdown",
      "metadata": {
        "id": "joz_u7GZcGD1"
      },
      "source": [
        "É qualquer matriz que não admite inversa."
      ]
    },
    {
      "cell_type": "markdown",
      "metadata": {
        "id": "VRpHulUzcAp9"
      },
      "source": [
        "### Propriedades"
      ]
    },
    {
      "cell_type": "markdown",
      "metadata": {
        "id": "sCZQ4gR0dmwS"
      },
      "source": [
        "1- $A$ é matriz singular se det($A$) = 0\\\n",
        "Macete: Linha ou coluna preenchida com elementos 0 significa, com certeza, que seu determinante é 0\n",
        "\n",
        "2- Se houver pelo menos um autovalor $\\lambda = 0$, então A é singular\n",
        "\n",
        "3- Se existir um vetor $\\vec{x}$ não nulo, tal que $A.\\vec{x} = \\vec{0}$\n",
        "\n"
      ]
    },
    {
      "cell_type": "markdown",
      "metadata": {
        "id": "vTsibhdN1rAc"
      },
      "source": [
        "## **Traço**"
      ]
    },
    {
      "cell_type": "markdown",
      "metadata": {
        "id": "qQD95E3GebkJ"
      },
      "source": [
        "### Definição"
      ]
    },
    {
      "cell_type": "markdown",
      "metadata": {
        "id": "JyJ6ksKMgXza"
      },
      "source": [
        "O traço é a soma  dos elementos da diagonal principal de uma matriz:\\\n",
        "tr($A_{nn}$) $= a_{11} + a_{22} + ... a_{nn}$"
      ]
    },
    {
      "cell_type": "markdown",
      "metadata": {
        "id": "UEC5Xnheed7E"
      },
      "source": [
        "### Propriedades\n"
      ]
    },
    {
      "cell_type": "markdown",
      "metadata": {
        "id": "Q5sOKKmkjR2z"
      },
      "source": [
        "1- tr($A$) $=$ tr($A^{t}$)\\\n",
        "2- tr($A.B$) $=$ tr($B.A$)\\\n",
        "3- tr($A$) $= \\lambda_{1} + \\lambda_{2} + \\lambda_{3} + ... + \\lambda_{n}$ \\\n",
        "4- det($A$) $= \\lambda_{1}. \\lambda_{2}. \\lambda_{3} .\\hspace{0.1cm} ...\\hspace{0.1cm}. \\lambda_{n}$ "
      ]
    },
    {
      "cell_type": "markdown",
      "metadata": {
        "id": "bvLNT1GPEvjm"
      },
      "source": [
        "## **Afirmações equivalentes (Precisa saber)**"
      ]
    },
    {
      "cell_type": "markdown",
      "metadata": {
        "id": "8kPrGFeG16DX"
      },
      "source": [
        "1- $\\lambda$ é autovalor de $A_{nn}$\\\n",
        "2- O sistema $(\\lambda.\\mathbb{I} - A).\\vec{x} = \\vec{0}$ de equações tem soluções não triviais\\\n",
        "3- Existe um valor não nulo, tal que $A.\\vec{x} = \\vec{x}.\\lambda$\\\n",
        "4- $\\lambda$ é solução da equação característica $det(\\lambda.\\mathbb{I} - A) = 0$\\\n",
        "Lembrando que a equação característica dá origem ao polinômio característico, cujas raízes são os autovalores $\\lambda$ associados à matriz $A$. A quantidade de raízes desse polinômio deve ser igual à dimensão da matriz."
      ]
    },
    {
      "cell_type": "markdown",
      "metadata": {
        "id": "GfjKtVs2EfiV"
      },
      "source": [
        "## **Multiplicidade algébrica x Multiplicidade geométrica**"
      ]
    },
    {
      "cell_type": "markdown",
      "metadata": {
        "id": "5AOSQQqP4N70"
      },
      "source": [
        "### Definição"
      ]
    },
    {
      "cell_type": "markdown",
      "metadata": {
        "id": "w8IDQt9S4UQY"
      },
      "source": [
        "Multiplicidade algébrica: É um número que se refere aos autovalores. Trata-se da quantidade de vezes que um mesmo autovalor $\\lambda$ é solução de um determinado polinômio característico.\\\n",
        "Por exemplo, suponhamos que caímos no seguinte polinômio característico de 3º grau:\\\n",
        "$$(\\lambda).(\\lambda).(\\lambda - 3) = 0$$\n",
        "Aqui, o 0 é raíz duas vezes e o 3 é raíz uma vez.\\\n",
        "Dizemos, por isso, que o autovalor $\\lambda = 0$ possui multiplicidade algébrica igual a 2 e o $\\lambda = 3$ possui multiplicidade algébrica igual a 1.\\\n",
        "Em notação, fica: ma(0) = 2 e ma(3) = 1\n",
        "\n",
        "\\\\\n",
        "\\\n",
        "Multiplicidade geométrica: Número que se refere aos autovetores. Informa a quantidade de vetores na base do autoespaço que está associado a um determinado autovalor $\\lambda$.\\\n",
        "Notação: mg($\\lambda$)"
      ]
    },
    {
      "cell_type": "markdown",
      "metadata": {
        "id": "fgmnxPKmE97v"
      },
      "source": [
        "### Exercício de fixação"
      ]
    },
    {
      "cell_type": "markdown",
      "metadata": {
        "id": "AM0UiasZCC1R"
      },
      "source": [
        "#### **Seja: $A = \\begin{bmatrix}\n",
        "    0 & 0 & 1 \\\\\n",
        "    0 & 0 & 1 \\\\\n",
        "    0 & 0 & 1 \\\\\n",
        "\\end{bmatrix}$**\n",
        "**Determine:\\\n",
        " 1- a multiplicidade algébrica da matriz $A$\\\n",
        " 2- a multiplicidade geométrica de cada autovetor\\\n",
        " 3- O autoespaço associado a cada autovalor de $A$**"
      ]
    },
    {
      "cell_type": "markdown",
      "metadata": {
        "id": "IJmgQJ9YC28M"
      },
      "source": [
        "1º passo: Encontrar a multiplicidade algébrica\n",
        "\n",
        "Para isso, vamos resolver a equação característica.\\\n",
        "$det(\\lambda.\\mathbb{I} - A) = 0 \\iff \\begin{vmatrix}\n",
        "\\lambda & 0 & -1 \\\\ \n",
        "0 & \\lambda & -1 \\\\\n",
        "0 & 0 & \\lambda - 1\n",
        "\\end{vmatrix} = 0 \\iff (\\lambda).(\\lambda).(\\lambda - 1) = 0$\n",
        "\n",
        "No polinômio característico encontrado temos que 0 é raiz duas vezes e 1 é raíz uma vez.\n",
        "\n",
        "\\\\\n",
        "Portanto, o autovalor $\\lambda = 0$ possui multiplicidade algébrica 2 e o autovalor $\\lambda = 1$ possui multiplicidade algébrica 1.\n",
        "Em notação, dizemos que ma(0) = 2 e ma(1) = 1"
      ]
    },
    {
      "cell_type": "markdown",
      "metadata": {
        "id": "qwVZzG_1EmDG"
      },
      "source": [
        "Encontrada a multiplicidade algébrica, vamos ao 2º passo, que é determinar a multiplicidade geométrica associada a cada autovalor.\n",
        "\n",
        "Como visto anteriormente, a multiplicidade geométrica vai depender do autovalor associado ao autovetor. Aqui temos os autovalores 0 e 1, por isso vamos começar com o autovalor 0:\n",
        "\n",
        "Utilizamos:  $(\\lambda.\\mathbb{I} - A).\\vec{x} = \\vec{0}$\n",
        "\n",
        "\\\\\n",
        "\\\n",
        "Com $\\lambda = 0$, temos: $(-A).\\vec{x} = \\vec{0}$\n",
        "\n",
        "$ \\begin{bmatrix}\n",
        "    0 & 0 & -1 \\\\\n",
        "    0 & 0 & -1 \\\\\n",
        "    0 & 0 & -1 \\\\\n",
        "\\end{bmatrix} . \\begin{bmatrix}\n",
        "    x_{1} \\\\\n",
        "    x_{2} \\\\\n",
        "    x_{3} \\\\\n",
        "\\end{bmatrix} = \\begin{bmatrix}\n",
        "    0 \\\\\n",
        "    0 \\\\\n",
        "    0 \\\\\n",
        "\\end{bmatrix}\n",
        "\\iff\n",
        "\\begin{bmatrix}\n",
        "    -x_{3} \\\\\n",
        "    -x_{3} \\\\\n",
        "    -x_{3} \\\\\n",
        "\\end{bmatrix} = \\begin{bmatrix}\n",
        "    0 \\\\\n",
        "    0 \\\\\n",
        "    0 \\\\\n",
        "\\end{bmatrix}\n",
        "$\\\n",
        "Temos aqui que $x_{3}$ vale 0, portanto conseguimos escrever o vetor $\\vec{x} = $ $\\begin{bmatrix}\n",
        "    x_{1} \\\\\n",
        "    x_{2} \\\\\n",
        "    0 \\\\\n",
        "\\end{bmatrix}$ como a seguinte combinação linear:\n",
        "$\\begin{bmatrix}\n",
        "    x_{1} \\\\\n",
        "    x_{2} \\\\\n",
        "    0 \\\\\n",
        "\\end{bmatrix} = x_{1} .\\begin{bmatrix}\n",
        "    1 \\\\\n",
        "    0 \\\\\n",
        "    0 \\\\\n",
        "\\end{bmatrix} + x_{2}.\\begin{bmatrix}\n",
        "    0 \\\\\n",
        "    1 \\\\\n",
        "    0 \\\\\n",
        "\\end{bmatrix} + \\begin{bmatrix}\n",
        "    0 \\\\\n",
        "    0 \\\\\n",
        "    0 \\\\\n",
        "\\end{bmatrix}$\n",
        "\n",
        "\\\\\n",
        "\\\n",
        "Finalmente, como existem duas constantes ($x_{1}$ e $x_{2}$) que multiplicam os vetores unitários ($[1, 0, 0]$ e $[0, 1, 0]$, respectivamente) dizemos que para o autovalor $\\lambda = 0$, a multiplicidade geométrica é igual a 2.\\\n",
        "Lembrando que o pré-requisito para um vetor ser considerado autovetor, é ele ser não-nulo. Logo o vetor [0,0,0] encontrado na combinação linear não pertence ao autoespaço de $\\lambda = 0$.\\\n",
        "Também é possível dizer que o autoespaço associado ao autovalor 0 é composto pelos vetores [1,0,0] e [0,1,0]"
      ]
    },
    {
      "cell_type": "markdown",
      "metadata": {
        "id": "npb_Uh3nPlmP"
      },
      "source": [
        "Encontramos a multiplicidade geométrica para $\\lambda = 0$, falta encontrar para o outro autovalor encontrado, que é $\\lambda = 1$\\\n",
        "Vamos repetir o procedimento:\n",
        "\n",
        "$(\\lambda.\\mathbb{I} - A).\\vec{x} = \\vec{0} \\iff \\begin{bmatrix}\n",
        "    1 & 0 & -1 \\\\\n",
        "    0 & 1 & -1 \\\\\n",
        "    0 & 0 & 0 \\\\\n",
        "\\end{bmatrix} . \\begin{bmatrix}\n",
        "    x_{1} \\\\\n",
        "    x_{2} \\\\\n",
        "    x_{3} \\\\\n",
        "\\end{bmatrix} = \\begin{bmatrix}\n",
        "    0 \\\\\n",
        "    0 \\\\\n",
        "    0 \\\\\n",
        "\\end{bmatrix}$\n",
        "\n",
        "$\\begin{equation}\n",
        "  \\begin{cases}\n",
        "    x_{1} - x_{3} = 0\\\\\n",
        "    x_{2} - x_{3} = 0\n",
        "  \\end{cases}\n",
        "\\end{equation}$\n",
        "\n",
        "Temos aqui infinitas soluções para o sistema, pois $x_{1} = x_{2} = x_{3}$, então podemos fazer infinitas combinações lineares de $\\vec{x} = \\begin{bmatrix}\n",
        "    x_{1} \\\\\n",
        "    x_{1} \\\\\n",
        "    x_{1} \\\\\n",
        "\\end{bmatrix}$:\\\n",
        "$\\vec{x} = x_{1}.\\begin{bmatrix}\n",
        "    1 \\\\\n",
        "    1 \\\\\n",
        "    1 \\\\\n",
        "\\end{bmatrix}$\n",
        "\n",
        "Como o autoespaço associado a $\\lambda = 1$ é composto apenas pelo vetor $\\begin{bmatrix}\n",
        "    1 \\\\\n",
        "    1 \\\\\n",
        "    1 \\\\\n",
        "\\end{bmatrix}$, então a multiplicidade geométrica de $\\lambda = 1$ é 1."
      ]
    },
    {
      "cell_type": "markdown",
      "metadata": {
        "id": "H2ziU7ThYWgi"
      },
      "source": [
        "**Resposta final:** As bases dos autoespaços associados a $\\lambda = 0$ e $\\lambda = 1$ são, respectivamente: {v1, v2} = {(1, 0, 0), (0, 1, 0)} e {v3} = {(1,1,1)}"
      ]
    },
    {
      "cell_type": "markdown",
      "metadata": {
        "id": "OjMCoSiWEjoQ"
      },
      "source": [
        "## **Encontrando os autovetores**"
      ]
    },
    {
      "cell_type": "markdown",
      "metadata": {
        "id": "XXBbL0K0_q7T"
      },
      "source": [
        "Para encontrar o autovetor (que é sempre associado a um determinado autovalor lambda, basta utilizar:\n",
        "$$(\\lambda.\\mathbb{I} - A).\\vec{x} = \\vec{0}$$\n",
        "\n",
        "\\\\\n",
        "\\\n",
        "Obs:Essa equação irá resultar em um sistema, onde cada variável deve ser uma componente do vetor $\\vec{x}$\\\n",
        "Obs2: Exemplo prático em Aula 10> Multiplicidade algébrica x Multiplicidade geométrica>Exercício de fixação"
      ]
    },
    {
      "cell_type": "markdown",
      "metadata": {
        "id": "hypQJHHtE6Nv"
      },
      "source": [
        "## **Autoespaço**"
      ]
    },
    {
      "cell_type": "markdown",
      "metadata": {
        "id": "OdPULUAFALRa"
      },
      "source": [
        "### Definição"
      ]
    },
    {
      "cell_type": "markdown",
      "metadata": {
        "id": "gsSCdauEAOXq"
      },
      "source": [
        "Autoespaço é o conjunto de todos os autovetores associados a um determinado autovalor união vetor nulo ($\\vec{0}$)\n",
        "\n",
        "Dito de outra forma, o autoespaço de $A$ associado ao autovalor $\\lambda$ é o espaço solução do sistema homogêneo dos autovetores associados a um autovalor que garantem: $(\\lambda.\\mathbb{I} - A).\\vec{x} = \\vec{0}$"
      ]
    },
    {
      "cell_type": "markdown",
      "metadata": {
        "id": "Ym20H-OGcP1Y"
      },
      "source": [
        "## **Exercício de fixação**"
      ]
    },
    {
      "cell_type": "markdown",
      "metadata": {
        "id": "Y8FXx5mXcXtt"
      },
      "source": [
        "### Exercício 01: Determinar $\\lambda$ para $ A =\\begin{bmatrix}\n",
        "    4 & 0 & 1 \\\\\n",
        "    2 & 3 & 2 \\\\\n",
        "    1 & 0 & 4 \\\\\n",
        "\\end{bmatrix}$ e $ \\vec{x} = \\begin{bmatrix}\n",
        "    1 \\\\\n",
        "    2 \\\\\n",
        "    1 \\\\\n",
        "\\end{bmatrix}$"
      ]
    },
    {
      "cell_type": "markdown",
      "metadata": {
        "id": "hZsss2gHdAMR"
      },
      "source": [
        "Para resolver essa questão, podemos utilizar tanto a equação característica $det(\\lambda.\\mathbb{I} - A) = 0$ ou então a equação $A.\\vec{x} = \\vec{x}.\\lambda$\\\n",
        "Aqui vamos utilizar arbitrariamente a segunda equação:\n",
        "\n",
        "$\\begin{bmatrix}\n",
        "    4 & 0 & 1 \\\\\n",
        "    2 & 3 & 2 \\\\\n",
        "    1 & 0 & 4 \\\\\n",
        "\\end{bmatrix} . \\begin{bmatrix}\n",
        "    1 \\\\\n",
        "    2 \\\\\n",
        "    1 \\\\\n",
        "\\end{bmatrix} = \\begin{bmatrix}\n",
        "    1 \\\\\n",
        "    2 \\\\\n",
        "    1 \\\\\n",
        "\\end{bmatrix} . \\lambda\n",
        "\\iff\n",
        "\\begin{bmatrix}\n",
        "    4.1 + 0.2 + 1.1 \\\\\n",
        "    2.1 + 3.2 + 2.1 \\\\\n",
        "    1.1 + 0.2 + 4.1 \\\\\n",
        "\\end{bmatrix} = \\begin{bmatrix}\n",
        "    1 \\\\\n",
        "    2 \\\\\n",
        "    1 \\\\\n",
        "\\end{bmatrix} . \\lambda\n",
        "\\iff\n",
        "\\begin{bmatrix}\n",
        "    5 \\\\\n",
        "    10\\\\\n",
        "    5 \\\\\n",
        "\\end{bmatrix} = \\begin{bmatrix}\n",
        "    1 \\\\\n",
        "    2 \\\\\n",
        "    1 \\\\\n",
        "\\end{bmatrix} . \\lambda\n",
        "$\\\n",
        "Portanto, temos que $\\lambda = 5$\n",
        "\n",
        "Obs: Nota-se que essa equação dá apenas um valor de lambda (não é possível inferir a multiplicidade algébrica deste autovalor), sendo que a matriz possui ordem n = 3. O método do polinômio característico é o que daria todos os três autovalores.$\\\\[1.5cm]$"
      ]
    },
    {
      "cell_type": "markdown",
      "metadata": {
        "id": "0VOSKFCpca-l"
      },
      "source": [
        "### Exercício 02: Encontrar a equação característica para \n",
        "$A =\\begin{bmatrix}\n",
        "    10 & -9\\\\\n",
        "    4 & -2 \\\\\n",
        "\\end{bmatrix}$ e para $B =\\begin{bmatrix}\n",
        "    0 & 3\\\\\n",
        "    4 & 0 \\\\\n",
        "\\end{bmatrix}$"
      ]
    },
    {
      "cell_type": "markdown",
      "metadata": {
        "id": "HAssMVoMklaF"
      },
      "source": [
        "Começamos com a matriz $A$:\\\n",
        "$det(\\lambda.\\mathbb{I} - A) = 0\\\\\n",
        "\\begin{vmatrix}\n",
        "\\lambda - 10 & 9\\\\\n",
        "-4 & \\lambda+2\\\\\n",
        "\\end{vmatrix} = 0\n",
        "\\iff\n",
        "(\\lambda - 10)(\\lambda + 2) - (-4)(9) = 0\n",
        "\\iff\n",
        "\\lambda^{2} + 2\\lambda - 10\\lambda - 20 + 36 = 0\n",
        "\\iff \\lambda^{2}-8\\lambda + 16 = 0$\n",
        "\n",
        "Polinômio característico de $A$ é $\\lambda^{2}-8\\lambda + 16 = 0\\\\[1cm]$\n",
        "\n",
        "Para a matriz $B$, temos o mesmo raciocínio:\\\n",
        "$det(\\lambda.\\mathbb{I} - A) = 0\\\\\n",
        "\\begin{vmatrix}\n",
        "\\lambda & -3\\\\\n",
        "-4 & \\lambda\\\\\n",
        "\\end{vmatrix} = 0\n",
        "\\iff\n",
        "\\lambda^{2}-12 = 0$\\\n",
        "Polinômio característico de $B$ é $\\lambda^{2}-12 = 0$"
      ]
    },
    {
      "cell_type": "markdown",
      "metadata": {
        "id": "WBdN-rCyip3l"
      },
      "source": [
        "# **Aula 11: Diagonalização de Matrizes**"
      ]
    },
    {
      "cell_type": "markdown",
      "metadata": {
        "id": "ScFS290APo9H"
      },
      "source": [
        "## **Resolvendo sistemas lineares com matrizes**"
      ]
    },
    {
      "cell_type": "markdown",
      "metadata": {
        "id": "opeimDmDjGA_"
      },
      "source": [
        "Um dos métodos possíveis ([já apresentado neste documento](https://colab.research.google.com/drive/1JVoNdmzx0boRhMW6orQw3W7lfuNG6dve#scrollTo=QAxzJVODfT0K)) é calculando os determinantes de matrizes.\n",
        "\n",
        "\\\\\n",
        "Outro método possível é através da fórmula\n",
        "$$A . x = B$$\n",
        "onde: $A$ é a matriz de coeficientes, $x$ a matriz de incógnitas da equação e $B$ a matriz com os termos independentes.\\\n",
        "Ilustrando:\n",
        "\n",
        "\n",
        "O sistema:\n",
        "\n",
        "$\\begin{equation}\n",
        "  \\begin{cases}\n",
        "    a_{1}x_{1} + b_{1}x_{2} + c_{1}x_{3} = d_{1}\\\\\n",
        "    a_{2}x_{1} + b_{2}x_{2} + c_{2}x_{3} = d_{2}\\\\\n",
        "    a_{3}x_{1} + b_{3}x_{2} + c_{3}x_{3} = d_{3}\\\\\n",
        "  \\end{cases}\n",
        "\\end{equation}$\n",
        "\n",
        "\n",
        "Pode ser resolvido através de $A . x = B$, sendo:\\\n",
        "A = $\\begin{bmatrix}\n",
        "    a_{1} & b_{1} & c_{1} \\\\\n",
        "    a_{2} & b_{2} & c_{2} \\\\\n",
        "    a_{3} & b_{3} & c_{3} \\\\\n",
        "\\end{bmatrix}$;\n",
        "x=$\\begin{bmatrix}\n",
        "    x_{1}  \\\\\n",
        "    x_{2}  \\\\\n",
        "    x_{3}  \\\\\n",
        "\\end{bmatrix}$; A = $\\begin{bmatrix}\n",
        "    d_{1}  \\\\\n",
        "    d_{2}  \\\\\n",
        "    d_{3}  \\\\\n",
        "\\end{bmatrix}$\n",
        "\n",
        "\\\\\n",
        "\\\n",
        "Existe ainda uma terceira\n",
        " maneira de calcular um sistema linear através de matrizes. Para isso, vamos multiplicar a equação $A . x = B$ pela inversa de $A$ em ambos os lados da igualdade:\\\n",
        "$A . x = B \\iff (A^{-1}).A . x = B.(A^{-1}) \\iff \\mathbb{I}.x = B . A^{-1}$\n",
        "\n",
        "Logo:\n",
        "$$x = A^{-1} . B$$\n"
      ]
    },
    {
      "cell_type": "markdown",
      "metadata": {
        "id": "X87eGSiEl7rA"
      },
      "source": [
        "**E como eu calculo a inversa de uma matriz???**\n",
        "\n",
        "Existem alguns jeitos de descobrir a inversa de uma matriz. Um deles é através do seguinte método (**Método de Eliminação de Gauss-Jordan**):\\\n",
        "Fazemos uma espécie de matriz aumentada onde colocamos em uma mesma matriz a própria matriz com os coeficientes do sistema e ao lado dela (dentro dessa nova matriz), a sua matriz identidade:\n",
        "\n",
        "Usemos o seguinte sistema linear como exemplo:\n",
        "\n",
        "$\\begin{equation}\n",
        "  \\begin{cases}\n",
        "    2x - y = 2\\\\\n",
        "    x - y = 1 \\\\\n",
        "  \\end{cases}\n",
        "\\end{equation}$\n",
        "\n",
        "\\\\\n",
        "Vamos agora montar a \"matriz aumentada\" contendo o sistema e  $\\mathbb{I}$:\n",
        "\n",
        "$\\begin{bmatrix}\n",
        "\\begin{array}{c,c|c,c}\n",
        "2 &  -1 & 1 & 0\\\\ \n",
        "1 & -1 &  0 & 1\\\\\n",
        "\\end{array}\n",
        "\\end{bmatrix}$\n",
        "\n",
        "Agora, **o que queremos é transformar a parte que contém os coeficientes do sistema (que está à esquerda da barra) em uma matriz identidade, através das operações sobre linha de matriz***.\\\n",
        "Na matriz acima, o primeiro passo é transformar o elemento $a_{11}$ em 1. Para isso, fazemos:\\\n",
        "$L_1 \\leftrightarrow L_1 - L_2 \\implies\n",
        "\\begin{bmatrix}\n",
        "\\begin{array}{c,c|c,c}\n",
        "1 &  0 & 1 & -1\\\\ \n",
        "1 & -1 &  0 & 1\\\\\n",
        "\\end{array}\n",
        "\\end{bmatrix}$\n",
        "\n",
        "\\\\\n",
        "Agora, queremos zerar o elemento $a_{21}$ (também através de operação de linhas):\\\n",
        "$L_2 \\leftrightarrow L_2 - L_1 \\implies\n",
        "\\begin{bmatrix}\n",
        "\\begin{array}{c,c|c,c}\n",
        "1 &  0 & 1 & -1\\\\ \n",
        "0 & -1 &-1 &  2\\\\\n",
        "\\end{array}\n",
        "\\end{bmatrix}$\n",
        "\n",
        "\\\\\n",
        "Por último, queremos transformar o elemento $a_{22}$ em 1:\\\n",
        "$L_2 \\leftrightarrow (-1).L_2 \\implies\n",
        "\\begin{bmatrix}\n",
        "\\begin{array}{c,c|c,c}\n",
        "1 &  0 & 1 & -1\\\\ \n",
        "0 & 1 &1 &  -2\\\\\n",
        "\\end{array}\n",
        "\\end{bmatrix}$\n",
        "\n",
        "Agora que transformamos a parte esquerda da matriz em uma identidade, a parte direita obtida (através dessas sucessivas operações sobre linhas) é a sua matriz inversa.\\\n",
        "**Com a matriz inversa em mãos, podemos voltar à equação $x = B . A^{-1}$ e encontramos o conjunto solução do sistema linear:**\n",
        "\n",
        "\\\\\n",
        "\n",
        "$\\begin{bmatrix}\n",
        "x \\\\ \n",
        "y \\\\\n",
        "\\end{bmatrix} = \\begin{bmatrix}\n",
        "1 & -1\\\\ \n",
        "1 & -2\\\\\n",
        "\\end{bmatrix} . \\begin{bmatrix}\n",
        "2 \\\\ \n",
        "1 \\\\\n",
        "\\end{bmatrix} \\iff \\begin{bmatrix}\n",
        "x \\\\ \n",
        "y \\\\\n",
        "\\end{bmatrix} = \\begin{bmatrix}\n",
        "2.1 + (-1).1 \\\\ \n",
        "1.2 + (-2).1 \\\\\n",
        "\\end{bmatrix} \\iff \\begin{bmatrix}\n",
        "x \\\\ \n",
        "y \\\\\n",
        "\\end{bmatrix}=\\begin{bmatrix}\n",
        "1 \\\\ \n",
        "0 \\\\\n",
        "\\end{bmatrix}$\n",
        "\n",
        "\\\\\n",
        "\n",
        "\\\\\n",
        "\n",
        "\\\\\n",
        "\n",
        "---\n",
        "\n",
        "\n",
        "\n",
        "![image.png](data:image/png;base64,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)\n",
        "\n",
        "\\*Mais informações em https://pt.khanacademy.org/math/precalculus/precalc-matrices/elementary-matrix-row-operations/a/matrix-row-operations\n",
        "\n"
      ]
    },
    {
      "cell_type": "markdown",
      "metadata": {
        "id": "2D1t1KxDLUaz"
      },
      "source": [
        "## **Diagonalização de Matrizes**"
      ]
    },
    {
      "cell_type": "markdown",
      "metadata": {
        "id": "b1cPCLW9QfMM"
      },
      "source": [
        "###**Definição:**"
      ]
    },
    {
      "cell_type": "markdown",
      "metadata": {
        "id": "Tb-WoB9gQA3A"
      },
      "source": [
        "Diagonalização é o processo de encontrar uma matriz diagonal correspondente a uma matriz ou operador diagonalizável.\n",
        "É utilizada devido ao fato que compartilha uma série de propriedades com a matriz diagonalizada e tem um custo de processamento muito inferior.\\\n",
        "É portanto um procedimento muito utilizado para processamento de matrizes de ordem muito grandes"
      ]
    },
    {
      "cell_type": "markdown",
      "metadata": {
        "id": "eZIOGmxBP4T1"
      },
      "source": [
        "###**Propriedades:**\n",
        "\n"
      ]
    },
    {
      "cell_type": "markdown",
      "metadata": {
        "id": "9hhgQTB4R1tJ"
      },
      "source": [
        "A matriz diagonal compartilha das seguintes características com a matriz original: \n",
        "\n",
        "* As características (postos) são iguais\\\n",
        "obs: posto é a quantidade de linhas não nulas de uma matriz\n",
        "* As nulidades são iguais\\\n",
        "obs: nulidade = n - p, onde n é o número de colunas da matriz e p é o posto\n",
        "* Os determinantes são iguais\n",
        "* Os traços são iguais\n",
        "* Os autovalores $\\lambda$ são iguais\n",
        "* Os autovetores são correspondentes"
      ]
    },
    {
      "cell_type": "markdown",
      "metadata": {
        "id": "_wK9ZVBXR3MD"
      },
      "source": [
        "###**Condição/pré-requisito para diagonalização:**\n",
        "\n"
      ]
    },
    {
      "cell_type": "markdown",
      "metadata": {
        "id": "Zwa1fenyJwf5"
      },
      "source": [
        "\n",
        "\n",
        "1.   Uma matriz é diagonalizável se e somente se:\n",
        "$$B = P^{-1}.A.P$$\n",
        "Onde: $B$ é a matriz diagonal, $A$ é a matriz diagonalizada e $P$ é a matriz que diagonaliza $A$\n",
        "\n",
        "2. $A$ é diagonalizável se, e somente se, a multiplicidade geométrica de cada autovetor for igual à multiplicidade algébrica do autovalor associado"
      ]
    },
    {
      "cell_type": "markdown",
      "metadata": {
        "id": "8lmphawwXHmq"
      },
      "source": [
        "### **Como diagonalizar?**"
      ]
    },
    {
      "cell_type": "markdown",
      "metadata": {
        "id": "AWcsxMcQXXR1"
      },
      "source": [
        "**Matriz diagonal ($B$)**\n",
        "\n",
        "Para determinar a matriz diagonal, partimos da propriedade de que a matriz diagonal compartilha os mesmos autovalores da matriz original, logo:\\\n",
        "B = $\\begin{bmatrix}\n",
        "\\lambda_{1} & 0 & 0 & ... & 0 \\\\\n",
        "0 & \\lambda_{2} & 0 & ... & 0 \\\\\n",
        "0 & 0 & \\lambda_{3} & ... & 0 \\\\\n",
        "... & ... & ... & ... & ... \\\\\n",
        "0 & 0 & 0 & ... & \\lambda_{n} \\\\\n",
        "\\end{bmatrix}$, sendo $\\lambda_{1},\\lambda_{2},\\lambda_{3},...,\\lambda_{n}$ autovalores de $A$\\\n",
        "onde $B$ é a matriz diagonal equivalente a $A$"
      ]
    },
    {
      "cell_type": "markdown",
      "metadata": {
        "id": "7DC5B2vUK6Rr"
      },
      "source": [
        "**Matriz $P$ (que diagonaliza $A$)**"
      ]
    },
    {
      "cell_type": "markdown",
      "metadata": {
        "id": "xxfLOxuTM2J2"
      },
      "source": [
        "É a matriz composta pelos autovetores de A (desde que os critérios acima pontuados sejam preenchidos)"
      ]
    },
    {
      "cell_type": "markdown",
      "metadata": {
        "id": "CAGXtJK5UNXS"
      },
      "source": [
        "### **Exercício de fixação**\n",
        "\n",
        "Encontre a matriz que diagonaliza $A = \\begin{bmatrix}\n",
        "2 & 0 & 1 \\\\\n",
        "1 & 0 & 1 \\\\\n",
        "0 & 0 & 1 \\\\\n",
        "\\end{bmatrix}$"
      ]
    },
    {
      "cell_type": "markdown",
      "metadata": {
        "id": "8ZRKucfsXxTF"
      },
      "source": [
        "---\n",
        "**Resolução:**\\\n",
        "A matriz que diagonaliza $A$ é a matriz $P$ (passo 5). Para fins didáticos, vamos encontrar também $P^{-1}$\n",
        "\n",
        "\n",
        "Passos:\n",
        "1. Determinar autovalores de A\n",
        "2. Encontrar autovetores associados aos autovalores de A\n",
        "3. Certificar que ma($\\lambda_1$) >= mg($\\lambda_1$), ma($\\lambda_2$) >= mg($\\lambda_2$), etc.\n",
        "4. Certificar que os autovetores obtidos são linearmente independentes\n",
        "5. Obter $P$ através dos autovetores encontrados\n",
        "6. Obter $P^{-1}$ através de método gaussiano\n",
        "\n",
        "**Passo 1-**\\\n",
        "$det(\\lambda.\\mathbb{I} - A) = 0 \\iff\n",
        "\\begin{vmatrix}\n",
        "\\lambda - 2 & 0       & -1         \\\\\n",
        "-1          & \\lambda & -1         \\\\\n",
        "0           & 0       & \\lambda -1 \\\\\n",
        "\\end{vmatrix} = 0 \\iff\n",
        "(\\lambda-2)(\\lambda)(\\lambda-1) = 0$\n",
        "\n",
        "Logo:\\\n",
        "$\\lambda_{1} = 2 \\rightarrow$ ma(2) = 1\\\n",
        "$\\lambda_{2} = 0 \\rightarrow$ ma(0) = 1\\\n",
        "$\\lambda_{3} = 1 \\rightarrow$ ma(1) = 1\n",
        "\n",
        "\\\\\n",
        "\n",
        "**Passo 2-**\\\n",
        "2.1- Para $\\lambda_{1} = 2$\\\n",
        "$(\\lambda.\\mathbb{I} - A). \\vec{x} = \\vec{0} \\iff \\begin{bmatrix}\n",
        "\\lambda - 2 & 0       & -1         \\\\\n",
        "-1          & \\lambda & -1         \\\\\n",
        "0           & 0       & \\lambda -1 \\\\\n",
        "\\end{bmatrix} . \\begin{bmatrix} x_{1} \\\\ x_{2} \\\\ x_{3} \\end{bmatrix} = \\begin{bmatrix} 0 \\\\ 0 \\\\ 0 \\end{bmatrix} \\iff\\\\\n",
        "\\begin{bmatrix}\n",
        "0 & 0       & -1         \\\\\n",
        "-1          & 2 & -1         \\\\\n",
        "0           & 0       & 1 \\\\\n",
        "\\end{bmatrix} . \\begin{bmatrix} x_{1} \\\\ x_{2} \\\\ x_{3} \\end{bmatrix} = \\begin{bmatrix} 0 \\\\ 0 \\\\ 0 \\end{bmatrix}$\n",
        "\n",
        "$\\begin{equation}\n",
        "  \\begin{cases}\n",
        "    - x_{3} = 0\\\\\n",
        "    - x_{1} + 2.x_{2} -x_{3} = 0\\\\\n",
        "    x_{3} = 0\\\\\n",
        "  \\end{cases}\n",
        "\\end{equation}\n",
        "\\\\\n",
        "x_{3} = 0, x_{1} = -2x_{2}$\n",
        "\n",
        "\\\\\n",
        "Temos, portanto, que para $\\lambda = 2$:\\\n",
        "$\\begin{bmatrix} x_{1} \\\\ x_{2} \\\\ x_{3} \\end{bmatrix} = \\begin{bmatrix} -2x_{2} \\\\ x_{2} \\\\ 0 \\end{bmatrix} = x_{2}\\begin{bmatrix} -2 \\\\ 1 \\\\ 0 \\end{bmatrix}$\n",
        "\n",
        "\\\\\n",
        "\n",
        "2.2 - Para $\\lambda_{2} = 0$\\\n",
        "$(\\lambda.\\mathbb{I} - A). \\vec{x} = \\vec{0} \\iff \\begin{bmatrix}\n",
        "\\lambda - 2 & 0       & -1         \\\\\n",
        "-1          & \\lambda & -1         \\\\\n",
        "0           & 0       & \\lambda -1 \\\\\n",
        "\\end{bmatrix} . \\begin{bmatrix} x_{1} \\\\ x_{2} \\\\ x_{3} \\end{bmatrix} = \\begin{bmatrix} 0 \\\\ 0 \\\\ 0 \\end{bmatrix} \\iff\\\\\n",
        "\\begin{bmatrix}\n",
        "-2 & 0 & -1 \\\\\n",
        "-1 & 0 & -1 \\\\\n",
        "0  & 0 & -1 \\\\\n",
        "\\end{bmatrix} . \\begin{bmatrix} x_{1} \\\\ x_{2} \\\\ x_{3} \\end{bmatrix} = \\begin{bmatrix} 0 \\\\ 0 \\\\ 0 \\end{bmatrix}$\n",
        "\n",
        "$\\begin{equation}\n",
        "  \\begin{cases}\n",
        "    - 2x_{1} - x_{3} = 0\\\\\n",
        "    - x_{1} - x_{3} = 0\\\\\n",
        "    -x_{3} = 0\\\\\n",
        "  \\end{cases}\n",
        "\\end{equation}\n",
        "\\\\\n",
        "x_{1} = x_{3} = 0$\n",
        "\n",
        "\\\\\n",
        "\n",
        "\n",
        "Temos, portanto, que para $\\lambda = 0$:\\\n",
        "$\\begin{bmatrix} x_{1} \\\\ x_{2} \\\\ x_{3} \\end{bmatrix} = \\begin{bmatrix} 0 \\\\ x_{2} \\\\ 0 \\end{bmatrix} = x_{2}\\begin{bmatrix} 0 \\\\ 1 \\\\ 0 \\end{bmatrix}$\n",
        "\n",
        "\n",
        "\\\\\n",
        "\n",
        "\n",
        "2.3 - Para $\\lambda_{3} = 1$\\\n",
        "$(\\lambda.\\mathbb{I} - A). \\vec{x} = \\vec{0} \\iff \\begin{bmatrix}\n",
        "\\lambda - 2 & 0       & -1         \\\\\n",
        "-1          & \\lambda & -1         \\\\\n",
        "0           & 0       & \\lambda -1 \\\\\n",
        "\\end{bmatrix} . \\begin{bmatrix} x_{1} \\\\ x_{2} \\\\ x_{3} \\end{bmatrix} = \\begin{bmatrix} 0 \\\\ 0 \\\\ 0 \\end{bmatrix} \\iff\\\\\n",
        "\\begin{bmatrix}\n",
        "-1 & 0 & -1 \\\\\n",
        "-1 & 1 & -1 \\\\\n",
        "0  & 0 & 0 \\\\\n",
        "\\end{bmatrix} . \\begin{bmatrix} x_{1} \\\\ x_{2} \\\\ x_{3} \\end{bmatrix} = \\begin{bmatrix} 0 \\\\ 0 \\\\ 0 \\end{bmatrix}$\n",
        "\n",
        "$\\begin{equation}\n",
        "  \\begin{cases}\n",
        "    - x_{1} - x_{3} = 0\\\\\n",
        "    - x_{1} + x_{2} - x_{3} = 0\\\\\n",
        "  \\end{cases}\n",
        "\\end{equation}\n",
        "\\\\\n",
        "x_{1} = x_{3}, x{2} = x{1} + x{3}$\n",
        "\n",
        "\\\\\n",
        "\n",
        "\n",
        "Temos, portanto, que para $\\lambda = 1$:\\\n",
        "$\\begin{bmatrix} x_{1} \\\\ x_{2} \\\\ x_{3} \\end{bmatrix} = \\begin{bmatrix} x_{1} \\\\ 2x_{1} \\\\ x{1} \\end{bmatrix} = x_{1}\\begin{bmatrix} 1 \\\\ 2 \\\\ 1 \\end{bmatrix}$\n",
        "\n",
        "Os autovetores associados aos seus respectivos autovalores ($\\lambda_{1} = 2$,$\\lambda_{2} = 0$ e $\\lambda_{3} = 1$) são $[-2, 1, 0]$, $[0, 1, 0]$ e $[1, 2, 1]$\n",
        "\n",
        "\\\\\n",
        "\n",
        "**Passo 3-**\\\n",
        "ma(2) <= mg(2)\\\n",
        "ma(0) <= mg(0)\\\n",
        "ma(3) <= mg(3)\n",
        "\n",
        "\\\\\n",
        "\n",
        "**Passo 4-**\\\n",
        "Calcula-se o determinante da matriz formada pelos autovetores obtidos (também chamada P)\\\n",
        "$\\begin{vmatrix}\n",
        "-2 & 0 & 1 \\\\\n",
        "1  & 1 & 2 \\\\\n",
        "0 & 0 & 1\\\\\n",
        "\\end{vmatrix} = -2$\\\n",
        "Determinante $\\neq$ 0, logo os autovetores obtidos são L.I.\n",
        "\n",
        "\\\\\n",
        "\n",
        "**Passo 5-**\\\n",
        "P = $\\begin{bmatrix}\n",
        "-2 & 0 & 1 \\\\\n",
        "1  & 1 & 2 \\\\\n",
        "0 & 0 & 1 \\\\\n",
        "\\end{bmatrix}$\n",
        "\n",
        "\\\\\n",
        "\n",
        "**Passo 6-**\\\n",
        "Obtendo $P^{-1}$ (método da matriz aumentada):\\\n",
        "$\\begin{bmatrix}\n",
        "\\begin{array}{c,c,c|c,c,c}\n",
        "-2 & 0 & 1 & 1 & 0 & 0 \\\\\n",
        "1  & 1 & 2 & 0 & 1 & 0 \\\\\n",
        "0  & 0 & 1 & 0 & 0 & 1 \\\\\n",
        "\\end{array}\n",
        "\\end{bmatrix} \\rightarrow L_{1} \\leftrightarrow L_{1} + 3.L_{2}$\\\\\n",
        "\n",
        "=$\\begin{bmatrix}\n",
        "\\begin{array}{c,c,c|c,c,c}\n",
        "1 & 3 & 7 & 1 & 3 & 0 \\\\\n",
        "1 & 1 & 2 & 0 & 1 & 0 \\\\\n",
        "0 & 0 & 1 & 0 & 0 & 1 \\\\\n",
        "\\end{array}\n",
        "\\end{bmatrix} \\rightarrow L_{2} \\leftrightarrow L_{2} - L_{1}$\\\\\n",
        "\n",
        "=$\\begin{bmatrix}\n",
        "\\begin{array}{c,c,c|c,c,c}\n",
        "1  & 3  &  7 &  1  & 3  & 0 \\\\\n",
        "0  & -2 & -5 & -1  & -2 & 0 \\\\\n",
        "0  & 0  & 1  & 0  & 0  & 1 \\\\\n",
        "\\end{array}\n",
        "\\end{bmatrix}\\rightarrow L_{2} \\leftrightarrow (\\frac{-1}{2}) . L_{2}$\\\\\n",
        "\n",
        "=$\\begin{bmatrix}\n",
        "\\begin{array}{c,c,c|c,c,c}\n",
        "1  & 3 & 7             & 1            & 3  & 0 \\\\\n",
        "0  & 1 & \\frac{5}{2}   & \\frac{1}{2} & 1  & 0 \\\\\n",
        "0  & 0 & 1             & 0            & 0  & 1 \\\\\n",
        "\\end{array}\n",
        "\\end{bmatrix} \\rightarrow L_{1} \\leftrightarrow L_{1} -3 . L_{2}$\\\\\n",
        "\n",
        "$\\begin{bmatrix}\n",
        "\\begin{array}{c,c,c|c,c,c}\n",
        "1  & 0 & \\frac{-1}{2}  & \\frac{-1}{2} & 0  & 0 \\\\\n",
        "0  & 1 & \\frac{5}{2}   & \\frac{1}{2}  & 1  & 0 \\\\\n",
        "0  & 0 & 1             & 0            & 0  & 1 \\\\\n",
        "\\end{array}\n",
        "\\end{bmatrix} \\rightarrow L_{1} \\leftrightarrow L_{1} + \\frac{1}{2}L_{3}$ e $L_{2} \\leftrightarrow L_{2} + \\frac{-5}{2}L_{3}$\\\\\n",
        "\n",
        "$\\begin{bmatrix}\n",
        "\\begin{array}{c,c,c|c,c,c}\n",
        "1  & 0 & 0  & \\frac{-1}{2} & 0  & \\frac{1}{2} \\\\\n",
        "0  & 1 & 0  & \\frac{1}{2}  & 1  & \\frac{-5}{2}\\\\\n",
        "0  & 0 & 1  & 0            & 0  & 1           \\\\\n",
        "\\end{array}\n",
        "\\end{bmatrix}$\n",
        "\n",
        "\\\\\n",
        "Portanto, temos $P^{-1}= \\begin{bmatrix}\n",
        "\\frac{-1}{2} & 0  & \\frac{1}{2} \\\\\n",
        "\\frac{1}{2}  & 1  & \\frac{-5}{2}\\\\\n",
        "0            & 0  & 1           \\\\\n",
        "\\end{bmatrix}$"
      ]
    },
    {
      "cell_type": "markdown",
      "metadata": {
        "id": "FZcYn2pA4QD-"
      },
      "source": [
        "**Observação importante: Para os outros exercícios, não basta apenas encontrarmos as matrizes $P$ e $P^{-1}$, é preciso checar se a condição $B = P^{-1}.A.P$ é verdadeira, para assumirmos que existe matriz diagonal para $A$**"
      ]
    },
    {
      "cell_type": "markdown",
      "metadata": {
        "id": "kuKDolAcKd1i"
      },
      "source": [
        "# **Aula 12: Decomposição (ou fatoração) de matrizes LU**"
      ]
    },
    {
      "cell_type": "markdown",
      "metadata": {
        "id": "dYFFfgPkjXLm"
      },
      "source": [
        "## **Definição**"
      ]
    },
    {
      "cell_type": "markdown",
      "metadata": {
        "id": "2CiukCf4pHFT"
      },
      "source": [
        "A decomposição (ou fatoração) de matrizes L.U. facilita a resolução de sistemas com muitas variáveis.\\\n",
        "A fatoração acontece de modo a transformar uma matriz *A*, de modo que:\n",
        "$$ A = L.U $$\n",
        "Onde $A$ é a matriz formada pelos coeficientes da equação e $L$ e $U$, respectivamente, correspondem a lower e upper (matrizes triangular inferior e superior) da matriz $A$ modificada (isso significa que através da matriz original $A$, através de operações elementares, podemos obter as matrizes $L$ e $U$)\n",
        "\n",
        "Se recuperarmos a fórmula já vista de resolução de sistemas lineares com matrizes, $A.\\vec{x} = B$, temos:\\\n",
        "$\\begin{equation}\n",
        "  \\begin{cases}\n",
        "    A.\\vec{x} = B\\\\\n",
        "    A = L.U\\\\\n",
        "  \\end{cases}\n",
        "\\end{equation} \\iff L.U.\\vec{x} = B$\\\n",
        "Ao acrescentarmos $U.\\vec{x} = \\vec{y}$, seguimos com:\\\n",
        "$L.\\vec{y} = B$\n",
        "\n",
        "\\\\\n",
        "Portanto, para encontrarmos o vetor solução ($\\vec{x}$), precisamos:\n",
        "\n",
        "1.   Determinar $L$ e $U$ de $A$;\n",
        "2.   Resolver $L.\\vec{y} = B$, de modo a obter $\\vec{y}$;\n",
        "3.   Resolver $U. \\vec{x} = \\vec{y}$, de modo a obter o vetor solução do sistema ($\\vec{x}$)\n",
        "\n",
        "\n",
        "\n",
        "---\n",
        "Obs: É possível que existam pivôs nulos. Isso significa que algumas matrizes podem ter os pivôs (ou seja, os elementos da diagonal principal) iguais a 0, não podendo ser usados para zerar outras linhas da matriz $A$, e consequentemente tornando impossível a determinação da matriz triangular superior ($U$). Para esses casos, utilizamos a técnica de pivotagem parcial (aula 13)\n",
        "\n",
        "\n"
      ]
    },
    {
      "cell_type": "markdown",
      "metadata": {
        "id": "Gesf2R1Cs7iR"
      },
      "source": [
        "### **Mas quem diabos é L e U???**"
      ]
    },
    {
      "cell_type": "markdown",
      "metadata": {
        "id": "130ZtdQFtMnY"
      },
      "source": [
        "**Lower (L)**: É a matriz triangular inferior, com elementos da diagonal principal iguais a 1 e os demais elementos iguais aos multiplicadores das etapas de escalonamento da matriz superior (U):\\\n",
        "$L = \\begin{bmatrix}\n",
        "1 & 0 & 0 \\\\\n",
        "mL_{21} & 1 & 0 \\\\\n",
        "mL_{31} & mL_{32} & 1 \\\\\n",
        "\\end{bmatrix}$\\\n",
        "$mL_{21}, mL_{31}$ e $mL_{32}$ são chamados de fatores de $A$ e podem ser obtidos através da divisão do elemento da posição correspondente pelo pivô da coluna ($\\frac{elemento}{pivô}$)\n",
        "\n",
        "Por exemplo, no exemplo acima temos:\\\n",
        "$mL_{21} = \\frac{A_{21}}{pivô}, mL_{31} = \\frac{A_{31}}{pivô}$ e $mL_{32} = \\frac{A_{32}}{pivô}$\\\n",
        "Lembrando que o pivô é o mesmo para elementos de mesma coluna\n",
        "\n",
        "\\\\\n",
        "\\\n",
        "**Upper (U)**: Matriz triangular superior, resultante do escalonamento de $A$. É o resultado da matriz A após a obtenção da matriz $L$\n",
        "\n",
        "\\\\\n",
        "\n",
        "Portanto, ambas as matrizes são obtidas através do escalonamento de A [(mais informações do passo a passo, consultar este vídeo)](https://www.youtube.com/watch?v=AtxPrtmo0OA)\\\n",
        "**Dica: Começar escalonando a matriz $A$ (a fim de se obter U), e os fatores de $A$ (que correspondem os elementos não nulos de L) vão sendo descobertos**"
      ]
    },
    {
      "cell_type": "markdown",
      "metadata": {
        "id": "bq0Wlz4sqXaE"
      },
      "source": [
        "## **Requisitos**\n",
        "\n"
      ]
    },
    {
      "cell_type": "markdown",
      "metadata": {
        "id": "WlIgherxJ9h2"
      },
      "source": [
        "Para se decompôr uma matriz $A$ através do método LU... \n",
        "\n",
        "1.   Precisa ser quadrada ($A_{mn}$, onde m = n)\n",
        "2.   Não pode ser singular (ou seja, $det(A) \\neq 0$)"
      ]
    },
    {
      "cell_type": "markdown",
      "metadata": {
        "id": "Zlaid898qgB0"
      },
      "source": [
        "## **Exercício de fixação**\n",
        "\n",
        "Resolver o sistema por decomposição LU:\\\n",
        "$\\begin{bmatrix}\n",
        "1 & -3 & 2 \\\\\n",
        "-2 & 8 & -1 \\\\\n",
        "4 & -6 & 5 \\\\\n",
        "\\end{bmatrix} . \\begin{bmatrix}\n",
        "x \\\\\n",
        "y \\\\\n",
        "z \\\\\n",
        "\\end{bmatrix} = \\begin{bmatrix}\n",
        "11 \\\\\n",
        "-15 \\\\\n",
        "29 \\\\\n",
        "\\end{bmatrix}$"
      ]
    },
    {
      "cell_type": "markdown",
      "metadata": {
        "id": "EiXYQCE5AqDm"
      },
      "source": [
        "Passo a passo da resolução:\n",
        "\n",
        "\n",
        "1. Encontrar L e U (método de Gauss)\n",
        "2. Calcular $L.\\vec{y} = B$ (lembrando que y = U.x)\n",
        "3. Resolver $\\vec{y} = U.\\vec{x}$\n",
        "4. Vetor $\\vec{x}$ é o vetor-solução do sistema linear 🤡\n",
        "\n"
      ]
    },
    {
      "cell_type": "markdown",
      "metadata": {
        "id": "DRvjEQAECnbQ"
      },
      "source": [
        "**Passo 1 [(esse passo é ctrl c ctrl v desse vídeo)](https://www.youtube.com/watch?v=AtxPrtmo0OA):**\n",
        "*   Encontrando U:\n",
        "Precisamos transformar a matriz A em uma triangular superior, por isso zeramos a primeira coluna (os elementos abaixo do elemento da diagonal principal) utilizando o elemento $a_{11}$ como pivô:\\\n",
        "$A_{0} = \\begin{bmatrix}\n",
        "1 & -3 & 2 \\\\\n",
        "-2 & 8 & -1 \\\\\n",
        "4 & -6 & 5 \\\\\n",
        "\\end{bmatrix}$\\\n",
        "pivô:$a_{11}$, $mL_{21} = -2$ e $L_{2} \\leftarrow L_{2} - mL{2}.L_{1} \\iff\n",
        "A_{1} = \\begin{bmatrix}\n",
        "1 & -3 & 2 \\\\\n",
        "0 & 2 & 3 \\\\\n",
        "4 & -6 & 5 \\\\\n",
        "\\end{bmatrix}$\\\n",
        "pivô:$a_{11}$, $mL_{31} = 4$ e $L_{3} \\leftarrow L_{3} - mL{3}.L_{1} \\iff A_{2}= \\begin{bmatrix}\n",
        "1 & -3 & 2 \\\\\n",
        "0 & 2 & 3 \\\\\n",
        "0 & 6 & -3 \\\\\n",
        "\\end{bmatrix}$\n",
        "\n",
        "Zerados os elementos da primeira coluna abaixo da diagonal principal ($a_{21}$ e $a_{31}$), precisamos zerar o elemento abaixo da diagonal principal na segunda coluna ($a_{32}$) para concluirmos a transformação em uma matriz triangular superior. O pivô, então passa a ser o elemento $a_{22}$:\\\n",
        "pivô:$a_{22}$, $mL_{32} = 3$ e $L_{3} \\leftarrow L_{3} - mL{3}.L_{1} \\iff A_{3}=\\begin{bmatrix}\n",
        "1 & -3 & 2 \\\\\n",
        "0 & 2 & 3 \\\\\n",
        "0 & 0 & -12 \\\\\n",
        "\\end{bmatrix} = U$\n",
        "\n",
        "\\\\\n",
        "\n",
        "* Encontrando L:\n",
        "\n",
        "\n",
        "Como já visto, em uma decomposição LU, a matriz L pode ser expressa do seguinte modo:\n",
        "$L = \\begin{bmatrix}\n",
        "1 & 0 & 0 \\\\\n",
        "mL_{21} & 1 & 0 \\\\\n",
        "mL_{31} & mL_{32} & 1 \\\\\n",
        "\\end{bmatrix}$\n",
        "\n",
        "\n",
        "Sendo que $mL_{21},mL_{31}$ e $mL_{32}$ foram obtidos durante o processo de determinação de $U$. Logo:\n",
        "\n",
        "Com $mL_{21} = -2, mL_{31} = 4$ e $mL_{32} = 3$, temos:\\\n",
        "$L = \\begin{bmatrix}\n",
        "1 & 0 & 0 \\\\\n",
        "-2 & 1 & 0 \\\\\n",
        "4 & 3 & 1 \\\\\n",
        "\\end{bmatrix}$\n",
        "\n",
        "\n",
        "\n"
      ]
    },
    {
      "cell_type": "markdown",
      "metadata": {
        "id": "gPpBdOfvCuhX"
      },
      "source": [
        "**Passo 2: Com L e U em mãos, precisamos resolver a equação $L.\\vec{y} = B$**\n",
        "\n",
        "  Assumindo $\\vec{y} = \\begin{bmatrix}y_{1} \\\\ y_{2} \\\\ y_{3}\\end{bmatrix}$, temos:\n",
        "\n",
        "$\\begin{bmatrix}\n",
        "1 & 0 & 0 \\\\\n",
        "-2 & 1 & 0 \\\\\n",
        "4 & 3 & 1 \\\\\n",
        "\\end{bmatrix} . \\begin{bmatrix}y_{1} \\\\ y_{2} \\\\ y_{3}\\end{bmatrix} = \\begin{bmatrix}11 \\\\ -15 \\\\ 29\\end{bmatrix}$\n",
        "\n",
        "\\\\\n",
        "\n",
        "$\\begin{equation}\n",
        "  \\begin{cases}\n",
        "    y_{1}  = 11\\\\\n",
        "    -2 y_{1} + y_{2} = -15\\\\\n",
        "    4y_{1} + 3y_{2} +y_{3} = 29\n",
        "  \\end{cases}\n",
        "\\end{equation}$\n",
        "\n",
        "Portanto, temos $\\vec{y} = \\begin{bmatrix}y_{1} \\\\ y_{2} \\\\ y_{3}\\end{bmatrix} = \\begin{bmatrix}11 \\\\ 7\\\\ -36\\end{bmatrix}$\n"
      ]
    },
    {
      "cell_type": "markdown",
      "metadata": {
        "id": "ImwPR46HCuqN"
      },
      "source": [
        "**Passo 3: com $\\vec{y}$ em mãos, basta resolver $\\vec{y} = U.\\vec{x}$**\n",
        "\n",
        "$\\begin{bmatrix}11 \\\\ 7\\\\ -36\\end{bmatrix} = \\begin{bmatrix}\n",
        "1 & -3 & 2 \\\\\n",
        "0 & 2 & 3 \\\\\n",
        "0 & 0 & -12 \\\\\n",
        "\\end{bmatrix} . \\begin{bmatrix}x \\\\ y\\\\ z\\end{bmatrix}$\n",
        "\n",
        "\\\\\n",
        "\n",
        "$\\begin{equation}\n",
        "  \\begin{cases}\n",
        "    x -3y + 2z = 11 \\\\\n",
        "    2y + 3z = 7\\\\\n",
        "    -12z = -36\n",
        "  \\end{cases}\n",
        "\\end{equation}$\n",
        "\n",
        "Logo, temos $\\vec{x} = \\begin{bmatrix}x \\\\ y\\\\ z\\end{bmatrix} =\\begin{bmatrix}2 \\\\ -1\\\\ 3\\end{bmatrix}$\n"
      ]
    },
    {
      "cell_type": "markdown",
      "metadata": {
        "id": "rNiWUCdpCux2"
      },
      "source": [
        "**Passo 4: Vetor $\\vec{x}$ representa o conjunto solução do sistema linear**\n",
        "\n",
        "Logo: $x = 2, y = -1$ e $z = 3$"
      ]
    },
    {
      "cell_type": "markdown",
      "metadata": {
        "id": "Uv0PEg0kvryp"
      },
      "source": [
        "## **Fatoração LU em Python**"
      ]
    },
    {
      "cell_type": "markdown",
      "metadata": {
        "id": "xOQrHH2kzgA1"
      },
      "source": [
        "Algoritmo construído que retorna $L$ e $U$ dado uma matriz $A$"
      ]
    },
    {
      "cell_type": "code",
      "metadata": {
        "id": "YVJofAu9vv2H"
      },
      "source": [
        "import numpy as np\n",
        "def fatoraLU(A):  \n",
        "    U = np.copy(A)  \n",
        "    n = np.shape(U)[0]  \n",
        "    L = np.eye(n)  \n",
        "    for j in np.arange(n-1):  \n",
        "        for i in np.arange(j+1,n):\n",
        "            L[i,j] = U[i,j]/U[j,j]\n",
        "            for k in np.arange(j+1,n):\n",
        "                U[i,k] = U[i,k] - L[i,j]*U[j,k]\n",
        "            U[i,j] = 0\n",
        "    return L, U"
      ],
      "execution_count": 92,
      "outputs": []
    },
    {
      "cell_type": "markdown",
      "metadata": {
        "id": "t05hB2o_O_ay"
      },
      "source": [
        "# **Aula 13: Decomposição (ou fatoração) de matrizes**"
      ]
    },
    {
      "cell_type": "markdown",
      "metadata": {
        "id": "KirSgLFtybDS"
      },
      "source": [
        "## **Pivotagem parcial**\n"
      ]
    },
    {
      "cell_type": "markdown",
      "metadata": {
        "id": "0lWaiOGL6OES"
      },
      "source": [
        "### **Definição**"
      ]
    },
    {
      "cell_type": "markdown",
      "metadata": {
        "id": "PCLguN696QmL"
      },
      "source": [
        "É um método complementar à decomposição de matriz LU. Serve nos casos onde pelo menos um dos pivôs da matriz $A$ é nulo.\\\n",
        "Como sabemos, um pivô não pode ser nulo, pois caso seja, ele não pode zerar outras linhas da matriz (impedindo a determinação de $L$ e $U$).\n",
        "\n",
        "\n",
        "Nesse caso, utilizamos uma matriz auxiliar $P$, também chamada de matriz de permutação, (que nada mais é do que uma matriz identidade $\\mathbb{I}$ com linhas trocadas). As linhas trocadas devem ser aquelas de $A$ de modo que o pivô nulo seja trocado por um não nulo (e portanto possa ser possível calcular as matrizes $L$ e $U$).\n",
        "\n",
        "\\\\\n",
        "\n",
        "Aproveitando a equação $A . \\vec{x} = B$, multiplicamos por $P$ em ambos os lados, ficando:\n",
        "$$ P. A . \\vec{x} = P.B$$\n",
        "\n",
        "Após a inversão das linhas de $A$ (com o auxílio de $P$), a resolução do sistema linear segue idêntica ao método de decomposição LU.\\\n",
        "**Aqui vale a observação de que na equação apresentada acima $ P. A . \\vec{x} = P. B$ a matriz $P$ irá inverter linhas de $A$ e irá inverter colunas de $B$.\\\n",
        "Isso é importante pois a ordem de $P$ no produto por uma matriz pode alterar a linha ou a coluna, dependendo de sua posição no produto ($A.P \\neq P.A$ )**\n",
        "\n",
        "---\n",
        "\n"
      ]
    },
    {
      "cell_type": "markdown",
      "metadata": {
        "id": "xQuXJT3e8CtL"
      },
      "source": [
        "**Curiosidade 1 - Demonstração que o produto de $P$ por $A$ inverte as linhas de $A$:**\n",
        "\n",
        "Seja $A = \\begin{bmatrix}\n",
        "1 & -3 & 2 \\\\\n",
        "-2 & 8 & -1 \\\\\n",
        "4 & -6 & 5 \\\\\n",
        "\\end{bmatrix}$ e $P_{13} = \\begin{bmatrix}\n",
        "0 & 0 & 1 \\\\\n",
        "0 & 1 & 0 \\\\\n",
        "1 & 0 & 0 \\\\\n",
        "\\end{bmatrix}$ (onde $P_{13}$ indica que trocamos as linhas 1 e 3 da matriz identidade de dimensão 3)\n",
        "\n",
        "$P . A = \\begin{bmatrix}\n",
        "1 & -3 & 2 \\\\\n",
        "-2 & 8 & -1 \\\\\n",
        "4 & -6 & 5 \\\\\n",
        "\\end{bmatrix} . \\begin{bmatrix}\n",
        "0 & 0 & 1 \\\\\n",
        "0 & 1 & 0 \\\\\n",
        "1 & 0 & 0 \\\\\n",
        "\\end{bmatrix} = \\begin{bmatrix}\n",
        "4 & -6 & 5 \\\\-2 & 8 & -1 \\\\\n",
        "1 & -3 & 2 \\\\\n",
        "\\end{bmatrix}$\n",
        "\n",
        "\\\\\n",
        "\n",
        "\n",
        "**Curiosidade 2 - P à esquerda no produto inverte as linhas e P à direita no produto inverte as colunas**\n",
        "\n",
        "$P_{13}.A \\rightarrow A$ com as linhas 1 e 3 trocadas\\\n",
        "$A.P_{13} \\rightarrow A$ com as colunas 1 e 3 trocadas\n",
        "\n",
        "\n"
      ]
    },
    {
      "cell_type": "code",
      "metadata": {
        "colab": {
          "base_uri": "https://localhost:8080/",
          "height": 0
        },
        "id": "QI6r7ksgsw68",
        "outputId": "dc8f5610-7ba9-4a15-f2fa-33308e84e72e"
      },
      "source": [
        "import numpy as np\n",
        "A = np.array([[1, -3, 2],\n",
        "              [-2, 8, -1],\n",
        "              [4, -6, 5]])\n",
        "P = np.array([[0, 0, 1],\n",
        "              [0, 1, 0],\n",
        "              [1, 0, 0]]) #matriz de permutação das linhas 1 e 3\n",
        "print(\"\"\"A:\n",
        "{}\n",
        "\"\"\".format(A))\n",
        "print(\"\"\"P*A inverte linhas:\n",
        "{}\n",
        "\"\"\".format(P.dot(A)))\n",
        "print(\"\"\"A*P inverte colunas:\n",
        "{}\n",
        "\"\"\".format(A.dot(P)))"
      ],
      "execution_count": 93,
      "outputs": [
        {
          "output_type": "stream",
          "name": "stdout",
          "text": [
            "A:\n",
            "[[ 1 -3  2]\n",
            " [-2  8 -1]\n",
            " [ 4 -6  5]]\n",
            "\n",
            "P*A inverte linhas:\n",
            "[[ 4 -6  5]\n",
            " [-2  8 -1]\n",
            " [ 1 -3  2]]\n",
            "\n",
            "A*P inverte colunas:\n",
            "[[ 2 -3  1]\n",
            " [-1  8 -2]\n",
            " [ 5 -6  4]]\n",
            "\n"
          ]
        }
      ]
    },
    {
      "cell_type": "markdown",
      "metadata": {
        "id": "XNKY4Pc570f8"
      },
      "source": [
        "###**Exemplo**\n",
        "\n",
        "$\\begin{bmatrix}\n",
        "1 & -3 & 2 \\\\\n",
        "-2 & 8 & -1 \\\\\n",
        "4 & -6 & 5 \\\\\n",
        "\\end{bmatrix} . \\begin{bmatrix}\n",
        "x_{1} \\\\\n",
        "x_{2} \\\\\n",
        "x_{3} \\\\\n",
        "\\end{bmatrix} = \\begin{bmatrix}\n",
        "11 \\\\\n",
        "-15 \\\\\n",
        "29 \\\\\n",
        "\\end{bmatrix}$"
      ]
    },
    {
      "cell_type": "markdown",
      "metadata": {
        "id": "IVhTwuYI79KZ"
      },
      "source": [
        "Ps: Este problema [é o mesmo resolvido na aula passada por decomposição LU](https://colab.research.google.com/drive/1JVoNdmzx0boRhMW6orQw3W7lfuNG6dve#scrollTo=Zlaid898qgB0&line=1&uniqifier=1)  e como não há a necessidade de usarmos pivotagem parcial já que não há pivôs nulos nesta matriz, vamos resolver utilizando esse recurso e verificarmos que o conjunto solução permanece o mesmo:\n",
        "\n",
        "Ps2: Aqui vamos utilizar a matriz $P_{12} = (2,1,3)$, ou seja, vamos inverter as linhas 1 e 2 da matriz $A$"
      ]
    },
    {
      "cell_type": "markdown",
      "metadata": {
        "id": "-zaamR3b4El3"
      },
      "source": [
        "Resolução (passo a passo)\n",
        "1. Resolver $P_{12}.A$ e $P_{12} . B$, da equação $P_{12}.A.\\vec{x} = P_{12} . B$\n",
        "2. Determinar L e U\n",
        "3. Resolver $L.\\vec{y} = P_{12}. B$\n",
        "4. Resolver $U.\\vec{x} = \\vec{y}$ para encontrar o vetor solução $\\vec{x}$\n",
        "\n",
        "\\\\\n",
        "\n",
        " **Passo 1:**\n",
        "\n",
        "$P_{12}.A = \\begin{bmatrix}\n",
        "0 & 1 & 0 \\\\\n",
        "1 & 0 & 0 \\\\\n",
        "0 & 0 & 1 \\\\\n",
        "\\end{bmatrix} . \\begin{bmatrix}\n",
        "1 & -3 & 2 \\\\\n",
        "-2 & 8 & -1 \\\\\n",
        "4 & -6 & 5 \\\\\n",
        "\\end{bmatrix} = \\begin{bmatrix}\n",
        "-2 & 8 & -1 \\\\\n",
        "1 &-3 & 2 \\\\\n",
        "4 & -6 & 5 \\\\\n",
        "\\end{bmatrix}$\n",
        "\n",
        "\\\\\n",
        "\n",
        "$P_{12} . B = \\begin{bmatrix}\n",
        "0 & 1 & 0 \\\\\n",
        "1 & 0 & 0 \\\\\n",
        "0 & 0 & 1 \\\\\n",
        "\\end{bmatrix} . \\begin{bmatrix}\n",
        "11 \\\\\n",
        "-15 \\\\\n",
        "29 \\\\\n",
        "\\end{bmatrix} = \\begin{bmatrix}\n",
        "-15 \\\\\n",
        "11 \\\\\n",
        "29 \\\\\n",
        "\\end{bmatrix}$\n",
        "\n",
        "Como esperado, após o produto por $P_{12}$, as linhas 1 e 2 das matrizes $A$ e $B$ foram trocadas."
      ]
    },
    {
      "cell_type": "markdown",
      "metadata": {
        "id": "7cQFsfx5DgDs"
      },
      "source": [
        "**Passo 2:**\\\n",
        "$A_{0} = \\begin{bmatrix}\n",
        "-2 & 8 & -1 \\\\\n",
        "1 &-3 & 2 \\\\\n",
        "4 & -6 & 5 \\\\\n",
        "\\end{bmatrix}$\\\n",
        "pivô: $a_{11}$\\\n",
        "$mL_{21} = \\frac{1}{-2} = -0.5$\\\n",
        "$mL_{31} = \\frac{4}{-2} = -2$\n",
        "\n",
        "\\\\\n",
        "\n",
        "$A_{1} = \\begin{bmatrix}\n",
        "-2 & 8 & -1 \\\\\n",
        "0 & 1 & 1.5 \\\\\n",
        "0 & 10 & 3 \\\\\n",
        "\\end{bmatrix}$\\\n",
        "pivô: $a_{22}$\\\n",
        "$mL_{32} = \\frac{10}{1} = 10$\n",
        "\n",
        "\\\\\n",
        "\n",
        "$A_{2} = \\begin{bmatrix}\n",
        "-2 & 8 & -1 \\\\\n",
        "0 & 1 & 1.5 \\\\\n",
        "0 & 0 & -12 \\\\\n",
        "\\end{bmatrix} = U$\n",
        "\n",
        "$L = \\begin{bmatrix}\n",
        "1 & 0 & 0 \\\\\n",
        "mL_{21} & 1 & 0 \\\\\n",
        "mL_{31} & mL_{32} & 1 \\\\\n",
        "\\end{bmatrix} = \\begin{bmatrix}\n",
        "1 & 0 & 0 \\\\\n",
        "-0.5 & 1 & 0 \\\\\n",
        "-2 & 10 & 1 \\\\\n",
        "\\end{bmatrix}$"
      ]
    },
    {
      "cell_type": "markdown",
      "metadata": {
        "id": "a2FqgLFmESlv"
      },
      "source": [
        "**Passo 3:**\n",
        "\n",
        "$L . \\vec{y} = P_{12}.B \\iff \\begin{bmatrix}\n",
        "1 & 0 & 0 \\\\\n",
        "-0.5 & 1 & 0 \\\\\n",
        "-2 & 10 & 1 \\\\\n",
        "\\end{bmatrix} . \\begin{bmatrix}\n",
        "y_{1}\\\\\n",
        "y_{2} \\\\\n",
        "y_{3}\\\\\n",
        "\\end{bmatrix} = \\begin{bmatrix}\n",
        "-15 \\\\\n",
        "11 \\\\\n",
        "29 \\\\\n",
        "\\end{bmatrix}$\n",
        "\n",
        "\\\\\n",
        "\n",
        "$\\begin{equation}\n",
        "  \\begin{cases}\n",
        "    y_{1}  = -15\\\\\n",
        "    -0.5y_{1} + y_{2} = 11\\\\\n",
        "    -2y_{1} + 10y_{2} +y_{3} = 29\n",
        "  \\end{cases}\n",
        "\\end{equation}$\\\n",
        "$y_{1} = -15, y_{2} = 3.5 , y_{3} = -36$"
      ]
    },
    {
      "cell_type": "markdown",
      "metadata": {
        "id": "DVhgr9XGFtmx"
      },
      "source": [
        "**Passo 4:**\n",
        "\n",
        "$U . \\vec{x} = \\vec{y} \\iff \\begin{bmatrix}\n",
        "-2 & 8 & -1 \\\\\n",
        "0 & 1 & 1.5 \\\\\n",
        "0 & 0 & -12 \\\\\n",
        "\\end{bmatrix} . \\begin{bmatrix}\n",
        "x\\\\\n",
        "y \\\\\n",
        "z\\\\\n",
        "\\end{bmatrix} = \\begin{bmatrix}\n",
        "-15\\\\\n",
        "3.5 \\\\\n",
        "-36\\\\\n",
        "\\end{bmatrix}$\n",
        "\n",
        "$\\begin{equation}\n",
        "  \\begin{cases}\n",
        "    -2x + 8y -z = -15\\\\\n",
        "    y + 1.5z = 3.5 \\\\\n",
        "    -12z = -36\n",
        "  \\end{cases}\n",
        "\\end{equation}$\\\n",
        "$x = 2, y = -1, z = 3$"
      ]
    },
    {
      "cell_type": "markdown",
      "metadata": {
        "id": "dJR8015BLR9J"
      },
      "source": [
        "Portanto, como visto na aula passada e como esperado, a solução permanece a mesma, ou seja:\n",
        "$\\vec{x} = \\begin{bmatrix}\n",
        "2\\\\\n",
        "-1 \\\\\n",
        "3 \\\\\n",
        "\\end{bmatrix}$"
      ]
    },
    {
      "cell_type": "markdown",
      "metadata": {
        "id": "cjMj30mw0rPS"
      },
      "source": [
        "### **Pivotagem parcial em Python**"
      ]
    },
    {
      "cell_type": "code",
      "metadata": {
        "colab": {
          "base_uri": "https://localhost:8080/",
          "height": 0
        },
        "id": "DnyMC3Fr1Jbk",
        "outputId": "041bd6a5-c173-4c1b-b540-1cd4b3348e9b"
      },
      "source": [
        "#A Decomposição LU pode ser realizada usando a função lu() do módulo linalg \n",
        "#da biblioteca scipy\n",
        "#Aqui é usada a pivotagem parcial: PA = LU ou A = LUP\n",
        "#Logo as matrizes resultantes não serão as mesmas.\n",
        "\n",
        "import numpy as np\n",
        "from scipy.linalg import lu\n",
        "\n",
        "A = np.array([[1,2,3],\n",
        "              [4,5,6],\n",
        "              [7,8,9]])\n",
        "print(\"Matriz A: \\n\",A)\n",
        "det = np.linalg.det(A)\n",
        "print(\"\\nDeterminante de A: \",det)\n",
        "P, L, U = lu(A)\n",
        "print(\"\\nP: \\n\",P)\n",
        "print(\"\\nL: \\n\",L)\n",
        "print(\"\\nU: \\n\",U)"
      ],
      "execution_count": 94,
      "outputs": [
        {
          "output_type": "stream",
          "name": "stdout",
          "text": [
            "Matriz A: \n",
            " [[1 2 3]\n",
            " [4 5 6]\n",
            " [7 8 9]]\n",
            "\n",
            "Determinante de A:  0.0\n",
            "\n",
            "P: \n",
            " [[0. 1. 0.]\n",
            " [0. 0. 1.]\n",
            " [1. 0. 0.]]\n",
            "\n",
            "L: \n",
            " [[1.   0.   0.  ]\n",
            " [0.14 1.   0.  ]\n",
            " [0.57 0.5  1.  ]]\n",
            "\n",
            "U: \n",
            " [[7.   8.   9.  ]\n",
            " [0.   0.86 1.71]\n",
            " [0.   0.   0.  ]]\n"
          ]
        }
      ]
    },
    {
      "cell_type": "markdown",
      "metadata": {
        "id": "UxPtM4ze1kiO"
      },
      "source": [
        "No exemplo acima, como o determinante da matriz $A = \\begin{bmatrix}\n",
        "1 & 2 & 3\\\\\n",
        "4 & 5 & 6 \\\\\n",
        "7 & 8 & 9\\\\\n",
        "\\end{bmatrix}$ é nulo (ou seja, não é uma matriz inversível), foi necessário utilizar a pivotagem parcial para inverter as linhas e torná-la uma matriz inversível."
      ]
    },
    {
      "cell_type": "markdown",
      "metadata": {
        "id": "Lc5G0yH4TGux"
      },
      "source": [
        "## **Sistemas lineares em Python**"
      ]
    },
    {
      "cell_type": "markdown",
      "metadata": {
        "id": "ZuRs-MHOMs2X"
      },
      "source": [
        "O método solve, do módulo linalg do Numpy, é uma implementação da fatoração LU vista acima\n",
        "https://numpy.org/doc/stable/reference/generated/numpy.linalg.solve.html"
      ]
    },
    {
      "cell_type": "code",
      "metadata": {
        "colab": {
          "base_uri": "https://localhost:8080/",
          "height": 0
        },
        "id": "R9eM0FJRqQ1L",
        "outputId": "b5fdae3b-3fe2-4442-d66c-749ed8bacb83"
      },
      "source": [
        "import numpy as np\n",
        "A = np.array([[1, -3, 2],\n",
        "             [-2, 8, -1],\n",
        "             [4, -6, 5]])\n",
        "b = np.array([11, -15, 29])\n",
        "x = np.linalg.solve(A, b)\n",
        "print(x)"
      ],
      "execution_count": 95,
      "outputs": [
        {
          "output_type": "stream",
          "name": "stdout",
          "text": [
            "[ 2. -1.  3.]\n"
          ]
        }
      ]
    },
    {
      "cell_type": "markdown",
      "metadata": {
        "id": "-ygOpprbMm6o"
      },
      "source": [
        "## **Decomposição de Cholesky**"
      ]
    },
    {
      "cell_type": "markdown",
      "metadata": {
        "id": "pbYiX5S8TO_Z"
      },
      "source": [
        "### **Definição**"
      ]
    },
    {
      "cell_type": "markdown",
      "metadata": {
        "id": "tINP_st1TKjd"
      },
      "source": [
        "Assim como na decomposição LU, a decomposição de Cholesky visa decompor uma matriz $A$ (que representa os coeficientes de um sistema linear) de modo a facilitar resolução de um sistema linear.\\\n",
        "A diferença reside em, ao invés de decompormos $A$ em $L.U$ (como é feito na decomposição LU), decompomos $A$ em $L.L^{t}$.\\\n",
        "**Importante lembrar que a matriz $L$ da fatoração LU não é a mesma matriz $L$ da decomposição de Cholesky.**\n",
        "\n",
        "\n",
        "O restante da resolução, que parte de $A.\\vec{x} = B$, é muito semelhante ao procedimento já visto anteriormente:\n",
        "\n",
        "\n",
        "1.   Determinar $L$ e $L^{t}$\n",
        "2.   Calcular $\\vec{y}$ em $L. \\vec{y} = B$ (lembrando que $\\vec{y} = L^{t}.\\vec{x}$)\n",
        "3.   Com $\\vec{y}$ determinado, calcular o vetor solução $\\vec{x}$ através de $\\vec{y} = L^{t}.\\vec{x}$\n",
        "\n"
      ]
    },
    {
      "cell_type": "markdown",
      "metadata": {
        "id": "lx8Z62luah9V"
      },
      "source": [
        "**Vantagem da decomposição de Cholesky**\n",
        "\n",
        "Quando os requisitos são atendidos, a fatoração de Cholesky é mais rápida do que a fatoração LU"
      ]
    },
    {
      "cell_type": "markdown",
      "metadata": {
        "id": "1bMZ7uW9TW2L"
      },
      "source": [
        "### **Requisitos**"
      ]
    },
    {
      "cell_type": "markdown",
      "metadata": {
        "id": "o2yXfK8PTWAn"
      },
      "source": [
        "1.   $A$ deve ser uma matriz simétrica, ou seja, $A = A^{t}$\n",
        "2.   $A$ deve ser uma matriz definida positiva, ou seja, $\\vec{v^{t}}.A.\\vec{v} >0, \\forall \\vec{v} \\neq \\vec{0}$\n",
        "\n"
      ]
    },
    {
      "cell_type": "markdown",
      "metadata": {
        "id": "hg1QlFplTPY2"
      },
      "source": [
        "### **Exercício**\n",
        "Encontrar a matriz $L$ que fatora $A=\\begin{bmatrix}\n",
        "4 & -2 & 2 \\\\\n",
        "-2 & 10 & -7 \\\\\n",
        "2 & -7 & 30 \\\\\n",
        "\\end{bmatrix}$"
      ]
    },
    {
      "cell_type": "markdown",
      "metadata": {
        "id": "WhlZytF-CJe_"
      },
      "source": [
        "####**Solução manual**"
      ]
    },
    {
      "cell_type": "markdown",
      "metadata": {
        "id": "yH4ZSWmhC0ex"
      },
      "source": [
        "Partimos de $L . L^{t} = A$\n",
        "\n",
        "$\\begin{bmatrix}\n",
        "l_{11} & 0 & 0 \\\\\n",
        "l_{21} & l_{22} & 0 \\\\\n",
        "l_{31} & l_{32} & l_{33} \\\\\n",
        "\\end{bmatrix} . \\begin{bmatrix}\n",
        "l_{11} & l_{21} & l_{31} \\\\\n",
        "0 & l_{22} & l_{32} \\\\\n",
        "0 & 0 & l_{33} \\\\\n",
        "\\end{bmatrix} = \\begin{bmatrix}\n",
        "4 & -2 & 2 \\\\\n",
        "-2 & 10 & -7 \\\\\n",
        "2 & -7 & 30 \\\\\n",
        "\\end{bmatrix} \\iff$\n",
        "\n",
        "\\\\\n",
        "\n",
        "$\\begin{bmatrix}\n",
        "(l_{11})^{2} & l_{11}.l_{21} & l_{11}.l_{31}\\\\\n",
        "l_{21}.l_{11} & (l_{21})^{2} + (l_{22})^{2} & l_{21}.l_{31} + l_{22}.l_{32} \\\\\n",
        "l_{31}.l_{11} & l_{31}.l_{21} + l_{32}.l_{22} & (l_{31})^{2} + (l_{32})^{2} + (l_{33})^{2}  \\\\\n",
        "\\end{bmatrix} = \\begin{bmatrix}\n",
        "4 & -2 & 2 \\\\\n",
        "-2 & 10 & -7 \\\\\n",
        "2 & -7 & 30 \\\\\n",
        "\\end{bmatrix}$\n",
        "\n",
        "Resolvendo a primeira linha:\\\n",
        "$(l_{11})^{2} = 4 \\iff l_{11} = 2$\\\n",
        "$ l_{11}.l_{21} = -2 \\iff l_{21} = \\frac{-2}{2} = -1$\\\n",
        "$l_{11}.l_{31} = 2 \\iff l_{31} = \\frac{2}{2} = 1$\n",
        "\n",
        "\\\\\n",
        "\n",
        "Resolvendo a segunda linha:\\\n",
        "$ (l_{21})^{2} + (l_{22})^{2} = 10 \\iff l_{22} = \\sqrt{10 - 1} = 3$\\\n",
        "$ l_{21}.l_{31} + l_{22}.l_{32} = -7 \\iff -1.1 + 3.l_{32} = -7 \\iff l_{32} = -2$\n",
        "\n",
        "\\\\\n",
        "\n",
        "Resolvendo a terceira linha:\\\n",
        "$(l_{31})^{2} + (l_{32})^{2} + (l_{33})^{2} = 30 \\iff 1 + 4 + (l_{33})^{2} = 30 \\iff (l_{33})^{2} = 25 \\iff l_{33} = 5$\n",
        "\n",
        "\\\\\n",
        "\n",
        "Temos como $L$, portanto:\\\n",
        "$L = \\begin{bmatrix}\n",
        "l_{11} & 0 & 0 \\\\\n",
        "l_{21} & l_{22} & 0 \\\\\n",
        "l_{31} & l_{32} & l_{33} \\\\\n",
        "\\end{bmatrix} = \\begin{bmatrix}\n",
        "2 & 0 & 0 \\\\\n",
        "-1 & 3 & 0 \\\\\n",
        "1 & -2 & 5 \\\\\n",
        "\\end{bmatrix}$\n"
      ]
    },
    {
      "cell_type": "markdown",
      "metadata": {
        "id": "bmBp8f7gCtEV"
      },
      "source": [
        "####**Solução no Python**"
      ]
    },
    {
      "cell_type": "code",
      "metadata": {
        "colab": {
          "base_uri": "https://localhost:8080/",
          "height": 0
        },
        "id": "l9nWabQ4z-UU",
        "outputId": "3c2c9b04-aecb-4c57-e334-b828e036a3f7"
      },
      "source": [
        "import numpy as np\n",
        "A = np.array([[4, -2, 2],\n",
        "             [-2, 10, -7],\n",
        "             [2, -7, 30]])\n",
        "L = np.linalg.cholesky(A)\n",
        "print(\"\"\"\n",
        "A:\n",
        "{}\n",
        "\"\"\".format(A))\n",
        "print(\"\"\"\n",
        "L:\n",
        "{}\n",
        "\"\"\".format(L))\n",
        "\n",
        "# Como em Cholesky, decompomos A como L * L.t, vamos verificar\n",
        "# retroativamente se L * L.t resulta em A:\n",
        "print(\"\"\"\n",
        "L * L.T:\n",
        "{}\n",
        "\"\"\".format(L.dot(L.T)))"
      ],
      "execution_count": 96,
      "outputs": [
        {
          "output_type": "stream",
          "name": "stdout",
          "text": [
            "\n",
            "A:\n",
            "[[ 4 -2  2]\n",
            " [-2 10 -7]\n",
            " [ 2 -7 30]]\n",
            "\n",
            "\n",
            "L:\n",
            "[[ 2.  0.  0.]\n",
            " [-1.  3.  0.]\n",
            " [ 1. -2.  5.]]\n",
            "\n",
            "\n",
            "L * L.T:\n",
            "[[ 4. -2.  2.]\n",
            " [-2. 10. -7.]\n",
            " [ 2. -7. 30.]]\n",
            "\n"
          ]
        }
      ]
    },
    {
      "cell_type": "markdown",
      "metadata": {
        "id": "X5Rwyatu4P5N"
      },
      "source": [
        "## **Decomposição QR**"
      ]
    },
    {
      "cell_type": "markdown",
      "metadata": {
        "id": "WUgi6GX74mGW"
      },
      "source": [
        "### **Definição**"
      ]
    },
    {
      "cell_type": "markdown",
      "metadata": {
        "id": "E4WL-Eqv69Dh"
      },
      "source": [
        "Trata-se de um método de decomposição de matrizes não quadradas ($A_{MxN}$), tal que:\n",
        "\n",
        "$$A = Q.R$$\n",
        "\n",
        "$Q$: matriz quadrada (dimensão m), cujas colunas formam uma **base ortonormal**, ou seja, além de ser uma base ortogonal, seus vetores são unitários. $Q^{T}.Q = \\mathbb{I}$\n",
        "\n",
        "Lembrando que ser **ortogonal** significa que o **produto interno** entre pares de vetores distintos dessa base são igual a **zero**. \n",
        "\n",
        "Além disso, uma **matriz ortogonal** é sempre invertível e sua inversa é dada pela sua transposta. \n",
        "\n",
        "$R$: mxn, triangular superior, **não singular** (admite inversa), já que sua diagonal principal contém apenas termos não-nulos."
      ]
    },
    {
      "cell_type": "markdown",
      "metadata": {
        "id": "Zmbc-cpX4l8h"
      },
      "source": [
        "### **Requisitos**\n",
        "\n",
        "\n",
        "1.   Vetores-coluna da matriz $A$ devem ser Linearmente Independentes (LI)\n",
        "\n"
      ]
    },
    {
      "cell_type": "markdown",
      "metadata": {
        "id": "WrA-Y5KU4lvG"
      },
      "source": [
        "### **Exemplo**"
      ]
    },
    {
      "cell_type": "code",
      "metadata": {
        "colab": {
          "base_uri": "https://localhost:8080/",
          "height": 0
        },
        "id": "i0N0DzMW-Bh9",
        "outputId": "f10e8b44-6a1f-40c0-fc90-a0e7dc561d51"
      },
      "source": [
        "import numpy as np\n",
        "A = np.array([[1, 2],\n",
        "              [3, 4],\n",
        "              [5, 6]])\n",
        "print(\"A: \\n\",A)\n",
        "\n",
        "Q, R = np.linalg.qr(A)\n",
        "print(\"\\nQ: \\n\",Q)\n",
        "print(\"\\nR: \\n\",R)\n",
        "\n",
        "#Reconstrução\n",
        "B = Q.dot(R)\n",
        "#B == A\n",
        "print(\"\\nMatriz A reconstruída: \\n\",B)\n",
        "\n",
        "print(\"\\nVerificando que Q forma uma base ortonormal: \\n\")\n",
        "C = Q.T.dot(Q)\n",
        "print(C)"
      ],
      "execution_count": 97,
      "outputs": [
        {
          "output_type": "stream",
          "name": "stdout",
          "text": [
            "A: \n",
            " [[1 2]\n",
            " [3 4]\n",
            " [5 6]]\n",
            "\n",
            "Q: \n",
            " [[-0.17  0.9 ]\n",
            " [-0.51  0.28]\n",
            " [-0.85 -0.35]]\n",
            "\n",
            "R: \n",
            " [[-5.92 -7.44]\n",
            " [ 0.    0.83]]\n",
            "\n",
            "Matriz A reconstruída: \n",
            " [[1. 2.]\n",
            " [3. 4.]\n",
            " [5. 6.]]\n",
            "\n",
            "Verificando que Q forma uma base ortonormal: \n",
            "\n",
            "[[1. 0.]\n",
            " [0. 1.]]\n"
          ]
        }
      ]
    },
    {
      "cell_type": "markdown",
      "metadata": {
        "id": "mHiL3hz7LMh7"
      },
      "source": [
        "# **Aula 14: Métodos iterativos para sistemas lineares**"
      ]
    },
    {
      "cell_type": "markdown",
      "metadata": {
        "id": "lOZyGv3C6PgO"
      },
      "source": [
        "## **Método iterativo Gauss-Jacobi**"
      ]
    },
    {
      "cell_type": "markdown",
      "metadata": {
        "id": "ZXDvYdHj6ToO"
      },
      "source": [
        "### **Definição**"
      ]
    },
    {
      "cell_type": "markdown",
      "metadata": {
        "id": "9lNPSGg76yRp"
      },
      "source": [
        "Trata-se de um método que visa solucionar um sistema linear $A. \\vec{x} = B$, de dimensões $n_{x}n$\n",
        "\n",
        "Partindo-se de um vetor genericamente representado por $\\vec{x^{0}} = (x_{1}^{0}, x_{2}^{0}, x_{3}^{0}, x_{4}^{0})^{T}$, como $\\vec{x^{0}} = (0, 0, 0, 0)^{T}$, utiliza-se a técnica de Gauss-Jacobi para determinar k aproximações para $\\vec{x}$ até que a seguinte condição seja feita:\n",
        "$$\\frac{||x^{k} - x^{k-1}||\\infty}{||x^{k}||\\infty} < 10^{-3}$$\n",
        "\n",
        "Essa condição é chamada de **erro** e indica o mínimo de casas decimais de imprecisão para a aproximação ser aceita. No caso ilustrado acima, só serão aceitas aproximações, geradas pelo método, com erros à partir da 4ª casa decimal.\n",
        "\n",
        "Vale notar que k refere-se às iterações e as normas são calculadas de acordo com o valor máximo. Por exemplo na quinta iteração (k=5), temos o erro expresso por:\n",
        "\n",
        "$k = 5 \\rightarrow \\frac{||x^{5} - x^{4}||\\infty}{||x^{5}||\\infty} < 10^{-3}\\iff \\frac{max\\{||x^{5}_{1} - x_{1}^{4}||, ||x^{5}_{2} - x_{2}^{4}||, ||x^{5}_{3} - x_{3}^{4}||, ||x^{5}_{4} - x_{4}^{4}||\\}}{||max\\{x^{5}_{1}, x^{5}_{2}, x^{5}_{3}, x^{5}_{4} \\}||} < 10^{-3}$"
      ]
    },
    {
      "cell_type": "markdown",
      "metadata": {
        "id": "6j6rTzrd6Wlg"
      },
      "source": [
        "### **Exemplo**\n",
        "\n",
        "Resolva o seguinte sistema através do método iterativo Gauss-Jacobi:\n",
        "$\\begin{equation}\n",
        "  \\begin{cases}\n",
        "    10x_{1} - x_{2} + 2x_{3} = 6\\\\\n",
        "    -x_{1} + 11x_{2} - x_{3} +3x_{4} = 25 \\\\\n",
        "    2x_{1} - x_{2} + 10x_{3} - x_{4} = -11 \\\\\n",
        "    3x_{2} -x_{3} +3x_{4} + 8x_{4} = 15\n",
        "  \\end{cases}\n",
        "\\end{equation}$"
      ]
    },
    {
      "cell_type": "markdown",
      "metadata": {
        "id": "DsC_eGxDS_Qh"
      },
      "source": [
        "**Resolução**\n",
        "\n",
        "Para resolver o sistema através do método iterativo de Gauss-Jacobi, vamos utilizar sucessivas k aproximações de $\\vec{x^{k}} = (x_{1}^{k}, x_{2}^{k}, x_{3}^{k}, x_{4}^{k})^{T}$, partindo de k = 0 como um vetor nulo, ou seja: $\\vec{x^{0}} = (0, 0, 0, 0)^{T}$\n",
        "\n",
        "Agora, o que devemos fazer é isolar as variáveis do sistema e calcular que valores que elas ($x_{1}, x_{2}, x_{3}, x_{4}$) passam a assumir com a iteração realizada e comparar com o critério de parada.\n",
        "Caso o critério não seja atingido, uma nova iteração é iniciada, sendo que os novos valores de $\\vec{x}$ passam a ser os últimos obtidos $x^{k}$ (e na hora de comparar novamente com o critério, os valores antigos são $x^{k-1}$)"
      ]
    },
    {
      "cell_type": "markdown",
      "metadata": {
        "id": "7XUw3ObNUMyJ"
      },
      "source": [
        "**Passo 1: Isolar as variáveis do sistema**\n",
        "$\\begin{equation}\n",
        "  \\begin{cases}\n",
        "    x_{1} = \\frac{x_{2}}{10} + \\frac{-x_{3}}{3} + \\frac{3}{5}\\\\\n",
        "    x_{2} = \\frac{x_{1}}{11} + \\frac{x_{3}}{11} - \\frac{3x_{4}}{4} + \\frac{25}{11}\\\\\n",
        "    x_{3} = \\frac{-x_{1}}{5} + \\frac{x_{2}}{10} + \\frac{x_{4}}{10} - \\frac{11}{10}\\\\\n",
        "    x_{4} = \\frac{-3x_{2}}{8} + \\frac{x_{3}}{8} + \\frac{15}{8}\n",
        "  \\end{cases}\n",
        "\\end{equation}$\n",
        "\n",
        "\\\\\n",
        "\n",
        "**Passo 2: Iteração**\n",
        "\n",
        "Agora substituímos nosso vetor inicial (k=0) $\\vec{x^{0}} = [x_{1}^{0}, x_{2}^{0}, x_{3}^{0} ,x_{4}^{0}]^{t}=[0, 0, 0, 0]^{t}$ no sistema com as variáveis já isoladas e obtemos:\\\n",
        "$x_{1} = \\frac{x_{2}}{10} + \\frac{-x_{3}}{3} + \\frac{3}{5} = \\frac{3}{5} = 0.6\\\\\n",
        "x_{2} = \\frac{x_{1}}{11} + \\frac{x_{3}}{11} - \\frac{3x_{4}}{4} + \\frac{25}{11} = \\frac{25}{11} = 2.2727\\\\\n",
        "x_{3} = \\frac{-x_{1}}{5} + \\frac{x_{2}}{10} + \\frac{x_{4}}{10} - \\frac{11}{10} = - \\frac{11}{10} = -1.1\\\\\n",
        "x_{4} = \\frac{-3x_{2}}{8} + \\frac{x_{3}}{8} + \\frac{15}{8} = \\frac{15}{8} = 1.875$\n",
        "\n",
        "Ou seja, a próxima iteração (k=1) será feita com $\\vec{x^{1}} = [x_{1}^{1}, x_{2}^{1}, x_{3}^{1} ,x_{4}^{1}]^{t} = [0.6, 2.2727, -1.1, 1.875]^{t}$\\\n",
        "Mas antes de partir para a próxima iteração, precisamos calcular o erro para avaliar se já é aceitável:\\\n",
        "Para k = 1, o erro é: $\\frac{||x^{k} - x^{k-1}||\\infty}{||x^{k}||\\infty} = \\frac{max\\{||x_{1}^{1} - x_{1}^{0}||, ||x_{2}^{1} - x_{2}^{0}||, ||x_{3}^{1} - x_{3}^{0}||, ||x_{4}^{1} - x_{4}^{0}||\\}}{max\\{||x_{1}^{1}||, ||x_{2}^{1}||, ||x_{3}^{1}||, ||x_{4}^{1}||\\}} = \\frac{max\\{0.6, 2.2727, 1.1, 1.875\\}}{max\\{0.6, 2.2727, 1.1, 1.875\\}} = \\frac{2.2727}{2.2727} = 1$\n",
        "\n",
        "Como o resultado do erro obtido é muito maior que $10^{-3}$, que é a tolerância mínima de erro, então seguimos para a próxima iteração (k=2) e repetimos todo esse processo, ou seja, substituímos o vetor de k=1 (ou seja, $[0.6, 2.2727, -1.1, 1.875]^{t}$) no sistema linear com as variáveis isolados e obtemos o novo vetor ($\\vec{x^{2}}$) para k=2, e repetimos a checagem do erro obtido e vemos se ele preenche a condição, aqui $>10^{3}$.\\\n",
        "**Como a solução desse problema manualmente seria muito mais extensa e a solução só seria atingida na 10ª iteração (k=10), então o exemplo acima ilustra como funciona a primeira iteração do método. A solução é melhor implementada em um algoritmo.\\\n",
        "De qualquer maneira, a cada iteração o vetor $\\vec{x}$ obtido vai se aproximando (convergindo) para a solução real do sistema, que nesse caso é $[1, 2, -1, 1]^{t}$**"
      ]
    },
    {
      "cell_type": "markdown",
      "metadata": {
        "id": "nQeDGsGzmOgG"
      },
      "source": [
        "##**Método iterativo Gauss-Seidel**"
      ]
    },
    {
      "cell_type": "markdown",
      "metadata": {
        "id": "HteVndvfmVd6"
      },
      "source": [
        "### **Definição**"
      ]
    },
    {
      "cell_type": "markdown",
      "metadata": {
        "id": "WuU5COuun_SZ"
      },
      "source": [
        "Segue o mesmo princípio do método iterativo Gauss-Jacobi, ou seja, também serve para encontrar a solução de um sistema linear através de aproximações sucessivas (k).\n",
        "\n",
        "A diferença é que este método tende a ser mais eficaz pois \"aproveita\" os valores da iteração corrente (diferentemente do método de Gauss-Jacobi, que sempre compara a iteração corrente com a anterior).\n",
        "\n",
        "Exemplo:\\\n",
        "$\\begin{equation}\n",
        "  \\begin{cases}\n",
        "    x_{1}^{k} = ax_{2}^{k-1} + bx_{3}^{k-1} + cx_{4}^{k-1} + d\\\\\n",
        "    x_{2}^{k} = ex_{1}^{k} + fx_{3}^{k-1} + gx_{4}^{k-1} + h\\\\\n",
        "    x_{3}^{k} = ix_{1}^{k} + jx_{2}^{k} + lx_{4}^{k-1} + m\\\\\n",
        "    x_{4}^{k} = nx_{1}^{k} + ox_{2}^{k} + px_{3}^{k} + h\n",
        "  \\end{cases}\n",
        "\\end{equation}$\n",
        "\n",
        "Na ilustração acima, podemos ver que embora $x_{1}^{k}$ ainda utilize todos os valores obtidos a partir da iterçaão $k-1$, as variáveis seguintes começam a calcular seus valores progressivamente de acordo com a iteração atual:\\\n",
        "A variável $x_{2}^{k}$ utiliza os valores correspondentes da iteração k para a variável $x_{1}$ (embora permaneça com os valores correspondentes a k-1 para $x_{3}$ e $x_{4}$).\\\n",
        "Enquanto a variável anterior usava apenas um valor da iteração k no seu cálculo, $x_{3}^{k}$ utiliza os valores correspondentes à iteração k para as variáveis $x_{1}$ e $x_{2}$ (permanecendo com o valor da iteração anterior k-1 para $x_{4}$).\\\n",
        "Por último, a variável $x_{4}^{k}$ utiliza todos os valores da iteração corrente para $x_{1}$, $x_{2}$ e $x_{3}$.\\\n",
        "Vemos então que há um ganho de performance do método já que em uma mesma iteração, há o cálculo das variáveis baseadas **também** em valores da iteração corrente (k), e não só da iteração anterior (k-1) como no método iterativo Gauss-Jacobi"
      ]
    },
    {
      "cell_type": "markdown",
      "metadata": {
        "id": "blp8nQrgmZ_6"
      },
      "source": [
        "### **Exemplo**"
      ]
    },
    {
      "cell_type": "markdown",
      "metadata": {
        "id": "LqpJTwE5xsxI"
      },
      "source": [
        "O exemplo do método anterior que foi resolvido em 10 iterações, seria resolvido em 5 iterações com o método Gauss-Seidel"
      ]
    },
    {
      "cell_type": "markdown",
      "metadata": {
        "id": "qxBmovIJLM3l"
      },
      "source": [
        "# **Aula 15: Autodecomposição de Matrizes**"
      ]
    },
    {
      "cell_type": "markdown",
      "source": [
        "Consultar material da aula no Onedrive"
      ],
      "metadata": {
        "id": "Ty5T0W_3_4eI"
      }
    },
    {
      "cell_type": "markdown",
      "metadata": {
        "id": "x-oXwtL4_xmI"
      },
      "source": [
        "# **Aula 16: Decomposição em Valores Singulares**"
      ]
    },
    {
      "cell_type": "markdown",
      "source": [
        "Consultar material da aula no Onedrive"
      ],
      "metadata": {
        "id": "uw0ZD3WX_4Jc"
      }
    }
  ]
}