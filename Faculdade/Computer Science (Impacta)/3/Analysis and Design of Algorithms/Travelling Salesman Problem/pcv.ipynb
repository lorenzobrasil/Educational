{
 "cells": [
  {
   "cell_type": "code",
   "execution_count": 1,
   "metadata": {
    "id": "zUFj0XMAgDw_"
   },
   "outputs": [],
   "source": [
    "import random\n",
    "from itertools import permutations\n",
    "import matplotlib.pyplot as plt"
   ]
  },
  {
   "cell_type": "code",
   "execution_count": 2,
   "metadata": {
    "id": "HNxNrEHdgIfD"
   },
   "outputs": [],
   "source": [
    "def distancia(ponto1, ponto2):\n",
    "    \"\"\"\n",
    "    Função que calcula e retorna a distância euclidiana entre dois pontos de um sistema cartesiano.\n",
    "    \"\"\"\n",
    "    x1, y1 = ponto1\n",
    "    x2, y2 = ponto2\n",
    "\n",
    "    return ((x1-x2)**2 + (y1-y2)**2) ** (1/2)"
   ]
  },
  {
   "cell_type": "code",
   "execution_count": 3,
   "metadata": {
    "id": "ohD17ceMgNup"
   },
   "outputs": [],
   "source": [
    "def gera_coordenadas(n):\n",
    "    \"\"\"\n",
    "    Função que imprime um gráfico contendo n pontos,\n",
    "    retornando uma lista com as coordenadas dos n pontos no sistema cartesiano\n",
    "    \"\"\"\n",
    "    coords, xa, ya = [], [], []\n",
    "    for i in range(n):\n",
    "        x, y = random.randint(-10, 10), random.randint(-10, 10)\n",
    "        coords += [(x, y)]\n",
    "        xa += [x]\n",
    "        ya += [y]\n",
    "    plt.plot(xa, ya, 'ro')\n",
    "    plt.axis([-10,10,-10,10])\n",
    "    plt.show\n",
    "    \n",
    "    \n",
    "    return coords"
   ]
  },
  {
   "cell_type": "code",
   "execution_count": 4,
   "metadata": {
    "id": "eQgMDy7pgQFy"
   },
   "outputs": [],
   "source": [
    "def pcv(c):\n",
    "    \"\"\"\n",
    "    Recebe uma lista contendo tuplas com coordenadas e\n",
    "    Imprime as coordenadas das cidades e retorna a combinação\n",
    "    de cidades que possui a menor distância percorrida e o valor\n",
    "    da soma\n",
    "    \"\"\"\n",
    "    k = 1\n",
    "    for i in range(len(c)):\n",
    "        print(\"Cidade {}: ({}, {})\".format(k, c[i][0], c[i][1]))\n",
    "        k += 1\n",
    "    comb = []\n",
    "    permutacoes = list(permutations(c, len(c)))\n",
    "    distancias = []\n",
    "    soma = 0\n",
    "    for permutacao in permutacoes:\n",
    "        k = 0\n",
    "        while k < len(permutacao)-1:\n",
    "            soma += distancia(permutacao[k], permutacao[k+1])\n",
    "            k += 1\n",
    "        distancias += [soma]\n",
    "        soma = 0\n",
    "\n",
    "    # Verificando menor soma de distâncias na variável distancias\n",
    "    indice_menor_soma = 0\n",
    "    for s in range(len(distancias)):\n",
    "        if distancias[s] < distancias[indice_menor_soma]:\n",
    "            indice_menor_soma = s\n",
    "    \n",
    "    return permutacoes[indice_menor_soma], distancias[indice_menor_soma]"
   ]
  },
  {
   "cell_type": "code",
   "execution_count": 5,
   "metadata": {
    "id": "P7ifS0aZgSv7"
   },
   "outputs": [],
   "source": [
    "def main(n_cidades):\n",
    "    cidades_coords = gera_coordenadas(n_cidades)\n",
    "    comb, menor_soma = %time pcv(cidades_coords)\n",
    "    print(\"Melhor caminho: {}\".format(comb))\n",
    "    print(\"Valor da menor soma: {}\".format(menor_soma))"
   ]
  },
  {
   "cell_type": "code",
   "execution_count": 6,
   "metadata": {
    "colab": {
     "base_uri": "https://localhost:8080/",
     "height": 408
    },
    "id": "3FbHlDElkof0",
    "outputId": "32402279-856a-40b7-da54-df76596b4b86"
   },
   "outputs": [
    {
     "name": "stdout",
     "output_type": "stream",
     "text": [
      "Cidade 1: (-2, -1)\n",
      "Cidade 2: (6, -5)\n",
      "Cidade 3: (-10, -5)\n",
      "Cidade 4: (-10, 6)\n",
      "Wall time: 1 ms\n",
      "Melhor caminho: ((6, -5), (-2, -1), (-10, -5), (-10, 6))\n",
      "Valor da menor soma: 28.88854381999832\n"
     ]
    },
    {
     "data": {
      "image/png": "[encoded data removed]",
      "text/plain": [
       "<Figure size 432x288 with 1 Axes>"
      ]
     },
     "metadata": {
      "needs_background": "light"
     },
     "output_type": "display_data"
    }
   ],
   "source": [
    "main(4)"
   ]
  },
  {
   "cell_type": "code",
   "execution_count": 7,
   "metadata": {
    "colab": {
     "base_uri": "https://localhost:8080/",
     "height": 425
    },
    "id": "p6v84hoikwHY",
    "outputId": "f1929a6e-8ec6-4589-d3ab-ed5b6fecfa3e"
   },
   "outputs": [
    {
     "name": "stdout",
     "output_type": "stream",
     "text": [
      "Cidade 1: (5, -10)\n",
      "Cidade 2: (-9, -1)\n",
      "Cidade 3: (-4, -9)\n",
      "Cidade 4: (0, 5)\n",
      "Cidade 5: (-10, 4)\n",
      "Wall time: 996 µs\n",
      "Melhor caminho: ((5, -10), (-4, -9), (-9, -1), (-10, 4), (0, 5))\n",
      "Valor da menor soma: 33.638261404907695\n"
     ]
    },
    {
     "data": {
      "image/png": "[encoded data removed]",
      "text/plain": [
       "<Figure size 432x288 with 1 Axes>"
      ]
     },
     "metadata": {
      "needs_background": "light"
     },
     "output_type": "display_data"
    }
   ],
   "source": [
    "main(5)"
   ]
  },
  {
   "cell_type": "code",
   "execution_count": 8,
   "metadata": {
    "colab": {
     "base_uri": "https://localhost:8080/",
     "height": 443
    },
    "id": "x4JerXwskv_9",
    "outputId": "ca53044d-bc7c-4bce-bef4-f3bbdab3745c"
   },
   "outputs": [
    {
     "name": "stdout",
     "output_type": "stream",
     "text": [
      "Cidade 1: (5, -6)\n",
      "Cidade 2: (5, -9)\n",
      "Cidade 3: (3, -8)\n",
      "Cidade 4: (1, -3)\n",
      "Cidade 5: (6, 4)\n",
      "Cidade 6: (-3, 2)\n",
      "Wall time: 6.98 ms\n",
      "Melhor caminho: ((5, -9), (3, -8), (5, -6), (1, -3), (-3, 2), (6, 4))\n",
      "Valor da menor soma: 25.687163796971713\n"
     ]
    },
    {
     "data": {
      "image/png": "[encoded data removed]",
      "text/plain": [
       "<Figure size 432x288 with 1 Axes>"
      ]
     },
     "metadata": {
      "needs_background": "light"
     },
     "output_type": "display_data"
    }
   ],
   "source": [
    "main(6)"
   ]
  },
  {
   "cell_type": "code",
   "execution_count": 9,
   "metadata": {
    "colab": {
     "base_uri": "https://localhost:8080/",
     "height": 460
    },
    "id": "huPSvQRhkxvC",
    "outputId": "c63f1e68-c2cd-4e11-f1cd-11312f924a08"
   },
   "outputs": [
    {
     "name": "stdout",
     "output_type": "stream",
     "text": [
      "Cidade 1: (10, 10)\n",
      "Cidade 2: (4, 0)\n",
      "Cidade 3: (-1, -6)\n",
      "Cidade 4: (-3, -4)\n",
      "Cidade 5: (-8, -2)\n",
      "Cidade 6: (10, 4)\n",
      "Cidade 7: (-3, -7)\n",
      "Wall time: 37.9 ms\n",
      "Melhor caminho: ((10, 10), (10, 4), (4, 0), (-1, -6), (-3, -7), (-3, -4), (-8, -2))\n",
      "Valor da menor soma: 31.642585011468928\n"
     ]
    },
    {
     "data": {
      "image/png": "[encoded data removed]",
      "text/plain": [
       "<Figure size 432x288 with 1 Axes>"
      ]
     },
     "metadata": {
      "needs_background": "light"
     },
     "output_type": "display_data"
    }
   ],
   "source": [
    "main(7)"
   ]
  },
  {
   "cell_type": "code",
   "execution_count": 10,
   "metadata": {
    "colab": {
     "base_uri": "https://localhost:8080/",
     "height": 477
    },
    "id": "12MaoUQykvz4",
    "outputId": "bf85fd80-f7f3-473c-f240-8d15de5b360f"
   },
   "outputs": [
    {
     "name": "stdout",
     "output_type": "stream",
     "text": [
      "Cidade 1: (0, 3)\n",
      "Cidade 2: (3, -7)\n",
      "Cidade 3: (10, 10)\n",
      "Cidade 4: (1, 3)\n",
      "Cidade 5: (-3, 8)\n",
      "Cidade 6: (-4, 8)\n",
      "Cidade 7: (0, 5)\n",
      "Cidade 8: (-4, 5)\n",
      "Wall time: 299 ms\n",
      "Melhor caminho: ((3, -7), (1, 3), (0, 3), (0, 5), (-4, 5), (-4, 8), (-3, 8), (10, 10))\n",
      "Valor da menor soma: 34.350985465151474\n"
     ]
    },
    {
     "data": {
      "image/png": "[encoded data removed]",
      "text/plain": [
       "<Figure size 432x288 with 1 Axes>"
      ]
     },
     "metadata": {
      "needs_background": "light"
     },
     "output_type": "display_data"
    }
   ],
   "source": [
    "main(8)"
   ]
  }
 ],
 "metadata": {
  "colab": {
   "collapsed_sections": [],
   "name": "pcv.ipynb",
   "provenance": []
  },
  "kernelspec": {
   "display_name": "Python 3",
   "language": "python",
   "name": "python3"
  },
  "language_info": {
   "codemirror_mode": {
    "name": "ipython",
    "version": 3
   },
   "file_extension": ".py",
   "mimetype": "text/x-python",
   "name": "python",
   "nbconvert_exporter": "python",
   "pygments_lexer": "ipython3",
   "version": "3.7.6"
  }
 },
 "nbformat": 4,
 "nbformat_minor": 1
}
