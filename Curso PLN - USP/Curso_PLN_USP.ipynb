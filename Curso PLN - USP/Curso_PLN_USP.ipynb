{
  "nbformat": 4,
  "nbformat_minor": 0,
  "metadata": {
    "colab": {
      "provenance": [],
      "collapsed_sections": [
        "wMpJvwZXRZje",
        "rnHVj5U7Y3ac",
        "mvjkC6TfY9QO",
        "MMii6cmsY_Pi",
        "u_KizzwmY_WT",
        "pmZoAWyNY9XK",
        "u4k0wlbVe-ot",
        "fZ7ssZ0PiJRi",
        "0MkMsS7liJVu",
        "kR1ko21sRZtN",
        "9d4Srvu4fqHe",
        "_i2AFCuGx62U",
        "o8ur2ASqRZvr",
        "yOTI8zucCdbR",
        "30JOrO3BFWtA",
        "t64R8U_8fq1Z",
        "ZmAHOzIlRZyH",
        "pY5h2ewKfrcz",
        "4FyKLCm5QowX",
        "rGOwpEQ4Qo4v",
        "43xkM3fQSesl",
        "mMxlxFQ0XWRi",
        "8nMv2veZtuKr"
      ]
    },
    "kernelspec": {
      "name": "python3",
      "display_name": "Python 3"
    },
    "language_info": {
      "name": "python"
    }
  },
  "cells": [
    {
      "cell_type": "markdown",
      "metadata": {
        "id": "ZlNF_vQLV3q3"
      },
      "source": [
        "# **Aula 04**"
      ]
    },
    {
      "cell_type": "markdown",
      "metadata": {
        "id": "dlAqiltWROiJ"
      },
      "source": [
        "## Preparando ambiente\n",
        "\n",
        "Abrindo um arquivo do tipo Corpus (documento de texto)"
      ]
    },
    {
      "cell_type": "code",
      "metadata": {
        "colab": {
          "base_uri": "https://localhost:8080/"
        },
        "id": "0CrVJDKCSXKA",
        "outputId": "63004677-a2e1-4e83-c163-083cf62112ce"
      },
      "source": [
        "infile = open('/content/drive/MyDrive/corpus.txt', 'r')\n",
        "print(infile.read())\n",
        "infile.close()\n",
        "#Obs: Ao invés de usar open e depois close, o modo 'with open ... as ...'\n",
        "#Fecha automaticamente o arquivo após o bloco de identação.\n",
        "#Preferir esse método"
      ],
      "execution_count": null,
      "outputs": [
        {
          "output_type": "stream",
          "name": "stdout",
          "text": [
            "Giants batem os Patriots no Super Bowl XLII\n",
            "Azarões acabam com a invencibilidade de New England e ficam com o título da temporada\n",
            "04/02/2008 - 01h07m - Atualizado em 04/02/2008 - 09h49m\n",
            "\n",
            "Com um passe de Eli Manning para Plaxico Burress a 39 segundos do fim, o New York Giants anotou o touchdown decisivo e derrubou o favorito New England Patriots por 17 a 14 neste domingo, em Glendale, no Super Bowl XLII. O resultado, uma das maiores zebras da história do Super Bowl, acabou com a temporada perfeita de Tom Brady e companhia, que esperavam fazer história ao levantar o troféu da NFL sem sofrer uma derrota no ano. \n",
            "\n",
            "A vitória dos Giants, porém, também ficará para a história. Pela primeira vez, irmãos quarterbacks triunfam no Super Bowl em temporadas consecutivas. No ano passado, Peyton Manning, irmão de Eli, chegou ao título máximo da NFL pelo Indianapolis Colts.\n",
            "\n",
            "A partida\n",
            "\n",
            "Os Giants começaram com a posse de bola, e mostraram logo que iriam alongar ao máximo suas posses de bola. Misturando corridas com Brandon Jacobs e passes curtos, o time de Nova York chegou à red zone logo na primeira campanha. O avanço, no entanto, parou na linha de 17 jardas e Lawrence Tynes converteu o field goal de 32 jardas para abrir o placar.\n",
            "\n",
            "Eli Manning e companhia ficaram 9m54s com a bola, mas o ataque dos Patriots não entrou em campo frio. Logo no retorno do kickoff, o running back Laurence Maroney avançou 43 jardas, deixando Tom Brady em boa posição. Com passes curtos, os Patriots chegaram à linha de 17 jardas e, graças a uma penalidade (interferência de passe) do linebacker Antonio Pierce, alcançaram a linha de uma jarda. Maroney avançou pelo chão e anotou o primeiro touchdown do jogo.\n",
            "\n",
            "Os Giants pareciam rumo à virada na campanha seguinte. Manning achou Amani Toomer para um avanço de 38 jardas, e o time de Nova York entrou novamente na red zone. Com a bola na linha de 14 jardas dos Patriots, os Giants sofreram um revés. Manning passou para Steve Smith, que soltou a bola. Ellis Hobbs aproveitou, tomou a posse para os Patriots, e avançou 23 jardas. \n",
            "\n",
            "A defesa de Nova York manteve o jogo equilibrado. Com dois sacks seguidos, os Giants forçaram o punt e recuperaram a bola. Mas a campanha seguinte provou ser outra decepção para Nova York. O time chegou à linha de 25 jardas, mas Manning sofreu um sack e cometeu um fumble, e o ataque voltou para a linha de 39 jardas, não conseguindo pontuar mais uma vez.\n",
            "\n",
            "Os Patriots tiveram uma última chance de marcar antes do intervalo, mas, a 22 segundos do fim do segundo período, Brady foi novamente sacado. Desta vez, ele cometeu o fumble e os Giants tomaram a posse de bola. Manning tentou um passe longo, de 50 jardas, nos últimos segundos, mas não teve sucesso. \n",
            "\n",
            "O jogo continuou amarrado no terceiro quarto, com as defesas levando a melhor sobre os ataques. A única chance de pontuar do período foi dos Patriots, que chegaram à linha de 31 jardas dos Giants. O técnico Bill Bellichick, porém, optou por uma quarta descida em vez de um field goal. Brady tentou um passe para Jabar Gaffney, mas não conseguiu completar.\n",
            "\n",
            "O último período começou arrasador para os Giants. na primeira jogada, Manning achou o tight end Kevin Boss, para um incrível avanço de 45 jardas, que deixou o time na linha de 35 dos Patriots. Outro lançamento, desta vez para Steve Smith, marcou o avanço até a linha de 12 jardas. Duas jogadas depois, David Tyree pegou um passe de cinco jardas na end zone para anotar o touchdown e virar o jogo.\n",
            "\n",
            "Na hora da decisão, o ataque dos Patriots voltou a funcionar. Com uma série de passes curtos e variados, Brady achou Wes Welker, Randy Moss e Kevin Faulk seguidas vezes até chegar à red zone. A 2m45s do fim, o quarterback conectou mais uma vez com Moss, que se desmarcou e ficou livre na lateral direita da end zone.\n",
            "\n",
            "Quando os fãs de New England já comemoravam a vitória, o inesperado aconteceu. Em uma jogada incrível, Eli Manning se soltou de dois marcadores que o seguravam pela camisa e, na corrida, lançou para Amani Toomer. O wide receiver, bem marcado, saltou e conseguiu a fazer recepção para um avanço de 32 jardas, deixando os Giants na linha de 24 de New England.\n",
            "\n",
            "Quatro jogadas depois, a 39 segundos do fim, Manning achou Plaxico Burress na end zone para conseguir o touchdown do título.\n"
          ]
        }
      ]
    },
    {
      "cell_type": "markdown",
      "metadata": {
        "id": "wMpJvwZXRZje"
      },
      "source": [
        "## Métodos de tratamento e manipulação de strings"
      ]
    },
    {
      "cell_type": "markdown",
      "metadata": {
        "id": "rnHVj5U7Y3ac"
      },
      "source": [
        "### len()\n",
        "Retorna o número de elementos de um iterável (pode ser uma string, uma lista, um dicionário, etc)"
      ]
    },
    {
      "cell_type": "code",
      "metadata": {
        "id": "zdLvswJzZ7fC",
        "colab": {
          "base_uri": "https://localhost:8080/"
        },
        "outputId": "f2df4c90-0ae5-4ee9-f294-169effd66e7b"
      },
      "source": [
        "números = '1234567'\n",
        "print(len(números))\n",
        "citação = 'o rato roeu a roupa do rei de roma'\n",
        "print(len(citação))"
      ],
      "execution_count": null,
      "outputs": [
        {
          "output_type": "stream",
          "name": "stdout",
          "text": [
            "7\n",
            "34\n"
          ]
        }
      ]
    },
    {
      "cell_type": "markdown",
      "metadata": {
        "id": "mvjkC6TfY9QO"
      },
      "source": [
        "### strip()\n",
        "Retorna a cópia de uma string removendo espaços antes ou depois do começo dos caracteres"
      ]
    },
    {
      "cell_type": "code",
      "metadata": {
        "id": "EC6KIR_va4i6",
        "colab": {
          "base_uri": "https://localhost:8080/"
        },
        "outputId": "afdef667-9da1-4d56-eae5-9edf7d34221c"
      },
      "source": [
        "frase1 = '        olá'\n",
        "frase2 = 'olá        '\n",
        "frase3 = 'o      lá'\n",
        "print('{}\\n{}\\n{}'.format(frase1.strip(),frase2.strip(),frase3.strip()))"
      ],
      "execution_count": null,
      "outputs": [
        {
          "output_type": "stream",
          "name": "stdout",
          "text": [
            "olá\n",
            "olá\n",
            "o      lá\n"
          ]
        }
      ]
    },
    {
      "cell_type": "markdown",
      "metadata": {
        "id": "MMii6cmsY_Pi"
      },
      "source": [
        "### lower(), upper()\n",
        "lower() retorna a string em caracteres minúsculas enquanto upper() em maiúsculas"
      ]
    },
    {
      "cell_type": "code",
      "metadata": {
        "id": "aPBseX5-bqt8",
        "colab": {
          "base_uri": "https://localhost:8080/"
        },
        "outputId": "50be17a7-f361-4629-e16a-e3a9524c1e4d"
      },
      "source": [
        "frase4 = 'O Rato Roeu A Roupa Do Rei De Roma'\n",
        "print(frase4.upper())\n",
        "print(frase4.lower())"
      ],
      "execution_count": null,
      "outputs": [
        {
          "output_type": "stream",
          "name": "stdout",
          "text": [
            "O RATO ROEU A ROUPA DO REI DE ROMA\n",
            "o rato roeu a roupa do rei de roma\n"
          ]
        }
      ]
    },
    {
      "cell_type": "markdown",
      "metadata": {
        "id": "u_KizzwmY_WT"
      },
      "source": [
        "### replace()\n",
        "Retorna uma cópia da string com as ocorrências de string especificadas no argumento substituídas (é possível contar mais de uma ocorrência)"
      ]
    },
    {
      "cell_type": "code",
      "metadata": {
        "id": "gYQBbpxZbp_O",
        "colab": {
          "base_uri": "https://localhost:8080/"
        },
        "outputId": "0053173c-4169-4585-92f4-3038bad777e7"
      },
      "source": [
        "frase5 = 'UVA'\n",
        "print('{}\\n{}'.format(frase5, frase5.replace('A', 'O')))\n",
        "frase6 = 'BANANA'\n",
        "print('\\nfrase6.replace:{}'.format(frase6.replace('A', 'E')))\n",
        "print('frase6: {}'.format(frase6))\n",
        "print('Alterando apenas um caracter:{}'.format(frase6.replace('A', 'E', 1)))"
      ],
      "execution_count": null,
      "outputs": [
        {
          "output_type": "stream",
          "name": "stdout",
          "text": [
            "UVA\n",
            "UVO\n",
            "\n",
            "frase6.replace:BENENE\n",
            "frase6: BANANA\n",
            "Alterando apenas um caracter:BENANA\n"
          ]
        }
      ]
    },
    {
      "cell_type": "markdown",
      "metadata": {
        "id": "pmZoAWyNY9XK"
      },
      "source": [
        "### split()\n",
        "Retorna uma lista com os caracteres da string, utilizando sep como delimitador da string\n",
        "(Delimitador padrão da função é o espaço)"
      ]
    },
    {
      "cell_type": "code",
      "metadata": {
        "id": "IiUVpARQeRcZ",
        "colab": {
          "base_uri": "https://localhost:8080/"
        },
        "outputId": "825a1ff1-2fde-4c1f-9d12-3e68f5d45f4a"
      },
      "source": [
        "frase7 = 'O rato roeu a roupa do rei de roma'\n",
        "print(frase7.split())\n",
        "frase8 = 'João, você já foi ao mercado?'\n",
        "print(frase8.split(sep=','))\n",
        "frase9 = 'BANANA'\n",
        "print(frase9.split('A'))"
      ],
      "execution_count": null,
      "outputs": [
        {
          "output_type": "stream",
          "name": "stdout",
          "text": [
            "['O', 'rato', 'roeu', 'a', 'roupa', 'do', 'rei', 'de', 'roma']\n",
            "['João', ' você já foi ao mercado?']\n",
            "['B', 'N', 'N', '']\n"
          ]
        }
      ]
    },
    {
      "cell_type": "markdown",
      "metadata": {
        "id": "u4k0wlbVe-ot"
      },
      "source": [
        "### join()\n",
        "Retorna uma string à partir de uma lista utilizando um separador passado como string. (Faz o oposto da função split)"
      ]
    },
    {
      "cell_type": "code",
      "metadata": {
        "id": "PZgzQHu-fNCK",
        "colab": {
          "base_uri": "https://localhost:8080/"
        },
        "outputId": "b93dda11-d9e2-49a5-aff3-d8a959a294e2"
      },
      "source": [
        "frase10 = ['olá', 'como', 'vai', 'você','?']\n",
        "print(' '.join(frase10))\n",
        "print('-'.join(frase10))"
      ],
      "execution_count": null,
      "outputs": [
        {
          "output_type": "stream",
          "name": "stdout",
          "text": [
            "olá como vai você ?\n",
            "olá-como-vai-você-?\n"
          ]
        }
      ]
    },
    {
      "cell_type": "markdown",
      "metadata": {
        "id": "1GTmvkBYRZl3"
      },
      "source": [
        "## Caracteres de escape:\n",
        "\\n = Quebra de linha\\\n",
        "\\t = tabulação\\\n",
        "\\\\' = aspas simples\\\n",
        "\\\\\\ = barra invertida\\\n",
        "Etc."
      ]
    },
    {
      "cell_type": "markdown",
      "metadata": {
        "id": "3kCTUID9RZoe"
      },
      "source": [
        "## **NLTK (Natural Language ToolKit)**\n",
        "Biblioteca de Python voltada a processamento de linguagem natural.\n",
        "Possui interfaces padrões para realizar tarefas como etiquetar textos, frequência de palavras, lematização e stemmização de palavras, entre outros.\\\n",
        "https://www.nltk.org/\n",
        "\n"
      ]
    },
    {
      "cell_type": "markdown",
      "metadata": {
        "id": "RWToet67RZqz"
      },
      "source": [
        "### Instalação do NLTK\n",
        "\n",
        "Para instalar o NLTK, basta rodar na linha de comando o seguinte comando:\\\n",
        "pip install nltk"
      ]
    },
    {
      "cell_type": "markdown",
      "metadata": {
        "id": "YUynwngvkwtq"
      },
      "source": [
        "Uma vez instalado na máquina, para iniciar a biblioteca, basta digitar os seguintes comandos:"
      ]
    },
    {
      "cell_type": "code",
      "metadata": {
        "id": "zX9_PP_KjtuF",
        "colab": {
          "base_uri": "https://localhost:8080/"
        },
        "outputId": "fe902245-ba5e-4192-c0a4-2e0769a2e201"
      },
      "source": [
        "import nltk\n",
        "nltk.download()\n",
        "#Ps: após selecionar d (que é o download implementado da biblioteca)\n",
        "# virá uma outra tela perguntando quais pacotes o nltk deverá baixar.\n",
        "# Normalmente digita-se all para baixar todos os pacotes da biblioteca,\n",
        "# Mas é possível escolher alguns submódulos específicos dessa lib (comando l\n",
        "# lista todos eles), bastando digitar no downloader aquele específico.\n",
        "# Após o download ter sido efetuado, basta digitar q (quit) e o módulo\n",
        "# está pronto para ser utilizado"
      ],
      "execution_count": null,
      "outputs": [
        {
          "name": "stdout",
          "output_type": "stream",
          "text": [
            "NLTK Downloader\n",
            "---------------------------------------------------------------------------\n",
            "    d) Download   l) List    u) Update   c) Config   h) Help   q) Quit\n",
            "---------------------------------------------------------------------------\n",
            "Downloader> d\n",
            "\n",
            "Download which package (l=list; x=cancel)?\n",
            "  Identifier> all\n",
            "    Downloading collection 'all'\n",
            "       | \n",
            "       | Downloading package abc to /root/nltk_data...\n",
            "       |   Unzipping corpora/abc.zip.\n",
            "       | Downloading package alpino to /root/nltk_data...\n",
            "       |   Unzipping corpora/alpino.zip.\n",
            "       | Downloading package biocreative_ppi to /root/nltk_data...\n",
            "       |   Unzipping corpora/biocreative_ppi.zip.\n",
            "       | Downloading package brown to /root/nltk_data...\n",
            "       |   Unzipping corpora/brown.zip.\n",
            "       | Downloading package brown_tei to /root/nltk_data...\n",
            "       |   Unzipping corpora/brown_tei.zip.\n",
            "       | Downloading package cess_cat to /root/nltk_data...\n",
            "       |   Unzipping corpora/cess_cat.zip.\n",
            "       | Downloading package cess_esp to /root/nltk_data...\n",
            "       |   Unzipping corpora/cess_esp.zip.\n",
            "       | Downloading package chat80 to /root/nltk_data...\n",
            "       |   Unzipping corpora/chat80.zip.\n",
            "       | Downloading package city_database to /root/nltk_data...\n",
            "       |   Unzipping corpora/city_database.zip.\n",
            "       | Downloading package cmudict to /root/nltk_data...\n",
            "       |   Unzipping corpora/cmudict.zip.\n",
            "       | Downloading package comparative_sentences to\n",
            "       |     /root/nltk_data...\n",
            "       |   Unzipping corpora/comparative_sentences.zip.\n",
            "       | Downloading package comtrans to /root/nltk_data...\n",
            "       | Downloading package conll2000 to /root/nltk_data...\n",
            "       |   Unzipping corpora/conll2000.zip.\n",
            "       | Downloading package conll2002 to /root/nltk_data...\n",
            "       |   Unzipping corpora/conll2002.zip.\n",
            "       | Downloading package conll2007 to /root/nltk_data...\n",
            "       | Downloading package crubadan to /root/nltk_data...\n",
            "       |   Unzipping corpora/crubadan.zip.\n",
            "       | Downloading package dependency_treebank to /root/nltk_data...\n",
            "       |   Unzipping corpora/dependency_treebank.zip.\n",
            "       | Downloading package dolch to /root/nltk_data...\n",
            "       |   Unzipping corpora/dolch.zip.\n",
            "       | Downloading package europarl_raw to /root/nltk_data...\n",
            "       |   Unzipping corpora/europarl_raw.zip.\n",
            "       | Downloading package floresta to /root/nltk_data...\n",
            "       |   Unzipping corpora/floresta.zip.\n",
            "       | Downloading package framenet_v15 to /root/nltk_data...\n",
            "       |   Unzipping corpora/framenet_v15.zip.\n",
            "       | Downloading package framenet_v17 to /root/nltk_data...\n",
            "       |   Unzipping corpora/framenet_v17.zip.\n",
            "       | Downloading package gazetteers to /root/nltk_data...\n",
            "       |   Unzipping corpora/gazetteers.zip.\n",
            "       | Downloading package genesis to /root/nltk_data...\n",
            "       |   Unzipping corpora/genesis.zip.\n",
            "       | Downloading package gutenberg to /root/nltk_data...\n",
            "       |   Unzipping corpora/gutenberg.zip.\n",
            "       | Downloading package ieer to /root/nltk_data...\n",
            "       |   Unzipping corpora/ieer.zip.\n",
            "       | Downloading package inaugural to /root/nltk_data...\n",
            "       |   Unzipping corpora/inaugural.zip.\n",
            "       | Downloading package indian to /root/nltk_data...\n",
            "       |   Unzipping corpora/indian.zip.\n",
            "       | Downloading package jeita to /root/nltk_data...\n",
            "       | Downloading package kimmo to /root/nltk_data...\n",
            "       |   Unzipping corpora/kimmo.zip.\n",
            "       | Downloading package knbc to /root/nltk_data...\n",
            "       | Downloading package lin_thesaurus to /root/nltk_data...\n",
            "       |   Unzipping corpora/lin_thesaurus.zip.\n",
            "       | Downloading package mac_morpho to /root/nltk_data...\n",
            "       |   Unzipping corpora/mac_morpho.zip.\n",
            "       | Downloading package machado to /root/nltk_data...\n",
            "       | Downloading package masc_tagged to /root/nltk_data...\n",
            "       | Downloading package moses_sample to /root/nltk_data...\n",
            "       |   Unzipping models/moses_sample.zip.\n",
            "       | Downloading package movie_reviews to /root/nltk_data...\n",
            "       |   Unzipping corpora/movie_reviews.zip.\n",
            "       | Downloading package names to /root/nltk_data...\n",
            "       |   Unzipping corpora/names.zip.\n",
            "       | Downloading package nombank.1.0 to /root/nltk_data...\n",
            "       | Downloading package nps_chat to /root/nltk_data...\n",
            "       |   Unzipping corpora/nps_chat.zip.\n",
            "       | Downloading package omw to /root/nltk_data...\n",
            "       |   Unzipping corpora/omw.zip.\n",
            "       | Downloading package opinion_lexicon to /root/nltk_data...\n",
            "       |   Unzipping corpora/opinion_lexicon.zip.\n",
            "       | Downloading package paradigms to /root/nltk_data...\n",
            "       |   Unzipping corpora/paradigms.zip.\n",
            "       | Downloading package pil to /root/nltk_data...\n",
            "       |   Unzipping corpora/pil.zip.\n",
            "       | Downloading package pl196x to /root/nltk_data...\n",
            "       |   Unzipping corpora/pl196x.zip.\n",
            "       | Downloading package ppattach to /root/nltk_data...\n",
            "       |   Unzipping corpora/ppattach.zip.\n",
            "       | Downloading package problem_reports to /root/nltk_data...\n",
            "       |   Unzipping corpora/problem_reports.zip.\n",
            "       | Downloading package propbank to /root/nltk_data...\n",
            "       | Downloading package ptb to /root/nltk_data...\n",
            "       |   Unzipping corpora/ptb.zip.\n",
            "       | Downloading package product_reviews_1 to /root/nltk_data...\n",
            "       |   Unzipping corpora/product_reviews_1.zip.\n",
            "       | Downloading package product_reviews_2 to /root/nltk_data...\n",
            "       |   Unzipping corpora/product_reviews_2.zip.\n",
            "       | Downloading package pros_cons to /root/nltk_data...\n",
            "       |   Unzipping corpora/pros_cons.zip.\n",
            "       | Downloading package qc to /root/nltk_data...\n",
            "       |   Unzipping corpora/qc.zip.\n",
            "       | Downloading package reuters to /root/nltk_data...\n",
            "       | Downloading package rte to /root/nltk_data...\n",
            "       |   Unzipping corpora/rte.zip.\n",
            "       | Downloading package semcor to /root/nltk_data...\n",
            "       | Downloading package senseval to /root/nltk_data...\n",
            "       |   Unzipping corpora/senseval.zip.\n",
            "       | Downloading package sentiwordnet to /root/nltk_data...\n",
            "       |   Unzipping corpora/sentiwordnet.zip.\n",
            "       | Downloading package sentence_polarity to /root/nltk_data...\n",
            "       |   Unzipping corpora/sentence_polarity.zip.\n",
            "       | Downloading package shakespeare to /root/nltk_data...\n",
            "       |   Unzipping corpora/shakespeare.zip.\n",
            "       | Downloading package sinica_treebank to /root/nltk_data...\n",
            "       |   Unzipping corpora/sinica_treebank.zip.\n",
            "       | Downloading package smultron to /root/nltk_data...\n",
            "       |   Unzipping corpora/smultron.zip.\n",
            "       | Downloading package state_union to /root/nltk_data...\n",
            "       |   Unzipping corpora/state_union.zip.\n",
            "       | Downloading package stopwords to /root/nltk_data...\n",
            "       |   Unzipping corpora/stopwords.zip.\n",
            "       | Downloading package subjectivity to /root/nltk_data...\n",
            "       |   Unzipping corpora/subjectivity.zip.\n",
            "       | Downloading package swadesh to /root/nltk_data...\n",
            "       |   Unzipping corpora/swadesh.zip.\n",
            "       | Downloading package switchboard to /root/nltk_data...\n",
            "       |   Unzipping corpora/switchboard.zip.\n",
            "       | Downloading package timit to /root/nltk_data...\n",
            "       |   Unzipping corpora/timit.zip.\n",
            "       | Downloading package toolbox to /root/nltk_data...\n",
            "       |   Unzipping corpora/toolbox.zip.\n",
            "       | Downloading package treebank to /root/nltk_data...\n",
            "       |   Unzipping corpora/treebank.zip.\n",
            "       | Downloading package twitter_samples to /root/nltk_data...\n",
            "       |   Unzipping corpora/twitter_samples.zip.\n",
            "       | Downloading package udhr to /root/nltk_data...\n",
            "       |   Unzipping corpora/udhr.zip.\n",
            "       | Downloading package udhr2 to /root/nltk_data...\n",
            "       |   Unzipping corpora/udhr2.zip.\n",
            "       | Downloading package unicode_samples to /root/nltk_data...\n",
            "       |   Unzipping corpora/unicode_samples.zip.\n",
            "       | Downloading package universal_treebanks_v20 to\n",
            "       |     /root/nltk_data...\n",
            "       | Downloading package verbnet to /root/nltk_data...\n",
            "       |   Unzipping corpora/verbnet.zip.\n",
            "       | Downloading package verbnet3 to /root/nltk_data...\n",
            "       |   Unzipping corpora/verbnet3.zip.\n",
            "       | Downloading package webtext to /root/nltk_data...\n",
            "       |   Unzipping corpora/webtext.zip.\n",
            "       | Downloading package wordnet to /root/nltk_data...\n",
            "       |   Unzipping corpora/wordnet.zip.\n",
            "       | Downloading package wordnet_ic to /root/nltk_data...\n",
            "       |   Unzipping corpora/wordnet_ic.zip.\n",
            "       | Downloading package words to /root/nltk_data...\n",
            "       |   Unzipping corpora/words.zip.\n",
            "       | Downloading package ycoe to /root/nltk_data...\n",
            "       |   Unzipping corpora/ycoe.zip.\n",
            "       | Downloading package rslp to /root/nltk_data...\n",
            "       |   Unzipping stemmers/rslp.zip.\n",
            "       | Downloading package maxent_treebank_pos_tagger to\n",
            "       |     /root/nltk_data...\n",
            "       |   Unzipping taggers/maxent_treebank_pos_tagger.zip.\n",
            "       | Downloading package universal_tagset to /root/nltk_data...\n",
            "       |   Unzipping taggers/universal_tagset.zip.\n",
            "       | Downloading package maxent_ne_chunker to /root/nltk_data...\n",
            "       |   Unzipping chunkers/maxent_ne_chunker.zip.\n",
            "       | Downloading package punkt to /root/nltk_data...\n",
            "       |   Unzipping tokenizers/punkt.zip.\n",
            "       | Downloading package book_grammars to /root/nltk_data...\n",
            "       |   Unzipping grammars/book_grammars.zip.\n",
            "       | Downloading package sample_grammars to /root/nltk_data...\n",
            "       |   Unzipping grammars/sample_grammars.zip.\n",
            "       | Downloading package spanish_grammars to /root/nltk_data...\n",
            "       |   Unzipping grammars/spanish_grammars.zip.\n",
            "       | Downloading package basque_grammars to /root/nltk_data...\n",
            "       |   Unzipping grammars/basque_grammars.zip.\n",
            "       | Downloading package large_grammars to /root/nltk_data...\n",
            "       |   Unzipping grammars/large_grammars.zip.\n",
            "       | Downloading package tagsets to /root/nltk_data...\n",
            "       |   Unzipping help/tagsets.zip.\n",
            "       | Downloading package snowball_data to /root/nltk_data...\n",
            "       | Downloading package bllip_wsj_no_aux to /root/nltk_data...\n",
            "       |   Unzipping models/bllip_wsj_no_aux.zip.\n",
            "       | Downloading package word2vec_sample to /root/nltk_data...\n",
            "       |   Unzipping models/word2vec_sample.zip.\n",
            "       | Downloading package panlex_swadesh to /root/nltk_data...\n",
            "       | Downloading package mte_teip5 to /root/nltk_data...\n",
            "       |   Unzipping corpora/mte_teip5.zip.\n",
            "       | Downloading package averaged_perceptron_tagger to\n",
            "       |     /root/nltk_data...\n",
            "       |   Unzipping taggers/averaged_perceptron_tagger.zip.\n",
            "       | Downloading package averaged_perceptron_tagger_ru to\n",
            "       |     /root/nltk_data...\n",
            "       |   Unzipping taggers/averaged_perceptron_tagger_ru.zip.\n",
            "       | Downloading package perluniprops to /root/nltk_data...\n",
            "       |   Unzipping misc/perluniprops.zip.\n",
            "       | Downloading package nonbreaking_prefixes to\n",
            "       |     /root/nltk_data...\n",
            "       |   Unzipping corpora/nonbreaking_prefixes.zip.\n",
            "       | Downloading package vader_lexicon to /root/nltk_data...\n",
            "       | Downloading package porter_test to /root/nltk_data...\n",
            "       |   Unzipping stemmers/porter_test.zip.\n",
            "       | Downloading package wmt15_eval to /root/nltk_data...\n",
            "       |   Unzipping models/wmt15_eval.zip.\n",
            "       | Downloading package mwa_ppdb to /root/nltk_data...\n",
            "       |   Unzipping misc/mwa_ppdb.zip.\n",
            "       | \n",
            "     Done downloading collection all\n",
            "\n",
            "---------------------------------------------------------------------------\n",
            "    d) Download   l) List    u) Update   c) Config   h) Help   q) Quit\n",
            "---------------------------------------------------------------------------\n",
            "Downloader> q\n"
          ]
        },
        {
          "output_type": "execute_result",
          "data": {
            "text/plain": [
              "True"
            ]
          },
          "metadata": {},
          "execution_count": 8
        }
      ]
    },
    {
      "cell_type": "markdown",
      "metadata": {
        "id": "fZ7ssZ0PiJRi"
      },
      "source": [
        "### Primeiros comandos - Mac Morpho\n",
        "\n",
        "Pacote nltk.corpus.mac_morpho"
      ]
    },
    {
      "cell_type": "code",
      "metadata": {
        "colab": {
          "base_uri": "https://localhost:8080/"
        },
        "id": "NHjvLxclk5oC",
        "outputId": "19ba54b5-4371-4210-be6a-e5341256bf11"
      },
      "source": [
        "print(nltk.corpus.mac_morpho.words())\n",
        "print(len(nltk.corpus.mac_morpho.words())) # Número de tokens nesse córpus"
      ],
      "execution_count": null,
      "outputs": [
        {
          "output_type": "stream",
          "name": "stdout",
          "text": [
            "['Jersei', 'atinge', 'média', 'de', 'Cr$', '1,4', ...]\n",
            "1170095\n"
          ]
        }
      ]
    },
    {
      "cell_type": "code",
      "metadata": {
        "colab": {
          "base_uri": "https://localhost:8080/"
        },
        "id": "Bl3vVNgec8fp",
        "outputId": "48760cb9-6fb9-4a1d-d20f-4fae9bf4823b"
      },
      "source": [
        "print(nltk.corpus.mac_morpho.sents()) #Lista de listas. Cada lista é uma sentença\n",
        "print(nltk.corpus.mac_morpho.sents()[0]) #Primeira sentença\n",
        "print(nltk.corpus.mac_morpho.sents()[1]) #Segunda sentença"
      ],
      "execution_count": null,
      "outputs": [
        {
          "output_type": "stream",
          "name": "stdout",
          "text": [
            "[['Jersei', 'atinge', 'média', 'de', 'Cr$', '1,4', 'milhão', 'em', 'a', 'venda', 'de', 'a', 'Pinhal', 'em', 'São', 'Paulo'], ['Programe', 'sua', 'viagem', 'a', 'a', 'Exposição', 'Nacional', 'do', 'Zebu', ',', 'que', 'começa', 'dia', '25'], ...]\n",
            "['Jersei', 'atinge', 'média', 'de', 'Cr$', '1,4', 'milhão', 'em', 'a', 'venda', 'de', 'a', 'Pinhal', 'em', 'São', 'Paulo']\n",
            "['Programe', 'sua', 'viagem', 'a', 'a', 'Exposição', 'Nacional', 'do', 'Zebu', ',', 'que', 'começa', 'dia', '25']\n"
          ]
        }
      ]
    },
    {
      "cell_type": "code",
      "metadata": {
        "colab": {
          "base_uri": "https://localhost:8080/"
        },
        "id": "kvQJeq-9dOqL",
        "outputId": "1d8c0953-8cf8-46e2-8ef0-4ba7b653e8f1"
      },
      "source": [
        "print(nltk.corpus.mac_morpho.tagged_words()) #Lista de tuplas. Cada tupla tem a palavra e sua classificação morfosintática respectiva\n",
        "print(len(nltk.corpus.mac_morpho.tagged_words())) #Contém a classificação de todas as palavras do Corpus"
      ],
      "execution_count": null,
      "outputs": [
        {
          "output_type": "stream",
          "name": "stdout",
          "text": [
            "[('Jersei', 'N'), ('atinge', 'V'), ('média', 'N'), ...]\n",
            "1170095\n"
          ]
        }
      ]
    },
    {
      "cell_type": "code",
      "metadata": {
        "colab": {
          "base_uri": "https://localhost:8080/"
        },
        "id": "Ta2gi-LBecLf",
        "outputId": "249d23f9-4bfe-41e9-d697-a1db2274674d"
      },
      "source": [
        "print(nltk.corpus.mac_morpho.tagged_sents()) #Lista de lista de tuplas com as classificações morfossintáticas de cada termo dentro de cada sentença\n",
        "print(nltk.corpus.mac_morpho.tagged_sents()[0])"
      ],
      "execution_count": null,
      "outputs": [
        {
          "output_type": "stream",
          "name": "stdout",
          "text": [
            "[[('Jersei', 'N'), ('atinge', 'V'), ('média', 'N'), ('de', 'PREP'), ('Cr$', 'CUR'), ('1,4', 'NUM'), ('milhão', 'N'), ('em', 'PREP|+'), ('a', 'ART'), ('venda', 'N'), ('de', 'PREP|+'), ('a', 'ART'), ('Pinhal', 'NPROP'), ('em', 'PREP'), ('São', 'NPROP'), ('Paulo', 'NPROP')], [('Programe', 'V'), ('sua', 'PROADJ'), ('viagem', 'N'), ('a', 'PREP|+'), ('a', 'ART'), ('Exposição', 'NPROP'), ('Nacional', 'NPROP'), ('do', 'NPROP'), ('Zebu', 'NPROP'), (',', ','), ('que', 'PRO-KS-REL'), ('começa', 'V'), ('dia', 'N'), ('25', 'N|AP')], ...]\n",
            "[('Jersei', 'N'), ('atinge', 'V'), ('média', 'N'), ('de', 'PREP'), ('Cr$', 'CUR'), ('1,4', 'NUM'), ('milhão', 'N'), ('em', 'PREP|+'), ('a', 'ART'), ('venda', 'N'), ('de', 'PREP|+'), ('a', 'ART'), ('Pinhal', 'NPROP'), ('em', 'PREP'), ('São', 'NPROP'), ('Paulo', 'NPROP')]\n"
          ]
        }
      ]
    },
    {
      "cell_type": "markdown",
      "metadata": {
        "id": "0MkMsS7liJVu"
      },
      "source": [
        "### **Tokenização**\n",
        "\n",
        "Tokenizar é separar as palavras do texto. É uma operação em nível lexical, e cada palavra, número ou pontuação passa a ser um **token**.\n",
        "![image.png](data:image/png;base64,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)"
      ]
    },
    {
      "cell_type": "code",
      "metadata": {
        "colab": {
          "base_uri": "https://localhost:8080/"
        },
        "id": "T7vEPt02ld-h",
        "outputId": "1d31f6b7-c5e2-4f94-d9c2-8dfdd9674899"
      },
      "source": [
        "# Utilizando expressões regulares (RegEx) para\n",
        "# tokenizar\n",
        "from nltk.tokenize import RegexpTokenizer\n",
        "texto = 'Com um passe de Eli Manning para Plaxico Burress a 39 segundos do fim, o New York Giants anotou o touchdown decisivo e derrubou o favorito New England Patriots por 17 a 14 neste domingo, em Glendale, no Super Bowl XLII. O resultado, uma das maiores zebras da história do Super Bowl, acabou com a temporada perfeita de Tom Brady e companhia, que esperavam fazer história ao levantar o troféu da NFL sem sofrer uma derrota no ano.'\n",
        "\n",
        "#\\w retorna qualquer caracter que seja uma letra\n",
        "# número ou underline. O + significa que deve ser\n",
        "# retornado um ou mais ocorrências\n",
        "tokenizer = RegexpTokenizer(r'\\w+')\n",
        "# Mais infos em https://www.w3schools.com/python/python_regex.asp\n",
        "# Para testar o padrão de busca que se deseja, esse site é muito útil:\n",
        "# https://pythex.org/\n",
        "tokens = tokenizer.tokenize(texto)\n",
        "print(tokens)"
      ],
      "execution_count": null,
      "outputs": [
        {
          "output_type": "stream",
          "name": "stdout",
          "text": [
            "['Com', 'um', 'passe', 'de', 'Eli', 'Manning', 'para', 'Plaxico', 'Burress', 'a', '39', 'segundos', 'do', 'fim', 'o', 'New', 'York', 'Giants', 'anotou', 'o', 'touchdown', 'decisivo', 'e', 'derrubou', 'o', 'favorito', 'New', 'England', 'Patriots', 'por', '17', 'a', '14', 'neste', 'domingo', 'em', 'Glendale', 'no', 'Super', 'Bowl', 'XLII', 'O', 'resultado', 'uma', 'das', 'maiores', 'zebras', 'da', 'história', 'do', 'Super', 'Bowl', 'acabou', 'com', 'a', 'temporada', 'perfeita', 'de', 'Tom', 'Brady', 'e', 'companhia', 'que', 'esperavam', 'fazer', 'história', 'ao', 'levantar', 'o', 'troféu', 'da', 'NFL', 'sem', 'sofrer', 'uma', 'derrota', 'no', 'ano']\n"
          ]
        }
      ]
    },
    {
      "cell_type": "code",
      "metadata": {
        "colab": {
          "base_uri": "https://localhost:8080/"
        },
        "id": "tCtiGwqQouqo",
        "outputId": "9cc13a9a-9e1a-4dc2-faf8-ef729c6ea4c4"
      },
      "source": [
        "#Exemplo 2\n",
        "from nltk.tokenize import RegexpTokenizer\n",
        "tokenizer2 = RegexpTokenizer(r'[A-z]\\w+')\n",
        "tokens2 = tokenizer2.tokenize(texto)\n",
        "print(tokens2)\n",
        "#Observar que diferente do exemplo 1, esse padrão de busca\n",
        "# de regex não inclui números. Assim o método tokenize da \n",
        "# classe RegexpTokenizer não selecionou números\n",
        "#Lembrar: .RegexpTokenizer(r'\\w+') inclui ocorrências múltiplas de dígitos, números\n",
        "# e underline, enquanto .RegexpTokenizer(r'[A-z]+')"
      ],
      "execution_count": null,
      "outputs": [
        {
          "output_type": "stream",
          "name": "stdout",
          "text": [
            "['Com', 'um', 'passe', 'de', 'Eli', 'Manning', 'para', 'Plaxico', 'Burress', 'segundos', 'do', 'fim', 'New', 'York', 'Giants', 'anotou', 'touchdown', 'decisivo', 'derrubou', 'favorito', 'New', 'England', 'Patriots', 'por', 'neste', 'domingo', 'em', 'Glendale', 'no', 'Super', 'Bowl', 'XLII', 'resultado', 'uma', 'das', 'maiores', 'zebras', 'da', 'história', 'do', 'Super', 'Bowl', 'acabou', 'com', 'temporada', 'perfeita', 'de', 'Tom', 'Brady', 'companhia', 'que', 'esperavam', 'fazer', 'história', 'ao', 'levantar', 'troféu', 'da', 'NFL', 'sem', 'sofrer', 'uma', 'derrota', 'no', 'ano']\n"
          ]
        }
      ]
    },
    {
      "cell_type": "markdown",
      "metadata": {
        "id": "kR1ko21sRZtN"
      },
      "source": [
        "## **Frequência/Contagem de palavras**\n",
        "\n",
        "Contagem de tokens"
      ]
    },
    {
      "cell_type": "markdown",
      "metadata": {
        "id": "9d4Srvu4fqHe"
      },
      "source": [
        "### classe FreqDist()\n",
        "\n",
        "O método most_common() ordena a frequência dos tokens. Pode ser usado um argumento para informar a frequência dos tokens mais comuns."
      ]
    },
    {
      "cell_type": "code",
      "metadata": {
        "colab": {
          "base_uri": "https://localhost:8080/"
        },
        "id": "DYQusrlkyA84",
        "outputId": "635e34a4-1db0-441a-83c5-218071120107"
      },
      "source": [
        "frequencia = nltk.FreqDist(tokens2)\n",
        "print(frequencia.most_common())\n",
        "print(frequencia.most_common(6))"
      ],
      "execution_count": null,
      "outputs": [
        {
          "output_type": "stream",
          "name": "stdout",
          "text": [
            "[('de', 2), ('do', 2), ('New', 2), ('no', 2), ('Super', 2), ('Bowl', 2), ('uma', 2), ('da', 2), ('história', 2), ('Com', 1), ('um', 1), ('passe', 1), ('Eli', 1), ('Manning', 1), ('para', 1), ('Plaxico', 1), ('Burress', 1), ('segundos', 1), ('fim', 1), ('York', 1), ('Giants', 1), ('anotou', 1), ('touchdown', 1), ('decisivo', 1), ('derrubou', 1), ('favorito', 1), ('England', 1), ('Patriots', 1), ('por', 1), ('neste', 1), ('domingo', 1), ('em', 1), ('Glendale', 1), ('XLII', 1), ('resultado', 1), ('das', 1), ('maiores', 1), ('zebras', 1), ('acabou', 1), ('com', 1), ('temporada', 1), ('perfeita', 1), ('Tom', 1), ('Brady', 1), ('companhia', 1), ('que', 1), ('esperavam', 1), ('fazer', 1), ('ao', 1), ('levantar', 1), ('troféu', 1), ('NFL', 1), ('sem', 1), ('sofrer', 1), ('derrota', 1), ('ano', 1)]\n",
            "[('de', 2), ('do', 2), ('New', 2), ('no', 2), ('Super', 2), ('Bowl', 2)]\n"
          ]
        }
      ]
    },
    {
      "cell_type": "code",
      "metadata": {
        "colab": {
          "base_uri": "https://localhost:8080/"
        },
        "id": "FNhDdjXizXci",
        "outputId": "a617151c-4f0b-47ce-e753-dda124d54610"
      },
      "source": [
        "# Tokenizando através do método 'padrão' do nltk:\n",
        "texto = 'Com um passe de Eli Manning para Plaxico Burress a 39 segundos do fim, o New York Giants anotou o touchdown decisivo e derrubou o favorito New England Patriots por 17 a 14 neste domingo, em Glendale, no Super Bowl XLII. O resultado, uma das maiores zebras da história do Super Bowl, acabou com a temporada perfeita de Tom Brady e companhia, que esperavam fazer história ao levantar o troféu da NFL sem sofrer uma derrota no ano.'\n",
        "tokens = nltk.word_tokenize(texto)\n",
        "print(texto)\n",
        "print(tokens)\n",
        "\n",
        "#Exibindo as frequências de tokens:\n",
        "frequencia = nltk.FreqDist(tokens)\n",
        "print(frequencia.most_common())"
      ],
      "execution_count": null,
      "outputs": [
        {
          "output_type": "stream",
          "name": "stdout",
          "text": [
            "Com um passe de Eli Manning para Plaxico Burress a 39 segundos do fim, o New York Giants anotou o touchdown decisivo e derrubou o favorito New England Patriots por 17 a 14 neste domingo, em Glendale, no Super Bowl XLII. O resultado, uma das maiores zebras da história do Super Bowl, acabou com a temporada perfeita de Tom Brady e companhia, que esperavam fazer história ao levantar o troféu da NFL sem sofrer uma derrota no ano.\n",
            "['Com', 'um', 'passe', 'de', 'Eli', 'Manning', 'para', 'Plaxico', 'Burress', 'a', '39', 'segundos', 'do', 'fim', ',', 'o', 'New', 'York', 'Giants', 'anotou', 'o', 'touchdown', 'decisivo', 'e', 'derrubou', 'o', 'favorito', 'New', 'England', 'Patriots', 'por', '17', 'a', '14', 'neste', 'domingo', ',', 'em', 'Glendale', ',', 'no', 'Super', 'Bowl', 'XLII', '.', 'O', 'resultado', ',', 'uma', 'das', 'maiores', 'zebras', 'da', 'história', 'do', 'Super', 'Bowl', ',', 'acabou', 'com', 'a', 'temporada', 'perfeita', 'de', 'Tom', 'Brady', 'e', 'companhia', ',', 'que', 'esperavam', 'fazer', 'história', 'ao', 'levantar', 'o', 'troféu', 'da', 'NFL', 'sem', 'sofrer', 'uma', 'derrota', 'no', 'ano', '.']\n",
            "[(',', 6), ('o', 4), ('a', 3), ('de', 2), ('do', 2), ('New', 2), ('e', 2), ('no', 2), ('Super', 2), ('Bowl', 2), ('.', 2), ('uma', 2), ('da', 2), ('história', 2), ('Com', 1), ('um', 1), ('passe', 1), ('Eli', 1), ('Manning', 1), ('para', 1), ('Plaxico', 1), ('Burress', 1), ('39', 1), ('segundos', 1), ('fim', 1), ('York', 1), ('Giants', 1), ('anotou', 1), ('touchdown', 1), ('decisivo', 1), ('derrubou', 1), ('favorito', 1), ('England', 1), ('Patriots', 1), ('por', 1), ('17', 1), ('14', 1), ('neste', 1), ('domingo', 1), ('em', 1), ('Glendale', 1), ('XLII', 1), ('O', 1), ('resultado', 1), ('das', 1), ('maiores', 1), ('zebras', 1), ('acabou', 1), ('com', 1), ('temporada', 1), ('perfeita', 1), ('Tom', 1), ('Brady', 1), ('companhia', 1), ('que', 1), ('esperavam', 1), ('fazer', 1), ('ao', 1), ('levantar', 1), ('troféu', 1), ('NFL', 1), ('sem', 1), ('sofrer', 1), ('derrota', 1), ('ano', 1)]\n"
          ]
        }
      ]
    },
    {
      "cell_type": "code",
      "metadata": {
        "colab": {
          "base_uri": "https://localhost:8080/"
        },
        "id": "SJr0Pakp1Dqz",
        "outputId": "1203a351-c26d-4476-99eb-a864a55c6ff6"
      },
      "source": [
        "# Fazendo a mesma operação (tokenização) que a célula de cima,\n",
        "# mas utilizando o pacote com RegEx (também embutido no NLTK)\n",
        "from nltk import RegexpTokenizer\n",
        "tokenizador = RegexpTokenizer(r'\\w+') #Esse argumento indica casar com frequências múltiplas de letras, números e underline\n",
        "tokens = tokenizador.tokenize(texto)\n",
        "frequencia = nltk.FreqDist(tokens)\n",
        "print(frequencia.most_common())"
      ],
      "execution_count": null,
      "outputs": [
        {
          "output_type": "stream",
          "name": "stdout",
          "text": [
            "[('o', 4), ('a', 3), ('de', 2), ('do', 2), ('New', 2), ('e', 2), ('no', 2), ('Super', 2), ('Bowl', 2), ('uma', 2), ('da', 2), ('história', 2), ('Com', 1), ('um', 1), ('passe', 1), ('Eli', 1), ('Manning', 1), ('para', 1), ('Plaxico', 1), ('Burress', 1), ('39', 1), ('segundos', 1), ('fim', 1), ('York', 1), ('Giants', 1), ('anotou', 1), ('touchdown', 1), ('decisivo', 1), ('derrubou', 1), ('favorito', 1), ('England', 1), ('Patriots', 1), ('por', 1), ('17', 1), ('14', 1), ('neste', 1), ('domingo', 1), ('em', 1), ('Glendale', 1), ('XLII', 1), ('O', 1), ('resultado', 1), ('das', 1), ('maiores', 1), ('zebras', 1), ('acabou', 1), ('com', 1), ('temporada', 1), ('perfeita', 1), ('Tom', 1), ('Brady', 1), ('companhia', 1), ('que', 1), ('esperavam', 1), ('fazer', 1), ('ao', 1), ('levantar', 1), ('troféu', 1), ('NFL', 1), ('sem', 1), ('sofrer', 1), ('derrota', 1), ('ano', 1)]\n"
          ]
        }
      ]
    },
    {
      "cell_type": "markdown",
      "metadata": {
        "id": "_i2AFCuGx62U"
      },
      "source": [
        "### Trabalhando com o Corpus de exemplo (drive):"
      ]
    },
    {
      "cell_type": "code",
      "metadata": {
        "colab": {
          "base_uri": "https://localhost:8080/"
        },
        "id": "shwS8pxF367L",
        "outputId": "cf2a63ab-8866-4711-e3e7-04c74e11d275"
      },
      "source": [
        "# Subindo o Corpus.txt\n",
        "with open('/content/drive/MyDrive/corpus.txt') as corpus:\n",
        "  corpus = corpus.read()\n",
        "print(corpus)"
      ],
      "execution_count": null,
      "outputs": [
        {
          "output_type": "stream",
          "name": "stdout",
          "text": [
            "Giants batem os Patriots no Super Bowl XLII\n",
            "Azarões acabam com a invencibilidade de New England e ficam com o título da temporada\n",
            "04/02/2008 - 01h07m - Atualizado em 04/02/2008 - 09h49m\n",
            "\n",
            "Com um passe de Eli Manning para Plaxico Burress a 39 segundos do fim, o New York Giants anotou o touchdown decisivo e derrubou o favorito New England Patriots por 17 a 14 neste domingo, em Glendale, no Super Bowl XLII. O resultado, uma das maiores zebras da história do Super Bowl, acabou com a temporada perfeita de Tom Brady e companhia, que esperavam fazer história ao levantar o troféu da NFL sem sofrer uma derrota no ano. \n",
            "\n",
            "A vitória dos Giants, porém, também ficará para a história. Pela primeira vez, irmãos quarterbacks triunfam no Super Bowl em temporadas consecutivas. No ano passado, Peyton Manning, irmão de Eli, chegou ao título máximo da NFL pelo Indianapolis Colts.\n",
            "\n",
            "A partida\n",
            "\n",
            "Os Giants começaram com a posse de bola, e mostraram logo que iriam alongar ao máximo suas posses de bola. Misturando corridas com Brandon Jacobs e passes curtos, o time de Nova York chegou à red zone logo na primeira campanha. O avanço, no entanto, parou na linha de 17 jardas e Lawrence Tynes converteu o field goal de 32 jardas para abrir o placar.\n",
            "\n",
            "Eli Manning e companhia ficaram 9m54s com a bola, mas o ataque dos Patriots não entrou em campo frio. Logo no retorno do kickoff, o running back Laurence Maroney avançou 43 jardas, deixando Tom Brady em boa posição. Com passes curtos, os Patriots chegaram à linha de 17 jardas e, graças a uma penalidade (interferência de passe) do linebacker Antonio Pierce, alcançaram a linha de uma jarda. Maroney avançou pelo chão e anotou o primeiro touchdown do jogo.\n",
            "\n",
            "Os Giants pareciam rumo à virada na campanha seguinte. Manning achou Amani Toomer para um avanço de 38 jardas, e o time de Nova York entrou novamente na red zone. Com a bola na linha de 14 jardas dos Patriots, os Giants sofreram um revés. Manning passou para Steve Smith, que soltou a bola. Ellis Hobbs aproveitou, tomou a posse para os Patriots, e avançou 23 jardas. \n",
            "\n",
            "A defesa de Nova York manteve o jogo equilibrado. Com dois sacks seguidos, os Giants forçaram o punt e recuperaram a bola. Mas a campanha seguinte provou ser outra decepção para Nova York. O time chegou à linha de 25 jardas, mas Manning sofreu um sack e cometeu um fumble, e o ataque voltou para a linha de 39 jardas, não conseguindo pontuar mais uma vez.\n",
            "\n",
            "Os Patriots tiveram uma última chance de marcar antes do intervalo, mas, a 22 segundos do fim do segundo período, Brady foi novamente sacado. Desta vez, ele cometeu o fumble e os Giants tomaram a posse de bola. Manning tentou um passe longo, de 50 jardas, nos últimos segundos, mas não teve sucesso. \n",
            "\n",
            "O jogo continuou amarrado no terceiro quarto, com as defesas levando a melhor sobre os ataques. A única chance de pontuar do período foi dos Patriots, que chegaram à linha de 31 jardas dos Giants. O técnico Bill Bellichick, porém, optou por uma quarta descida em vez de um field goal. Brady tentou um passe para Jabar Gaffney, mas não conseguiu completar.\n",
            "\n",
            "O último período começou arrasador para os Giants. na primeira jogada, Manning achou o tight end Kevin Boss, para um incrível avanço de 45 jardas, que deixou o time na linha de 35 dos Patriots. Outro lançamento, desta vez para Steve Smith, marcou o avanço até a linha de 12 jardas. Duas jogadas depois, David Tyree pegou um passe de cinco jardas na end zone para anotar o touchdown e virar o jogo.\n",
            "\n",
            "Na hora da decisão, o ataque dos Patriots voltou a funcionar. Com uma série de passes curtos e variados, Brady achou Wes Welker, Randy Moss e Kevin Faulk seguidas vezes até chegar à red zone. A 2m45s do fim, o quarterback conectou mais uma vez com Moss, que se desmarcou e ficou livre na lateral direita da end zone.\n",
            "\n",
            "Quando os fãs de New England já comemoravam a vitória, o inesperado aconteceu. Em uma jogada incrível, Eli Manning se soltou de dois marcadores que o seguravam pela camisa e, na corrida, lançou para Amani Toomer. O wide receiver, bem marcado, saltou e conseguiu a fazer recepção para um avanço de 32 jardas, deixando os Giants na linha de 24 de New England.\n",
            "\n",
            "Quatro jogadas depois, a 39 segundos do fim, Manning achou Plaxico Burress na end zone para conseguir o touchdown do título.\n"
          ]
        }
      ]
    },
    {
      "cell_type": "code",
      "metadata": {
        "id": "bRJHYgHL4Sfn",
        "colab": {
          "base_uri": "https://localhost:8080/"
        },
        "outputId": "afd5e7e4-3f3e-418c-f2d7-29bece2ceb39"
      },
      "source": [
        "# Tokenizando\n",
        "tokenizador = RegexpTokenizer(r'\\w+') #Instancia RegexpTokenizer\n",
        "corpus_tokenizado = tokenizador.tokenize(corpus) #Usa o método tokenize\n",
        "\n",
        "#Passando os tokens à classe FreqDist e utilizando o método most_common\n",
        "contador = nltk.FreqDist(corpus_tokenizado)\n",
        "contador.most_common()"
      ],
      "execution_count": null,
      "outputs": [
        {
          "output_type": "execute_result",
          "data": {
            "text/plain": [
              "[('de', 34),\n",
              " ('o', 26),\n",
              " ('a', 23),\n",
              " ('e', 21),\n",
              " ('para', 16),\n",
              " ('jardas', 15),\n",
              " ('do', 12),\n",
              " ('na', 12),\n",
              " ('Giants', 11),\n",
              " ('um', 11),\n",
              " ('os', 10),\n",
              " ('Patriots', 10),\n",
              " ('Manning', 10),\n",
              " ('uma', 10),\n",
              " ('linha', 10),\n",
              " ('com', 8),\n",
              " ('no', 7),\n",
              " ('O', 7),\n",
              " ('que', 7),\n",
              " ('dos', 7),\n",
              " ('bola', 7),\n",
              " ('da', 6),\n",
              " ('em', 6),\n",
              " ('vez', 6),\n",
              " ('à', 6),\n",
              " ('zone', 6),\n",
              " ('New', 5),\n",
              " ('Com', 5),\n",
              " ('passe', 5),\n",
              " ('York', 5),\n",
              " ('Brady', 5),\n",
              " ('A', 5),\n",
              " ('avanço', 5),\n",
              " ('mas', 5),\n",
              " ('Super', 4),\n",
              " ('Bowl', 4),\n",
              " ('England', 4),\n",
              " ('Eli', 4),\n",
              " ('segundos', 4),\n",
              " ('fim', 4),\n",
              " ('touchdown', 4),\n",
              " ('time', 4),\n",
              " ('Nova', 4),\n",
              " ('não', 4),\n",
              " ('jogo', 4),\n",
              " ('achou', 4),\n",
              " ('end', 4),\n",
              " ('título', 3),\n",
              " ('39', 3),\n",
              " ('17', 3),\n",
              " ('história', 3),\n",
              " ('ao', 3),\n",
              " ('primeira', 3),\n",
              " ('chegou', 3),\n",
              " ('Os', 3),\n",
              " ('posse', 3),\n",
              " ('passes', 3),\n",
              " ('curtos', 3),\n",
              " ('red', 3),\n",
              " ('campanha', 3),\n",
              " ('ataque', 3),\n",
              " ('avançou', 3),\n",
              " ('período', 3),\n",
              " ('XLII', 2),\n",
              " ('temporada', 2),\n",
              " ('04', 2),\n",
              " ('02', 2),\n",
              " ('2008', 2),\n",
              " ('Plaxico', 2),\n",
              " ('Burress', 2),\n",
              " ('anotou', 2),\n",
              " ('por', 2),\n",
              " ('14', 2),\n",
              " ('Tom', 2),\n",
              " ('companhia', 2),\n",
              " ('fazer', 2),\n",
              " ('NFL', 2),\n",
              " ('ano', 2),\n",
              " ('vitória', 2),\n",
              " ('porém', 2),\n",
              " ('máximo', 2),\n",
              " ('pelo', 2),\n",
              " ('logo', 2),\n",
              " ('field', 2),\n",
              " ('goal', 2),\n",
              " ('32', 2),\n",
              " ('entrou', 2),\n",
              " ('Maroney', 2),\n",
              " ('deixando', 2),\n",
              " ('chegaram', 2),\n",
              " ('seguinte', 2),\n",
              " ('Amani', 2),\n",
              " ('Toomer', 2),\n",
              " ('novamente', 2),\n",
              " ('Steve', 2),\n",
              " ('Smith', 2),\n",
              " ('soltou', 2),\n",
              " ('dois', 2),\n",
              " ('cometeu', 2),\n",
              " ('fumble', 2),\n",
              " ('voltou', 2),\n",
              " ('pontuar', 2),\n",
              " ('mais', 2),\n",
              " ('chance', 2),\n",
              " ('foi', 2),\n",
              " ('tentou', 2),\n",
              " ('conseguiu', 2),\n",
              " ('jogada', 2),\n",
              " ('Kevin', 2),\n",
              " ('incrível', 2),\n",
              " ('até', 2),\n",
              " ('jogadas', 2),\n",
              " ('depois', 2),\n",
              " ('Moss', 2),\n",
              " ('se', 2),\n",
              " ('batem', 1),\n",
              " ('Azarões', 1),\n",
              " ('acabam', 1),\n",
              " ('invencibilidade', 1),\n",
              " ('ficam', 1),\n",
              " ('01h07m', 1),\n",
              " ('Atualizado', 1),\n",
              " ('09h49m', 1),\n",
              " ('decisivo', 1),\n",
              " ('derrubou', 1),\n",
              " ('favorito', 1),\n",
              " ('neste', 1),\n",
              " ('domingo', 1),\n",
              " ('Glendale', 1),\n",
              " ('resultado', 1),\n",
              " ('das', 1),\n",
              " ('maiores', 1),\n",
              " ('zebras', 1),\n",
              " ('acabou', 1),\n",
              " ('perfeita', 1),\n",
              " ('esperavam', 1),\n",
              " ('levantar', 1),\n",
              " ('troféu', 1),\n",
              " ('sem', 1),\n",
              " ('sofrer', 1),\n",
              " ('derrota', 1),\n",
              " ('também', 1),\n",
              " ('ficará', 1),\n",
              " ('Pela', 1),\n",
              " ('irmãos', 1),\n",
              " ('quarterbacks', 1),\n",
              " ('triunfam', 1),\n",
              " ('temporadas', 1),\n",
              " ('consecutivas', 1),\n",
              " ('No', 1),\n",
              " ('passado', 1),\n",
              " ('Peyton', 1),\n",
              " ('irmão', 1),\n",
              " ('Indianapolis', 1),\n",
              " ('Colts', 1),\n",
              " ('partida', 1),\n",
              " ('começaram', 1),\n",
              " ('mostraram', 1),\n",
              " ('iriam', 1),\n",
              " ('alongar', 1),\n",
              " ('suas', 1),\n",
              " ('posses', 1),\n",
              " ('Misturando', 1),\n",
              " ('corridas', 1),\n",
              " ('Brandon', 1),\n",
              " ('Jacobs', 1),\n",
              " ('entanto', 1),\n",
              " ('parou', 1),\n",
              " ('Lawrence', 1),\n",
              " ('Tynes', 1),\n",
              " ('converteu', 1),\n",
              " ('abrir', 1),\n",
              " ('placar', 1),\n",
              " ('ficaram', 1),\n",
              " ('9m54s', 1),\n",
              " ('campo', 1),\n",
              " ('frio', 1),\n",
              " ('Logo', 1),\n",
              " ('retorno', 1),\n",
              " ('kickoff', 1),\n",
              " ('running', 1),\n",
              " ('back', 1),\n",
              " ('Laurence', 1),\n",
              " ('43', 1),\n",
              " ('boa', 1),\n",
              " ('posição', 1),\n",
              " ('graças', 1),\n",
              " ('penalidade', 1),\n",
              " ('interferência', 1),\n",
              " ('linebacker', 1),\n",
              " ('Antonio', 1),\n",
              " ('Pierce', 1),\n",
              " ('alcançaram', 1),\n",
              " ('jarda', 1),\n",
              " ('chão', 1),\n",
              " ('primeiro', 1),\n",
              " ('pareciam', 1),\n",
              " ('rumo', 1),\n",
              " ('virada', 1),\n",
              " ('38', 1),\n",
              " ('sofreram', 1),\n",
              " ('revés', 1),\n",
              " ('passou', 1),\n",
              " ('Ellis', 1),\n",
              " ('Hobbs', 1),\n",
              " ('aproveitou', 1),\n",
              " ('tomou', 1),\n",
              " ('23', 1),\n",
              " ('defesa', 1),\n",
              " ('manteve', 1),\n",
              " ('equilibrado', 1),\n",
              " ('sacks', 1),\n",
              " ('seguidos', 1),\n",
              " ('forçaram', 1),\n",
              " ('punt', 1),\n",
              " ('recuperaram', 1),\n",
              " ('Mas', 1),\n",
              " ('provou', 1),\n",
              " ('ser', 1),\n",
              " ('outra', 1),\n",
              " ('decepção', 1),\n",
              " ('25', 1),\n",
              " ('sofreu', 1),\n",
              " ('sack', 1),\n",
              " ('conseguindo', 1),\n",
              " ('tiveram', 1),\n",
              " ('última', 1),\n",
              " ('marcar', 1),\n",
              " ('antes', 1),\n",
              " ('intervalo', 1),\n",
              " ('22', 1),\n",
              " ('segundo', 1),\n",
              " ('sacado', 1),\n",
              " ('Desta', 1),\n",
              " ('ele', 1),\n",
              " ('tomaram', 1),\n",
              " ('longo', 1),\n",
              " ('50', 1),\n",
              " ('nos', 1),\n",
              " ('últimos', 1),\n",
              " ('teve', 1),\n",
              " ('sucesso', 1),\n",
              " ('continuou', 1),\n",
              " ('amarrado', 1),\n",
              " ('terceiro', 1),\n",
              " ('quarto', 1),\n",
              " ('as', 1),\n",
              " ('defesas', 1),\n",
              " ('levando', 1),\n",
              " ('melhor', 1),\n",
              " ('sobre', 1),\n",
              " ('ataques', 1),\n",
              " ('única', 1),\n",
              " ('31', 1),\n",
              " ('técnico', 1),\n",
              " ('Bill', 1),\n",
              " ('Bellichick', 1),\n",
              " ('optou', 1),\n",
              " ('quarta', 1),\n",
              " ('descida', 1),\n",
              " ('Jabar', 1),\n",
              " ('Gaffney', 1),\n",
              " ('completar', 1),\n",
              " ('último', 1),\n",
              " ('começou', 1),\n",
              " ('arrasador', 1),\n",
              " ('tight', 1),\n",
              " ('Boss', 1),\n",
              " ('45', 1),\n",
              " ('deixou', 1),\n",
              " ('35', 1),\n",
              " ('Outro', 1),\n",
              " ('lançamento', 1),\n",
              " ('desta', 1),\n",
              " ('marcou', 1),\n",
              " ('12', 1),\n",
              " ('Duas', 1),\n",
              " ('David', 1),\n",
              " ('Tyree', 1),\n",
              " ('pegou', 1),\n",
              " ('cinco', 1),\n",
              " ('anotar', 1),\n",
              " ('virar', 1),\n",
              " ('Na', 1),\n",
              " ('hora', 1),\n",
              " ('decisão', 1),\n",
              " ('funcionar', 1),\n",
              " ('série', 1),\n",
              " ('variados', 1),\n",
              " ('Wes', 1),\n",
              " ('Welker', 1),\n",
              " ('Randy', 1),\n",
              " ('Faulk', 1),\n",
              " ('seguidas', 1),\n",
              " ('vezes', 1),\n",
              " ('chegar', 1),\n",
              " ('2m45s', 1),\n",
              " ('quarterback', 1),\n",
              " ('conectou', 1),\n",
              " ('desmarcou', 1),\n",
              " ('ficou', 1),\n",
              " ('livre', 1),\n",
              " ('lateral', 1),\n",
              " ('direita', 1),\n",
              " ('Quando', 1),\n",
              " ('fãs', 1),\n",
              " ('já', 1),\n",
              " ('comemoravam', 1),\n",
              " ('inesperado', 1),\n",
              " ('aconteceu', 1),\n",
              " ('Em', 1),\n",
              " ('marcadores', 1),\n",
              " ('seguravam', 1),\n",
              " ('pela', 1),\n",
              " ('camisa', 1),\n",
              " ('corrida', 1),\n",
              " ('lançou', 1),\n",
              " ('wide', 1),\n",
              " ('receiver', 1),\n",
              " ('bem', 1),\n",
              " ('marcado', 1),\n",
              " ('saltou', 1),\n",
              " ('recepção', 1),\n",
              " ('24', 1),\n",
              " ('Quatro', 1),\n",
              " ('conseguir', 1)]"
            ]
          },
          "metadata": {},
          "execution_count": 19
        }
      ]
    },
    {
      "cell_type": "code",
      "metadata": {
        "colab": {
          "base_uri": "https://localhost:8080/"
        },
        "id": "DyiXkROV5umw",
        "outputId": "caad27f4-a34e-44af-b663-2d6df66f854b"
      },
      "source": [
        "# Trabalhando apenas com letras (refazendo a tokenização com\n",
        "# regex apenas casando letras)\n",
        "tokenizador = RegexpTokenizer(r'[A-z]\\w+')\n",
        "tokenizado = tokenizador.tokenize(corpus)\n",
        "print(tokenizado)\n",
        "\n",
        "# Transformando todos os tokens em letras minúsculas\n",
        "# para tornar a contagem de tokens mais eficiente.\n",
        "# Método 1:\n",
        "nova_lista = []\n",
        "for token in tokenizado:\n",
        "  nova_lista.append(token.lower())\n",
        "print(nova_lista)\n",
        "\n",
        "# Agora vamos reaplicar a classe FreqDist sobre esse\n",
        "# novo conjunto de tokens e exibir os mais tokens\n",
        "# mais comuns (FreqDist.most_common())\n",
        "frequencia = nltk.FreqDist(nova_lista)\n",
        "print(frequencia.most_common())\n"
      ],
      "execution_count": null,
      "outputs": [
        {
          "output_type": "stream",
          "name": "stdout",
          "text": [
            "['Giants', 'batem', 'os', 'Patriots', 'no', 'Super', 'Bowl', 'XLII', 'Azarões', 'acabam', 'com', 'invencibilidade', 'de', 'New', 'England', 'ficam', 'com', 'título', 'da', 'temporada', 'h07m', 'Atualizado', 'em', 'h49m', 'Com', 'um', 'passe', 'de', 'Eli', 'Manning', 'para', 'Plaxico', 'Burress', 'segundos', 'do', 'fim', 'New', 'York', 'Giants', 'anotou', 'touchdown', 'decisivo', 'derrubou', 'favorito', 'New', 'England', 'Patriots', 'por', 'neste', 'domingo', 'em', 'Glendale', 'no', 'Super', 'Bowl', 'XLII', 'resultado', 'uma', 'das', 'maiores', 'zebras', 'da', 'história', 'do', 'Super', 'Bowl', 'acabou', 'com', 'temporada', 'perfeita', 'de', 'Tom', 'Brady', 'companhia', 'que', 'esperavam', 'fazer', 'história', 'ao', 'levantar', 'troféu', 'da', 'NFL', 'sem', 'sofrer', 'uma', 'derrota', 'no', 'ano', 'vitória', 'dos', 'Giants', 'porém', 'também', 'ficará', 'para', 'história', 'Pela', 'primeira', 'vez', 'irmãos', 'quarterbacks', 'triunfam', 'no', 'Super', 'Bowl', 'em', 'temporadas', 'consecutivas', 'No', 'ano', 'passado', 'Peyton', 'Manning', 'irmão', 'de', 'Eli', 'chegou', 'ao', 'título', 'máximo', 'da', 'NFL', 'pelo', 'Indianapolis', 'Colts', 'partida', 'Os', 'Giants', 'começaram', 'com', 'posse', 'de', 'bola', 'mostraram', 'logo', 'que', 'iriam', 'alongar', 'ao', 'máximo', 'suas', 'posses', 'de', 'bola', 'Misturando', 'corridas', 'com', 'Brandon', 'Jacobs', 'passes', 'curtos', 'time', 'de', 'Nova', 'York', 'chegou', 'red', 'zone', 'logo', 'na', 'primeira', 'campanha', 'avanço', 'no', 'entanto', 'parou', 'na', 'linha', 'de', 'jardas', 'Lawrence', 'Tynes', 'converteu', 'field', 'goal', 'de', 'jardas', 'para', 'abrir', 'placar', 'Eli', 'Manning', 'companhia', 'ficaram', 'm54s', 'com', 'bola', 'mas', 'ataque', 'dos', 'Patriots', 'não', 'entrou', 'em', 'campo', 'frio', 'Logo', 'no', 'retorno', 'do', 'kickoff', 'running', 'back', 'Laurence', 'Maroney', 'avançou', 'jardas', 'deixando', 'Tom', 'Brady', 'em', 'boa', 'posição', 'Com', 'passes', 'curtos', 'os', 'Patriots', 'chegaram', 'linha', 'de', 'jardas', 'graças', 'uma', 'penalidade', 'interferência', 'de', 'passe', 'do', 'linebacker', 'Antonio', 'Pierce', 'alcançaram', 'linha', 'de', 'uma', 'jarda', 'Maroney', 'avançou', 'pelo', 'chão', 'anotou', 'primeiro', 'touchdown', 'do', 'jogo', 'Os', 'Giants', 'pareciam', 'rumo', 'virada', 'na', 'campanha', 'seguinte', 'Manning', 'achou', 'Amani', 'Toomer', 'para', 'um', 'avanço', 'de', 'jardas', 'time', 'de', 'Nova', 'York', 'entrou', 'novamente', 'na', 'red', 'zone', 'Com', 'bola', 'na', 'linha', 'de', 'jardas', 'dos', 'Patriots', 'os', 'Giants', 'sofreram', 'um', 'revés', 'Manning', 'passou', 'para', 'Steve', 'Smith', 'que', 'soltou', 'bola', 'Ellis', 'Hobbs', 'aproveitou', 'tomou', 'posse', 'para', 'os', 'Patriots', 'avançou', 'jardas', 'defesa', 'de', 'Nova', 'York', 'manteve', 'jogo', 'equilibrado', 'Com', 'dois', 'sacks', 'seguidos', 'os', 'Giants', 'forçaram', 'punt', 'recuperaram', 'bola', 'Mas', 'campanha', 'seguinte', 'provou', 'ser', 'outra', 'decepção', 'para', 'Nova', 'York', 'time', 'chegou', 'linha', 'de', 'jardas', 'mas', 'Manning', 'sofreu', 'um', 'sack', 'cometeu', 'um', 'fumble', 'ataque', 'voltou', 'para', 'linha', 'de', 'jardas', 'não', 'conseguindo', 'pontuar', 'mais', 'uma', 'vez', 'Os', 'Patriots', 'tiveram', 'uma', 'ltima', 'chance', 'de', 'marcar', 'antes', 'do', 'intervalo', 'mas', 'segundos', 'do', 'fim', 'do', 'segundo', 'período', 'Brady', 'foi', 'novamente', 'sacado', 'Desta', 'vez', 'ele', 'cometeu', 'fumble', 'os', 'Giants', 'tomaram', 'posse', 'de', 'bola', 'Manning', 'tentou', 'um', 'passe', 'longo', 'de', 'jardas', 'nos', 'ltimos', 'segundos', 'mas', 'não', 'teve', 'sucesso', 'jogo', 'continuou', 'amarrado', 'no', 'terceiro', 'quarto', 'com', 'as', 'defesas', 'levando', 'melhor', 'sobre', 'os', 'ataques', 'nica', 'chance', 'de', 'pontuar', 'do', 'período', 'foi', 'dos', 'Patriots', 'que', 'chegaram', 'linha', 'de', 'jardas', 'dos', 'Giants', 'técnico', 'Bill', 'Bellichick', 'porém', 'optou', 'por', 'uma', 'quarta', 'descida', 'em', 'vez', 'de', 'um', 'field', 'goal', 'Brady', 'tentou', 'um', 'passe', 'para', 'Jabar', 'Gaffney', 'mas', 'não', 'conseguiu', 'completar', 'ltimo', 'período', 'começou', 'arrasador', 'para', 'os', 'Giants', 'na', 'primeira', 'jogada', 'Manning', 'achou', 'tight', 'end', 'Kevin', 'Boss', 'para', 'um', 'incrível', 'avanço', 'de', 'jardas', 'que', 'deixou', 'time', 'na', 'linha', 'de', 'dos', 'Patriots', 'Outro', 'lançamento', 'desta', 'vez', 'para', 'Steve', 'Smith', 'marcou', 'avanço', 'até', 'linha', 'de', 'jardas', 'Duas', 'jogadas', 'depois', 'David', 'Tyree', 'pegou', 'um', 'passe', 'de', 'cinco', 'jardas', 'na', 'end', 'zone', 'para', 'anotar', 'touchdown', 'virar', 'jogo', 'Na', 'hora', 'da', 'decisão', 'ataque', 'dos', 'Patriots', 'voltou', 'funcionar', 'Com', 'uma', 'série', 'de', 'passes', 'curtos', 'variados', 'Brady', 'achou', 'Wes', 'Welker', 'Randy', 'Moss', 'Kevin', 'Faulk', 'seguidas', 'vezes', 'até', 'chegar', 'red', 'zone', 'm45s', 'do', 'fim', 'quarterback', 'conectou', 'mais', 'uma', 'vez', 'com', 'Moss', 'que', 'se', 'desmarcou', 'ficou', 'livre', 'na', 'lateral', 'direita', 'da', 'end', 'zone', 'Quando', 'os', 'fãs', 'de', 'New', 'England', 'já', 'comemoravam', 'vitória', 'inesperado', 'aconteceu', 'Em', 'uma', 'jogada', 'incrível', 'Eli', 'Manning', 'se', 'soltou', 'de', 'dois', 'marcadores', 'que', 'seguravam', 'pela', 'camisa', 'na', 'corrida', 'lançou', 'para', 'Amani', 'Toomer', 'wide', 'receiver', 'bem', 'marcado', 'saltou', 'conseguiu', 'fazer', 'recepção', 'para', 'um', 'avanço', 'de', 'jardas', 'deixando', 'os', 'Giants', 'na', 'linha', 'de', 'de', 'New', 'England', 'Quatro', 'jogadas', 'depois', 'segundos', 'do', 'fim', 'Manning', 'achou', 'Plaxico', 'Burress', 'na', 'end', 'zone', 'para', 'conseguir', 'touchdown', 'do', 'título']\n",
            "['giants', 'batem', 'os', 'patriots', 'no', 'super', 'bowl', 'xlii', 'azarões', 'acabam', 'com', 'invencibilidade', 'de', 'new', 'england', 'ficam', 'com', 'título', 'da', 'temporada', 'h07m', 'atualizado', 'em', 'h49m', 'com', 'um', 'passe', 'de', 'eli', 'manning', 'para', 'plaxico', 'burress', 'segundos', 'do', 'fim', 'new', 'york', 'giants', 'anotou', 'touchdown', 'decisivo', 'derrubou', 'favorito', 'new', 'england', 'patriots', 'por', 'neste', 'domingo', 'em', 'glendale', 'no', 'super', 'bowl', 'xlii', 'resultado', 'uma', 'das', 'maiores', 'zebras', 'da', 'história', 'do', 'super', 'bowl', 'acabou', 'com', 'temporada', 'perfeita', 'de', 'tom', 'brady', 'companhia', 'que', 'esperavam', 'fazer', 'história', 'ao', 'levantar', 'troféu', 'da', 'nfl', 'sem', 'sofrer', 'uma', 'derrota', 'no', 'ano', 'vitória', 'dos', 'giants', 'porém', 'também', 'ficará', 'para', 'história', 'pela', 'primeira', 'vez', 'irmãos', 'quarterbacks', 'triunfam', 'no', 'super', 'bowl', 'em', 'temporadas', 'consecutivas', 'no', 'ano', 'passado', 'peyton', 'manning', 'irmão', 'de', 'eli', 'chegou', 'ao', 'título', 'máximo', 'da', 'nfl', 'pelo', 'indianapolis', 'colts', 'partida', 'os', 'giants', 'começaram', 'com', 'posse', 'de', 'bola', 'mostraram', 'logo', 'que', 'iriam', 'alongar', 'ao', 'máximo', 'suas', 'posses', 'de', 'bola', 'misturando', 'corridas', 'com', 'brandon', 'jacobs', 'passes', 'curtos', 'time', 'de', 'nova', 'york', 'chegou', 'red', 'zone', 'logo', 'na', 'primeira', 'campanha', 'avanço', 'no', 'entanto', 'parou', 'na', 'linha', 'de', 'jardas', 'lawrence', 'tynes', 'converteu', 'field', 'goal', 'de', 'jardas', 'para', 'abrir', 'placar', 'eli', 'manning', 'companhia', 'ficaram', 'm54s', 'com', 'bola', 'mas', 'ataque', 'dos', 'patriots', 'não', 'entrou', 'em', 'campo', 'frio', 'logo', 'no', 'retorno', 'do', 'kickoff', 'running', 'back', 'laurence', 'maroney', 'avançou', 'jardas', 'deixando', 'tom', 'brady', 'em', 'boa', 'posição', 'com', 'passes', 'curtos', 'os', 'patriots', 'chegaram', 'linha', 'de', 'jardas', 'graças', 'uma', 'penalidade', 'interferência', 'de', 'passe', 'do', 'linebacker', 'antonio', 'pierce', 'alcançaram', 'linha', 'de', 'uma', 'jarda', 'maroney', 'avançou', 'pelo', 'chão', 'anotou', 'primeiro', 'touchdown', 'do', 'jogo', 'os', 'giants', 'pareciam', 'rumo', 'virada', 'na', 'campanha', 'seguinte', 'manning', 'achou', 'amani', 'toomer', 'para', 'um', 'avanço', 'de', 'jardas', 'time', 'de', 'nova', 'york', 'entrou', 'novamente', 'na', 'red', 'zone', 'com', 'bola', 'na', 'linha', 'de', 'jardas', 'dos', 'patriots', 'os', 'giants', 'sofreram', 'um', 'revés', 'manning', 'passou', 'para', 'steve', 'smith', 'que', 'soltou', 'bola', 'ellis', 'hobbs', 'aproveitou', 'tomou', 'posse', 'para', 'os', 'patriots', 'avançou', 'jardas', 'defesa', 'de', 'nova', 'york', 'manteve', 'jogo', 'equilibrado', 'com', 'dois', 'sacks', 'seguidos', 'os', 'giants', 'forçaram', 'punt', 'recuperaram', 'bola', 'mas', 'campanha', 'seguinte', 'provou', 'ser', 'outra', 'decepção', 'para', 'nova', 'york', 'time', 'chegou', 'linha', 'de', 'jardas', 'mas', 'manning', 'sofreu', 'um', 'sack', 'cometeu', 'um', 'fumble', 'ataque', 'voltou', 'para', 'linha', 'de', 'jardas', 'não', 'conseguindo', 'pontuar', 'mais', 'uma', 'vez', 'os', 'patriots', 'tiveram', 'uma', 'ltima', 'chance', 'de', 'marcar', 'antes', 'do', 'intervalo', 'mas', 'segundos', 'do', 'fim', 'do', 'segundo', 'período', 'brady', 'foi', 'novamente', 'sacado', 'desta', 'vez', 'ele', 'cometeu', 'fumble', 'os', 'giants', 'tomaram', 'posse', 'de', 'bola', 'manning', 'tentou', 'um', 'passe', 'longo', 'de', 'jardas', 'nos', 'ltimos', 'segundos', 'mas', 'não', 'teve', 'sucesso', 'jogo', 'continuou', 'amarrado', 'no', 'terceiro', 'quarto', 'com', 'as', 'defesas', 'levando', 'melhor', 'sobre', 'os', 'ataques', 'nica', 'chance', 'de', 'pontuar', 'do', 'período', 'foi', 'dos', 'patriots', 'que', 'chegaram', 'linha', 'de', 'jardas', 'dos', 'giants', 'técnico', 'bill', 'bellichick', 'porém', 'optou', 'por', 'uma', 'quarta', 'descida', 'em', 'vez', 'de', 'um', 'field', 'goal', 'brady', 'tentou', 'um', 'passe', 'para', 'jabar', 'gaffney', 'mas', 'não', 'conseguiu', 'completar', 'ltimo', 'período', 'começou', 'arrasador', 'para', 'os', 'giants', 'na', 'primeira', 'jogada', 'manning', 'achou', 'tight', 'end', 'kevin', 'boss', 'para', 'um', 'incrível', 'avanço', 'de', 'jardas', 'que', 'deixou', 'time', 'na', 'linha', 'de', 'dos', 'patriots', 'outro', 'lançamento', 'desta', 'vez', 'para', 'steve', 'smith', 'marcou', 'avanço', 'até', 'linha', 'de', 'jardas', 'duas', 'jogadas', 'depois', 'david', 'tyree', 'pegou', 'um', 'passe', 'de', 'cinco', 'jardas', 'na', 'end', 'zone', 'para', 'anotar', 'touchdown', 'virar', 'jogo', 'na', 'hora', 'da', 'decisão', 'ataque', 'dos', 'patriots', 'voltou', 'funcionar', 'com', 'uma', 'série', 'de', 'passes', 'curtos', 'variados', 'brady', 'achou', 'wes', 'welker', 'randy', 'moss', 'kevin', 'faulk', 'seguidas', 'vezes', 'até', 'chegar', 'red', 'zone', 'm45s', 'do', 'fim', 'quarterback', 'conectou', 'mais', 'uma', 'vez', 'com', 'moss', 'que', 'se', 'desmarcou', 'ficou', 'livre', 'na', 'lateral', 'direita', 'da', 'end', 'zone', 'quando', 'os', 'fãs', 'de', 'new', 'england', 'já', 'comemoravam', 'vitória', 'inesperado', 'aconteceu', 'em', 'uma', 'jogada', 'incrível', 'eli', 'manning', 'se', 'soltou', 'de', 'dois', 'marcadores', 'que', 'seguravam', 'pela', 'camisa', 'na', 'corrida', 'lançou', 'para', 'amani', 'toomer', 'wide', 'receiver', 'bem', 'marcado', 'saltou', 'conseguiu', 'fazer', 'recepção', 'para', 'um', 'avanço', 'de', 'jardas', 'deixando', 'os', 'giants', 'na', 'linha', 'de', 'de', 'new', 'england', 'quatro', 'jogadas', 'depois', 'segundos', 'do', 'fim', 'manning', 'achou', 'plaxico', 'burress', 'na', 'end', 'zone', 'para', 'conseguir', 'touchdown', 'do', 'título']\n",
            "[('de', 34), ('para', 16), ('jardas', 15), ('os', 13), ('com', 13), ('na', 13), ('do', 12), ('giants', 11), ('um', 11), ('patriots', 10), ('manning', 10), ('uma', 10), ('linha', 10), ('no', 8), ('em', 7), ('que', 7), ('dos', 7), ('bola', 7), ('da', 6), ('vez', 6), ('zone', 6), ('mas', 6), ('new', 5), ('passe', 5), ('york', 5), ('brady', 5), ('avanço', 5), ('super', 4), ('bowl', 4), ('england', 4), ('eli', 4), ('segundos', 4), ('fim', 4), ('touchdown', 4), ('time', 4), ('nova', 4), ('não', 4), ('jogo', 4), ('achou', 4), ('end', 4), ('título', 3), ('história', 3), ('ao', 3), ('primeira', 3), ('chegou', 3), ('posse', 3), ('logo', 3), ('passes', 3), ('curtos', 3), ('red', 3), ('campanha', 3), ('ataque', 3), ('avançou', 3), ('período', 3), ('xlii', 2), ('temporada', 2), ('plaxico', 2), ('burress', 2), ('anotou', 2), ('por', 2), ('tom', 2), ('companhia', 2), ('fazer', 2), ('nfl', 2), ('ano', 2), ('vitória', 2), ('porém', 2), ('pela', 2), ('máximo', 2), ('pelo', 2), ('field', 2), ('goal', 2), ('entrou', 2), ('maroney', 2), ('deixando', 2), ('chegaram', 2), ('seguinte', 2), ('amani', 2), ('toomer', 2), ('novamente', 2), ('steve', 2), ('smith', 2), ('soltou', 2), ('dois', 2), ('cometeu', 2), ('fumble', 2), ('voltou', 2), ('pontuar', 2), ('mais', 2), ('chance', 2), ('foi', 2), ('desta', 2), ('tentou', 2), ('conseguiu', 2), ('jogada', 2), ('kevin', 2), ('incrível', 2), ('até', 2), ('jogadas', 2), ('depois', 2), ('moss', 2), ('se', 2), ('batem', 1), ('azarões', 1), ('acabam', 1), ('invencibilidade', 1), ('ficam', 1), ('h07m', 1), ('atualizado', 1), ('h49m', 1), ('decisivo', 1), ('derrubou', 1), ('favorito', 1), ('neste', 1), ('domingo', 1), ('glendale', 1), ('resultado', 1), ('das', 1), ('maiores', 1), ('zebras', 1), ('acabou', 1), ('perfeita', 1), ('esperavam', 1), ('levantar', 1), ('troféu', 1), ('sem', 1), ('sofrer', 1), ('derrota', 1), ('também', 1), ('ficará', 1), ('irmãos', 1), ('quarterbacks', 1), ('triunfam', 1), ('temporadas', 1), ('consecutivas', 1), ('passado', 1), ('peyton', 1), ('irmão', 1), ('indianapolis', 1), ('colts', 1), ('partida', 1), ('começaram', 1), ('mostraram', 1), ('iriam', 1), ('alongar', 1), ('suas', 1), ('posses', 1), ('misturando', 1), ('corridas', 1), ('brandon', 1), ('jacobs', 1), ('entanto', 1), ('parou', 1), ('lawrence', 1), ('tynes', 1), ('converteu', 1), ('abrir', 1), ('placar', 1), ('ficaram', 1), ('m54s', 1), ('campo', 1), ('frio', 1), ('retorno', 1), ('kickoff', 1), ('running', 1), ('back', 1), ('laurence', 1), ('boa', 1), ('posição', 1), ('graças', 1), ('penalidade', 1), ('interferência', 1), ('linebacker', 1), ('antonio', 1), ('pierce', 1), ('alcançaram', 1), ('jarda', 1), ('chão', 1), ('primeiro', 1), ('pareciam', 1), ('rumo', 1), ('virada', 1), ('sofreram', 1), ('revés', 1), ('passou', 1), ('ellis', 1), ('hobbs', 1), ('aproveitou', 1), ('tomou', 1), ('defesa', 1), ('manteve', 1), ('equilibrado', 1), ('sacks', 1), ('seguidos', 1), ('forçaram', 1), ('punt', 1), ('recuperaram', 1), ('provou', 1), ('ser', 1), ('outra', 1), ('decepção', 1), ('sofreu', 1), ('sack', 1), ('conseguindo', 1), ('tiveram', 1), ('ltima', 1), ('marcar', 1), ('antes', 1), ('intervalo', 1), ('segundo', 1), ('sacado', 1), ('ele', 1), ('tomaram', 1), ('longo', 1), ('nos', 1), ('ltimos', 1), ('teve', 1), ('sucesso', 1), ('continuou', 1), ('amarrado', 1), ('terceiro', 1), ('quarto', 1), ('as', 1), ('defesas', 1), ('levando', 1), ('melhor', 1), ('sobre', 1), ('ataques', 1), ('nica', 1), ('técnico', 1), ('bill', 1), ('bellichick', 1), ('optou', 1), ('quarta', 1), ('descida', 1), ('jabar', 1), ('gaffney', 1), ('completar', 1), ('ltimo', 1), ('começou', 1), ('arrasador', 1), ('tight', 1), ('boss', 1), ('deixou', 1), ('outro', 1), ('lançamento', 1), ('marcou', 1), ('duas', 1), ('david', 1), ('tyree', 1), ('pegou', 1), ('cinco', 1), ('anotar', 1), ('virar', 1), ('hora', 1), ('decisão', 1), ('funcionar', 1), ('série', 1), ('variados', 1), ('wes', 1), ('welker', 1), ('randy', 1), ('faulk', 1), ('seguidas', 1), ('vezes', 1), ('chegar', 1), ('m45s', 1), ('quarterback', 1), ('conectou', 1), ('desmarcou', 1), ('ficou', 1), ('livre', 1), ('lateral', 1), ('direita', 1), ('quando', 1), ('fãs', 1), ('já', 1), ('comemoravam', 1), ('inesperado', 1), ('aconteceu', 1), ('marcadores', 1), ('seguravam', 1), ('camisa', 1), ('corrida', 1), ('lançou', 1), ('wide', 1), ('receiver', 1), ('bem', 1), ('marcado', 1), ('saltou', 1), ('recepção', 1), ('quatro', 1), ('conseguir', 1)]\n"
          ]
        }
      ]
    },
    {
      "cell_type": "markdown",
      "metadata": {
        "id": "i4qR7QO09yjn"
      },
      "source": [
        "Em geral, artigos e preposições (como 'de', 'para', etc.) são consideradas Stop words. No tópico a seguir vemos como tratá-las"
      ]
    },
    {
      "cell_type": "markdown",
      "metadata": {
        "id": "o8ur2ASqRZvr"
      },
      "source": [
        "## **Stopwords**\n",
        "\n",
        "São palavras (ou tokens) irrelevantes dado um determinado objetivo de análise textual. Normalmente são artigos, preposições, conjunções, etc."
      ]
    },
    {
      "cell_type": "markdown",
      "metadata": {
        "id": "yOTI8zucCdbR"
      },
      "source": [
        "### Lista de Stopwords em português"
      ]
    },
    {
      "cell_type": "code",
      "metadata": {
        "id": "qiboeFw--pS3",
        "colab": {
          "base_uri": "https://localhost:8080/"
        },
        "outputId": "de5112ef-edc5-4e2e-e23d-576c95ae3225"
      },
      "source": [
        "# O nltk tem mapeado uma lista de stopwords em cada idioma\n",
        "# e pode ser acessado através do seguinte comando:\n",
        "nltk.corpus.stopwords.words('portuguese')"
      ],
      "execution_count": null,
      "outputs": [
        {
          "output_type": "execute_result",
          "data": {
            "text/plain": [
              "['de',\n",
              " 'a',\n",
              " 'o',\n",
              " 'que',\n",
              " 'e',\n",
              " 'é',\n",
              " 'do',\n",
              " 'da',\n",
              " 'em',\n",
              " 'um',\n",
              " 'para',\n",
              " 'com',\n",
              " 'não',\n",
              " 'uma',\n",
              " 'os',\n",
              " 'no',\n",
              " 'se',\n",
              " 'na',\n",
              " 'por',\n",
              " 'mais',\n",
              " 'as',\n",
              " 'dos',\n",
              " 'como',\n",
              " 'mas',\n",
              " 'ao',\n",
              " 'ele',\n",
              " 'das',\n",
              " 'à',\n",
              " 'seu',\n",
              " 'sua',\n",
              " 'ou',\n",
              " 'quando',\n",
              " 'muito',\n",
              " 'nos',\n",
              " 'já',\n",
              " 'eu',\n",
              " 'também',\n",
              " 'só',\n",
              " 'pelo',\n",
              " 'pela',\n",
              " 'até',\n",
              " 'isso',\n",
              " 'ela',\n",
              " 'entre',\n",
              " 'depois',\n",
              " 'sem',\n",
              " 'mesmo',\n",
              " 'aos',\n",
              " 'seus',\n",
              " 'quem',\n",
              " 'nas',\n",
              " 'me',\n",
              " 'esse',\n",
              " 'eles',\n",
              " 'você',\n",
              " 'essa',\n",
              " 'num',\n",
              " 'nem',\n",
              " 'suas',\n",
              " 'meu',\n",
              " 'às',\n",
              " 'minha',\n",
              " 'numa',\n",
              " 'pelos',\n",
              " 'elas',\n",
              " 'qual',\n",
              " 'nós',\n",
              " 'lhe',\n",
              " 'deles',\n",
              " 'essas',\n",
              " 'esses',\n",
              " 'pelas',\n",
              " 'este',\n",
              " 'dele',\n",
              " 'tu',\n",
              " 'te',\n",
              " 'vocês',\n",
              " 'vos',\n",
              " 'lhes',\n",
              " 'meus',\n",
              " 'minhas',\n",
              " 'teu',\n",
              " 'tua',\n",
              " 'teus',\n",
              " 'tuas',\n",
              " 'nosso',\n",
              " 'nossa',\n",
              " 'nossos',\n",
              " 'nossas',\n",
              " 'dela',\n",
              " 'delas',\n",
              " 'esta',\n",
              " 'estes',\n",
              " 'estas',\n",
              " 'aquele',\n",
              " 'aquela',\n",
              " 'aqueles',\n",
              " 'aquelas',\n",
              " 'isto',\n",
              " 'aquilo',\n",
              " 'estou',\n",
              " 'está',\n",
              " 'estamos',\n",
              " 'estão',\n",
              " 'estive',\n",
              " 'esteve',\n",
              " 'estivemos',\n",
              " 'estiveram',\n",
              " 'estava',\n",
              " 'estávamos',\n",
              " 'estavam',\n",
              " 'estivera',\n",
              " 'estivéramos',\n",
              " 'esteja',\n",
              " 'estejamos',\n",
              " 'estejam',\n",
              " 'estivesse',\n",
              " 'estivéssemos',\n",
              " 'estivessem',\n",
              " 'estiver',\n",
              " 'estivermos',\n",
              " 'estiverem',\n",
              " 'hei',\n",
              " 'há',\n",
              " 'havemos',\n",
              " 'hão',\n",
              " 'houve',\n",
              " 'houvemos',\n",
              " 'houveram',\n",
              " 'houvera',\n",
              " 'houvéramos',\n",
              " 'haja',\n",
              " 'hajamos',\n",
              " 'hajam',\n",
              " 'houvesse',\n",
              " 'houvéssemos',\n",
              " 'houvessem',\n",
              " 'houver',\n",
              " 'houvermos',\n",
              " 'houverem',\n",
              " 'houverei',\n",
              " 'houverá',\n",
              " 'houveremos',\n",
              " 'houverão',\n",
              " 'houveria',\n",
              " 'houveríamos',\n",
              " 'houveriam',\n",
              " 'sou',\n",
              " 'somos',\n",
              " 'são',\n",
              " 'era',\n",
              " 'éramos',\n",
              " 'eram',\n",
              " 'fui',\n",
              " 'foi',\n",
              " 'fomos',\n",
              " 'foram',\n",
              " 'fora',\n",
              " 'fôramos',\n",
              " 'seja',\n",
              " 'sejamos',\n",
              " 'sejam',\n",
              " 'fosse',\n",
              " 'fôssemos',\n",
              " 'fossem',\n",
              " 'for',\n",
              " 'formos',\n",
              " 'forem',\n",
              " 'serei',\n",
              " 'será',\n",
              " 'seremos',\n",
              " 'serão',\n",
              " 'seria',\n",
              " 'seríamos',\n",
              " 'seriam',\n",
              " 'tenho',\n",
              " 'tem',\n",
              " 'temos',\n",
              " 'tém',\n",
              " 'tinha',\n",
              " 'tínhamos',\n",
              " 'tinham',\n",
              " 'tive',\n",
              " 'teve',\n",
              " 'tivemos',\n",
              " 'tiveram',\n",
              " 'tivera',\n",
              " 'tivéramos',\n",
              " 'tenha',\n",
              " 'tenhamos',\n",
              " 'tenham',\n",
              " 'tivesse',\n",
              " 'tivéssemos',\n",
              " 'tivessem',\n",
              " 'tiver',\n",
              " 'tivermos',\n",
              " 'tiverem',\n",
              " 'terei',\n",
              " 'terá',\n",
              " 'teremos',\n",
              " 'terão',\n",
              " 'teria',\n",
              " 'teríamos',\n",
              " 'teriam']"
            ]
          },
          "metadata": {},
          "execution_count": 21
        }
      ]
    },
    {
      "cell_type": "markdown",
      "metadata": {
        "id": "30JOrO3BFWtA"
      },
      "source": [
        "### Tratando stopwords do conjunto de tokens"
      ]
    },
    {
      "cell_type": "code",
      "metadata": {
        "colab": {
          "base_uri": "https://localhost:8080/"
        },
        "id": "VofEe3IzCvuq",
        "outputId": "c6d13ae3-cdf7-4220-ed93-6ff353d9b19c"
      },
      "source": [
        "stopwords = nltk.corpus.stopwords.words('portuguese')\n",
        "for token in nova_lista:\n",
        "  if token in stopwords:\n",
        "    nova_lista.remove(token)\n",
        "print(nova_lista)"
      ],
      "execution_count": null,
      "outputs": [
        {
          "output_type": "stream",
          "name": "stdout",
          "text": [
            "['giants', 'batem', 'patriots', 'super', 'bowl', 'xlii', 'azarões', 'acabam', 'invencibilidade', 'new', 'england', 'ficam', 'título', 'temporada', 'h07m', 'atualizado', 'h49m', 'passe', 'eli', 'manning', 'plaxico', 'burress', 'segundos', 'fim', 'new', 'york', 'giants', 'anotou', 'touchdown', 'decisivo', 'derrubou', 'favorito', 'new', 'england', 'patriots', 'neste', 'domingo', 'glendale', 'super', 'bowl', 'xlii', 'resultado', 'das', 'maiores', 'zebras', 'história', 'super', 'bowl', 'acabou', 'temporada', 'perfeita', 'tom', 'brady', 'companhia', 'esperavam', 'fazer', 'história', 'levantar', 'troféu', 'nfl', 'sofrer', 'derrota', 'ano', 'vitória', 'giants', 'porém', 'ficará', 'história', 'primeira', 'vez', 'irmãos', 'quarterbacks', 'triunfam', 'super', 'bowl', 'temporadas', 'consecutivas', 'ano', 'passado', 'peyton', 'manning', 'irmão', 'eli', 'chegou', 'título', 'máximo', 'nfl', 'indianapolis', 'colts', 'partida', 'giants', 'começaram', 'posse', 'bola', 'mostraram', 'logo', 'iriam', 'alongar', 'máximo', 'posses', 'bola', 'misturando', 'corridas', 'brandon', 'jacobs', 'passes', 'curtos', 'time', 'nova', 'york', 'chegou', 'red', 'zone', 'logo', 'primeira', 'campanha', 'avanço', 'entanto', 'parou', 'linha', 'jardas', 'lawrence', 'tynes', 'converteu', 'field', 'goal', 'jardas', 'abrir', 'placar', 'eli', 'manning', 'companhia', 'ficaram', 'm54s', 'bola', 'ataque', 'patriots', 'entrou', 'campo', 'frio', 'logo', 'retorno', 'kickoff', 'running', 'back', 'laurence', 'maroney', 'avançou', 'jardas', 'deixando', 'tom', 'brady', 'boa', 'posição', 'passes', 'curtos', 'patriots', 'chegaram', 'linha', 'jardas', 'graças', 'penalidade', 'interferência', 'passe', 'linebacker', 'antonio', 'pierce', 'alcançaram', 'linha', 'uma', 'jarda', 'maroney', 'avançou', 'chão', 'anotou', 'primeiro', 'touchdown', 'jogo', 'giants', 'pareciam', 'rumo', 'virada', 'campanha', 'seguinte', 'manning', 'achou', 'amani', 'toomer', 'avanço', 'jardas', 'time', 'nova', 'york', 'entrou', 'novamente', 'red', 'zone', 'bola', 'linha', 'jardas', 'patriots', 'giants', 'sofreram', 'revés', 'manning', 'passou', 'steve', 'smith', 'soltou', 'bola', 'ellis', 'hobbs', 'aproveitou', 'tomou', 'posse', 'patriots', 'avançou', 'jardas', 'defesa', 'nova', 'york', 'manteve', 'jogo', 'equilibrado', 'dois', 'sacks', 'seguidos', 'giants', 'forçaram', 'punt', 'recuperaram', 'bola', 'campanha', 'seguinte', 'provou', 'ser', 'outra', 'decepção', 'nova', 'york', 'time', 'chegou', 'linha', 'jardas', 'manning', 'sofreu', 'sack', 'cometeu', 'fumble', 'ataque', 'voltou', 'linha', 'jardas', 'conseguindo', 'pontuar', 'uma', 'vez', 'patriots', 'uma', 'ltima', 'chance', 'marcar', 'antes', 'intervalo', 'segundos', 'fim', 'segundo', 'período', 'brady', 'novamente', 'sacado', 'desta', 'vez', 'cometeu', 'fumble', 'giants', 'tomaram', 'posse', 'bola', 'manning', 'tentou', 'passe', 'longo', 'jardas', 'ltimos', 'segundos', 'não', 'sucesso', 'jogo', 'continuou', 'amarrado', 'terceiro', 'quarto', 'as', 'defesas', 'levando', 'melhor', 'sobre', 'ataques', 'nica', 'chance', 'pontuar', 'período', 'patriots', 'chegaram', 'linha', 'jardas', 'giants', 'técnico', 'bill', 'bellichick', 'porém', 'optou', 'uma', 'quarta', 'descida', 'vez', 'um', 'field', 'goal', 'brady', 'tentou', 'um', 'passe', 'jabar', 'gaffney', 'não', 'conseguiu', 'completar', 'ltimo', 'período', 'começou', 'arrasador', 'os', 'giants', 'primeira', 'jogada', 'manning', 'achou', 'tight', 'end', 'kevin', 'boss', 'um', 'incrível', 'avanço', 'jardas', 'deixou', 'time', 'linha', 'dos', 'patriots', 'outro', 'lançamento', 'desta', 'vez', 'steve', 'smith', 'marcou', 'avanço', 'linha', 'jardas', 'duas', 'jogadas', 'david', 'tyree', 'pegou', 'um', 'passe', 'cinco', 'jardas', 'end', 'zone', 'anotar', 'touchdown', 'virar', 'jogo', 'hora', 'decisão', 'ataque', 'dos', 'patriots', 'voltou', 'funcionar', 'uma', 'série', 'passes', 'curtos', 'variados', 'brady', 'achou', 'wes', 'welker', 'randy', 'moss', 'kevin', 'faulk', 'seguidas', 'vezes', 'chegar', 'red', 'zone', 'm45s', 'fim', 'quarterback', 'conectou', 'uma', 'vez', 'moss', 'desmarcou', 'ficou', 'livre', 'lateral', 'direita', 'end', 'zone', 'os', 'fãs', 'new', 'england', 'comemoravam', 'vitória', 'inesperado', 'aconteceu', 'uma', 'jogada', 'incrível', 'eli', 'manning', 'se', 'soltou', 'dois', 'marcadores', 'seguravam', 'camisa', 'corrida', 'lançou', 'amani', 'toomer', 'wide', 'receiver', 'bem', 'marcado', 'saltou', 'conseguiu', 'fazer', 'recepção', 'um', 'avanço', 'jardas', 'deixando', 'os', 'giants', 'linha', 'de', 'new', 'england', 'quatro', 'jogadas', 'segundos', 'fim', 'manning', 'achou', 'plaxico', 'burress', 'end', 'zone', 'conseguir', 'touchdown', 'título']\n"
          ]
        }
      ]
    },
    {
      "cell_type": "markdown",
      "metadata": {
        "id": "t64R8U_8fq1Z"
      },
      "source": [
        "### Tratando stopwords do conjunto de tokens utilizando LIST COMPREHENSION"
      ]
    },
    {
      "cell_type": "code",
      "metadata": {
        "colab": {
          "base_uri": "https://localhost:8080/"
        },
        "id": "EsfT3D2lFprH",
        "outputId": "528ffe74-9b7b-4845-8fa9-afb7455be47b"
      },
      "source": [
        "# Reaproveitando o código já feito\n",
        "# Para mostrar como tratar stopwords usando\n",
        "# list comprehension\n",
        "\n",
        "stopwords = nltk.corpus.stopwords.words('portuguese')\n",
        "\n",
        "tokenizador = RegexpTokenizer(r'[A-z]\\w+')\n",
        "tokenizado = tokenizador.tokenize(corpus)\n",
        "print(tokenizado)\n",
        "\n",
        "# Utilizando list_comprehension para transformar\n",
        "# tokens em caixa baixa e filtrar os stopwords\n",
        "nova_lista = [token.lower() for token in tokenizado if token not in stopwords]\n",
        "print(nova_lista)\n",
        "\n",
        "frequencia = nltk.FreqDist(nova_lista)\n",
        "print(frequencia.most_common())"
      ],
      "execution_count": null,
      "outputs": [
        {
          "output_type": "stream",
          "name": "stdout",
          "text": [
            "['Giants', 'batem', 'os', 'Patriots', 'no', 'Super', 'Bowl', 'XLII', 'Azarões', 'acabam', 'com', 'invencibilidade', 'de', 'New', 'England', 'ficam', 'com', 'título', 'da', 'temporada', 'h07m', 'Atualizado', 'em', 'h49m', 'Com', 'um', 'passe', 'de', 'Eli', 'Manning', 'para', 'Plaxico', 'Burress', 'segundos', 'do', 'fim', 'New', 'York', 'Giants', 'anotou', 'touchdown', 'decisivo', 'derrubou', 'favorito', 'New', 'England', 'Patriots', 'por', 'neste', 'domingo', 'em', 'Glendale', 'no', 'Super', 'Bowl', 'XLII', 'resultado', 'uma', 'das', 'maiores', 'zebras', 'da', 'história', 'do', 'Super', 'Bowl', 'acabou', 'com', 'temporada', 'perfeita', 'de', 'Tom', 'Brady', 'companhia', 'que', 'esperavam', 'fazer', 'história', 'ao', 'levantar', 'troféu', 'da', 'NFL', 'sem', 'sofrer', 'uma', 'derrota', 'no', 'ano', 'vitória', 'dos', 'Giants', 'porém', 'também', 'ficará', 'para', 'história', 'Pela', 'primeira', 'vez', 'irmãos', 'quarterbacks', 'triunfam', 'no', 'Super', 'Bowl', 'em', 'temporadas', 'consecutivas', 'No', 'ano', 'passado', 'Peyton', 'Manning', 'irmão', 'de', 'Eli', 'chegou', 'ao', 'título', 'máximo', 'da', 'NFL', 'pelo', 'Indianapolis', 'Colts', 'partida', 'Os', 'Giants', 'começaram', 'com', 'posse', 'de', 'bola', 'mostraram', 'logo', 'que', 'iriam', 'alongar', 'ao', 'máximo', 'suas', 'posses', 'de', 'bola', 'Misturando', 'corridas', 'com', 'Brandon', 'Jacobs', 'passes', 'curtos', 'time', 'de', 'Nova', 'York', 'chegou', 'red', 'zone', 'logo', 'na', 'primeira', 'campanha', 'avanço', 'no', 'entanto', 'parou', 'na', 'linha', 'de', 'jardas', 'Lawrence', 'Tynes', 'converteu', 'field', 'goal', 'de', 'jardas', 'para', 'abrir', 'placar', 'Eli', 'Manning', 'companhia', 'ficaram', 'm54s', 'com', 'bola', 'mas', 'ataque', 'dos', 'Patriots', 'não', 'entrou', 'em', 'campo', 'frio', 'Logo', 'no', 'retorno', 'do', 'kickoff', 'running', 'back', 'Laurence', 'Maroney', 'avançou', 'jardas', 'deixando', 'Tom', 'Brady', 'em', 'boa', 'posição', 'Com', 'passes', 'curtos', 'os', 'Patriots', 'chegaram', 'linha', 'de', 'jardas', 'graças', 'uma', 'penalidade', 'interferência', 'de', 'passe', 'do', 'linebacker', 'Antonio', 'Pierce', 'alcançaram', 'linha', 'de', 'uma', 'jarda', 'Maroney', 'avançou', 'pelo', 'chão', 'anotou', 'primeiro', 'touchdown', 'do', 'jogo', 'Os', 'Giants', 'pareciam', 'rumo', 'virada', 'na', 'campanha', 'seguinte', 'Manning', 'achou', 'Amani', 'Toomer', 'para', 'um', 'avanço', 'de', 'jardas', 'time', 'de', 'Nova', 'York', 'entrou', 'novamente', 'na', 'red', 'zone', 'Com', 'bola', 'na', 'linha', 'de', 'jardas', 'dos', 'Patriots', 'os', 'Giants', 'sofreram', 'um', 'revés', 'Manning', 'passou', 'para', 'Steve', 'Smith', 'que', 'soltou', 'bola', 'Ellis', 'Hobbs', 'aproveitou', 'tomou', 'posse', 'para', 'os', 'Patriots', 'avançou', 'jardas', 'defesa', 'de', 'Nova', 'York', 'manteve', 'jogo', 'equilibrado', 'Com', 'dois', 'sacks', 'seguidos', 'os', 'Giants', 'forçaram', 'punt', 'recuperaram', 'bola', 'Mas', 'campanha', 'seguinte', 'provou', 'ser', 'outra', 'decepção', 'para', 'Nova', 'York', 'time', 'chegou', 'linha', 'de', 'jardas', 'mas', 'Manning', 'sofreu', 'um', 'sack', 'cometeu', 'um', 'fumble', 'ataque', 'voltou', 'para', 'linha', 'de', 'jardas', 'não', 'conseguindo', 'pontuar', 'mais', 'uma', 'vez', 'Os', 'Patriots', 'tiveram', 'uma', 'ltima', 'chance', 'de', 'marcar', 'antes', 'do', 'intervalo', 'mas', 'segundos', 'do', 'fim', 'do', 'segundo', 'período', 'Brady', 'foi', 'novamente', 'sacado', 'Desta', 'vez', 'ele', 'cometeu', 'fumble', 'os', 'Giants', 'tomaram', 'posse', 'de', 'bola', 'Manning', 'tentou', 'um', 'passe', 'longo', 'de', 'jardas', 'nos', 'ltimos', 'segundos', 'mas', 'não', 'teve', 'sucesso', 'jogo', 'continuou', 'amarrado', 'no', 'terceiro', 'quarto', 'com', 'as', 'defesas', 'levando', 'melhor', 'sobre', 'os', 'ataques', 'nica', 'chance', 'de', 'pontuar', 'do', 'período', 'foi', 'dos', 'Patriots', 'que', 'chegaram', 'linha', 'de', 'jardas', 'dos', 'Giants', 'técnico', 'Bill', 'Bellichick', 'porém', 'optou', 'por', 'uma', 'quarta', 'descida', 'em', 'vez', 'de', 'um', 'field', 'goal', 'Brady', 'tentou', 'um', 'passe', 'para', 'Jabar', 'Gaffney', 'mas', 'não', 'conseguiu', 'completar', 'ltimo', 'período', 'começou', 'arrasador', 'para', 'os', 'Giants', 'na', 'primeira', 'jogada', 'Manning', 'achou', 'tight', 'end', 'Kevin', 'Boss', 'para', 'um', 'incrível', 'avanço', 'de', 'jardas', 'que', 'deixou', 'time', 'na', 'linha', 'de', 'dos', 'Patriots', 'Outro', 'lançamento', 'desta', 'vez', 'para', 'Steve', 'Smith', 'marcou', 'avanço', 'até', 'linha', 'de', 'jardas', 'Duas', 'jogadas', 'depois', 'David', 'Tyree', 'pegou', 'um', 'passe', 'de', 'cinco', 'jardas', 'na', 'end', 'zone', 'para', 'anotar', 'touchdown', 'virar', 'jogo', 'Na', 'hora', 'da', 'decisão', 'ataque', 'dos', 'Patriots', 'voltou', 'funcionar', 'Com', 'uma', 'série', 'de', 'passes', 'curtos', 'variados', 'Brady', 'achou', 'Wes', 'Welker', 'Randy', 'Moss', 'Kevin', 'Faulk', 'seguidas', 'vezes', 'até', 'chegar', 'red', 'zone', 'm45s', 'do', 'fim', 'quarterback', 'conectou', 'mais', 'uma', 'vez', 'com', 'Moss', 'que', 'se', 'desmarcou', 'ficou', 'livre', 'na', 'lateral', 'direita', 'da', 'end', 'zone', 'Quando', 'os', 'fãs', 'de', 'New', 'England', 'já', 'comemoravam', 'vitória', 'inesperado', 'aconteceu', 'Em', 'uma', 'jogada', 'incrível', 'Eli', 'Manning', 'se', 'soltou', 'de', 'dois', 'marcadores', 'que', 'seguravam', 'pela', 'camisa', 'na', 'corrida', 'lançou', 'para', 'Amani', 'Toomer', 'wide', 'receiver', 'bem', 'marcado', 'saltou', 'conseguiu', 'fazer', 'recepção', 'para', 'um', 'avanço', 'de', 'jardas', 'deixando', 'os', 'Giants', 'na', 'linha', 'de', 'de', 'New', 'England', 'Quatro', 'jogadas', 'depois', 'segundos', 'do', 'fim', 'Manning', 'achou', 'Plaxico', 'Burress', 'na', 'end', 'zone', 'para', 'conseguir', 'touchdown', 'do', 'título']\n",
            "['giants', 'batem', 'patriots', 'super', 'bowl', 'xlii', 'azarões', 'acabam', 'invencibilidade', 'new', 'england', 'ficam', 'título', 'temporada', 'h07m', 'atualizado', 'h49m', 'com', 'passe', 'eli', 'manning', 'plaxico', 'burress', 'segundos', 'fim', 'new', 'york', 'giants', 'anotou', 'touchdown', 'decisivo', 'derrubou', 'favorito', 'new', 'england', 'patriots', 'neste', 'domingo', 'glendale', 'super', 'bowl', 'xlii', 'resultado', 'maiores', 'zebras', 'história', 'super', 'bowl', 'acabou', 'temporada', 'perfeita', 'tom', 'brady', 'companhia', 'esperavam', 'fazer', 'história', 'levantar', 'troféu', 'nfl', 'sofrer', 'derrota', 'ano', 'vitória', 'giants', 'porém', 'ficará', 'história', 'pela', 'primeira', 'vez', 'irmãos', 'quarterbacks', 'triunfam', 'super', 'bowl', 'temporadas', 'consecutivas', 'no', 'ano', 'passado', 'peyton', 'manning', 'irmão', 'eli', 'chegou', 'título', 'máximo', 'nfl', 'indianapolis', 'colts', 'partida', 'os', 'giants', 'começaram', 'posse', 'bola', 'mostraram', 'logo', 'iriam', 'alongar', 'máximo', 'posses', 'bola', 'misturando', 'corridas', 'brandon', 'jacobs', 'passes', 'curtos', 'time', 'nova', 'york', 'chegou', 'red', 'zone', 'logo', 'primeira', 'campanha', 'avanço', 'entanto', 'parou', 'linha', 'jardas', 'lawrence', 'tynes', 'converteu', 'field', 'goal', 'jardas', 'abrir', 'placar', 'eli', 'manning', 'companhia', 'ficaram', 'm54s', 'bola', 'ataque', 'patriots', 'entrou', 'campo', 'frio', 'logo', 'retorno', 'kickoff', 'running', 'back', 'laurence', 'maroney', 'avançou', 'jardas', 'deixando', 'tom', 'brady', 'boa', 'posição', 'com', 'passes', 'curtos', 'patriots', 'chegaram', 'linha', 'jardas', 'graças', 'penalidade', 'interferência', 'passe', 'linebacker', 'antonio', 'pierce', 'alcançaram', 'linha', 'jarda', 'maroney', 'avançou', 'chão', 'anotou', 'primeiro', 'touchdown', 'jogo', 'os', 'giants', 'pareciam', 'rumo', 'virada', 'campanha', 'seguinte', 'manning', 'achou', 'amani', 'toomer', 'avanço', 'jardas', 'time', 'nova', 'york', 'entrou', 'novamente', 'red', 'zone', 'com', 'bola', 'linha', 'jardas', 'patriots', 'giants', 'sofreram', 'revés', 'manning', 'passou', 'steve', 'smith', 'soltou', 'bola', 'ellis', 'hobbs', 'aproveitou', 'tomou', 'posse', 'patriots', 'avançou', 'jardas', 'defesa', 'nova', 'york', 'manteve', 'jogo', 'equilibrado', 'com', 'dois', 'sacks', 'seguidos', 'giants', 'forçaram', 'punt', 'recuperaram', 'bola', 'mas', 'campanha', 'seguinte', 'provou', 'ser', 'outra', 'decepção', 'nova', 'york', 'time', 'chegou', 'linha', 'jardas', 'manning', 'sofreu', 'sack', 'cometeu', 'fumble', 'ataque', 'voltou', 'linha', 'jardas', 'conseguindo', 'pontuar', 'vez', 'os', 'patriots', 'ltima', 'chance', 'marcar', 'antes', 'intervalo', 'segundos', 'fim', 'segundo', 'período', 'brady', 'novamente', 'sacado', 'desta', 'vez', 'cometeu', 'fumble', 'giants', 'tomaram', 'posse', 'bola', 'manning', 'tentou', 'passe', 'longo', 'jardas', 'ltimos', 'segundos', 'sucesso', 'jogo', 'continuou', 'amarrado', 'terceiro', 'quarto', 'defesas', 'levando', 'melhor', 'sobre', 'ataques', 'nica', 'chance', 'pontuar', 'período', 'patriots', 'chegaram', 'linha', 'jardas', 'giants', 'técnico', 'bill', 'bellichick', 'porém', 'optou', 'quarta', 'descida', 'vez', 'field', 'goal', 'brady', 'tentou', 'passe', 'jabar', 'gaffney', 'conseguiu', 'completar', 'ltimo', 'período', 'começou', 'arrasador', 'giants', 'primeira', 'jogada', 'manning', 'achou', 'tight', 'end', 'kevin', 'boss', 'incrível', 'avanço', 'jardas', 'deixou', 'time', 'linha', 'patriots', 'outro', 'lançamento', 'desta', 'vez', 'steve', 'smith', 'marcou', 'avanço', 'linha', 'jardas', 'duas', 'jogadas', 'david', 'tyree', 'pegou', 'passe', 'cinco', 'jardas', 'end', 'zone', 'anotar', 'touchdown', 'virar', 'jogo', 'na', 'hora', 'decisão', 'ataque', 'patriots', 'voltou', 'funcionar', 'com', 'série', 'passes', 'curtos', 'variados', 'brady', 'achou', 'wes', 'welker', 'randy', 'moss', 'kevin', 'faulk', 'seguidas', 'vezes', 'chegar', 'red', 'zone', 'm45s', 'fim', 'quarterback', 'conectou', 'vez', 'moss', 'desmarcou', 'ficou', 'livre', 'lateral', 'direita', 'end', 'zone', 'quando', 'fãs', 'new', 'england', 'comemoravam', 'vitória', 'inesperado', 'aconteceu', 'em', 'jogada', 'incrível', 'eli', 'manning', 'soltou', 'dois', 'marcadores', 'seguravam', 'camisa', 'corrida', 'lançou', 'amani', 'toomer', 'wide', 'receiver', 'bem', 'marcado', 'saltou', 'conseguiu', 'fazer', 'recepção', 'avanço', 'jardas', 'deixando', 'giants', 'linha', 'new', 'england', 'quatro', 'jogadas', 'segundos', 'fim', 'manning', 'achou', 'plaxico', 'burress', 'end', 'zone', 'conseguir', 'touchdown', 'título']\n",
            "[('jardas', 15), ('giants', 11), ('patriots', 10), ('manning', 10), ('linha', 10), ('bola', 7), ('vez', 6), ('zone', 6), ('new', 5), ('com', 5), ('passe', 5), ('york', 5), ('brady', 5), ('avanço', 5), ('super', 4), ('bowl', 4), ('england', 4), ('eli', 4), ('segundos', 4), ('fim', 4), ('touchdown', 4), ('time', 4), ('nova', 4), ('jogo', 4), ('achou', 4), ('end', 4), ('título', 3), ('história', 3), ('primeira', 3), ('chegou', 3), ('os', 3), ('posse', 3), ('logo', 3), ('passes', 3), ('curtos', 3), ('red', 3), ('campanha', 3), ('ataque', 3), ('avançou', 3), ('período', 3), ('xlii', 2), ('temporada', 2), ('plaxico', 2), ('burress', 2), ('anotou', 2), ('tom', 2), ('companhia', 2), ('fazer', 2), ('nfl', 2), ('ano', 2), ('vitória', 2), ('porém', 2), ('máximo', 2), ('field', 2), ('goal', 2), ('entrou', 2), ('maroney', 2), ('deixando', 2), ('chegaram', 2), ('seguinte', 2), ('amani', 2), ('toomer', 2), ('novamente', 2), ('steve', 2), ('smith', 2), ('soltou', 2), ('dois', 2), ('cometeu', 2), ('fumble', 2), ('voltou', 2), ('pontuar', 2), ('chance', 2), ('desta', 2), ('tentou', 2), ('conseguiu', 2), ('jogada', 2), ('kevin', 2), ('incrível', 2), ('jogadas', 2), ('moss', 2), ('batem', 1), ('azarões', 1), ('acabam', 1), ('invencibilidade', 1), ('ficam', 1), ('h07m', 1), ('atualizado', 1), ('h49m', 1), ('decisivo', 1), ('derrubou', 1), ('favorito', 1), ('neste', 1), ('domingo', 1), ('glendale', 1), ('resultado', 1), ('maiores', 1), ('zebras', 1), ('acabou', 1), ('perfeita', 1), ('esperavam', 1), ('levantar', 1), ('troféu', 1), ('sofrer', 1), ('derrota', 1), ('ficará', 1), ('pela', 1), ('irmãos', 1), ('quarterbacks', 1), ('triunfam', 1), ('temporadas', 1), ('consecutivas', 1), ('no', 1), ('passado', 1), ('peyton', 1), ('irmão', 1), ('indianapolis', 1), ('colts', 1), ('partida', 1), ('começaram', 1), ('mostraram', 1), ('iriam', 1), ('alongar', 1), ('posses', 1), ('misturando', 1), ('corridas', 1), ('brandon', 1), ('jacobs', 1), ('entanto', 1), ('parou', 1), ('lawrence', 1), ('tynes', 1), ('converteu', 1), ('abrir', 1), ('placar', 1), ('ficaram', 1), ('m54s', 1), ('campo', 1), ('frio', 1), ('retorno', 1), ('kickoff', 1), ('running', 1), ('back', 1), ('laurence', 1), ('boa', 1), ('posição', 1), ('graças', 1), ('penalidade', 1), ('interferência', 1), ('linebacker', 1), ('antonio', 1), ('pierce', 1), ('alcançaram', 1), ('jarda', 1), ('chão', 1), ('primeiro', 1), ('pareciam', 1), ('rumo', 1), ('virada', 1), ('sofreram', 1), ('revés', 1), ('passou', 1), ('ellis', 1), ('hobbs', 1), ('aproveitou', 1), ('tomou', 1), ('defesa', 1), ('manteve', 1), ('equilibrado', 1), ('sacks', 1), ('seguidos', 1), ('forçaram', 1), ('punt', 1), ('recuperaram', 1), ('mas', 1), ('provou', 1), ('ser', 1), ('outra', 1), ('decepção', 1), ('sofreu', 1), ('sack', 1), ('conseguindo', 1), ('ltima', 1), ('marcar', 1), ('antes', 1), ('intervalo', 1), ('segundo', 1), ('sacado', 1), ('tomaram', 1), ('longo', 1), ('ltimos', 1), ('sucesso', 1), ('continuou', 1), ('amarrado', 1), ('terceiro', 1), ('quarto', 1), ('defesas', 1), ('levando', 1), ('melhor', 1), ('sobre', 1), ('ataques', 1), ('nica', 1), ('técnico', 1), ('bill', 1), ('bellichick', 1), ('optou', 1), ('quarta', 1), ('descida', 1), ('jabar', 1), ('gaffney', 1), ('completar', 1), ('ltimo', 1), ('começou', 1), ('arrasador', 1), ('tight', 1), ('boss', 1), ('deixou', 1), ('outro', 1), ('lançamento', 1), ('marcou', 1), ('duas', 1), ('david', 1), ('tyree', 1), ('pegou', 1), ('cinco', 1), ('anotar', 1), ('virar', 1), ('na', 1), ('hora', 1), ('decisão', 1), ('funcionar', 1), ('série', 1), ('variados', 1), ('wes', 1), ('welker', 1), ('randy', 1), ('faulk', 1), ('seguidas', 1), ('vezes', 1), ('chegar', 1), ('m45s', 1), ('quarterback', 1), ('conectou', 1), ('desmarcou', 1), ('ficou', 1), ('livre', 1), ('lateral', 1), ('direita', 1), ('quando', 1), ('fãs', 1), ('comemoravam', 1), ('inesperado', 1), ('aconteceu', 1), ('em', 1), ('marcadores', 1), ('seguravam', 1), ('camisa', 1), ('corrida', 1), ('lançou', 1), ('wide', 1), ('receiver', 1), ('bem', 1), ('marcado', 1), ('saltou', 1), ('recepção', 1), ('quatro', 1), ('conseguir', 1)]\n"
          ]
        }
      ]
    },
    {
      "cell_type": "markdown",
      "metadata": {
        "id": "ZmAHOzIlRZyH"
      },
      "source": [
        "## **N-grammas**\n",
        "\n",
        "N-grammas são sequências contíguas de n itens de uma determinada amostra de texto ou fala.\n",
        "\n",
        "![image.png](data:image/png;base64,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)"
      ]
    },
    {
      "cell_type": "markdown",
      "metadata": {
        "id": "pY5h2ewKfrcz"
      },
      "source": [
        "### Bigramas"
      ]
    },
    {
      "cell_type": "code",
      "metadata": {
        "colab": {
          "base_uri": "https://localhost:8080/"
        },
        "id": "0BRSYBTvQphF",
        "outputId": "33aaa4ae-0e95-4f63-8bf7-ebae7cc456a1"
      },
      "source": [
        "print(texto,'\\n',tokens)\n",
        "from nltk import bigrams\n",
        "list(bigrams(tokens))\n"
      ],
      "execution_count": null,
      "outputs": [
        {
          "output_type": "stream",
          "name": "stdout",
          "text": [
            "Com um passe de Eli Manning para Plaxico Burress a 39 segundos do fim, o New York Giants anotou o touchdown decisivo e derrubou o favorito New England Patriots por 17 a 14 neste domingo, em Glendale, no Super Bowl XLII. O resultado, uma das maiores zebras da história do Super Bowl, acabou com a temporada perfeita de Tom Brady e companhia, que esperavam fazer história ao levantar o troféu da NFL sem sofrer uma derrota no ano. \n",
            " ['Com', 'um', 'passe', 'de', 'Eli', 'Manning', 'para', 'Plaxico', 'Burress', 'a', '39', 'segundos', 'do', 'fim', 'o', 'New', 'York', 'Giants', 'anotou', 'o', 'touchdown', 'decisivo', 'e', 'derrubou', 'o', 'favorito', 'New', 'England', 'Patriots', 'por', '17', 'a', '14', 'neste', 'domingo', 'em', 'Glendale', 'no', 'Super', 'Bowl', 'XLII', 'O', 'resultado', 'uma', 'das', 'maiores', 'zebras', 'da', 'história', 'do', 'Super', 'Bowl', 'acabou', 'com', 'a', 'temporada', 'perfeita', 'de', 'Tom', 'Brady', 'e', 'companhia', 'que', 'esperavam', 'fazer', 'história', 'ao', 'levantar', 'o', 'troféu', 'da', 'NFL', 'sem', 'sofrer', 'uma', 'derrota', 'no', 'ano']\n"
          ]
        },
        {
          "output_type": "execute_result",
          "data": {
            "text/plain": [
              "[('Com', 'um'),\n",
              " ('um', 'passe'),\n",
              " ('passe', 'de'),\n",
              " ('de', 'Eli'),\n",
              " ('Eli', 'Manning'),\n",
              " ('Manning', 'para'),\n",
              " ('para', 'Plaxico'),\n",
              " ('Plaxico', 'Burress'),\n",
              " ('Burress', 'a'),\n",
              " ('a', '39'),\n",
              " ('39', 'segundos'),\n",
              " ('segundos', 'do'),\n",
              " ('do', 'fim'),\n",
              " ('fim', 'o'),\n",
              " ('o', 'New'),\n",
              " ('New', 'York'),\n",
              " ('York', 'Giants'),\n",
              " ('Giants', 'anotou'),\n",
              " ('anotou', 'o'),\n",
              " ('o', 'touchdown'),\n",
              " ('touchdown', 'decisivo'),\n",
              " ('decisivo', 'e'),\n",
              " ('e', 'derrubou'),\n",
              " ('derrubou', 'o'),\n",
              " ('o', 'favorito'),\n",
              " ('favorito', 'New'),\n",
              " ('New', 'England'),\n",
              " ('England', 'Patriots'),\n",
              " ('Patriots', 'por'),\n",
              " ('por', '17'),\n",
              " ('17', 'a'),\n",
              " ('a', '14'),\n",
              " ('14', 'neste'),\n",
              " ('neste', 'domingo'),\n",
              " ('domingo', 'em'),\n",
              " ('em', 'Glendale'),\n",
              " ('Glendale', 'no'),\n",
              " ('no', 'Super'),\n",
              " ('Super', 'Bowl'),\n",
              " ('Bowl', 'XLII'),\n",
              " ('XLII', 'O'),\n",
              " ('O', 'resultado'),\n",
              " ('resultado', 'uma'),\n",
              " ('uma', 'das'),\n",
              " ('das', 'maiores'),\n",
              " ('maiores', 'zebras'),\n",
              " ('zebras', 'da'),\n",
              " ('da', 'história'),\n",
              " ('história', 'do'),\n",
              " ('do', 'Super'),\n",
              " ('Super', 'Bowl'),\n",
              " ('Bowl', 'acabou'),\n",
              " ('acabou', 'com'),\n",
              " ('com', 'a'),\n",
              " ('a', 'temporada'),\n",
              " ('temporada', 'perfeita'),\n",
              " ('perfeita', 'de'),\n",
              " ('de', 'Tom'),\n",
              " ('Tom', 'Brady'),\n",
              " ('Brady', 'e'),\n",
              " ('e', 'companhia'),\n",
              " ('companhia', 'que'),\n",
              " ('que', 'esperavam'),\n",
              " ('esperavam', 'fazer'),\n",
              " ('fazer', 'história'),\n",
              " ('história', 'ao'),\n",
              " ('ao', 'levantar'),\n",
              " ('levantar', 'o'),\n",
              " ('o', 'troféu'),\n",
              " ('troféu', 'da'),\n",
              " ('da', 'NFL'),\n",
              " ('NFL', 'sem'),\n",
              " ('sem', 'sofrer'),\n",
              " ('sofrer', 'uma'),\n",
              " ('uma', 'derrota'),\n",
              " ('derrota', 'no'),\n",
              " ('no', 'ano')]"
            ]
          },
          "metadata": {},
          "execution_count": 24
        }
      ]
    },
    {
      "cell_type": "markdown",
      "metadata": {
        "id": "4FyKLCm5QowX"
      },
      "source": [
        "### Trigramas"
      ]
    },
    {
      "cell_type": "code",
      "metadata": {
        "colab": {
          "base_uri": "https://localhost:8080/"
        },
        "id": "idi4GhFgRJ_9",
        "outputId": "3d1319f6-467a-40fc-c854-96c4437f10f1"
      },
      "source": [
        "from nltk import trigrams\n",
        "list(trigrams(tokens))"
      ],
      "execution_count": null,
      "outputs": [
        {
          "output_type": "execute_result",
          "data": {
            "text/plain": [
              "[('Com', 'um', 'passe'),\n",
              " ('um', 'passe', 'de'),\n",
              " ('passe', 'de', 'Eli'),\n",
              " ('de', 'Eli', 'Manning'),\n",
              " ('Eli', 'Manning', 'para'),\n",
              " ('Manning', 'para', 'Plaxico'),\n",
              " ('para', 'Plaxico', 'Burress'),\n",
              " ('Plaxico', 'Burress', 'a'),\n",
              " ('Burress', 'a', '39'),\n",
              " ('a', '39', 'segundos'),\n",
              " ('39', 'segundos', 'do'),\n",
              " ('segundos', 'do', 'fim'),\n",
              " ('do', 'fim', 'o'),\n",
              " ('fim', 'o', 'New'),\n",
              " ('o', 'New', 'York'),\n",
              " ('New', 'York', 'Giants'),\n",
              " ('York', 'Giants', 'anotou'),\n",
              " ('Giants', 'anotou', 'o'),\n",
              " ('anotou', 'o', 'touchdown'),\n",
              " ('o', 'touchdown', 'decisivo'),\n",
              " ('touchdown', 'decisivo', 'e'),\n",
              " ('decisivo', 'e', 'derrubou'),\n",
              " ('e', 'derrubou', 'o'),\n",
              " ('derrubou', 'o', 'favorito'),\n",
              " ('o', 'favorito', 'New'),\n",
              " ('favorito', 'New', 'England'),\n",
              " ('New', 'England', 'Patriots'),\n",
              " ('England', 'Patriots', 'por'),\n",
              " ('Patriots', 'por', '17'),\n",
              " ('por', '17', 'a'),\n",
              " ('17', 'a', '14'),\n",
              " ('a', '14', 'neste'),\n",
              " ('14', 'neste', 'domingo'),\n",
              " ('neste', 'domingo', 'em'),\n",
              " ('domingo', 'em', 'Glendale'),\n",
              " ('em', 'Glendale', 'no'),\n",
              " ('Glendale', 'no', 'Super'),\n",
              " ('no', 'Super', 'Bowl'),\n",
              " ('Super', 'Bowl', 'XLII'),\n",
              " ('Bowl', 'XLII', 'O'),\n",
              " ('XLII', 'O', 'resultado'),\n",
              " ('O', 'resultado', 'uma'),\n",
              " ('resultado', 'uma', 'das'),\n",
              " ('uma', 'das', 'maiores'),\n",
              " ('das', 'maiores', 'zebras'),\n",
              " ('maiores', 'zebras', 'da'),\n",
              " ('zebras', 'da', 'história'),\n",
              " ('da', 'história', 'do'),\n",
              " ('história', 'do', 'Super'),\n",
              " ('do', 'Super', 'Bowl'),\n",
              " ('Super', 'Bowl', 'acabou'),\n",
              " ('Bowl', 'acabou', 'com'),\n",
              " ('acabou', 'com', 'a'),\n",
              " ('com', 'a', 'temporada'),\n",
              " ('a', 'temporada', 'perfeita'),\n",
              " ('temporada', 'perfeita', 'de'),\n",
              " ('perfeita', 'de', 'Tom'),\n",
              " ('de', 'Tom', 'Brady'),\n",
              " ('Tom', 'Brady', 'e'),\n",
              " ('Brady', 'e', 'companhia'),\n",
              " ('e', 'companhia', 'que'),\n",
              " ('companhia', 'que', 'esperavam'),\n",
              " ('que', 'esperavam', 'fazer'),\n",
              " ('esperavam', 'fazer', 'história'),\n",
              " ('fazer', 'história', 'ao'),\n",
              " ('história', 'ao', 'levantar'),\n",
              " ('ao', 'levantar', 'o'),\n",
              " ('levantar', 'o', 'troféu'),\n",
              " ('o', 'troféu', 'da'),\n",
              " ('troféu', 'da', 'NFL'),\n",
              " ('da', 'NFL', 'sem'),\n",
              " ('NFL', 'sem', 'sofrer'),\n",
              " ('sem', 'sofrer', 'uma'),\n",
              " ('sofrer', 'uma', 'derrota'),\n",
              " ('uma', 'derrota', 'no'),\n",
              " ('derrota', 'no', 'ano')]"
            ]
          },
          "metadata": {},
          "execution_count": 25
        }
      ]
    },
    {
      "cell_type": "markdown",
      "metadata": {
        "id": "rGOwpEQ4Qo4v"
      },
      "source": [
        "### Ngrams"
      ]
    },
    {
      "cell_type": "code",
      "metadata": {
        "colab": {
          "base_uri": "https://localhost:8080/"
        },
        "id": "4kvOJNc8RXx9",
        "outputId": "378c44aa-3698-469e-925d-ff13cdb485db"
      },
      "source": [
        "from nltk import ngrams\n",
        "list(ngrams(tokens, 4)) #Com ngrammas especifica-se no parâmetro da função a qtd."
      ],
      "execution_count": null,
      "outputs": [
        {
          "output_type": "execute_result",
          "data": {
            "text/plain": [
              "[('Com', 'um', 'passe', 'de'),\n",
              " ('um', 'passe', 'de', 'Eli'),\n",
              " ('passe', 'de', 'Eli', 'Manning'),\n",
              " ('de', 'Eli', 'Manning', 'para'),\n",
              " ('Eli', 'Manning', 'para', 'Plaxico'),\n",
              " ('Manning', 'para', 'Plaxico', 'Burress'),\n",
              " ('para', 'Plaxico', 'Burress', 'a'),\n",
              " ('Plaxico', 'Burress', 'a', '39'),\n",
              " ('Burress', 'a', '39', 'segundos'),\n",
              " ('a', '39', 'segundos', 'do'),\n",
              " ('39', 'segundos', 'do', 'fim'),\n",
              " ('segundos', 'do', 'fim', 'o'),\n",
              " ('do', 'fim', 'o', 'New'),\n",
              " ('fim', 'o', 'New', 'York'),\n",
              " ('o', 'New', 'York', 'Giants'),\n",
              " ('New', 'York', 'Giants', 'anotou'),\n",
              " ('York', 'Giants', 'anotou', 'o'),\n",
              " ('Giants', 'anotou', 'o', 'touchdown'),\n",
              " ('anotou', 'o', 'touchdown', 'decisivo'),\n",
              " ('o', 'touchdown', 'decisivo', 'e'),\n",
              " ('touchdown', 'decisivo', 'e', 'derrubou'),\n",
              " ('decisivo', 'e', 'derrubou', 'o'),\n",
              " ('e', 'derrubou', 'o', 'favorito'),\n",
              " ('derrubou', 'o', 'favorito', 'New'),\n",
              " ('o', 'favorito', 'New', 'England'),\n",
              " ('favorito', 'New', 'England', 'Patriots'),\n",
              " ('New', 'England', 'Patriots', 'por'),\n",
              " ('England', 'Patriots', 'por', '17'),\n",
              " ('Patriots', 'por', '17', 'a'),\n",
              " ('por', '17', 'a', '14'),\n",
              " ('17', 'a', '14', 'neste'),\n",
              " ('a', '14', 'neste', 'domingo'),\n",
              " ('14', 'neste', 'domingo', 'em'),\n",
              " ('neste', 'domingo', 'em', 'Glendale'),\n",
              " ('domingo', 'em', 'Glendale', 'no'),\n",
              " ('em', 'Glendale', 'no', 'Super'),\n",
              " ('Glendale', 'no', 'Super', 'Bowl'),\n",
              " ('no', 'Super', 'Bowl', 'XLII'),\n",
              " ('Super', 'Bowl', 'XLII', 'O'),\n",
              " ('Bowl', 'XLII', 'O', 'resultado'),\n",
              " ('XLII', 'O', 'resultado', 'uma'),\n",
              " ('O', 'resultado', 'uma', 'das'),\n",
              " ('resultado', 'uma', 'das', 'maiores'),\n",
              " ('uma', 'das', 'maiores', 'zebras'),\n",
              " ('das', 'maiores', 'zebras', 'da'),\n",
              " ('maiores', 'zebras', 'da', 'história'),\n",
              " ('zebras', 'da', 'história', 'do'),\n",
              " ('da', 'história', 'do', 'Super'),\n",
              " ('história', 'do', 'Super', 'Bowl'),\n",
              " ('do', 'Super', 'Bowl', 'acabou'),\n",
              " ('Super', 'Bowl', 'acabou', 'com'),\n",
              " ('Bowl', 'acabou', 'com', 'a'),\n",
              " ('acabou', 'com', 'a', 'temporada'),\n",
              " ('com', 'a', 'temporada', 'perfeita'),\n",
              " ('a', 'temporada', 'perfeita', 'de'),\n",
              " ('temporada', 'perfeita', 'de', 'Tom'),\n",
              " ('perfeita', 'de', 'Tom', 'Brady'),\n",
              " ('de', 'Tom', 'Brady', 'e'),\n",
              " ('Tom', 'Brady', 'e', 'companhia'),\n",
              " ('Brady', 'e', 'companhia', 'que'),\n",
              " ('e', 'companhia', 'que', 'esperavam'),\n",
              " ('companhia', 'que', 'esperavam', 'fazer'),\n",
              " ('que', 'esperavam', 'fazer', 'história'),\n",
              " ('esperavam', 'fazer', 'história', 'ao'),\n",
              " ('fazer', 'história', 'ao', 'levantar'),\n",
              " ('história', 'ao', 'levantar', 'o'),\n",
              " ('ao', 'levantar', 'o', 'troféu'),\n",
              " ('levantar', 'o', 'troféu', 'da'),\n",
              " ('o', 'troféu', 'da', 'NFL'),\n",
              " ('troféu', 'da', 'NFL', 'sem'),\n",
              " ('da', 'NFL', 'sem', 'sofrer'),\n",
              " ('NFL', 'sem', 'sofrer', 'uma'),\n",
              " ('sem', 'sofrer', 'uma', 'derrota'),\n",
              " ('sofrer', 'uma', 'derrota', 'no'),\n",
              " ('uma', 'derrota', 'no', 'ano')]"
            ]
          },
          "metadata": {},
          "execution_count": 26
        }
      ]
    },
    {
      "cell_type": "markdown",
      "metadata": {
        "id": "43xkM3fQSesl"
      },
      "source": [
        "### Utilizando ngrams"
      ]
    },
    {
      "cell_type": "code",
      "metadata": {
        "id": "GmYSxhpBSuxm",
        "colab": {
          "base_uri": "https://localhost:8080/"
        },
        "outputId": "f154b4ff-23c1-4256-e68d-1072441ec215"
      },
      "source": [
        "# 1- Importar o texto\n",
        "with open(r'/content/drive/MyDrive/corpus.txt', 'r') as arq:\n",
        "  arq = arq.read()\n",
        "print(arq)"
      ],
      "execution_count": null,
      "outputs": [
        {
          "output_type": "stream",
          "name": "stdout",
          "text": [
            "Giants batem os Patriots no Super Bowl XLII\n",
            "Azarões acabam com a invencibilidade de New England e ficam com o título da temporada\n",
            "04/02/2008 - 01h07m - Atualizado em 04/02/2008 - 09h49m\n",
            "\n",
            "Com um passe de Eli Manning para Plaxico Burress a 39 segundos do fim, o New York Giants anotou o touchdown decisivo e derrubou o favorito New England Patriots por 17 a 14 neste domingo, em Glendale, no Super Bowl XLII. O resultado, uma das maiores zebras da história do Super Bowl, acabou com a temporada perfeita de Tom Brady e companhia, que esperavam fazer história ao levantar o troféu da NFL sem sofrer uma derrota no ano. \n",
            "\n",
            "A vitória dos Giants, porém, também ficará para a história. Pela primeira vez, irmãos quarterbacks triunfam no Super Bowl em temporadas consecutivas. No ano passado, Peyton Manning, irmão de Eli, chegou ao título máximo da NFL pelo Indianapolis Colts.\n",
            "\n",
            "A partida\n",
            "\n",
            "Os Giants começaram com a posse de bola, e mostraram logo que iriam alongar ao máximo suas posses de bola. Misturando corridas com Brandon Jacobs e passes curtos, o time de Nova York chegou à red zone logo na primeira campanha. O avanço, no entanto, parou na linha de 17 jardas e Lawrence Tynes converteu o field goal de 32 jardas para abrir o placar.\n",
            "\n",
            "Eli Manning e companhia ficaram 9m54s com a bola, mas o ataque dos Patriots não entrou em campo frio. Logo no retorno do kickoff, o running back Laurence Maroney avançou 43 jardas, deixando Tom Brady em boa posição. Com passes curtos, os Patriots chegaram à linha de 17 jardas e, graças a uma penalidade (interferência de passe) do linebacker Antonio Pierce, alcançaram a linha de uma jarda. Maroney avançou pelo chão e anotou o primeiro touchdown do jogo.\n",
            "\n",
            "Os Giants pareciam rumo à virada na campanha seguinte. Manning achou Amani Toomer para um avanço de 38 jardas, e o time de Nova York entrou novamente na red zone. Com a bola na linha de 14 jardas dos Patriots, os Giants sofreram um revés. Manning passou para Steve Smith, que soltou a bola. Ellis Hobbs aproveitou, tomou a posse para os Patriots, e avançou 23 jardas. \n",
            "\n",
            "A defesa de Nova York manteve o jogo equilibrado. Com dois sacks seguidos, os Giants forçaram o punt e recuperaram a bola. Mas a campanha seguinte provou ser outra decepção para Nova York. O time chegou à linha de 25 jardas, mas Manning sofreu um sack e cometeu um fumble, e o ataque voltou para a linha de 39 jardas, não conseguindo pontuar mais uma vez.\n",
            "\n",
            "Os Patriots tiveram uma última chance de marcar antes do intervalo, mas, a 22 segundos do fim do segundo período, Brady foi novamente sacado. Desta vez, ele cometeu o fumble e os Giants tomaram a posse de bola. Manning tentou um passe longo, de 50 jardas, nos últimos segundos, mas não teve sucesso. \n",
            "\n",
            "O jogo continuou amarrado no terceiro quarto, com as defesas levando a melhor sobre os ataques. A única chance de pontuar do período foi dos Patriots, que chegaram à linha de 31 jardas dos Giants. O técnico Bill Bellichick, porém, optou por uma quarta descida em vez de um field goal. Brady tentou um passe para Jabar Gaffney, mas não conseguiu completar.\n",
            "\n",
            "O último período começou arrasador para os Giants. na primeira jogada, Manning achou o tight end Kevin Boss, para um incrível avanço de 45 jardas, que deixou o time na linha de 35 dos Patriots. Outro lançamento, desta vez para Steve Smith, marcou o avanço até a linha de 12 jardas. Duas jogadas depois, David Tyree pegou um passe de cinco jardas na end zone para anotar o touchdown e virar o jogo.\n",
            "\n",
            "Na hora da decisão, o ataque dos Patriots voltou a funcionar. Com uma série de passes curtos e variados, Brady achou Wes Welker, Randy Moss e Kevin Faulk seguidas vezes até chegar à red zone. A 2m45s do fim, o quarterback conectou mais uma vez com Moss, que se desmarcou e ficou livre na lateral direita da end zone.\n",
            "\n",
            "Quando os fãs de New England já comemoravam a vitória, o inesperado aconteceu. Em uma jogada incrível, Eli Manning se soltou de dois marcadores que o seguravam pela camisa e, na corrida, lançou para Amani Toomer. O wide receiver, bem marcado, saltou e conseguiu a fazer recepção para um avanço de 32 jardas, deixando os Giants na linha de 24 de New England.\n",
            "\n",
            "Quatro jogadas depois, a 39 segundos do fim, Manning achou Plaxico Burress na end zone para conseguir o touchdown do título.\n"
          ]
        }
      ]
    },
    {
      "cell_type": "code",
      "metadata": {
        "id": "WNF5UfpbTP4G"
      },
      "source": [
        "#2- Importar as bibliotecas de ngrams\n",
        "from nltk import bigrams\n",
        "from nltk import trigrams\n",
        "from nltk import ngrams\n",
        "\n",
        "#3- Tokenizar\n",
        "from nltk import RegexpTokenizer\n",
        "tokenizer = RegexpTokenizer(r'\\w+')\n",
        "tokens = tokenizer.tokenize(arq)"
      ],
      "execution_count": null,
      "outputs": []
    },
    {
      "cell_type": "code",
      "metadata": {
        "colab": {
          "base_uri": "https://localhost:8080/"
        },
        "id": "iii1fMvdT7Yp",
        "outputId": "f170f16d-4180-4e17-91f7-c5cb00247861"
      },
      "source": [
        "# Transformando os tokens em bigramas:\n",
        "tokens_bigrams = list(bigrams(tokens))\n",
        "print(tokens_bigrams[0])\n",
        "# tokens_bigrams = list(bigrams(tokens))\n",
        "# ps: não é possível chamar um objeto bigramma (trigramma ou ngramma)\n",
        "# diretamente pois usaria muita memória dependendo do corpus. Por isso\n",
        "# é preciso convertê-lo para lista para poder visualizá-lo\n",
        "\n",
        "# Transformando os tokens em trigramas:\n",
        "tokens_trigrams = list(trigrams(tokens))\n",
        "print(tokens_trigrams[0])"
      ],
      "execution_count": null,
      "outputs": [
        {
          "output_type": "stream",
          "name": "stdout",
          "text": [
            "('Giants', 'batem')\n",
            "('Giants', 'batem', 'os')\n"
          ]
        }
      ]
    },
    {
      "cell_type": "code",
      "metadata": {
        "colab": {
          "base_uri": "https://localhost:8080/"
        },
        "id": "ps5qJK-PWCV_",
        "outputId": "cfa20bdb-189e-40ff-f265-abc962236787"
      },
      "source": [
        "# Transformando os tokens em ngrams\n",
        "tokens_4grams = list(ngrams(tokens, 4))\n",
        "tokens_5grams = list(ngrams(tokens, 5))\n",
        "tokens_6grams = list(ngrams(tokens, 6))\n",
        "\n",
        "print(tokens_4grams[0],'\\n',tokens_5grams[0],'\\n',tokens_6grams[0])"
      ],
      "execution_count": null,
      "outputs": [
        {
          "output_type": "stream",
          "name": "stdout",
          "text": [
            "('Giants', 'batem', 'os', 'Patriots') \n",
            " ('Giants', 'batem', 'os', 'Patriots', 'no') \n",
            " ('Giants', 'batem', 'os', 'Patriots', 'no', 'Super')\n"
          ]
        }
      ]
    },
    {
      "cell_type": "markdown",
      "metadata": {
        "id": "fVSwj86vW5Bh"
      },
      "source": [
        "Nota: Os ngrams (bi, tri, ...) podem ser utilizados para diversas análises textuais. Uma delas, por exemplo, é identificar entidades nomeadas (comumente os bigramas ajudam mais a essa tarefa, embora existam entidades nomeadas escritas com três componentes de nome)."
      ]
    },
    {
      "cell_type": "markdown",
      "metadata": {
        "id": "mMxlxFQ0XWRi"
      },
      "source": [
        "### Reconhecendo entidades nomeadas\n",
        "\n",
        "Como mencionado, bigramas podem ser utilizados para identificar e reconhecer entidades nomeadas."
      ]
    },
    {
      "cell_type": "code",
      "metadata": {
        "colab": {
          "base_uri": "https://localhost:8080/"
        },
        "id": "Y59txTk5Xfci",
        "outputId": "e0a625ba-b795-4375-ab87-0d5749241268"
      },
      "source": [
        "# Identificar quais bigramas são compostos por strings que começam com letras\n",
        "# maiúsculas, adicionando-os à lista vazia entidades_nomeadas\n",
        "\n",
        "entidades_nomeadas_bigrams = []\n",
        "for bigrama in tokens_bigrams:\n",
        "  e = 0\n",
        "  for token in bigrama:\n",
        "    if token[0].isupper():\n",
        "      e += 1\n",
        "  if e == 2:\n",
        "    entidades_nomeadas_bigrams.append(bigrama)\n",
        "print(entidades_nomeadas_bigrams)"
      ],
      "execution_count": null,
      "outputs": [
        {
          "output_type": "stream",
          "name": "stdout",
          "text": [
            "[('Super', 'Bowl'), ('Bowl', 'XLII'), ('XLII', 'Azarões'), ('New', 'England'), ('Eli', 'Manning'), ('Plaxico', 'Burress'), ('New', 'York'), ('York', 'Giants'), ('New', 'England'), ('England', 'Patriots'), ('Super', 'Bowl'), ('Bowl', 'XLII'), ('XLII', 'O'), ('Super', 'Bowl'), ('Tom', 'Brady'), ('Super', 'Bowl'), ('Peyton', 'Manning'), ('Indianapolis', 'Colts'), ('Colts', 'A'), ('Os', 'Giants'), ('Brandon', 'Jacobs'), ('Nova', 'York'), ('Lawrence', 'Tynes'), ('Eli', 'Manning'), ('Laurence', 'Maroney'), ('Tom', 'Brady'), ('Antonio', 'Pierce'), ('Os', 'Giants'), ('Amani', 'Toomer'), ('Nova', 'York'), ('Steve', 'Smith'), ('Ellis', 'Hobbs'), ('Nova', 'York'), ('Nova', 'York'), ('York', 'O'), ('Os', 'Patriots'), ('Giants', 'O'), ('Bill', 'Bellichick'), ('Jabar', 'Gaffney'), ('Kevin', 'Boss'), ('Patriots', 'Outro'), ('Steve', 'Smith'), ('David', 'Tyree'), ('Wes', 'Welker'), ('Welker', 'Randy'), ('Randy', 'Moss'), ('Kevin', 'Faulk'), ('New', 'England'), ('Eli', 'Manning'), ('Amani', 'Toomer'), ('Toomer', 'O'), ('New', 'England'), ('England', 'Quatro'), ('Plaxico', 'Burress')]\n"
          ]
        }
      ]
    },
    {
      "cell_type": "code",
      "metadata": {
        "id": "2Dm4vMKgbA8p",
        "colab": {
          "base_uri": "https://localhost:8080/"
        },
        "outputId": "170d9b35-1dcb-4ea7-a980-0f3e7f8f2ad1"
      },
      "source": [
        "# Utilizando o mesmo raciocínio com trigramas para identificar entidades com\n",
        "# três nomes:\n",
        "entidades_nomeadas_trigrams = []\n",
        "for trigrama in tokens_trigrams:\n",
        "  if trigrama[0][0].isupper() and trigrama[1][0].isupper() and trigrama[2][0].isupper():\n",
        "    entidades_nomeadas_trigrams.append(trigrama)\n",
        "print(entidades_nomeadas_trigrams)"
      ],
      "execution_count": null,
      "outputs": [
        {
          "output_type": "stream",
          "name": "stdout",
          "text": [
            "[('Super', 'Bowl', 'XLII'), ('Bowl', 'XLII', 'Azarões'), ('New', 'York', 'Giants'), ('New', 'England', 'Patriots'), ('Super', 'Bowl', 'XLII'), ('Bowl', 'XLII', 'O'), ('Indianapolis', 'Colts', 'A'), ('Nova', 'York', 'O'), ('Wes', 'Welker', 'Randy'), ('Welker', 'Randy', 'Moss'), ('Amani', 'Toomer', 'O'), ('New', 'England', 'Quatro')]\n"
          ]
        }
      ]
    },
    {
      "cell_type": "markdown",
      "metadata": {
        "id": "2LABOdpUbB55"
      },
      "source": [
        "Não é uma solução perfeita, pois há casos textuais que não são entidades nomeadas, mas é uma abordagem possível que caminha na direção do mapeamento das entidades nomeadas dentro de um texto."
      ]
    },
    {
      "cell_type": "markdown",
      "metadata": {
        "id": "spcfNNjuf0OM"
      },
      "source": [
        "## **Stemmer e Lemma**\n",
        "\n",
        "**Stemming**: Técnica que consiste em reduzir uma palavra ao radical dela.\\\n",
        "Exemplos:\n",
        "\n",
        "\n",
        "*   Amig: amigo, amiga, amigão, etc\n",
        "*   Gat: gato, gata, gatos, etc\n",
        "*   prop: propõem, propuseram, propondo\n",
        "\n",
        "O NLTK possui alguns algoritmos de stemmer (RSLP - Removedor de Sufixos da Língua Portuguesa, Porter, ISRI, Lancaster, Snowball, etc)\n",
        "\n",
        "\\\n",
        "\\\n",
        "**Lematização**: Técnica que consiste em reduzir a palavra à sua forma canônica, levando em conta sua classe gramatical.\\\n",
        "Exemplos:\n",
        "\n",
        "\n",
        "*   propor: propõem, propuseram, propondo\n",
        "*   estudar: estudando, estudioso, estudei\n",
        "\n",
        "\n",
        "\n",
        "\n"
      ]
    },
    {
      "cell_type": "markdown",
      "metadata": {
        "id": "8nMv2veZtuKr"
      },
      "source": [
        "### RSLP\n",
        "\n",
        "Algoritmo do próprio nltk de stemming\n",
        "\n"
      ]
    },
    {
      "cell_type": "code",
      "metadata": {
        "colab": {
          "base_uri": "https://localhost:8080/"
        },
        "id": "37mTAKqvuSP3",
        "outputId": "d46f2d7f-d1ad-4a21-ec17-460260fcc277"
      },
      "source": [
        "import nltk\n",
        "stemmer = nltk.RSLPStemmer()\n",
        "print(stemmer.stem('Amigão'))\n",
        "print(stemmer.stem('Amigo'))\n",
        "print(stemmer.stem('Amiga'))\n",
        "print(stemmer.stem('Propuseram'))\n",
        "print(stemmer.stem('Propôs'))\n",
        "print(stemmer.stem('Propondo'))\n",
        "# Podemos observar que existem algumas falhas no algoritmo\n",
        "# Como com o verbo 'propôr' e suas flexões."
      ],
      "execution_count": null,
      "outputs": [
        {
          "output_type": "stream",
          "name": "stdout",
          "text": [
            "amig\n",
            "amig\n",
            "amig\n",
            "propus\n",
            "propô\n",
            "prop\n"
          ]
        }
      ]
    },
    {
      "cell_type": "markdown",
      "metadata": {
        "id": "FP60sBmqvd3D"
      },
      "source": [
        "### Lemmatizer (NLTK)\n",
        "\n",
        "Algoritmo do próprio nltk de lematização.\\\n",
        "Infelizmente, não está suficientemente desenvolvido para língua portuguesa, por isso é recomendável usar o algoritmo de lemmatizer do spaCy.\n",
        "\n"
      ]
    },
    {
      "cell_type": "code",
      "metadata": {
        "id": "Pvn3EQMWvd3J",
        "colab": {
          "base_uri": "https://localhost:8080/"
        },
        "outputId": "6917f2cd-da71-4007-8b04-55f08ca85792"
      },
      "source": [
        "import nltk\n",
        "lemmatizer = nltk.stem.WordNetLemmatizer()\n",
        "print(lemmatizer.lemmatize('propõem', pos='v'))\n",
        "print(lemmatizer.lemmatize('estudei', pos='v'))\n",
        "print(lemmatizer.lemmatize('propõem', pos='n'))\n",
        "print(lemmatizer.lemmatize('study', pos='v'))\n",
        "print(lemmatizer.lemmatize('studied', pos='v'))\n",
        "print(lemmatizer.lemmatize('sings', pos='v'))\n",
        "print(lemmatizer.lemmatize('thought', pos='v'))\n",
        "\n",
        "# Como mencionado, o algoritmo de lematização do NLTK\n",
        "# não é funcional para língua portuguesa"
      ],
      "execution_count": null,
      "outputs": [
        {
          "output_type": "stream",
          "name": "stdout",
          "text": [
            "propõem\n",
            "estudei\n",
            "propõem\n",
            "study\n",
            "study\n",
            "sing\n",
            "think\n"
          ]
        }
      ]
    },
    {
      "cell_type": "markdown",
      "metadata": {
        "id": "qbGSbSGfRZ0Z"
      },
      "source": [
        "## Etiquetadores\n",
        "\n",
        "Implementações que permitem classificar automaticamente as classes gramaticais dos tokens de um córpus.\\\n",
        "O resultado se dará em sequências de tuplas, cada tupla contendo a palavra e a respectiva classificação morfológica.\n",
        "\n",
        "Em PT-BR, é necessário fazer um treinamento dos etiquetadores antes de aplicar. Veremos a seguir\n",
        "\n",
        "Parei aqui: 1h36min"
      ]
    },
    {
      "cell_type": "markdown",
      "metadata": {
        "id": "ncsoZYzaf3EI"
      },
      "source": [
        "### Treinamento"
      ]
    },
    {
      "cell_type": "code",
      "metadata": {
        "id": "jEg0UCTrW4kp"
      },
      "source": [
        "from nltk.corpus import mac_morpho\n",
        "from nltk.tag import UnigramTagger\n",
        "# O UnigramTagger é um etiquetador que trabalha\n",
        "# com probabilidade de um determinado token pertencer\n",
        "# uma determinada classe gramatical. O output é baseado\n",
        "# na frequência que determinado token assume em relação\n",
        "# à classificação morfológico (ex: casa normalmente é um\n",
        "# substantivo, mas pode ser verbo dependendo do contexto)"
      ],
      "execution_count": null,
      "outputs": []
    },
    {
      "cell_type": "code",
      "metadata": {
        "colab": {
          "base_uri": "https://localhost:8080/"
        },
        "id": "8RAO3Ki5XoN7",
        "outputId": "31c5018c-9f6c-4ee4-a7e8-b3db61441e4b"
      },
      "source": [
        "tokens = nltk.word_tokenize(corpus)\n",
        "sentencas_treino = mac_morpho.tagged_sents()\n",
        "etiquetador = UnigramTagger(sentencas_treino) #treinamento do algoritmo\n",
        "\n",
        "etiquetado = etiquetador.tag(tokens) #teste\n",
        "\n",
        "print(etiquetado)"
      ],
      "execution_count": null,
      "outputs": [
        {
          "output_type": "stream",
          "name": "stdout",
          "text": [
            "[('Giants', 'NPROP'), ('batem', 'V'), ('os', 'ART'), ('Patriots', None), ('no', 'KC'), ('Super', 'NPROP'), ('Bowl', 'NPROP'), ('XLII', None), ('Azarões', None), ('acabam', 'VAUX'), ('com', 'PREP'), ('a', 'ART'), ('invencibilidade', 'N'), ('de', 'PREP'), ('New', 'NPROP'), ('England', 'NPROP'), ('e', 'KC'), ('ficam', 'V'), ('com', 'PREP'), ('o', 'ART'), ('título', 'N'), ('da', 'NPROP'), ('temporada', 'N'), ('04/02/2008', None), ('-', '-'), ('01h07m', None), ('-', '-'), ('Atualizado', None), ('em', 'PREP|+'), ('04/02/2008', None), ('-', '-'), ('09h49m', None), ('Com', 'PREP'), ('um', 'ART'), ('passe', 'N'), ('de', 'PREP'), ('Eli', 'NPROP'), ('Manning', 'NPROP'), ('para', 'PREP'), ('Plaxico', None), ('Burress', None), ('a', 'ART'), ('39', 'NUM'), ('segundos', 'N'), ('do', 'NPROP'), ('fim', 'N'), (',', ','), ('o', 'ART'), ('New', 'NPROP'), ('York', 'NPROP'), ('Giants', 'NPROP'), ('anotou', 'V'), ('o', 'ART'), ('touchdown', 'N|EST'), ('decisivo', 'ADJ'), ('e', 'KC'), ('derrubou', 'V'), ('o', 'ART'), ('favorito', 'N'), ('New', 'NPROP'), ('England', 'NPROP'), ('Patriots', None), ('por', 'PREP|+'), ('17', 'NUM'), ('a', 'ART'), ('14', 'NUM'), ('neste', None), ('domingo', 'N'), (',', ','), ('em', 'PREP|+'), ('Glendale', None), (',', ','), ('no', 'KC'), ('Super', 'NPROP'), ('Bowl', 'NPROP'), ('XLII', None), ('.', '.'), ('O', 'ART'), ('resultado', 'N'), (',', ','), ('uma', 'ART'), ('das', 'NPROP'), ('maiores', 'ADJ'), ('zebras', None), ('da', 'NPROP'), ('história', 'N'), ('do', 'NPROP'), ('Super', 'NPROP'), ('Bowl', 'NPROP'), (',', ','), ('acabou', 'VAUX'), ('com', 'PREP'), ('a', 'ART'), ('temporada', 'N'), ('perfeita', 'ADJ'), ('de', 'PREP'), ('Tom', 'NPROP'), ('Brady', 'NPROP'), ('e', 'KC'), ('companhia', 'N'), (',', ','), ('que', 'PRO-KS-REL'), ('esperavam', 'V'), ('fazer', 'V'), ('história', 'N'), ('ao', 'PREP'), ('levantar', 'V'), ('o', 'ART'), ('troféu', 'N'), ('da', 'NPROP'), ('NFL', None), ('sem', 'PREP'), ('sofrer', 'V'), ('uma', 'ART'), ('derrota', 'N'), ('no', 'KC'), ('ano', 'N'), ('.', '.'), ('A', 'ART'), ('vitória', 'N'), ('dos', 'NPROP'), ('Giants', 'NPROP'), (',', ','), ('porém', 'KC'), (',', ','), ('também', 'PDEN'), ('ficará', 'V'), ('para', 'PREP'), ('a', 'ART'), ('história', 'N'), ('.', '.'), ('Pela', 'NPROP'), ('primeira', 'ADJ'), ('vez', 'N'), (',', ','), ('irmãos', 'N'), ('quarterbacks', None), ('triunfam', None), ('no', 'KC'), ('Super', 'NPROP'), ('Bowl', 'NPROP'), ('em', 'PREP|+'), ('temporadas', 'N'), ('consecutivas', 'ADJ'), ('.', '.'), ('No', 'KC'), ('ano', 'N'), ('passado', 'PCP'), (',', ','), ('Peyton', None), ('Manning', 'NPROP'), (',', ','), ('irmão', 'N'), ('de', 'PREP'), ('Eli', 'NPROP'), (',', ','), ('chegou', 'V'), ('ao', 'PREP'), ('título', 'N'), ('máximo', 'N'), ('da', 'NPROP'), ('NFL', None), ('pelo', 'PDEN'), ('Indianapolis', None), ('Colts', None), ('.', '.'), ('A', 'ART'), ('partida', 'N'), ('Os', 'ART'), ('Giants', 'NPROP'), ('começaram', 'VAUX'), ('com', 'PREP'), ('a', 'ART'), ('posse', 'N'), ('de', 'PREP'), ('bola', 'N'), (',', ','), ('e', 'KC'), ('mostraram', 'V'), ('logo', 'ADV'), ('que', 'PRO-KS-REL'), ('iriam', 'VAUX'), ('alongar', 'V'), ('ao', 'PREP'), ('máximo', 'N'), ('suas', 'PROADJ'), ('posses', 'N'), ('de', 'PREP'), ('bola', 'N'), ('.', '.'), ('Misturando', None), ('corridas', 'N'), ('com', 'PREP'), ('Brandon', None), ('Jacobs', 'NPROP'), ('e', 'KC'), ('passes', 'N'), ('curtos', 'ADJ'), (',', ','), ('o', 'ART'), ('time', 'N'), ('de', 'PREP'), ('Nova', 'NPROP'), ('York', 'NPROP'), ('chegou', 'V'), ('à', 'NPROP'), ('red', 'N|EST'), ('zone', None), ('logo', 'ADV'), ('na', 'NPROP'), ('primeira', 'ADJ'), ('campanha', 'N'), ('.', '.'), ('O', 'ART'), ('avanço', 'N'), (',', ','), ('no', 'KC'), ('entanto', 'KC'), (',', ','), ('parou', 'V'), ('na', 'NPROP'), ('linha', 'N'), ('de', 'PREP'), ('17', 'NUM'), ('jardas', 'N'), ('e', 'KC'), ('Lawrence', 'NPROP'), ('Tynes', None), ('converteu', 'V'), ('o', 'ART'), ('field', 'N|EST'), ('goal', 'N|EST'), ('de', 'PREP'), ('32', 'NUM'), ('jardas', 'N'), ('para', 'PREP'), ('abrir', 'V'), ('o', 'ART'), ('placar', 'N'), ('.', '.'), ('Eli', 'NPROP'), ('Manning', 'NPROP'), ('e', 'KC'), ('companhia', 'N'), ('ficaram', 'V'), ('9m54s', None), ('com', 'PREP'), ('a', 'ART'), ('bola', 'N'), (',', ','), ('mas', 'KC'), ('o', 'ART'), ('ataque', 'N'), ('dos', 'NPROP'), ('Patriots', None), ('não', 'ADV'), ('entrou', 'V'), ('em', 'PREP|+'), ('campo', 'N'), ('frio', 'N'), ('.', '.'), ('Logo', 'ADV'), ('no', 'KC'), ('retorno', 'N'), ('do', 'NPROP'), ('kickoff', None), (',', ','), ('o', 'ART'), ('running', 'N|EST'), ('back', 'N|EST'), ('Laurence', 'NPROP'), ('Maroney', None), ('avançou', 'V'), ('43', 'NUM'), ('jardas', 'N'), (',', ','), ('deixando', 'V'), ('Tom', 'NPROP'), ('Brady', 'NPROP'), ('em', 'PREP|+'), ('boa', 'ADJ'), ('posição', 'N'), ('.', '.'), ('Com', 'PREP'), ('passes', 'N'), ('curtos', 'ADJ'), (',', ','), ('os', 'ART'), ('Patriots', None), ('chegaram', 'V'), ('à', 'NPROP'), ('linha', 'N'), ('de', 'PREP'), ('17', 'NUM'), ('jardas', 'N'), ('e', 'KC'), (',', ','), ('graças', 'PREP|+'), ('a', 'ART'), ('uma', 'ART'), ('penalidade', None), ('(', '('), ('interferência', 'N'), ('de', 'PREP'), ('passe', 'N'), (')', ')'), ('do', 'NPROP'), ('linebacker', None), ('Antonio', 'NPROP'), ('Pierce', 'NPROP'), (',', ','), ('alcançaram', 'V'), ('a', 'ART'), ('linha', 'N'), ('de', 'PREP'), ('uma', 'ART'), ('jarda', None), ('.', '.'), ('Maroney', None), ('avançou', 'V'), ('pelo', 'PDEN'), ('chão', 'N'), ('e', 'KC'), ('anotou', 'V'), ('o', 'ART'), ('primeiro', 'ADJ'), ('touchdown', 'N|EST'), ('do', 'NPROP'), ('jogo', 'N'), ('.', '.'), ('Os', 'ART'), ('Giants', 'NPROP'), ('pareciam', 'V'), ('rumo', 'PREP|+'), ('à', 'NPROP'), ('virada', 'N'), ('na', 'NPROP'), ('campanha', 'N'), ('seguinte', 'ADJ'), ('.', '.'), ('Manning', 'NPROP'), ('achou', 'V'), ('Amani', None), ('Toomer', None), ('para', 'PREP'), ('um', 'ART'), ('avanço', 'N'), ('de', 'PREP'), ('38', 'NUM'), ('jardas', 'N'), (',', ','), ('e', 'KC'), ('o', 'ART'), ('time', 'N'), ('de', 'PREP'), ('Nova', 'NPROP'), ('York', 'NPROP'), ('entrou', 'V'), ('novamente', 'ADV'), ('na', 'NPROP'), ('red', 'N|EST'), ('zone', None), ('.', '.'), ('Com', 'PREP'), ('a', 'ART'), ('bola', 'N'), ('na', 'NPROP'), ('linha', 'N'), ('de', 'PREP'), ('14', 'NUM'), ('jardas', 'N'), ('dos', 'NPROP'), ('Patriots', None), (',', ','), ('os', 'ART'), ('Giants', 'NPROP'), ('sofreram', 'V'), ('um', 'ART'), ('revés', None), ('.', '.'), ('Manning', 'NPROP'), ('passou', 'V'), ('para', 'PREP'), ('Steve', 'NPROP'), ('Smith', 'NPROP'), (',', ','), ('que', 'PRO-KS-REL'), ('soltou', 'V'), ('a', 'ART'), ('bola', 'N'), ('.', '.'), ('Ellis', 'NPROP'), ('Hobbs', None), ('aproveitou', 'V'), (',', ','), ('tomou', 'V'), ('a', 'ART'), ('posse', 'N'), ('para', 'PREP'), ('os', 'ART'), ('Patriots', None), (',', ','), ('e', 'KC'), ('avançou', 'V'), ('23', 'NUM'), ('jardas', 'N'), ('.', '.'), ('A', 'ART'), ('defesa', 'N'), ('de', 'PREP'), ('Nova', 'NPROP'), ('York', 'NPROP'), ('manteve', 'V'), ('o', 'ART'), ('jogo', 'N'), ('equilibrado', 'PCP'), ('.', '.'), ('Com', 'PREP'), ('dois', 'NUM'), ('sacks', None), ('seguidos', 'PCP'), (',', ','), ('os', 'ART'), ('Giants', 'NPROP'), ('forçaram', 'V'), ('o', 'ART'), ('punt', None), ('e', 'KC'), ('recuperaram', None), ('a', 'ART'), ('bola', 'N'), ('.', '.'), ('Mas', 'KC'), ('a', 'ART'), ('campanha', 'N'), ('seguinte', 'ADJ'), ('provou', 'V'), ('ser', 'VAUX'), ('outra', 'PROADJ'), ('decepção', 'N'), ('para', 'PREP'), ('Nova', 'NPROP'), ('York', 'NPROP'), ('.', '.'), ('O', 'ART'), ('time', 'N'), ('chegou', 'V'), ('à', 'NPROP'), ('linha', 'N'), ('de', 'PREP'), ('25', 'NUM'), ('jardas', 'N'), (',', ','), ('mas', 'KC'), ('Manning', 'NPROP'), ('sofreu', 'V'), ('um', 'ART'), ('sack', None), ('e', 'KC'), ('cometeu', 'V'), ('um', 'ART'), ('fumble', 'N|EST'), (',', ','), ('e', 'KC'), ('o', 'ART'), ('ataque', 'N'), ('voltou', 'V'), ('para', 'PREP'), ('a', 'ART'), ('linha', 'N'), ('de', 'PREP'), ('39', 'NUM'), ('jardas', 'N'), (',', ','), ('não', 'ADV'), ('conseguindo', 'V'), ('pontuar', None), ('mais', 'ADV'), ('uma', 'ART'), ('vez', 'N'), ('.', '.'), ('Os', 'ART'), ('Patriots', None), ('tiveram', 'V'), ('uma', 'ART'), ('última', 'ADJ'), ('chance', 'N'), ('de', 'PREP'), ('marcar', 'V'), ('antes', 'ADV'), ('do', 'NPROP'), ('intervalo', 'N'), (',', ','), ('mas', 'KC'), (',', ','), ('a', 'ART'), ('22', 'NUM'), ('segundos', 'N'), ('do', 'NPROP'), ('fim', 'N'), ('do', 'NPROP'), ('segundo', 'PREP'), ('período', 'N'), (',', ','), ('Brady', 'NPROP'), ('foi', 'VAUX'), ('novamente', 'ADV'), ('sacado', 'PCP'), ('.', '.'), ('Desta', 'ADV'), ('vez', 'N'), (',', ','), ('ele', 'PROPESS'), ('cometeu', 'V'), ('o', 'ART'), ('fumble', 'N|EST'), ('e', 'KC'), ('os', 'ART'), ('Giants', 'NPROP'), ('tomaram', 'V'), ('a', 'ART'), ('posse', 'N'), ('de', 'PREP'), ('bola', 'N'), ('.', '.'), ('Manning', 'NPROP'), ('tentou', 'V'), ('um', 'ART'), ('passe', 'N'), ('longo', 'ADJ'), (',', ','), ('de', 'PREP'), ('50', 'NUM'), ('jardas', 'N'), (',', ','), ('nos', 'PROPESS'), ('últimos', 'ADJ'), ('segundos', 'N'), (',', ','), ('mas', 'KC'), ('não', 'ADV'), ('teve', 'V'), ('sucesso', 'N'), ('.', '.'), ('O', 'ART'), ('jogo', 'N'), ('continuou', 'V'), ('amarrado', 'PCP'), ('no', 'KC'), ('terceiro', 'ADJ'), ('quarto', 'N'), (',', ','), ('com', 'PREP'), ('as', 'ART'), ('defesas', 'N'), ('levando', 'V'), ('a', 'ART'), ('melhor', 'ADJ'), ('sobre', 'PREP'), ('os', 'ART'), ('ataques', 'N'), ('.', '.'), ('A', 'ART'), ('única', 'ADJ'), ('chance', 'N'), ('de', 'PREP'), ('pontuar', None), ('do', 'NPROP'), ('período', 'N'), ('foi', 'VAUX'), ('dos', 'NPROP'), ('Patriots', None), (',', ','), ('que', 'PRO-KS-REL'), ('chegaram', 'V'), ('à', 'NPROP'), ('linha', 'N'), ('de', 'PREP'), ('31', 'NUM'), ('jardas', 'N'), ('dos', 'NPROP'), ('Giants', 'NPROP'), ('.', '.'), ('O', 'ART'), ('técnico', 'N'), ('Bill', 'NPROP'), ('Bellichick', None), (',', ','), ('porém', 'KC'), (',', ','), ('optou', 'V'), ('por', 'PREP|+'), ('uma', 'ART'), ('quarta', 'N'), ('descida', 'N'), ('em', 'PREP|+'), ('vez', 'N'), ('de', 'PREP'), ('um', 'ART'), ('field', 'N|EST'), ('goal', 'N|EST'), ('.', '.'), ('Brady', 'NPROP'), ('tentou', 'V'), ('um', 'ART'), ('passe', 'N'), ('para', 'PREP'), ('Jabar', None), ('Gaffney', None), (',', ','), ('mas', 'KC'), ('não', 'ADV'), ('conseguiu', 'V'), ('completar', 'V'), ('.', '.'), ('O', 'ART'), ('último', 'ADJ'), ('período', 'N'), ('começou', 'VAUX'), ('arrasador', None), ('para', 'PREP'), ('os', 'ART'), ('Giants', 'NPROP'), ('.', '.'), ('na', 'NPROP'), ('primeira', 'ADJ'), ('jogada', 'N'), (',', ','), ('Manning', 'NPROP'), ('achou', 'V'), ('o', 'ART'), ('tight', None), ('end', None), ('Kevin', 'NPROP'), ('Boss', None), (',', ','), ('para', 'PREP'), ('um', 'ART'), ('incrível', 'ADJ'), ('avanço', 'N'), ('de', 'PREP'), ('45', 'NUM'), ('jardas', 'N'), (',', ','), ('que', 'PRO-KS-REL'), ('deixou', 'V'), ('o', 'ART'), ('time', 'N'), ('na', 'NPROP'), ('linha', 'N'), ('de', 'PREP'), ('35', 'NUM'), ('dos', 'NPROP'), ('Patriots', None), ('.', '.'), ('Outro', 'PROADJ'), ('lançamento', 'N'), (',', ','), ('desta', 'PROADJ'), ('vez', 'N'), ('para', 'PREP'), ('Steve', 'NPROP'), ('Smith', 'NPROP'), (',', ','), ('marcou', 'V'), ('o', 'ART'), ('avanço', 'N'), ('até', 'PREP'), ('a', 'ART'), ('linha', 'N'), ('de', 'PREP'), ('12', 'NUM'), ('jardas', 'N'), ('.', '.'), ('Duas', 'NUM'), ('jogadas', 'N'), ('depois', 'ADV'), (',', ','), ('David', 'NPROP'), ('Tyree', None), ('pegou', 'V'), ('um', 'ART'), ('passe', 'N'), ('de', 'PREP'), ('cinco', 'NUM'), ('jardas', 'N'), ('na', 'NPROP'), ('end', None), ('zone', None), ('para', 'PREP'), ('anotar', 'V'), ('o', 'ART'), ('touchdown', 'N|EST'), ('e', 'KC'), ('virar', 'V'), ('o', 'ART'), ('jogo', 'N'), ('.', '.'), ('Na', 'NPROP'), ('hora', 'N'), ('da', 'NPROP'), ('decisão', 'N'), (',', ','), ('o', 'ART'), ('ataque', 'N'), ('dos', 'NPROP'), ('Patriots', None), ('voltou', 'V'), ('a', 'ART'), ('funcionar', 'V'), ('.', '.'), ('Com', 'PREP'), ('uma', 'ART'), ('série', 'N'), ('de', 'PREP'), ('passes', 'N'), ('curtos', 'ADJ'), ('e', 'KC'), ('variados', 'PCP'), (',', ','), ('Brady', 'NPROP'), ('achou', 'V'), ('Wes', None), ('Welker', None), (',', ','), ('Randy', 'NPROP'), ('Moss', 'NPROP'), ('e', 'KC'), ('Kevin', 'NPROP'), ('Faulk', None), ('seguidas', 'PCP'), ('vezes', 'N'), ('até', 'PREP'), ('chegar', 'V'), ('à', 'NPROP'), ('red', 'N|EST'), ('zone', None), ('.', '.'), ('A', 'ART'), ('2m45s', None), ('do', 'NPROP'), ('fim', 'N'), (',', ','), ('o', 'ART'), ('quarterback', 'N|EST'), ('conectou', None), ('mais', 'ADV'), ('uma', 'ART'), ('vez', 'N'), ('com', 'PREP'), ('Moss', 'NPROP'), (',', ','), ('que', 'PRO-KS-REL'), ('se', 'PROPESS'), ('desmarcou', None), ('e', 'KC'), ('ficou', 'V'), ('livre', 'ADJ'), ('na', 'NPROP'), ('lateral', 'N'), ('direita', 'N'), ('da', 'NPROP'), ('end', None), ('zone', None), ('.', '.'), ('Quando', 'KS'), ('os', 'ART'), ('fãs', 'N'), ('de', 'PREP'), ('New', 'NPROP'), ('England', 'NPROP'), ('já', 'ADV'), ('comemoravam', 'V'), ('a', 'ART'), ('vitória', 'N'), (',', ','), ('o', 'ART'), ('inesperado', 'ADJ'), ('aconteceu', 'V'), ('.', '.'), ('Em', 'PREP|+'), ('uma', 'ART'), ('jogada', 'N'), ('incrível', 'ADJ'), (',', ','), ('Eli', 'NPROP'), ('Manning', 'NPROP'), ('se', 'PROPESS'), ('soltou', 'V'), ('de', 'PREP'), ('dois', 'NUM'), ('marcadores', 'N'), ('que', 'PRO-KS-REL'), ('o', 'ART'), ('seguravam', None), ('pela', 'NPROP'), ('camisa', 'N'), ('e', 'KC'), (',', ','), ('na', 'NPROP'), ('corrida', 'N'), (',', ','), ('lançou', 'V'), ('para', 'PREP'), ('Amani', None), ('Toomer', None), ('.', '.'), ('O', 'ART'), ('wide', 'N|EST'), ('receiver', None), (',', ','), ('bem', 'ADV'), ('marcado', 'PCP'), (',', ','), ('saltou', 'V'), ('e', 'KC'), ('conseguiu', 'V'), ('a', 'ART'), ('fazer', 'V'), ('recepção', 'N'), ('para', 'PREP'), ('um', 'ART'), ('avanço', 'N'), ('de', 'PREP'), ('32', 'NUM'), ('jardas', 'N'), (',', ','), ('deixando', 'V'), ('os', 'ART'), ('Giants', 'NPROP'), ('na', 'NPROP'), ('linha', 'N'), ('de', 'PREP'), ('24', 'NUM'), ('de', 'PREP'), ('New', 'NPROP'), ('England', 'NPROP'), ('.', '.'), ('Quatro', 'NUM'), ('jogadas', 'N'), ('depois', 'ADV'), (',', ','), ('a', 'ART'), ('39', 'NUM'), ('segundos', 'N'), ('do', 'NPROP'), ('fim', 'N'), (',', ','), ('Manning', 'NPROP'), ('achou', 'V'), ('Plaxico', None), ('Burress', None), ('na', 'NPROP'), ('end', None), ('zone', None), ('para', 'PREP'), ('conseguir', 'V'), ('o', 'ART'), ('touchdown', 'N|EST'), ('do', 'NPROP'), ('título', 'N'), ('.', '.')]\n"
          ]
        }
      ]
    },
    {
      "cell_type": "code",
      "metadata": {
        "colab": {
          "base_uri": "https://localhost:8080/"
        },
        "id": "a4ykOAMbc5qx",
        "outputId": "be62fdc9-eb68-4121-abb7-e15d00d2d47c"
      },
      "source": [
        "# Como o UnigramTagger foi treinado utilizando as tagged_sents do mac morpho,\n",
        "# as palavras inexistentes nesse corpus são classificadas como None\n",
        "# no novo conjunto de texto (nesse caso, armazenado na variável corpus).\n",
        "# Para resolver os None do etiquetador (nltk.tag.UnigramTagger),\n",
        "# podemos pré-classificar todas as palavras como substantivos\n",
        "# utilizando o DefaultTagger\n",
        "\n",
        "from nltk.corpus import mac_morpho\n",
        "from nltk.tag import UnigramTagger\n",
        "from nltk.tag import DefaultTagger\n",
        "\n",
        "tokens = nltk.word_tokenize(corpus)\n",
        "\n",
        "etiq_padrao = DefaultTagger('N') #Define o etiquetador padrão\n",
        "sentencas_treino = mac_morpho.tagged_sents()\n",
        "etiquetador = UnigramTagger(sentencas_treino, backoff=etiq_padrao) #passa-o como argumento do param backoff do UnigramTagger\n",
        "etiquetado = etiquetador.tag(tokens)\n",
        "print(etiquetado)"
      ],
      "execution_count": null,
      "outputs": [
        {
          "output_type": "stream",
          "name": "stdout",
          "text": [
            "[('Giants', 'NPROP'), ('batem', 'V'), ('os', 'ART'), ('Patriots', 'N'), ('no', 'KC'), ('Super', 'NPROP'), ('Bowl', 'NPROP'), ('XLII', 'N'), ('Azarões', 'N'), ('acabam', 'VAUX'), ('com', 'PREP'), ('a', 'ART'), ('invencibilidade', 'N'), ('de', 'PREP'), ('New', 'NPROP'), ('England', 'NPROP'), ('e', 'KC'), ('ficam', 'V'), ('com', 'PREP'), ('o', 'ART'), ('título', 'N'), ('da', 'NPROP'), ('temporada', 'N'), ('04/02/2008', 'N'), ('-', '-'), ('01h07m', 'N'), ('-', '-'), ('Atualizado', 'N'), ('em', 'PREP|+'), ('04/02/2008', 'N'), ('-', '-'), ('09h49m', 'N'), ('Com', 'PREP'), ('um', 'ART'), ('passe', 'N'), ('de', 'PREP'), ('Eli', 'NPROP'), ('Manning', 'NPROP'), ('para', 'PREP'), ('Plaxico', 'N'), ('Burress', 'N'), ('a', 'ART'), ('39', 'NUM'), ('segundos', 'N'), ('do', 'NPROP'), ('fim', 'N'), (',', ','), ('o', 'ART'), ('New', 'NPROP'), ('York', 'NPROP'), ('Giants', 'NPROP'), ('anotou', 'V'), ('o', 'ART'), ('touchdown', 'N|EST'), ('decisivo', 'ADJ'), ('e', 'KC'), ('derrubou', 'V'), ('o', 'ART'), ('favorito', 'N'), ('New', 'NPROP'), ('England', 'NPROP'), ('Patriots', 'N'), ('por', 'PREP|+'), ('17', 'NUM'), ('a', 'ART'), ('14', 'NUM'), ('neste', 'N'), ('domingo', 'N'), (',', ','), ('em', 'PREP|+'), ('Glendale', 'N'), (',', ','), ('no', 'KC'), ('Super', 'NPROP'), ('Bowl', 'NPROP'), ('XLII', 'N'), ('.', '.'), ('O', 'ART'), ('resultado', 'N'), (',', ','), ('uma', 'ART'), ('das', 'NPROP'), ('maiores', 'ADJ'), ('zebras', 'N'), ('da', 'NPROP'), ('história', 'N'), ('do', 'NPROP'), ('Super', 'NPROP'), ('Bowl', 'NPROP'), (',', ','), ('acabou', 'VAUX'), ('com', 'PREP'), ('a', 'ART'), ('temporada', 'N'), ('perfeita', 'ADJ'), ('de', 'PREP'), ('Tom', 'NPROP'), ('Brady', 'NPROP'), ('e', 'KC'), ('companhia', 'N'), (',', ','), ('que', 'PRO-KS-REL'), ('esperavam', 'V'), ('fazer', 'V'), ('história', 'N'), ('ao', 'PREP'), ('levantar', 'V'), ('o', 'ART'), ('troféu', 'N'), ('da', 'NPROP'), ('NFL', 'N'), ('sem', 'PREP'), ('sofrer', 'V'), ('uma', 'ART'), ('derrota', 'N'), ('no', 'KC'), ('ano', 'N'), ('.', '.'), ('A', 'ART'), ('vitória', 'N'), ('dos', 'NPROP'), ('Giants', 'NPROP'), (',', ','), ('porém', 'KC'), (',', ','), ('também', 'PDEN'), ('ficará', 'V'), ('para', 'PREP'), ('a', 'ART'), ('história', 'N'), ('.', '.'), ('Pela', 'NPROP'), ('primeira', 'ADJ'), ('vez', 'N'), (',', ','), ('irmãos', 'N'), ('quarterbacks', 'N'), ('triunfam', 'N'), ('no', 'KC'), ('Super', 'NPROP'), ('Bowl', 'NPROP'), ('em', 'PREP|+'), ('temporadas', 'N'), ('consecutivas', 'ADJ'), ('.', '.'), ('No', 'KC'), ('ano', 'N'), ('passado', 'PCP'), (',', ','), ('Peyton', 'N'), ('Manning', 'NPROP'), (',', ','), ('irmão', 'N'), ('de', 'PREP'), ('Eli', 'NPROP'), (',', ','), ('chegou', 'V'), ('ao', 'PREP'), ('título', 'N'), ('máximo', 'N'), ('da', 'NPROP'), ('NFL', 'N'), ('pelo', 'PDEN'), ('Indianapolis', 'N'), ('Colts', 'N'), ('.', '.'), ('A', 'ART'), ('partida', 'N'), ('Os', 'ART'), ('Giants', 'NPROP'), ('começaram', 'VAUX'), ('com', 'PREP'), ('a', 'ART'), ('posse', 'N'), ('de', 'PREP'), ('bola', 'N'), (',', ','), ('e', 'KC'), ('mostraram', 'V'), ('logo', 'ADV'), ('que', 'PRO-KS-REL'), ('iriam', 'VAUX'), ('alongar', 'V'), ('ao', 'PREP'), ('máximo', 'N'), ('suas', 'PROADJ'), ('posses', 'N'), ('de', 'PREP'), ('bola', 'N'), ('.', '.'), ('Misturando', 'N'), ('corridas', 'N'), ('com', 'PREP'), ('Brandon', 'N'), ('Jacobs', 'NPROP'), ('e', 'KC'), ('passes', 'N'), ('curtos', 'ADJ'), (',', ','), ('o', 'ART'), ('time', 'N'), ('de', 'PREP'), ('Nova', 'NPROP'), ('York', 'NPROP'), ('chegou', 'V'), ('à', 'NPROP'), ('red', 'N|EST'), ('zone', 'N'), ('logo', 'ADV'), ('na', 'NPROP'), ('primeira', 'ADJ'), ('campanha', 'N'), ('.', '.'), ('O', 'ART'), ('avanço', 'N'), (',', ','), ('no', 'KC'), ('entanto', 'KC'), (',', ','), ('parou', 'V'), ('na', 'NPROP'), ('linha', 'N'), ('de', 'PREP'), ('17', 'NUM'), ('jardas', 'N'), ('e', 'KC'), ('Lawrence', 'NPROP'), ('Tynes', 'N'), ('converteu', 'V'), ('o', 'ART'), ('field', 'N|EST'), ('goal', 'N|EST'), ('de', 'PREP'), ('32', 'NUM'), ('jardas', 'N'), ('para', 'PREP'), ('abrir', 'V'), ('o', 'ART'), ('placar', 'N'), ('.', '.'), ('Eli', 'NPROP'), ('Manning', 'NPROP'), ('e', 'KC'), ('companhia', 'N'), ('ficaram', 'V'), ('9m54s', 'N'), ('com', 'PREP'), ('a', 'ART'), ('bola', 'N'), (',', ','), ('mas', 'KC'), ('o', 'ART'), ('ataque', 'N'), ('dos', 'NPROP'), ('Patriots', 'N'), ('não', 'ADV'), ('entrou', 'V'), ('em', 'PREP|+'), ('campo', 'N'), ('frio', 'N'), ('.', '.'), ('Logo', 'ADV'), ('no', 'KC'), ('retorno', 'N'), ('do', 'NPROP'), ('kickoff', 'N'), (',', ','), ('o', 'ART'), ('running', 'N|EST'), ('back', 'N|EST'), ('Laurence', 'NPROP'), ('Maroney', 'N'), ('avançou', 'V'), ('43', 'NUM'), ('jardas', 'N'), (',', ','), ('deixando', 'V'), ('Tom', 'NPROP'), ('Brady', 'NPROP'), ('em', 'PREP|+'), ('boa', 'ADJ'), ('posição', 'N'), ('.', '.'), ('Com', 'PREP'), ('passes', 'N'), ('curtos', 'ADJ'), (',', ','), ('os', 'ART'), ('Patriots', 'N'), ('chegaram', 'V'), ('à', 'NPROP'), ('linha', 'N'), ('de', 'PREP'), ('17', 'NUM'), ('jardas', 'N'), ('e', 'KC'), (',', ','), ('graças', 'PREP|+'), ('a', 'ART'), ('uma', 'ART'), ('penalidade', 'N'), ('(', '('), ('interferência', 'N'), ('de', 'PREP'), ('passe', 'N'), (')', ')'), ('do', 'NPROP'), ('linebacker', 'N'), ('Antonio', 'NPROP'), ('Pierce', 'NPROP'), (',', ','), ('alcançaram', 'V'), ('a', 'ART'), ('linha', 'N'), ('de', 'PREP'), ('uma', 'ART'), ('jarda', 'N'), ('.', '.'), ('Maroney', 'N'), ('avançou', 'V'), ('pelo', 'PDEN'), ('chão', 'N'), ('e', 'KC'), ('anotou', 'V'), ('o', 'ART'), ('primeiro', 'ADJ'), ('touchdown', 'N|EST'), ('do', 'NPROP'), ('jogo', 'N'), ('.', '.'), ('Os', 'ART'), ('Giants', 'NPROP'), ('pareciam', 'V'), ('rumo', 'PREP|+'), ('à', 'NPROP'), ('virada', 'N'), ('na', 'NPROP'), ('campanha', 'N'), ('seguinte', 'ADJ'), ('.', '.'), ('Manning', 'NPROP'), ('achou', 'V'), ('Amani', 'N'), ('Toomer', 'N'), ('para', 'PREP'), ('um', 'ART'), ('avanço', 'N'), ('de', 'PREP'), ('38', 'NUM'), ('jardas', 'N'), (',', ','), ('e', 'KC'), ('o', 'ART'), ('time', 'N'), ('de', 'PREP'), ('Nova', 'NPROP'), ('York', 'NPROP'), ('entrou', 'V'), ('novamente', 'ADV'), ('na', 'NPROP'), ('red', 'N|EST'), ('zone', 'N'), ('.', '.'), ('Com', 'PREP'), ('a', 'ART'), ('bola', 'N'), ('na', 'NPROP'), ('linha', 'N'), ('de', 'PREP'), ('14', 'NUM'), ('jardas', 'N'), ('dos', 'NPROP'), ('Patriots', 'N'), (',', ','), ('os', 'ART'), ('Giants', 'NPROP'), ('sofreram', 'V'), ('um', 'ART'), ('revés', 'N'), ('.', '.'), ('Manning', 'NPROP'), ('passou', 'V'), ('para', 'PREP'), ('Steve', 'NPROP'), ('Smith', 'NPROP'), (',', ','), ('que', 'PRO-KS-REL'), ('soltou', 'V'), ('a', 'ART'), ('bola', 'N'), ('.', '.'), ('Ellis', 'NPROP'), ('Hobbs', 'N'), ('aproveitou', 'V'), (',', ','), ('tomou', 'V'), ('a', 'ART'), ('posse', 'N'), ('para', 'PREP'), ('os', 'ART'), ('Patriots', 'N'), (',', ','), ('e', 'KC'), ('avançou', 'V'), ('23', 'NUM'), ('jardas', 'N'), ('.', '.'), ('A', 'ART'), ('defesa', 'N'), ('de', 'PREP'), ('Nova', 'NPROP'), ('York', 'NPROP'), ('manteve', 'V'), ('o', 'ART'), ('jogo', 'N'), ('equilibrado', 'PCP'), ('.', '.'), ('Com', 'PREP'), ('dois', 'NUM'), ('sacks', 'N'), ('seguidos', 'PCP'), (',', ','), ('os', 'ART'), ('Giants', 'NPROP'), ('forçaram', 'V'), ('o', 'ART'), ('punt', 'N'), ('e', 'KC'), ('recuperaram', 'N'), ('a', 'ART'), ('bola', 'N'), ('.', '.'), ('Mas', 'KC'), ('a', 'ART'), ('campanha', 'N'), ('seguinte', 'ADJ'), ('provou', 'V'), ('ser', 'VAUX'), ('outra', 'PROADJ'), ('decepção', 'N'), ('para', 'PREP'), ('Nova', 'NPROP'), ('York', 'NPROP'), ('.', '.'), ('O', 'ART'), ('time', 'N'), ('chegou', 'V'), ('à', 'NPROP'), ('linha', 'N'), ('de', 'PREP'), ('25', 'NUM'), ('jardas', 'N'), (',', ','), ('mas', 'KC'), ('Manning', 'NPROP'), ('sofreu', 'V'), ('um', 'ART'), ('sack', 'N'), ('e', 'KC'), ('cometeu', 'V'), ('um', 'ART'), ('fumble', 'N|EST'), (',', ','), ('e', 'KC'), ('o', 'ART'), ('ataque', 'N'), ('voltou', 'V'), ('para', 'PREP'), ('a', 'ART'), ('linha', 'N'), ('de', 'PREP'), ('39', 'NUM'), ('jardas', 'N'), (',', ','), ('não', 'ADV'), ('conseguindo', 'V'), ('pontuar', 'N'), ('mais', 'ADV'), ('uma', 'ART'), ('vez', 'N'), ('.', '.'), ('Os', 'ART'), ('Patriots', 'N'), ('tiveram', 'V'), ('uma', 'ART'), ('última', 'ADJ'), ('chance', 'N'), ('de', 'PREP'), ('marcar', 'V'), ('antes', 'ADV'), ('do', 'NPROP'), ('intervalo', 'N'), (',', ','), ('mas', 'KC'), (',', ','), ('a', 'ART'), ('22', 'NUM'), ('segundos', 'N'), ('do', 'NPROP'), ('fim', 'N'), ('do', 'NPROP'), ('segundo', 'PREP'), ('período', 'N'), (',', ','), ('Brady', 'NPROP'), ('foi', 'VAUX'), ('novamente', 'ADV'), ('sacado', 'PCP'), ('.', '.'), ('Desta', 'ADV'), ('vez', 'N'), (',', ','), ('ele', 'PROPESS'), ('cometeu', 'V'), ('o', 'ART'), ('fumble', 'N|EST'), ('e', 'KC'), ('os', 'ART'), ('Giants', 'NPROP'), ('tomaram', 'V'), ('a', 'ART'), ('posse', 'N'), ('de', 'PREP'), ('bola', 'N'), ('.', '.'), ('Manning', 'NPROP'), ('tentou', 'V'), ('um', 'ART'), ('passe', 'N'), ('longo', 'ADJ'), (',', ','), ('de', 'PREP'), ('50', 'NUM'), ('jardas', 'N'), (',', ','), ('nos', 'PROPESS'), ('últimos', 'ADJ'), ('segundos', 'N'), (',', ','), ('mas', 'KC'), ('não', 'ADV'), ('teve', 'V'), ('sucesso', 'N'), ('.', '.'), ('O', 'ART'), ('jogo', 'N'), ('continuou', 'V'), ('amarrado', 'PCP'), ('no', 'KC'), ('terceiro', 'ADJ'), ('quarto', 'N'), (',', ','), ('com', 'PREP'), ('as', 'ART'), ('defesas', 'N'), ('levando', 'V'), ('a', 'ART'), ('melhor', 'ADJ'), ('sobre', 'PREP'), ('os', 'ART'), ('ataques', 'N'), ('.', '.'), ('A', 'ART'), ('única', 'ADJ'), ('chance', 'N'), ('de', 'PREP'), ('pontuar', 'N'), ('do', 'NPROP'), ('período', 'N'), ('foi', 'VAUX'), ('dos', 'NPROP'), ('Patriots', 'N'), (',', ','), ('que', 'PRO-KS-REL'), ('chegaram', 'V'), ('à', 'NPROP'), ('linha', 'N'), ('de', 'PREP'), ('31', 'NUM'), ('jardas', 'N'), ('dos', 'NPROP'), ('Giants', 'NPROP'), ('.', '.'), ('O', 'ART'), ('técnico', 'N'), ('Bill', 'NPROP'), ('Bellichick', 'N'), (',', ','), ('porém', 'KC'), (',', ','), ('optou', 'V'), ('por', 'PREP|+'), ('uma', 'ART'), ('quarta', 'N'), ('descida', 'N'), ('em', 'PREP|+'), ('vez', 'N'), ('de', 'PREP'), ('um', 'ART'), ('field', 'N|EST'), ('goal', 'N|EST'), ('.', '.'), ('Brady', 'NPROP'), ('tentou', 'V'), ('um', 'ART'), ('passe', 'N'), ('para', 'PREP'), ('Jabar', 'N'), ('Gaffney', 'N'), (',', ','), ('mas', 'KC'), ('não', 'ADV'), ('conseguiu', 'V'), ('completar', 'V'), ('.', '.'), ('O', 'ART'), ('último', 'ADJ'), ('período', 'N'), ('começou', 'VAUX'), ('arrasador', 'N'), ('para', 'PREP'), ('os', 'ART'), ('Giants', 'NPROP'), ('.', '.'), ('na', 'NPROP'), ('primeira', 'ADJ'), ('jogada', 'N'), (',', ','), ('Manning', 'NPROP'), ('achou', 'V'), ('o', 'ART'), ('tight', 'N'), ('end', 'N'), ('Kevin', 'NPROP'), ('Boss', 'N'), (',', ','), ('para', 'PREP'), ('um', 'ART'), ('incrível', 'ADJ'), ('avanço', 'N'), ('de', 'PREP'), ('45', 'NUM'), ('jardas', 'N'), (',', ','), ('que', 'PRO-KS-REL'), ('deixou', 'V'), ('o', 'ART'), ('time', 'N'), ('na', 'NPROP'), ('linha', 'N'), ('de', 'PREP'), ('35', 'NUM'), ('dos', 'NPROP'), ('Patriots', 'N'), ('.', '.'), ('Outro', 'PROADJ'), ('lançamento', 'N'), (',', ','), ('desta', 'PROADJ'), ('vez', 'N'), ('para', 'PREP'), ('Steve', 'NPROP'), ('Smith', 'NPROP'), (',', ','), ('marcou', 'V'), ('o', 'ART'), ('avanço', 'N'), ('até', 'PREP'), ('a', 'ART'), ('linha', 'N'), ('de', 'PREP'), ('12', 'NUM'), ('jardas', 'N'), ('.', '.'), ('Duas', 'NUM'), ('jogadas', 'N'), ('depois', 'ADV'), (',', ','), ('David', 'NPROP'), ('Tyree', 'N'), ('pegou', 'V'), ('um', 'ART'), ('passe', 'N'), ('de', 'PREP'), ('cinco', 'NUM'), ('jardas', 'N'), ('na', 'NPROP'), ('end', 'N'), ('zone', 'N'), ('para', 'PREP'), ('anotar', 'V'), ('o', 'ART'), ('touchdown', 'N|EST'), ('e', 'KC'), ('virar', 'V'), ('o', 'ART'), ('jogo', 'N'), ('.', '.'), ('Na', 'NPROP'), ('hora', 'N'), ('da', 'NPROP'), ('decisão', 'N'), (',', ','), ('o', 'ART'), ('ataque', 'N'), ('dos', 'NPROP'), ('Patriots', 'N'), ('voltou', 'V'), ('a', 'ART'), ('funcionar', 'V'), ('.', '.'), ('Com', 'PREP'), ('uma', 'ART'), ('série', 'N'), ('de', 'PREP'), ('passes', 'N'), ('curtos', 'ADJ'), ('e', 'KC'), ('variados', 'PCP'), (',', ','), ('Brady', 'NPROP'), ('achou', 'V'), ('Wes', 'N'), ('Welker', 'N'), (',', ','), ('Randy', 'NPROP'), ('Moss', 'NPROP'), ('e', 'KC'), ('Kevin', 'NPROP'), ('Faulk', 'N'), ('seguidas', 'PCP'), ('vezes', 'N'), ('até', 'PREP'), ('chegar', 'V'), ('à', 'NPROP'), ('red', 'N|EST'), ('zone', 'N'), ('.', '.'), ('A', 'ART'), ('2m45s', 'N'), ('do', 'NPROP'), ('fim', 'N'), (',', ','), ('o', 'ART'), ('quarterback', 'N|EST'), ('conectou', 'N'), ('mais', 'ADV'), ('uma', 'ART'), ('vez', 'N'), ('com', 'PREP'), ('Moss', 'NPROP'), (',', ','), ('que', 'PRO-KS-REL'), ('se', 'PROPESS'), ('desmarcou', 'N'), ('e', 'KC'), ('ficou', 'V'), ('livre', 'ADJ'), ('na', 'NPROP'), ('lateral', 'N'), ('direita', 'N'), ('da', 'NPROP'), ('end', 'N'), ('zone', 'N'), ('.', '.'), ('Quando', 'KS'), ('os', 'ART'), ('fãs', 'N'), ('de', 'PREP'), ('New', 'NPROP'), ('England', 'NPROP'), ('já', 'ADV'), ('comemoravam', 'V'), ('a', 'ART'), ('vitória', 'N'), (',', ','), ('o', 'ART'), ('inesperado', 'ADJ'), ('aconteceu', 'V'), ('.', '.'), ('Em', 'PREP|+'), ('uma', 'ART'), ('jogada', 'N'), ('incrível', 'ADJ'), (',', ','), ('Eli', 'NPROP'), ('Manning', 'NPROP'), ('se', 'PROPESS'), ('soltou', 'V'), ('de', 'PREP'), ('dois', 'NUM'), ('marcadores', 'N'), ('que', 'PRO-KS-REL'), ('o', 'ART'), ('seguravam', 'N'), ('pela', 'NPROP'), ('camisa', 'N'), ('e', 'KC'), (',', ','), ('na', 'NPROP'), ('corrida', 'N'), (',', ','), ('lançou', 'V'), ('para', 'PREP'), ('Amani', 'N'), ('Toomer', 'N'), ('.', '.'), ('O', 'ART'), ('wide', 'N|EST'), ('receiver', 'N'), (',', ','), ('bem', 'ADV'), ('marcado', 'PCP'), (',', ','), ('saltou', 'V'), ('e', 'KC'), ('conseguiu', 'V'), ('a', 'ART'), ('fazer', 'V'), ('recepção', 'N'), ('para', 'PREP'), ('um', 'ART'), ('avanço', 'N'), ('de', 'PREP'), ('32', 'NUM'), ('jardas', 'N'), (',', ','), ('deixando', 'V'), ('os', 'ART'), ('Giants', 'NPROP'), ('na', 'NPROP'), ('linha', 'N'), ('de', 'PREP'), ('24', 'NUM'), ('de', 'PREP'), ('New', 'NPROP'), ('England', 'NPROP'), ('.', '.'), ('Quatro', 'NUM'), ('jogadas', 'N'), ('depois', 'ADV'), (',', ','), ('a', 'ART'), ('39', 'NUM'), ('segundos', 'N'), ('do', 'NPROP'), ('fim', 'N'), (',', ','), ('Manning', 'NPROP'), ('achou', 'V'), ('Plaxico', 'N'), ('Burress', 'N'), ('na', 'NPROP'), ('end', 'N'), ('zone', 'N'), ('para', 'PREP'), ('conseguir', 'V'), ('o', 'ART'), ('touchdown', 'N|EST'), ('do', 'NPROP'), ('título', 'N'), ('.', '.')]\n"
          ]
        }
      ]
    },
    {
      "cell_type": "markdown",
      "metadata": {
        "id": "QCqUcIVne4DU"
      },
      "source": [
        "Com a lista de tuplas resultante do taggeamento, é possível realizar diversas análises:\\\n",
        "Análises descritivas;\\\n",
        "Análise sintática;\\\n",
        "Chunking (exemplo: reconhecimento de entidades nomeadas);\\\n",
        "etc."
      ]
    },
    {
      "cell_type": "markdown",
      "metadata": {
        "id": "iceZEm88feRG"
      },
      "source": [
        "#### Chunking"
      ]
    },
    {
      "cell_type": "code",
      "metadata": {
        "id": "tdV6DtHGfVC_"
      },
      "source": [
        "from nltk.chunk import RegexpParser\n",
        "pattern = 'NP: {<NPROP><NPROP> | <N><N>}'\n",
        "analise_gramatical = RegexpParser(pattern)\n",
        "\n",
        "arvore = analise_gramatical.parse(etiquetado)\n",
        "print(arvore)"
      ],
      "execution_count": null,
      "outputs": []
    },
    {
      "cell_type": "markdown",
      "metadata": {
        "id": "BF4w6JJPRCaI"
      },
      "source": [
        "# **Aula 05**"
      ]
    },
    {
      "cell_type": "markdown",
      "metadata": {
        "id": "wmJphnsbV85B"
      },
      "source": [
        "## **spaCy**\n",
        "\n",
        "É uma biblioteca Python para processamento de textos (escala industrial). É voltada a ambientes de produção, tendo o parser sintático mais rápido do mundo, com acurácia de 92.6%"
      ]
    },
    {
      "cell_type": "markdown",
      "metadata": {
        "id": "NekBLyDOV9U0"
      },
      "source": [
        "### Importação e primeiros passos"
      ]
    },
    {
      "cell_type": "markdown",
      "metadata": {
        "id": "hjxFIED8jCzx"
      },
      "source": [
        "Instalação\n",
        "https://spacy.io/usage"
      ]
    },
    {
      "cell_type": "code",
      "metadata": {
        "colab": {
          "base_uri": "https://localhost:8080/"
        },
        "id": "ADhJyryMj51p",
        "outputId": "12fdfbbe-63f6-4419-d872-cf9702b00d26"
      },
      "source": [
        "pip install -U spaCy"
      ],
      "execution_count": null,
      "outputs": [
        {
          "output_type": "stream",
          "name": "stdout",
          "text": [
            "Requirement already satisfied: spaCy in /usr/local/lib/python3.7/dist-packages (2.2.4)\n",
            "Collecting spaCy\n",
            "  Downloading spacy-3.1.3-cp37-cp37m-manylinux_2_17_x86_64.manylinux2014_x86_64.whl (5.9 MB)\n",
            "\u001b[K     |████████████████████████████████| 5.9 MB 3.0 MB/s \n",
            "\u001b[?25hRequirement already satisfied: murmurhash<1.1.0,>=0.28.0 in /usr/local/lib/python3.7/dist-packages (from spaCy) (1.0.5)\n",
            "Requirement already satisfied: numpy>=1.15.0 in /usr/local/lib/python3.7/dist-packages (from spaCy) (1.19.5)\n",
            "Requirement already satisfied: blis<0.8.0,>=0.4.0 in /usr/local/lib/python3.7/dist-packages (from spaCy) (0.4.1)\n",
            "Requirement already satisfied: cymem<2.1.0,>=2.0.2 in /usr/local/lib/python3.7/dist-packages (from spaCy) (2.0.5)\n",
            "Requirement already satisfied: typing-extensions<4.0.0.0,>=3.7.4 in /usr/local/lib/python3.7/dist-packages (from spaCy) (3.7.4.3)\n",
            "Requirement already satisfied: jinja2 in /usr/local/lib/python3.7/dist-packages (from spaCy) (2.11.3)\n",
            "Requirement already satisfied: setuptools in /usr/local/lib/python3.7/dist-packages (from spaCy) (57.4.0)\n",
            "Requirement already satisfied: packaging>=20.0 in /usr/local/lib/python3.7/dist-packages (from spaCy) (21.0)\n",
            "Requirement already satisfied: wasabi<1.1.0,>=0.8.1 in /usr/local/lib/python3.7/dist-packages (from spaCy) (0.8.2)\n",
            "Collecting srsly<3.0.0,>=2.4.1\n",
            "  Downloading srsly-2.4.1-cp37-cp37m-manylinux2014_x86_64.whl (456 kB)\n",
            "\u001b[K     |████████████████████████████████| 456 kB 38.7 MB/s \n",
            "\u001b[?25hCollecting typer<0.5.0,>=0.3.0\n",
            "  Downloading typer-0.4.0-py3-none-any.whl (27 kB)\n",
            "Collecting catalogue<2.1.0,>=2.0.6\n",
            "  Downloading catalogue-2.0.6-py3-none-any.whl (17 kB)\n",
            "Requirement already satisfied: requests<3.0.0,>=2.13.0 in /usr/local/lib/python3.7/dist-packages (from spaCy) (2.23.0)\n",
            "Collecting pathy>=0.3.5\n",
            "  Downloading pathy-0.6.0-py3-none-any.whl (42 kB)\n",
            "\u001b[K     |████████████████████████████████| 42 kB 1.2 MB/s \n",
            "\u001b[?25hRequirement already satisfied: preshed<3.1.0,>=3.0.2 in /usr/local/lib/python3.7/dist-packages (from spaCy) (3.0.5)\n",
            "Collecting pydantic!=1.8,!=1.8.1,<1.9.0,>=1.7.4\n",
            "  Downloading pydantic-1.8.2-cp37-cp37m-manylinux2014_x86_64.whl (10.1 MB)\n",
            "\u001b[K     |████████████████████████████████| 10.1 MB 38.5 MB/s \n",
            "\u001b[?25hCollecting spacy-legacy<3.1.0,>=3.0.8\n",
            "  Downloading spacy_legacy-3.0.8-py2.py3-none-any.whl (14 kB)\n",
            "Requirement already satisfied: tqdm<5.0.0,>=4.38.0 in /usr/local/lib/python3.7/dist-packages (from spaCy) (4.62.3)\n",
            "Collecting thinc<8.1.0,>=8.0.9\n",
            "  Downloading thinc-8.0.10-cp37-cp37m-manylinux_2_17_x86_64.manylinux2014_x86_64.whl (623 kB)\n",
            "\u001b[K     |████████████████████████████████| 623 kB 33.4 MB/s \n",
            "\u001b[?25hRequirement already satisfied: zipp>=0.5 in /usr/local/lib/python3.7/dist-packages (from catalogue<2.1.0,>=2.0.6->spaCy) (3.6.0)\n",
            "Requirement already satisfied: pyparsing>=2.0.2 in /usr/local/lib/python3.7/dist-packages (from packaging>=20.0->spaCy) (2.4.7)\n",
            "Requirement already satisfied: smart-open<6.0.0,>=5.0.0 in /usr/local/lib/python3.7/dist-packages (from pathy>=0.3.5->spaCy) (5.2.1)\n",
            "Requirement already satisfied: certifi>=2017.4.17 in /usr/local/lib/python3.7/dist-packages (from requests<3.0.0,>=2.13.0->spaCy) (2021.5.30)\n",
            "Requirement already satisfied: urllib3!=1.25.0,!=1.25.1,<1.26,>=1.21.1 in /usr/local/lib/python3.7/dist-packages (from requests<3.0.0,>=2.13.0->spaCy) (1.24.3)\n",
            "Requirement already satisfied: idna<3,>=2.5 in /usr/local/lib/python3.7/dist-packages (from requests<3.0.0,>=2.13.0->spaCy) (2.10)\n",
            "Requirement already satisfied: chardet<4,>=3.0.2 in /usr/local/lib/python3.7/dist-packages (from requests<3.0.0,>=2.13.0->spaCy) (3.0.4)\n",
            "Requirement already satisfied: click<9.0.0,>=7.1.1 in /usr/local/lib/python3.7/dist-packages (from typer<0.5.0,>=0.3.0->spaCy) (7.1.2)\n",
            "Requirement already satisfied: MarkupSafe>=0.23 in /usr/local/lib/python3.7/dist-packages (from jinja2->spaCy) (2.0.1)\n",
            "Installing collected packages: catalogue, typer, srsly, pydantic, thinc, spacy-legacy, pathy, spaCy\n",
            "  Attempting uninstall: catalogue\n",
            "    Found existing installation: catalogue 1.0.0\n",
            "    Uninstalling catalogue-1.0.0:\n",
            "      Successfully uninstalled catalogue-1.0.0\n",
            "  Attempting uninstall: srsly\n",
            "    Found existing installation: srsly 1.0.5\n",
            "    Uninstalling srsly-1.0.5:\n",
            "      Successfully uninstalled srsly-1.0.5\n",
            "  Attempting uninstall: thinc\n",
            "    Found existing installation: thinc 7.4.0\n",
            "    Uninstalling thinc-7.4.0:\n",
            "      Successfully uninstalled thinc-7.4.0\n",
            "  Attempting uninstall: spaCy\n",
            "    Found existing installation: spacy 2.2.4\n",
            "    Uninstalling spacy-2.2.4:\n",
            "      Successfully uninstalled spacy-2.2.4\n",
            "Successfully installed catalogue-2.0.6 pathy-0.6.0 pydantic-1.8.2 spaCy-3.1.3 spacy-legacy-3.0.8 srsly-2.4.1 thinc-8.0.10 typer-0.4.0\n"
          ]
        }
      ]
    },
    {
      "cell_type": "code",
      "metadata": {
        "colab": {
          "base_uri": "https://localhost:8080/"
        },
        "id": "yaTh9RZbj-6M",
        "outputId": "90959bc7-b982-43f1-a29b-4b6ca15b74d6"
      },
      "source": [
        "pip install -U spacy_lookups-data"
      ],
      "execution_count": null,
      "outputs": [
        {
          "output_type": "stream",
          "name": "stdout",
          "text": [
            "Collecting spacy_lookups-data\n",
            "  Downloading spacy_lookups_data-1.0.3-py2.py3-none-any.whl (98.5 MB)\n",
            "\u001b[K     |████████████████████████████████| 98.5 MB 75 kB/s \n",
            "\u001b[?25hRequirement already satisfied: setuptools in /usr/local/lib/python3.7/dist-packages (from spacy_lookups-data) (57.4.0)\n",
            "Installing collected packages: spacy-lookups-data\n",
            "Successfully installed spacy-lookups-data-1.0.3\n"
          ]
        }
      ]
    },
    {
      "cell_type": "code",
      "metadata": {
        "colab": {
          "base_uri": "https://localhost:8080/"
        },
        "id": "szRXCWwFkMqL",
        "outputId": "1230c10c-e174-4e8e-8060-5b900b236040"
      },
      "source": [
        "!python -m spacy download pt_core_news_lg"
      ],
      "execution_count": null,
      "outputs": [
        {
          "output_type": "stream",
          "name": "stdout",
          "text": [
            "Collecting pt-core-news-lg==3.1.0\n",
            "  Downloading https://github.com/explosion/spacy-models/releases/download/pt_core_news_lg-3.1.0/pt_core_news_lg-3.1.0-py3-none-any.whl (576.7 MB)\n",
            "\u001b[K     |████████████████████████████████| 576.7 MB 19 kB/s \n",
            "\u001b[?25hRequirement already satisfied: spacy<3.2.0,>=3.1.0 in /usr/local/lib/python3.7/dist-packages (from pt-core-news-lg==3.1.0) (3.1.3)\n",
            "Requirement already satisfied: typer<0.5.0,>=0.3.0 in /usr/local/lib/python3.7/dist-packages (from spacy<3.2.0,>=3.1.0->pt-core-news-lg==3.1.0) (0.4.0)\n",
            "Requirement already satisfied: pydantic!=1.8,!=1.8.1,<1.9.0,>=1.7.4 in /usr/local/lib/python3.7/dist-packages (from spacy<3.2.0,>=3.1.0->pt-core-news-lg==3.1.0) (1.8.2)\n",
            "Requirement already satisfied: tqdm<5.0.0,>=4.38.0 in /usr/local/lib/python3.7/dist-packages (from spacy<3.2.0,>=3.1.0->pt-core-news-lg==3.1.0) (4.62.3)\n",
            "Requirement already satisfied: typing-extensions<4.0.0.0,>=3.7.4 in /usr/local/lib/python3.7/dist-packages (from spacy<3.2.0,>=3.1.0->pt-core-news-lg==3.1.0) (3.7.4.3)\n",
            "Requirement already satisfied: thinc<8.1.0,>=8.0.9 in /usr/local/lib/python3.7/dist-packages (from spacy<3.2.0,>=3.1.0->pt-core-news-lg==3.1.0) (8.0.10)\n",
            "Requirement already satisfied: cymem<2.1.0,>=2.0.2 in /usr/local/lib/python3.7/dist-packages (from spacy<3.2.0,>=3.1.0->pt-core-news-lg==3.1.0) (2.0.5)\n",
            "Requirement already satisfied: wasabi<1.1.0,>=0.8.1 in /usr/local/lib/python3.7/dist-packages (from spacy<3.2.0,>=3.1.0->pt-core-news-lg==3.1.0) (0.8.2)\n",
            "Requirement already satisfied: packaging>=20.0 in /usr/local/lib/python3.7/dist-packages (from spacy<3.2.0,>=3.1.0->pt-core-news-lg==3.1.0) (21.0)\n",
            "Requirement already satisfied: catalogue<2.1.0,>=2.0.6 in /usr/local/lib/python3.7/dist-packages (from spacy<3.2.0,>=3.1.0->pt-core-news-lg==3.1.0) (2.0.6)\n",
            "Requirement already satisfied: jinja2 in /usr/local/lib/python3.7/dist-packages (from spacy<3.2.0,>=3.1.0->pt-core-news-lg==3.1.0) (2.11.3)\n",
            "Requirement already satisfied: spacy-legacy<3.1.0,>=3.0.8 in /usr/local/lib/python3.7/dist-packages (from spacy<3.2.0,>=3.1.0->pt-core-news-lg==3.1.0) (3.0.8)\n",
            "Requirement already satisfied: requests<3.0.0,>=2.13.0 in /usr/local/lib/python3.7/dist-packages (from spacy<3.2.0,>=3.1.0->pt-core-news-lg==3.1.0) (2.23.0)\n",
            "Requirement already satisfied: pathy>=0.3.5 in /usr/local/lib/python3.7/dist-packages (from spacy<3.2.0,>=3.1.0->pt-core-news-lg==3.1.0) (0.6.0)\n",
            "Requirement already satisfied: setuptools in /usr/local/lib/python3.7/dist-packages (from spacy<3.2.0,>=3.1.0->pt-core-news-lg==3.1.0) (57.4.0)\n",
            "Requirement already satisfied: preshed<3.1.0,>=3.0.2 in /usr/local/lib/python3.7/dist-packages (from spacy<3.2.0,>=3.1.0->pt-core-news-lg==3.1.0) (3.0.5)\n",
            "Requirement already satisfied: murmurhash<1.1.0,>=0.28.0 in /usr/local/lib/python3.7/dist-packages (from spacy<3.2.0,>=3.1.0->pt-core-news-lg==3.1.0) (1.0.5)\n",
            "Requirement already satisfied: blis<0.8.0,>=0.4.0 in /usr/local/lib/python3.7/dist-packages (from spacy<3.2.0,>=3.1.0->pt-core-news-lg==3.1.0) (0.4.1)\n",
            "Requirement already satisfied: numpy>=1.15.0 in /usr/local/lib/python3.7/dist-packages (from spacy<3.2.0,>=3.1.0->pt-core-news-lg==3.1.0) (1.19.5)\n",
            "Requirement already satisfied: srsly<3.0.0,>=2.4.1 in /usr/local/lib/python3.7/dist-packages (from spacy<3.2.0,>=3.1.0->pt-core-news-lg==3.1.0) (2.4.1)\n",
            "Requirement already satisfied: zipp>=0.5 in /usr/local/lib/python3.7/dist-packages (from catalogue<2.1.0,>=2.0.6->spacy<3.2.0,>=3.1.0->pt-core-news-lg==3.1.0) (3.6.0)\n",
            "Requirement already satisfied: pyparsing>=2.0.2 in /usr/local/lib/python3.7/dist-packages (from packaging>=20.0->spacy<3.2.0,>=3.1.0->pt-core-news-lg==3.1.0) (2.4.7)\n",
            "Requirement already satisfied: smart-open<6.0.0,>=5.0.0 in /usr/local/lib/python3.7/dist-packages (from pathy>=0.3.5->spacy<3.2.0,>=3.1.0->pt-core-news-lg==3.1.0) (5.2.1)\n",
            "Requirement already satisfied: idna<3,>=2.5 in /usr/local/lib/python3.7/dist-packages (from requests<3.0.0,>=2.13.0->spacy<3.2.0,>=3.1.0->pt-core-news-lg==3.1.0) (2.10)\n",
            "Requirement already satisfied: certifi>=2017.4.17 in /usr/local/lib/python3.7/dist-packages (from requests<3.0.0,>=2.13.0->spacy<3.2.0,>=3.1.0->pt-core-news-lg==3.1.0) (2021.5.30)\n",
            "Requirement already satisfied: chardet<4,>=3.0.2 in /usr/local/lib/python3.7/dist-packages (from requests<3.0.0,>=2.13.0->spacy<3.2.0,>=3.1.0->pt-core-news-lg==3.1.0) (3.0.4)\n",
            "Requirement already satisfied: urllib3!=1.25.0,!=1.25.1,<1.26,>=1.21.1 in /usr/local/lib/python3.7/dist-packages (from requests<3.0.0,>=2.13.0->spacy<3.2.0,>=3.1.0->pt-core-news-lg==3.1.0) (1.24.3)\n",
            "Requirement already satisfied: click<9.0.0,>=7.1.1 in /usr/local/lib/python3.7/dist-packages (from typer<0.5.0,>=0.3.0->spacy<3.2.0,>=3.1.0->pt-core-news-lg==3.1.0) (7.1.2)\n",
            "Requirement already satisfied: MarkupSafe>=0.23 in /usr/local/lib/python3.7/dist-packages (from jinja2->spacy<3.2.0,>=3.1.0->pt-core-news-lg==3.1.0) (2.0.1)\n",
            "Installing collected packages: pt-core-news-lg\n",
            "Successfully installed pt-core-news-lg-3.1.0\n",
            "\u001b[38;5;2m✔ Download and installation successful\u001b[0m\n",
            "You can now load the package via spacy.load('pt_core_news_lg')\n"
          ]
        }
      ]
    },
    {
      "cell_type": "markdown",
      "metadata": {
        "id": "rPXohFpulsPw"
      },
      "source": [
        "### Conceitos e objetos do spaCy\n",
        "\n"
      ]
    },
    {
      "cell_type": "markdown",
      "metadata": {
        "id": "0PsoB6CelPqI"
      },
      "source": [
        "Objeto **Doc**\n",
        "\n",
        "É uma sequência de objetos Token manipuláveis (por exemplo um corpus)"
      ]
    },
    {
      "cell_type": "markdown",
      "metadata": {
        "id": "xV54QIP1lPuw"
      },
      "source": [
        "Objeto **Token**\n",
        "\n",
        "É o mesmo objeto Token aprendido no NLTK. Pode ser uma palavra, uma pontuação, um número, espaços, etc."
      ]
    },
    {
      "cell_type": "markdown",
      "metadata": {
        "id": "d58Jn1jpncFM"
      },
      "source": [
        "### Primeiros comandos\n",
        "\n",
        "Antes de qualquer utilização de funções do spaCy, deve-se criar a variável que vai guardar o modelo de linguagem.\\\n",
        "Além disso, não se utiliza tokens como argumentos das funções, e sim o próprio texto, a string. **Isso significa que é utilizado a variável do tipo doc nas funções.**"
      ]
    },
    {
      "cell_type": "code",
      "metadata": {
        "id": "RDDBzgTrmju_"
      },
      "source": [
        "#Modelo:\n",
        "import spacy\n",
        "\n",
        "nlp = spacy.load('pt_core_news_lg')\n",
        "doc = nlp(palavras) #o texto, não os tokens!"
      ],
      "execution_count": null,
      "outputs": []
    },
    {
      "cell_type": "code",
      "metadata": {
        "id": "Ofid1pA9m0lT"
      },
      "source": [
        "#Exemplo prático:\n",
        "\n",
        "import spacy\n",
        "\n",
        "texto = 'Para políticos e infectologistas, a opção de Michelle de se vacinar nos EUA, não no Brasil, é um \"absurdo\" e um \"desprezo\" ao SUS (Sistema Único de Saúde) e ao PNI (Programa Nacional de Imunizações) 453234 10.'\n",
        "nlp = spacy.load('pt_core_news_lg')\n",
        "doc = nlp(texto)"
      ],
      "execution_count": null,
      "outputs": []
    },
    {
      "cell_type": "markdown",
      "metadata": {
        "id": "tEsg0hqmiWFo"
      },
      "source": [
        "### spaCy - Tokenização\n"
      ]
    },
    {
      "cell_type": "code",
      "metadata": {
        "id": "ja19wg6pniQJ"
      },
      "source": [
        "tokens = [token for token in doc]\n",
        "print(tokens)\n",
        "print(type(tokens[0])) #Não são strings!"
      ],
      "execution_count": null,
      "outputs": []
    },
    {
      "cell_type": "code",
      "metadata": {
        "colab": {
          "base_uri": "https://localhost:8080/"
        },
        "id": "Pg2cWW2qoPTp",
        "outputId": "a8e6afd9-17f8-4e5d-b80d-976ffce1dbd5"
      },
      "source": [
        "tokens = [token.orth_ for token in doc]\n",
        "print(tokens)\n",
        "print(type(tokens[0])) #Método orth_ retorna as strings que originaram os tokens"
      ],
      "execution_count": null,
      "outputs": [
        {
          "output_type": "stream",
          "name": "stdout",
          "text": [
            "['Para', 'políticos', 'e', 'infectologistas', ',', 'a', 'opção', 'de', 'Michelle', 'de', 'se', 'vacinar', 'nos', 'EUA', ',', 'não', 'no', 'Brasil', ',', 'é', 'um', '\"', 'absurdo', '\"', 'e', 'um', '\"', 'desprezo', '\"', 'ao', 'SUS', '(', 'Sistema', 'Único', 'de', 'Saúde', ')', 'e', 'ao', 'PNI', '(', 'Programa', 'Nacional', 'de', 'Imunizações', ')', '.']\n",
            "<class 'str'>\n"
          ]
        }
      ]
    },
    {
      "cell_type": "code",
      "metadata": {
        "colab": {
          "base_uri": "https://localhost:8080/"
        },
        "id": "Ky5H9B_ko8bx",
        "outputId": "f74d1630-460d-4fd5-ee62-e97d397853e9"
      },
      "source": [
        "alpha_tokens = [token.orth_ for token in doc if token.is_alpha]\n",
        "print('Alpha Tokens: %s' % (alpha_tokens))\n",
        "\n",
        "digit_tokens = [token.orth_ for token in doc if token.is_digit]\n",
        "print('Digit Tokens: %s' % (digit_tokens))\n",
        "\n",
        "punct_tokens = [token.orth_ for token in doc if token.is_punct]\n",
        "print('Punct Tokens: %s' % (punct_tokens))"
      ],
      "execution_count": null,
      "outputs": [
        {
          "output_type": "stream",
          "name": "stdout",
          "text": [
            "Alpha Tokens: ['Para', 'políticos', 'e', 'infectologistas', 'a', 'opção', 'de', 'Michelle', 'de', 'se', 'vacinar', 'nos', 'EUA', 'não', 'no', 'Brasil', 'é', 'um', 'absurdo', 'e', 'um', 'desprezo', 'ao', 'SUS', 'Sistema', 'Único', 'de', 'Saúde', 'e', 'ao', 'PNI', 'Programa', 'Nacional', 'de', 'Imunizações']\n",
            "Digit Tokens: ['453234', '10']\n",
            "Punct Tokens: [',', ',', ',', '\"', '\"', '\"', '\"', '(', ')', '(', ')', '.']\n"
          ]
        }
      ]
    },
    {
      "cell_type": "markdown",
      "metadata": {
        "id": "FoAAp1iVqqFc"
      },
      "source": [
        "Além dos atributos verificados acima (alfabéticos, dígitos, pontuações), é possível verificar se o token é:\n",
        "- Pontuação esquerda ou direita (parênteses e colchetes)\n",
        "- Espaços\n",
        "- Símbolos financeiros\n",
        "- Números (10.9, 10, 'dez')\n",
        "- E-mail\n",
        "- Stopwords\n",
        "etc.\n",
        "\n",
        "Consulta: https://spacy.io/api/token\n"
      ]
    },
    {
      "cell_type": "markdown",
      "metadata": {
        "id": "wXnQ7z2Xyjjw"
      },
      "source": [
        "#### Trabalhando com o corpus exemplo do Drive\n"
      ]
    },
    {
      "cell_type": "code",
      "metadata": {
        "id": "oZMDyPLyugU6"
      },
      "source": [
        "with open('/content/drive/MyDrive/corpus.txt', 'r') as corpus:\n",
        "  corpus = corpus.read()\n",
        "print(corpus)\n"
      ],
      "execution_count": null,
      "outputs": []
    },
    {
      "cell_type": "code",
      "metadata": {
        "id": "15p2FFb0u5NY"
      },
      "source": [
        "import spacy\n",
        "nlp = spacy.load('pt_core_news_lg')\n",
        "doc = nlp(corpus)"
      ],
      "execution_count": null,
      "outputs": []
    },
    {
      "cell_type": "code",
      "metadata": {
        "id": "cJ_1HpiTvUhF"
      },
      "source": [
        "tokens = [token.orth_ for token in doc]\n",
        "tokens"
      ],
      "execution_count": null,
      "outputs": []
    },
    {
      "cell_type": "code",
      "metadata": {
        "colab": {
          "base_uri": "https://localhost:8080/"
        },
        "id": "f8qBuLyxvcnC",
        "outputId": "8b0d5d93-83c2-4ecb-a023-89063ac9e2dd"
      },
      "source": [
        "alpha_tokens = [token.orth_ for token in doc if token.is_alpha]\n",
        "print('Alpha Tokens: %s' % (alpha_tokens))\n",
        "\n",
        "digit_tokens = [token.orth_ for token in doc if token.is_digit]\n",
        "print('Digit Tokens: %s' % (digit_tokens))\n",
        "\n",
        "punct_tokens = [token.orth_ for token in doc if token.is_punct]\n",
        "print('Punct Tokens: %s' % (punct_tokens))"
      ],
      "execution_count": null,
      "outputs": [
        {
          "output_type": "stream",
          "name": "stdout",
          "text": [
            "Alpha Tokens: ['Giants', 'batem', 'os', 'Patriots', 'no', 'Super', 'Bowl', 'XLII', 'Azarões', 'acabam', 'com', 'a', 'invencibilidade', 'de', 'New', 'England', 'e', 'ficam', 'com', 'o', 'título', 'da', 'temporada', 'm', 'Atualizado', 'em', 'm', 'Com', 'um', 'passe', 'de', 'Eli', 'Manning', 'para', 'Plaxico', 'Burress', 'a', 'segundos', 'do', 'fim', 'o', 'New', 'York', 'Giants', 'anotou', 'o', 'touchdown', 'decisivo', 'e', 'derrubou', 'o', 'favorito', 'New', 'England', 'Patriots', 'por', 'a', 'neste', 'domingo', 'em', 'Glendale', 'no', 'Super', 'Bowl', 'XLII', 'O', 'resultado', 'uma', 'das', 'maiores', 'zebras', 'da', 'história', 'do', 'Super', 'Bowl', 'acabou', 'com', 'a', 'temporada', 'perfeita', 'de', 'Tom', 'Brady', 'e', 'companhia', 'que', 'esperavam', 'fazer', 'história', 'ao', 'levantar', 'o', 'troféu', 'da', 'NFL', 'sem', 'sofrer', 'uma', 'derrota', 'no', 'ano', 'A', 'vitória', 'dos', 'Giants', 'porém', 'também', 'ficará', 'para', 'a', 'história', 'Pela', 'primeira', 'vez', 'irmãos', 'quarterbacks', 'triunfam', 'no', 'Super', 'Bowl', 'em', 'temporadas', 'consecutivas', 'No', 'ano', 'passado', 'Peyton', 'Manning', 'irmão', 'de', 'Eli', 'chegou', 'ao', 'título', 'máximo', 'da', 'NFL', 'pelo', 'Indianapolis', 'Colts', 'A', 'partida', 'Os', 'Giants', 'começaram', 'com', 'a', 'posse', 'de', 'bola', 'e', 'mostraram', 'logo', 'que', 'iriam', 'alongar', 'ao', 'máximo', 'suas', 'posses', 'de', 'bola', 'Misturando', 'corridas', 'com', 'Brandon', 'Jacobs', 'e', 'passes', 'curtos', 'o', 'time', 'de', 'Nova', 'York', 'chegou', 'à', 'red', 'zone', 'logo', 'na', 'primeira', 'campanha', 'O', 'avanço', 'no', 'entanto', 'parou', 'na', 'linha', 'de', 'jardas', 'e', 'Lawrence', 'Tynes', 'converteu', 'o', 'field', 'goal', 'de', 'jardas', 'para', 'abrir', 'o', 'placar', 'Eli', 'Manning', 'e', 'companhia', 'ficaram', 'com', 'a', 'bola', 'mas', 'o', 'ataque', 'dos', 'Patriots', 'não', 'entrou', 'em', 'campo', 'frio', 'Logo', 'no', 'retorno', 'do', 'kickoff', 'o', 'running', 'back', 'Laurence', 'Maroney', 'avançou', 'jardas', 'deixando', 'Tom', 'Brady', 'em', 'boa', 'posição', 'Com', 'passes', 'curtos', 'os', 'Patriots', 'chegaram', 'à', 'linha', 'de', 'jardas', 'e', 'graças', 'a', 'uma', 'penalidade', 'interferência', 'de', 'passe', 'do', 'linebacker', 'Antonio', 'Pierce', 'alcançaram', 'a', 'linha', 'de', 'uma', 'jarda', 'Maroney', 'avançou', 'pelo', 'chão', 'e', 'anotou', 'o', 'primeiro', 'touchdown', 'do', 'jogo', 'Os', 'Giants', 'pareciam', 'rumo', 'à', 'virada', 'na', 'campanha', 'seguinte', 'Manning', 'achou', 'Amani', 'Toomer', 'para', 'um', 'avanço', 'de', 'jardas', 'e', 'o', 'time', 'de', 'Nova', 'York', 'entrou', 'novamente', 'na', 'red', 'zone', 'Com', 'a', 'bola', 'na', 'linha', 'de', 'jardas', 'dos', 'Patriots', 'os', 'Giants', 'sofreram', 'um', 'revés', 'Manning', 'passou', 'para', 'Steve', 'Smith', 'que', 'soltou', 'a', 'bola', 'Ellis', 'Hobbs', 'aproveitou', 'tomou', 'a', 'posse', 'para', 'os', 'Patriots', 'e', 'avançou', 'jardas', 'A', 'defesa', 'de', 'Nova', 'York', 'manteve', 'o', 'jogo', 'equilibrado', 'Com', 'dois', 'sacks', 'seguidos', 'os', 'Giants', 'forçaram', 'o', 'punt', 'e', 'recuperaram', 'a', 'bola', 'Mas', 'a', 'campanha', 'seguinte', 'provou', 'ser', 'outra', 'decepção', 'para', 'Nova', 'York', 'O', 'time', 'chegou', 'à', 'linha', 'de', 'jardas', 'mas', 'Manning', 'sofreu', 'um', 'sack', 'e', 'cometeu', 'um', 'fumble', 'e', 'o', 'ataque', 'voltou', 'para', 'a', 'linha', 'de', 'jardas', 'não', 'conseguindo', 'pontuar', 'mais', 'uma', 'vez', 'Os', 'Patriots', 'tiveram', 'uma', 'última', 'chance', 'de', 'marcar', 'antes', 'do', 'intervalo', 'mas', 'a', 'segundos', 'do', 'fim', 'do', 'segundo', 'período', 'Brady', 'foi', 'novamente', 'sacado', 'Desta', 'vez', 'ele', 'cometeu', 'o', 'fumble', 'e', 'os', 'Giants', 'tomaram', 'a', 'posse', 'de', 'bola', 'Manning', 'tentou', 'um', 'passe', 'longo', 'de', 'jardas', 'nos', 'últimos', 'segundos', 'mas', 'não', 'teve', 'sucesso', 'O', 'jogo', 'continuou', 'amarrado', 'no', 'terceiro', 'quarto', 'com', 'as', 'defesas', 'levando', 'a', 'melhor', 'sobre', 'os', 'ataques', 'A', 'única', 'chance', 'de', 'pontuar', 'do', 'período', 'foi', 'dos', 'Patriots', 'que', 'chegaram', 'à', 'linha', 'de', 'jardas', 'dos', 'Giants', 'O', 'técnico', 'Bill', 'Bellichick', 'porém', 'optou', 'por', 'uma', 'quarta', 'descida', 'em', 'vez', 'de', 'um', 'field', 'goal', 'Brady', 'tentou', 'um', 'passe', 'para', 'Jabar', 'Gaffney', 'mas', 'não', 'conseguiu', 'completar', 'O', 'último', 'período', 'começou', 'arrasador', 'para', 'os', 'Giants', 'na', 'primeira', 'jogada', 'Manning', 'achou', 'o', 'tight', 'end', 'Kevin', 'Boss', 'para', 'um', 'incrível', 'avanço', 'de', 'jardas', 'que', 'deixou', 'o', 'time', 'na', 'linha', 'de', 'dos', 'Patriots', 'Outro', 'lançamento', 'desta', 'vez', 'para', 'Steve', 'Smith', 'marcou', 'o', 'avanço', 'até', 'a', 'linha', 'de', 'jardas', 'Duas', 'jogadas', 'depois', 'David', 'Tyree', 'pegou', 'um', 'passe', 'de', 'cinco', 'jardas', 'na', 'end', 'zone', 'para', 'anotar', 'o', 'touchdown', 'e', 'virar', 'o', 'jogo', 'Na', 'hora', 'da', 'decisão', 'o', 'ataque', 'dos', 'Patriots', 'voltou', 'a', 'funcionar', 'Com', 'uma', 'série', 'de', 'passes', 'curtos', 'e', 'variados', 'Brady', 'achou', 'Wes', 'Welker', 'Randy', 'Moss', 'e', 'Kevin', 'Faulk', 'seguidas', 'vezes', 'até', 'chegar', 'à', 'red', 'zone', 'A', 'do', 'fim', 'o', 'quarterback', 'conectou', 'mais', 'uma', 'vez', 'com', 'Moss', 'que', 'se', 'desmarcou', 'e', 'ficou', 'livre', 'na', 'lateral', 'direita', 'da', 'end', 'zone', 'Quando', 'os', 'fãs', 'de', 'New', 'England', 'já', 'comemoravam', 'a', 'vitória', 'o', 'inesperado', 'aconteceu', 'Em', 'uma', 'jogada', 'incrível', 'Eli', 'Manning', 'se', 'soltou', 'de', 'dois', 'marcadores', 'que', 'o', 'seguravam', 'pela', 'camisa', 'e', 'na', 'corrida', 'lançou', 'para', 'Amani', 'Toomer', 'O', 'wide', 'receiver', 'bem', 'marcado', 'saltou', 'e', 'conseguiu', 'a', 'fazer', 'recepção', 'para', 'um', 'avanço', 'de', 'jardas', 'deixando', 'os', 'Giants', 'na', 'linha', 'de', 'de', 'New', 'England', 'Quatro', 'jogadas', 'depois', 'a', 'segundos', 'do', 'fim', 'Manning', 'achou', 'Plaxico', 'Burress', 'na', 'end', 'zone', 'para', 'conseguir', 'o', 'touchdown', 'do', 'título']\n",
            "Digit Tokens: ['39', '17', '14', '17', '32', '43', '17', '38', '14', '23', '25', '39', '22', '50', '31', '45', '35', '12', '32', '24', '39']\n",
            "Punct Tokens: ['-', '-', '-', ',', ',', ',', '.', ',', ',', ',', '.', ',', ',', '.', ',', '.', ',', ',', ',', '.', ',', '.', ',', '.', ',', ',', '.', ',', '.', ',', ',', '.', ',', ',', '(', ')', ',', '.', '.', '.', ',', '.', ',', '.', ',', '.', ',', ',', '.', '.', ',', '.', '.', ',', ',', ',', '.', ',', ',', ',', '.', ',', '.', ',', ',', ',', '.', ',', '.', ',', '.', ',', ',', '.', ',', '.', '.', ',', ',', ',', '.', ',', ',', '.', ',', '.', ',', '.', ',', ',', '.', ',', ',', '.', ',', '.', ',', ',', ',', '.', ',', ',', ',', '.', ',', ',', '.']\n"
          ]
        }
      ]
    },
    {
      "cell_type": "code",
      "metadata": {
        "id": "2R06Uyy1vw_j"
      },
      "source": [
        "# Acessando os lemmas dos tokens:\n",
        "lemmas = [token.lemma_ for token in doc if token.pos_ == 'VERB']\n",
        "# O atributo .pos refere-se ao Part-Of-Speech, \n",
        "# ou classe gramatical do token\n",
        "lemmas"
      ],
      "execution_count": null,
      "outputs": []
    },
    {
      "cell_type": "markdown",
      "metadata": {
        "id": "Drf-A1Wkziyv"
      },
      "source": [
        "### spaCy - Etiquetador\n",
        "O modelo de linguagem para o Português usado no spaCy tem como fonte o Bosque (que tem 95.02% de acurácia na etiquetagem de textos quando utilizado o modelo de linguagem large)\n"
      ]
    },
    {
      "cell_type": "code",
      "metadata": {
        "colab": {
          "base_uri": "https://localhost:8080/"
        },
        "id": "-0zsl-jJwjG1",
        "outputId": "bf65d61f-774d-4f8f-8e0e-0089543ca7bd"
      },
      "source": [
        "# Fazendo uma lista de tuplas com os tokens e as classes gramaticas:\n",
        "pos = [(token.orth_, token.pos_) for token in doc]\n",
        "print(pos)\n",
        "# Obs: As etiquetas (classes gramaticais) podem ser consultadas em\n",
        "# https://universaldependencies.org/u/pos/"
      ],
      "execution_count": null,
      "outputs": [
        {
          "output_type": "stream",
          "name": "stdout",
          "text": [
            "[('Giants', 'PROPN'), ('batem', 'VERB'), ('os', 'DET'), ('Patriots', 'PROPN'), ('no', 'ADP'), ('Super', 'PROPN'), ('Bowl', 'PROPN'), ('XLII', 'PROPN'), ('\\n', 'SPACE'), ('Azarões', 'PROPN'), ('acabam', 'VERB'), ('com', 'ADP'), ('a', 'DET'), ('invencibilidade', 'NOUN'), ('de', 'ADP'), ('New', 'PROPN'), ('England', 'PROPN'), ('e', 'CCONJ'), ('ficam', 'VERB'), ('com', 'ADP'), ('o', 'DET'), ('título', 'NOUN'), ('da', 'ADP'), ('temporada', 'NOUN'), ('\\n', 'SPACE'), ('04/02/2008', 'NUM'), ('-', 'PUNCT'), ('01h07', 'NUM'), ('m', 'NUM'), ('-', 'PUNCT'), ('Atualizado', 'VERB'), ('em', 'ADP'), ('04/02/2008', 'NUM'), ('-', 'PUNCT'), ('09h49', 'NUM'), ('m', 'ADP'), ('\\n\\n', 'SPACE'), ('Com', 'ADP'), ('um', 'DET'), ('passe', 'NOUN'), ('de', 'ADP'), ('Eli', 'PROPN'), ('Manning', 'PROPN'), ('para', 'ADP'), ('Plaxico', 'PROPN'), ('Burress', 'PROPN'), ('a', 'ADP'), ('39', 'NUM'), ('segundos', 'NOUN'), ('do', 'ADP'), ('fim', 'NOUN'), (',', 'PUNCT'), ('o', 'DET'), ('New', 'PROPN'), ('York', 'PROPN'), ('Giants', 'PROPN'), ('anotou', 'VERB'), ('o', 'DET'), ('touchdown', 'NOUN'), ('decisivo', 'ADJ'), ('e', 'CCONJ'), ('derrubou', 'VERB'), ('o', 'DET'), ('favorito', 'NOUN'), ('New', 'PROPN'), ('England', 'PROPN'), ('Patriots', 'PROPN'), ('por', 'ADP'), ('17', 'NUM'), ('a', 'ADP'), ('14', 'NUM'), ('neste', 'ADP'), ('domingo', 'NOUN'), (',', 'PUNCT'), ('em', 'ADP'), ('Glendale', 'PROPN'), (',', 'PUNCT'), ('no', 'ADP'), ('Super', 'PROPN'), ('Bowl', 'PROPN'), ('XLII', 'PROPN'), ('.', 'PUNCT'), ('O', 'DET'), ('resultado', 'NOUN'), (',', 'PUNCT'), ('uma', 'NUM'), ('das', 'ADP'), ('maiores', 'ADJ'), ('zebras', 'NOUN'), ('da', 'ADP'), ('história', 'NOUN'), ('do', 'ADP'), ('Super', 'PROPN'), ('Bowl', 'PROPN'), (',', 'PUNCT'), ('acabou', 'VERB'), ('com', 'ADP'), ('a', 'DET'), ('temporada', 'NOUN'), ('perfeita', 'ADJ'), ('de', 'ADP'), ('Tom', 'PROPN'), ('Brady', 'PROPN'), ('e', 'CCONJ'), ('companhia', 'NOUN'), (',', 'PUNCT'), ('que', 'PRON'), ('esperavam', 'VERB'), ('fazer', 'VERB'), ('história', 'NOUN'), ('ao', 'SCONJ'), ('levantar', 'VERB'), ('o', 'DET'), ('troféu', 'NOUN'), ('da', 'ADP'), ('NFL', 'PROPN'), ('sem', 'SCONJ'), ('sofrer', 'VERB'), ('uma', 'DET'), ('derrota', 'NOUN'), ('no', 'ADP'), ('ano', 'NOUN'), ('.', 'PUNCT'), ('\\n\\n', 'SPACE'), ('A', 'DET'), ('vitória', 'NOUN'), ('dos', 'ADP'), ('Giants', 'PROPN'), (',', 'PUNCT'), ('porém', 'CCONJ'), (',', 'PUNCT'), ('também', 'ADV'), ('ficará', 'VERB'), ('para', 'ADP'), ('a', 'DET'), ('história', 'NOUN'), ('.', 'PUNCT'), ('Pela', 'NOUN'), ('primeira', 'ADP'), ('vez', 'NOUN'), (',', 'PUNCT'), ('irmãos', 'NOUN'), ('quarterbacks', 'ADJ'), ('triunfam', 'VERB'), ('no', 'ADP'), ('Super', 'PROPN'), ('Bowl', 'PROPN'), ('em', 'ADP'), ('temporadas', 'NOUN'), ('consecutivas', 'ADJ'), ('.', 'PUNCT'), ('No', 'ADP'), ('ano', 'NOUN'), ('passado', 'ADJ'), (',', 'PUNCT'), ('Peyton', 'PROPN'), ('Manning', 'PROPN'), (',', 'PUNCT'), ('irmão', 'NOUN'), ('de', 'ADP'), ('Eli', 'PROPN'), (',', 'PUNCT'), ('chegou', 'VERB'), ('ao', 'ADP'), ('título', 'NOUN'), ('máximo', 'ADJ'), ('da', 'ADP'), ('NFL', 'PROPN'), ('pelo', 'ADP'), ('Indianapolis', 'PROPN'), ('Colts', 'PROPN'), ('.', 'PUNCT'), ('\\n\\n', 'SPACE'), ('A', 'DET'), ('partida', 'NOUN'), ('\\n\\n', 'SPACE'), ('Os', 'DET'), ('Giants', 'PROPN'), ('começaram', 'VERB'), ('com', 'ADP'), ('a', 'DET'), ('posse', 'NOUN'), ('de', 'ADP'), ('bola', 'NOUN'), (',', 'PUNCT'), ('e', 'CCONJ'), ('mostraram', 'VERB'), ('logo', 'ADV'), ('que', 'SCONJ'), ('iriam', 'AUX'), ('alongar', 'VERB'), ('ao', 'ADP'), ('máximo', 'NOUN'), ('suas', 'DET'), ('posses', 'NOUN'), ('de', 'ADP'), ('bola', 'NOUN'), ('.', 'PUNCT'), ('Misturando', 'VERB'), ('corridas', 'NOUN'), ('com', 'ADP'), ('Brandon', 'PROPN'), ('Jacobs', 'PROPN'), ('e', 'CCONJ'), ('passes', 'NOUN'), ('curtos', 'ADJ'), (',', 'PUNCT'), ('o', 'DET'), ('time', 'NOUN'), ('de', 'ADP'), ('Nova', 'PROPN'), ('York', 'PROPN'), ('chegou', 'VERB'), ('à', 'ADP'), ('red', 'ADJ'), ('zone', 'NOUN'), ('logo', 'ADV'), ('na', 'ADP'), ('primeira', 'ADJ'), ('campanha', 'NOUN'), ('.', 'PUNCT'), ('O', 'DET'), ('avanço', 'NOUN'), (',', 'PUNCT'), ('no', 'ADP'), ('entanto', 'NOUN'), (',', 'PUNCT'), ('parou', 'VERB'), ('na', 'ADP'), ('linha', 'NOUN'), ('de', 'ADP'), ('17', 'NUM'), ('jardas', 'NOUN'), ('e', 'CCONJ'), ('Lawrence', 'PROPN'), ('Tynes', 'PROPN'), ('converteu', 'VERB'), ('o', 'DET'), ('field', 'NOUN'), ('goal', 'NOUN'), ('de', 'ADP'), ('32', 'NUM'), ('jardas', 'NOUN'), ('para', 'SCONJ'), ('abrir', 'VERB'), ('o', 'DET'), ('placar', 'NOUN'), ('.', 'PUNCT'), ('\\n\\n', 'SPACE'), ('Eli', 'PROPN'), ('Manning', 'PROPN'), ('e', 'CCONJ'), ('companhia', 'NOUN'), ('ficaram', 'VERB'), ('9m54s', 'NUM'), ('com', 'ADP'), ('a', 'DET'), ('bola', 'NOUN'), (',', 'PUNCT'), ('mas', 'CCONJ'), ('o', 'DET'), ('ataque', 'NOUN'), ('dos', 'ADP'), ('Patriots', 'PROPN'), ('não', 'ADV'), ('entrou', 'VERB'), ('em', 'ADP'), ('campo', 'NOUN'), ('frio', 'ADJ'), ('.', 'PUNCT'), ('Logo', 'ADV'), ('no', 'ADP'), ('retorno', 'NOUN'), ('do', 'ADP'), ('kickoff', 'NOUN'), (',', 'PUNCT'), ('o', 'DET'), ('running', 'NOUN'), ('back', 'PROPN'), ('Laurence', 'PROPN'), ('Maroney', 'PROPN'), ('avançou', 'VERB'), ('43', 'NUM'), ('jardas', 'NOUN'), (',', 'PUNCT'), ('deixando', 'VERB'), ('Tom', 'PROPN'), ('Brady', 'PROPN'), ('em', 'ADP'), ('boa', 'ADJ'), ('posição', 'NOUN'), ('.', 'PUNCT'), ('Com', 'ADP'), ('passes', 'NOUN'), ('curtos', 'ADJ'), (',', 'PUNCT'), ('os', 'DET'), ('Patriots', 'PROPN'), ('chegaram', 'VERB'), ('à', 'ADP'), ('linha', 'NOUN'), ('de', 'ADP'), ('17', 'NUM'), ('jardas', 'NOUN'), ('e', 'CCONJ'), (',', 'PUNCT'), ('graças', 'ADV'), ('a', 'ADP'), ('uma', 'DET'), ('penalidade', 'NOUN'), ('(', 'PUNCT'), ('interferência', 'NOUN'), ('de', 'ADP'), ('passe', 'NOUN'), (')', 'PUNCT'), ('do', 'ADP'), ('linebacker', 'NOUN'), ('Antonio', 'PROPN'), ('Pierce', 'PROPN'), (',', 'PUNCT'), ('alcançaram', 'VERB'), ('a', 'DET'), ('linha', 'NOUN'), ('de', 'ADP'), ('uma', 'DET'), ('jarda', 'NOUN'), ('.', 'PUNCT'), ('Maroney', 'PROPN'), ('avançou', 'VERB'), ('pelo', 'ADP'), ('chão', 'NOUN'), ('e', 'CCONJ'), ('anotou', 'VERB'), ('o', 'DET'), ('primeiro', 'ADJ'), ('touchdown', 'NOUN'), ('do', 'ADP'), ('jogo', 'NOUN'), ('.', 'PUNCT'), ('\\n\\n', 'SPACE'), ('Os', 'DET'), ('Giants', 'PROPN'), ('pareciam', 'VERB'), ('rumo', 'ADV'), ('à', 'ADP'), ('virada', 'NOUN'), ('na', 'ADP'), ('campanha', 'NOUN'), ('seguinte', 'ADJ'), ('.', 'PUNCT'), ('Manning', 'PROPN'), ('achou', 'VERB'), ('Amani', 'PROPN'), ('Toomer', 'PROPN'), ('para', 'ADP'), ('um', 'DET'), ('avanço', 'NOUN'), ('de', 'ADP'), ('38', 'NUM'), ('jardas', 'NOUN'), (',', 'PUNCT'), ('e', 'CCONJ'), ('o', 'DET'), ('time', 'NOUN'), ('de', 'ADP'), ('Nova', 'PROPN'), ('York', 'PROPN'), ('entrou', 'VERB'), ('novamente', 'ADV'), ('na', 'ADP'), ('red', 'ADJ'), ('zone', 'NOUN'), ('.', 'PUNCT'), ('Com', 'ADP'), ('a', 'DET'), ('bola', 'NOUN'), ('na', 'ADP'), ('linha', 'NOUN'), ('de', 'ADP'), ('14', 'NUM'), ('jardas', 'NOUN'), ('dos', 'ADP'), ('Patriots', 'PROPN'), (',', 'PUNCT'), ('os', 'DET'), ('Giants', 'PROPN'), ('sofreram', 'VERB'), ('um', 'DET'), ('revés', 'NOUN'), ('.', 'PUNCT'), ('Manning', 'PROPN'), ('passou', 'VERB'), ('para', 'ADP'), ('Steve', 'PROPN'), ('Smith', 'PROPN'), (',', 'PUNCT'), ('que', 'PRON'), ('soltou', 'VERB'), ('a', 'DET'), ('bola', 'NOUN'), ('.', 'PUNCT'), ('Ellis', 'PROPN'), ('Hobbs', 'PROPN'), ('aproveitou', 'VERB'), (',', 'PUNCT'), ('tomou', 'VERB'), ('a', 'DET'), ('posse', 'NOUN'), ('para', 'ADP'), ('os', 'DET'), ('Patriots', 'PROPN'), (',', 'PUNCT'), ('e', 'CCONJ'), ('avançou', 'VERB'), ('23', 'NUM'), ('jardas', 'NOUN'), ('.', 'PUNCT'), ('\\n\\n', 'SPACE'), ('A', 'DET'), ('defesa', 'NOUN'), ('de', 'ADP'), ('Nova', 'PROPN'), ('York', 'PROPN'), ('manteve', 'VERB'), ('o', 'DET'), ('jogo', 'NOUN'), ('equilibrado', 'ADJ'), ('.', 'PUNCT'), ('Com', 'ADP'), ('dois', 'NUM'), ('sacks', 'NOUN'), ('seguidos', 'VERB'), (',', 'PUNCT'), ('os', 'DET'), ('Giants', 'PROPN'), ('forçaram', 'VERB'), ('o', 'DET'), ('punt', 'NOUN'), ('e', 'CCONJ'), ('recuperaram', 'VERB'), ('a', 'DET'), ('bola', 'NOUN'), ('.', 'PUNCT'), ('Mas', 'CCONJ'), ('a', 'DET'), ('campanha', 'NOUN'), ('seguinte', 'ADJ'), ('provou', 'VERB'), ('ser', 'AUX'), ('outra', 'DET'), ('decepção', 'NOUN'), ('para', 'ADP'), ('Nova', 'PROPN'), ('York', 'PROPN'), ('.', 'PUNCT'), ('O', 'DET'), ('time', 'NOUN'), ('chegou', 'VERB'), ('à', 'ADP'), ('linha', 'NOUN'), ('de', 'ADP'), ('25', 'NUM'), ('jardas', 'NOUN'), (',', 'PUNCT'), ('mas', 'CCONJ'), ('Manning', 'PROPN'), ('sofreu', 'VERB'), ('um', 'DET'), ('sack', 'NOUN'), ('e', 'CCONJ'), ('cometeu', 'VERB'), ('um', 'DET'), ('fumble', 'NOUN'), (',', 'PUNCT'), ('e', 'CCONJ'), ('o', 'DET'), ('ataque', 'NOUN'), ('voltou', 'VERB'), ('para', 'ADP'), ('a', 'DET'), ('linha', 'NOUN'), ('de', 'ADP'), ('39', 'NUM'), ('jardas', 'NOUN'), (',', 'PUNCT'), ('não', 'ADV'), ('conseguindo', 'VERB'), ('pontuar', 'VERB'), ('mais', 'ADV'), ('uma', 'ADP'), ('vez', 'NOUN'), ('.', 'PUNCT'), ('\\n\\n', 'SPACE'), ('Os', 'DET'), ('Patriots', 'PROPN'), ('tiveram', 'VERB'), ('uma', 'DET'), ('última', 'ADJ'), ('chance', 'NOUN'), ('de', 'SCONJ'), ('marcar', 'VERB'), ('antes', 'ADV'), ('do', 'ADP'), ('intervalo', 'NOUN'), (',', 'PUNCT'), ('mas', 'CCONJ'), (',', 'PUNCT'), ('a', 'ADP'), ('22', 'NUM'), ('segundos', 'NOUN'), ('do', 'ADP'), ('fim', 'NOUN'), ('do', 'ADP'), ('segundo', 'ADJ'), ('período', 'NOUN'), (',', 'PUNCT'), ('Brady', 'PROPN'), ('foi', 'AUX'), ('novamente', 'ADV'), ('sacado', 'VERB'), ('.', 'PUNCT'), ('Desta', 'ADP'), ('vez', 'NOUN'), (',', 'PUNCT'), ('ele', 'PRON'), ('cometeu', 'VERB'), ('o', 'DET'), ('fumble', 'NOUN'), ('e', 'CCONJ'), ('os', 'DET'), ('Giants', 'PROPN'), ('tomaram', 'VERB'), ('a', 'DET'), ('posse', 'NOUN'), ('de', 'ADP'), ('bola', 'NOUN'), ('.', 'PUNCT'), ('Manning', 'PROPN'), ('tentou', 'VERB'), ('um', 'DET'), ('passe', 'NOUN'), ('longo', 'ADJ'), (',', 'PUNCT'), ('de', 'ADP'), ('50', 'NUM'), ('jardas', 'NOUN'), (',', 'PUNCT'), ('nos', 'ADP'), ('últimos', 'ADJ'), ('segundos', 'NOUN'), (',', 'PUNCT'), ('mas', 'CCONJ'), ('não', 'ADV'), ('teve', 'VERB'), ('sucesso', 'NOUN'), ('.', 'PUNCT'), ('\\n\\n', 'SPACE'), ('O', 'DET'), ('jogo', 'NOUN'), ('continuou', 'VERB'), ('amarrado', 'VERB'), ('no', 'ADP'), ('terceiro', 'ADJ'), ('quarto', 'NOUN'), (',', 'PUNCT'), ('com', 'ADP'), ('as', 'DET'), ('defesas', 'NOUN'), ('levando', 'VERB'), ('a', 'DET'), ('melhor', 'ADV'), ('sobre', 'ADP'), ('os', 'DET'), ('ataques', 'NOUN'), ('.', 'PUNCT'), ('A', 'DET'), ('única', 'ADJ'), ('chance', 'NOUN'), ('de', 'SCONJ'), ('pontuar', 'VERB'), ('do', 'ADP'), ('período', 'NOUN'), ('foi', 'AUX'), ('dos', 'ADP'), ('Patriots', 'PROPN'), (',', 'PUNCT'), ('que', 'PRON'), ('chegaram', 'VERB'), ('à', 'ADP'), ('linha', 'NOUN'), ('de', 'ADP'), ('31', 'NUM'), ('jardas', 'NOUN'), ('dos', 'ADP'), ('Giants', 'PROPN'), ('.', 'PUNCT'), ('O', 'DET'), ('técnico', 'NOUN'), ('Bill', 'PROPN'), ('Bellichick', 'PROPN'), (',', 'PUNCT'), ('porém', 'CCONJ'), (',', 'PUNCT'), ('optou', 'VERB'), ('por', 'ADP'), ('uma', 'DET'), ('quarta', 'ADJ'), ('descida', 'NOUN'), ('em', 'ADP'), ('vez', 'NOUN'), ('de', 'ADP'), ('um', 'DET'), ('field', 'NOUN'), ('goal', 'PROPN'), ('.', 'PUNCT'), ('Brady', 'PROPN'), ('tentou', 'VERB'), ('um', 'DET'), ('passe', 'NOUN'), ('para', 'ADP'), ('Jabar', 'PROPN'), ('Gaffney', 'PROPN'), (',', 'PUNCT'), ('mas', 'CCONJ'), ('não', 'ADV'), ('conseguiu', 'VERB'), ('completar', 'VERB'), ('.', 'PUNCT'), ('\\n\\n', 'SPACE'), ('O', 'DET'), ('último', 'ADJ'), ('período', 'NOUN'), ('começou', 'VERB'), ('arrasador', 'NOUN'), ('para', 'ADP'), ('os', 'DET'), ('Giants', 'PROPN'), ('.', 'PUNCT'), ('na', 'ADP'), ('primeira', 'ADJ'), ('jogada', 'NOUN'), (',', 'PUNCT'), ('Manning', 'PROPN'), ('achou', 'VERB'), ('o', 'DET'), ('tight', 'NOUN'), ('end', 'X'), ('Kevin', 'PROPN'), ('Boss', 'PROPN'), (',', 'PUNCT'), ('para', 'ADP'), ('um', 'DET'), ('incrível', 'ADJ'), ('avanço', 'NOUN'), ('de', 'ADP'), ('45', 'NUM'), ('jardas', 'NOUN'), (',', 'PUNCT'), ('que', 'PRON'), ('deixou', 'VERB'), ('o', 'DET'), ('time', 'NOUN'), ('na', 'ADP'), ('linha', 'NOUN'), ('de', 'ADP'), ('35', 'NUM'), ('dos', 'ADP'), ('Patriots', 'PROPN'), ('.', 'PUNCT'), ('Outro', 'DET'), ('lançamento', 'NOUN'), (',', 'PUNCT'), ('desta', 'ADP'), ('vez', 'NOUN'), ('para', 'ADP'), ('Steve', 'PROPN'), ('Smith', 'PROPN'), (',', 'PUNCT'), ('marcou', 'VERB'), ('o', 'DET'), ('avanço', 'NOUN'), ('até', 'ADP'), ('a', 'DET'), ('linha', 'NOUN'), ('de', 'ADP'), ('12', 'NUM'), ('jardas', 'NOUN'), ('.', 'PUNCT'), ('Duas', 'NUM'), ('jogadas', 'NOUN'), ('depois', 'ADV'), (',', 'PUNCT'), ('David', 'PROPN'), ('Tyree', 'PROPN'), ('pegou', 'VERB'), ('um', 'DET'), ('passe', 'NOUN'), ('de', 'ADP'), ('cinco', 'NUM'), ('jardas', 'NOUN'), ('na', 'ADP'), ('end', 'X'), ('zone', 'X'), ('para', 'SCONJ'), ('anotar', 'VERB'), ('o', 'DET'), ('touchdown', 'NOUN'), ('e', 'CCONJ'), ('virar', 'VERB'), ('o', 'DET'), ('jogo', 'NOUN'), ('.', 'PUNCT'), ('\\n\\n', 'SPACE'), ('Na', 'ADP'), ('hora', 'NOUN'), ('da', 'ADP'), ('decisão', 'NOUN'), (',', 'PUNCT'), ('o', 'DET'), ('ataque', 'NOUN'), ('dos', 'ADP'), ('Patriots', 'PROPN'), ('voltou', 'VERB'), ('a', 'SCONJ'), ('funcionar', 'VERB'), ('.', 'PUNCT'), ('Com', 'ADP'), ('uma', 'DET'), ('série', 'NOUN'), ('de', 'ADP'), ('passes', 'NOUN'), ('curtos', 'ADJ'), ('e', 'CCONJ'), ('variados', 'ADJ'), (',', 'PUNCT'), ('Brady', 'PROPN'), ('achou', 'VERB'), ('Wes', 'PROPN'), ('Welker', 'PROPN'), (',', 'PUNCT'), ('Randy', 'PROPN'), ('Moss', 'PROPN'), ('e', 'CCONJ'), ('Kevin', 'PROPN'), ('Faulk', 'PROPN'), ('seguidas', 'VERB'), ('vezes', 'NOUN'), ('até', 'ADV'), ('chegar', 'VERB'), ('à', 'ADP'), ('red', 'ADJ'), ('zone', 'NOUN'), ('.', 'PUNCT'), ('A', 'DET'), ('2m45s', 'PROPN'), ('do', 'ADP'), ('fim', 'NOUN'), (',', 'PUNCT'), ('o', 'DET'), ('quarterback', 'NOUN'), ('conectou', 'VERB'), ('mais', 'ADV'), ('uma', 'ADP'), ('vez', 'NOUN'), ('com', 'ADP'), ('Moss', 'PROPN'), (',', 'PUNCT'), ('que', 'PRON'), ('se', 'PRON'), ('desmarcou', 'VERB'), ('e', 'CCONJ'), ('ficou', 'VERB'), ('livre', 'ADJ'), ('na', 'ADP'), ('lateral', 'NOUN'), ('direita', 'ADJ'), ('da', 'ADP'), ('end', 'X'), ('zone', 'X'), ('.', 'PUNCT'), ('\\n\\n', 'SPACE'), ('Quando', 'SCONJ'), ('os', 'DET'), ('fãs', 'NOUN'), ('de', 'ADP'), ('New', 'PROPN'), ('England', 'PROPN'), ('já', 'ADV'), ('comemoravam', 'VERB'), ('a', 'DET'), ('vitória', 'NOUN'), (',', 'PUNCT'), ('o', 'DET'), ('inesperado', 'NOUN'), ('aconteceu', 'VERB'), ('.', 'PUNCT'), ('Em', 'ADP'), ('uma', 'DET'), ('jogada', 'NOUN'), ('incrível', 'ADJ'), (',', 'PUNCT'), ('Eli', 'PROPN'), ('Manning', 'PROPN'), ('se', 'PRON'), ('soltou', 'VERB'), ('de', 'ADP'), ('dois', 'NUM'), ('marcadores', 'NOUN'), ('que', 'PRON'), ('o', 'PRON'), ('seguravam', 'VERB'), ('pela', 'ADP'), ('camisa', 'NOUN'), ('e', 'CCONJ'), (',', 'PUNCT'), ('na', 'ADP'), ('corrida', 'NOUN'), (',', 'PUNCT'), ('lançou', 'VERB'), ('para', 'ADP'), ('Amani', 'PROPN'), ('Toomer', 'PROPN'), ('.', 'PUNCT'), ('O', 'DET'), ('wide', 'NOUN'), ('receiver', 'X'), (',', 'PUNCT'), ('bem', 'ADV'), ('marcado', 'VERB'), (',', 'PUNCT'), ('saltou', 'VERB'), ('e', 'CCONJ'), ('conseguiu', 'VERB'), ('a', 'SCONJ'), ('fazer', 'VERB'), ('recepção', 'NOUN'), ('para', 'ADP'), ('um', 'DET'), ('avanço', 'NOUN'), ('de', 'ADP'), ('32', 'NUM'), ('jardas', 'NOUN'), (',', 'PUNCT'), ('deixando', 'VERB'), ('os', 'DET'), ('Giants', 'PROPN'), ('na', 'ADP'), ('linha', 'NOUN'), ('de', 'ADP'), ('24', 'NUM'), ('de', 'ADP'), ('New', 'PROPN'), ('England', 'PROPN'), ('.', 'PUNCT'), ('\\n\\n', 'SPACE'), ('Quatro', 'NUM'), ('jogadas', 'NOUN'), ('depois', 'ADV'), (',', 'PUNCT'), ('a', 'ADP'), ('39', 'NUM'), ('segundos', 'NOUN'), ('do', 'ADP'), ('fim', 'NOUN'), (',', 'PUNCT'), ('Manning', 'PROPN'), ('achou', 'VERB'), ('Plaxico', 'PROPN'), ('Burress', 'PROPN'), ('na', 'ADP'), ('end', 'PROPN'), ('zone', 'X'), ('para', 'SCONJ'), ('conseguir', 'VERB'), ('o', 'DET'), ('touchdown', 'NOUN'), ('do', 'ADP'), ('título', 'NOUN'), ('.', 'PUNCT')]\n"
          ]
        }
      ]
    },
    {
      "cell_type": "code",
      "metadata": {
        "colab": {
          "base_uri": "https://localhost:8080/"
        },
        "id": "7f0iDAcKxxlF",
        "outputId": "5dbe3ee2-56fd-4f81-affb-8c49b5200928"
      },
      "source": [
        "# Lista de tuplas com os tokens e a classificação morfológica\n",
        "morfologicas = [(token.orth_, token.morph) for token in doc]\n",
        "print(morfologicas)"
      ],
      "execution_count": null,
      "outputs": [
        {
          "output_type": "stream",
          "name": "stdout",
          "text": [
            "[('Giants', Gender=Masc|Number=Sing), ('batem', Mood=Ind|Number=Plur|Person=3|Tense=Pres|VerbForm=Fin), ('os', Definite=Def|Gender=Masc|Number=Plur|PronType=Art), ('Patriots', Gender=Masc|Number=Plur), ('no', Definite=Def|Gender=Masc|Number=Sing|PronType=Art), ('Super', Gender=Masc|Number=Sing), ('Bowl', Number=Sing), ('XLII', Number=Sing), ('\\n', ), ('Azarões', Number=Sing), ('acabam', Mood=Ind|Number=Plur|Person=3|Tense=Pres|VerbForm=Fin), ('com', ), ('a', Definite=Def|Gender=Fem|Number=Sing|PronType=Art), ('invencibilidade', Gender=Fem|Number=Sing), ('de', ), ('New', Gender=Masc|Number=Sing), ('England', Number=Sing), ('e', ), ('ficam', Mood=Ind|Number=Plur|Person=3|Tense=Pres|VerbForm=Fin), ('com', ), ('o', Definite=Def|Gender=Masc|Number=Sing|PronType=Art), ('título', Gender=Masc|Number=Sing), ('da', Definite=Def|Gender=Fem|Number=Sing|PronType=Art), ('temporada', Gender=Fem|Number=Sing), ('\\n', ), ('04/02/2008', NumType=Card), ('-', ), ('01h07', NumType=Card), ('m', NumType=Card), ('-', ), ('Atualizado', Gender=Masc|Number=Sing|VerbForm=Part), ('em', ), ('04/02/2008', NumType=Card), ('-', ), ('09h49', NumType=Card), ('m', ), ('\\n\\n', ), ('Com', ), ('um', Definite=Ind|Gender=Masc|Number=Sing|PronType=Art), ('passe', Gender=Masc|Number=Sing), ('de', ), ('Eli', Gender=Masc|Number=Sing), ('Manning', Number=Sing), ('para', ), ('Plaxico', Gender=Masc|Number=Sing), ('Burress', Number=Sing), ('a', ), ('39', NumType=Card), ('segundos', Gender=Masc|Number=Plur), ('do', Definite=Def|Gender=Masc|Number=Sing|PronType=Art), ('fim', Gender=Masc|Number=Sing), (',', ), ('o', Definite=Def|Gender=Masc|Number=Sing|PronType=Art), ('New', Gender=Masc|Number=Sing), ('York', Number=Sing), ('Giants', Number=Sing), ('anotou', Mood=Ind|Number=Sing|Person=3|Tense=Past|VerbForm=Fin), ('o', Definite=Def|Gender=Masc|Number=Sing|PronType=Art), ('touchdown', Gender=Masc|Number=Sing), ('decisivo', Gender=Masc|Number=Sing), ('e', ), ('derrubou', Mood=Ind|Number=Sing|Person=3|Tense=Past|VerbForm=Fin), ('o', Definite=Def|Gender=Masc|Number=Sing|PronType=Art), ('favorito', Gender=Masc|Number=Sing), ('New', Gender=Masc|Number=Sing), ('England', Number=Sing), ('Patriots', Number=Sing), ('por', ), ('17', NumType=Card), ('a', ), ('14', NumType=Card), ('neste', Gender=Masc|Number=Sing|PronType=Dem), ('domingo', Gender=Masc|Number=Sing), (',', ), ('em', ), ('Glendale', Gender=Masc|Number=Sing), (',', ), ('no', Definite=Def|Gender=Masc|Number=Sing|PronType=Art), ('Super', Gender=Masc|Number=Sing), ('Bowl', Number=Sing), ('XLII', Number=Sing), ('.', ), ('O', Definite=Def|Gender=Masc|Number=Sing|PronType=Art), ('resultado', Gender=Masc|Number=Sing), (',', ), ('uma', NumType=Card), ('das', Definite=Def|Gender=Fem|Number=Plur|PronType=Art), ('maiores', Gender=Fem|Number=Plur), ('zebras', Gender=Fem|Number=Plur), ('da', Definite=Def|Gender=Fem|Number=Sing|PronType=Art), ('história', Gender=Fem|Number=Sing), ('do', Definite=Def|Gender=Masc|Number=Sing|PronType=Art), ('Super', Gender=Masc|Number=Sing), ('Bowl', Number=Sing), (',', ), ('acabou', Mood=Ind|Number=Sing|Person=3|Tense=Past|VerbForm=Fin), ('com', ), ('a', Definite=Def|Gender=Fem|Number=Sing|PronType=Art), ('temporada', Gender=Fem|Number=Sing), ('perfeita', Gender=Fem|Number=Sing), ('de', ), ('Tom', Gender=Masc|Number=Sing), ('Brady', Number=Sing), ('e', ), ('companhia', Gender=Fem|Number=Sing), (',', ), ('que', Gender=Fem|Number=Sing|PronType=Rel), ('esperavam', Mood=Ind|Number=Plur|Person=3|Tense=Imp|VerbForm=Fin), ('fazer', VerbForm=Inf), ('história', Gender=Fem|Number=Sing), ('ao', Definite=Def|Gender=Masc|Number=Sing|PronType=Art), ('levantar', VerbForm=Inf), ('o', Definite=Def|Gender=Masc|Number=Sing|PronType=Art), ('troféu', Gender=Masc|Number=Sing), ('da', Definite=Def|Gender=Fem|Number=Sing|PronType=Art), ('NFL', Gender=Fem|Number=Sing), ('sem', ), ('sofrer', VerbForm=Inf), ('uma', Definite=Ind|Gender=Fem|Number=Sing|PronType=Art), ('derrota', Gender=Fem|Number=Sing), ('no', Definite=Def|Gender=Masc|Number=Sing|PronType=Art), ('ano', Gender=Masc|Number=Sing), ('.', ), ('\\n\\n', ), ('A', Definite=Def|Gender=Fem|Number=Sing|PronType=Art), ('vitória', Gender=Fem|Number=Sing), ('dos', Definite=Def|Gender=Masc|Number=Plur|PronType=Art), ('Giants', Gender=Masc|Number=Plur), (',', ), ('porém', ), (',', ), ('também', ), ('ficará', Mood=Ind|Number=Sing|Person=3|Tense=Fut|VerbForm=Fin), ('para', ), ('a', Definite=Def|Gender=Fem|Number=Sing|PronType=Art), ('história', Gender=Fem|Number=Sing), ('.', ), ('Pela', Gender=Masc|Number=Sing), ('primeira', ), ('vez', Gender=Masc|Number=Sing), (',', ), ('irmãos', Gender=Masc|Number=Plur), ('quarterbacks', Gender=Masc|Number=Plur), ('triunfam', Mood=Ind|Number=Sing|Person=3|Tense=Pres|VerbForm=Fin), ('no', Definite=Def|Gender=Masc|Number=Sing|PronType=Art), ('Super', Gender=Masc|Number=Sing), ('Bowl', Number=Sing), ('em', ), ('temporadas', Gender=Fem|Number=Plur), ('consecutivas', Gender=Fem|Number=Plur), ('.', ), ('No', Definite=Def|Gender=Masc|Number=Sing|PronType=Art), ('ano', Gender=Masc|Number=Sing), ('passado', Gender=Masc|Number=Sing), (',', ), ('Peyton', Gender=Masc|Number=Sing), ('Manning', Number=Sing), (',', ), ('irmão', Gender=Masc|Number=Sing), ('de', ), ('Eli', Gender=Masc|Number=Sing), (',', ), ('chegou', Mood=Ind|Number=Sing|Person=3|Tense=Past|VerbForm=Fin), ('ao', Definite=Def|Gender=Masc|Number=Sing|PronType=Art), ('título', Gender=Masc|Number=Sing), ('máximo', Gender=Masc|Number=Sing), ('da', Definite=Def|Gender=Fem|Number=Sing|PronType=Art), ('NFL', Gender=Fem|Number=Sing), ('pelo', Definite=Def|Gender=Masc|Number=Sing|PronType=Art), ('Indianapolis', Gender=Masc|Number=Sing), ('Colts', Number=Sing), ('.', ), ('\\n\\n', ), ('A', Definite=Def|Gender=Fem|Number=Sing|PronType=Art), ('partida', Gender=Fem|Number=Sing), ('\\n\\n', ), ('Os', Definite=Def|Gender=Masc|Number=Plur|PronType=Art), ('Giants', Gender=Masc|Number=Plur), ('começaram', Mood=Ind|Number=Plur|Person=3|Tense=Past|VerbForm=Fin), ('com', ), ('a', Definite=Def|Gender=Fem|Number=Sing|PronType=Art), ('posse', Gender=Fem|Number=Sing), ('de', ), ('bola', Gender=Fem|Number=Sing), (',', ), ('e', ), ('mostraram', Mood=Ind|Number=Plur|Person=3|Tense=Past|VerbForm=Fin), ('logo', ), ('que', ), ('iriam', Mood=Cnd|Number=Plur|Person=3|VerbForm=Fin), ('alongar', VerbForm=Inf), ('ao', Definite=Def|Gender=Masc|Number=Sing|PronType=Art), ('máximo', Gender=Masc|Number=Sing), ('suas', Gender=Fem|Number=Plur|PronType=Prs), ('posses', Gender=Fem|Number=Plur), ('de', ), ('bola', Gender=Fem|Number=Sing), ('.', ), ('Misturando', VerbForm=Ger), ('corridas', Gender=Fem|Number=Plur), ('com', ), ('Brandon', Gender=Masc|Number=Sing), ('Jacobs', Number=Sing), ('e', ), ('passes', Gender=Masc|Number=Plur), ('curtos', Gender=Masc|Number=Plur), (',', ), ('o', Definite=Def|Gender=Masc|Number=Sing|PronType=Art), ('time', Gender=Masc|Number=Sing), ('de', ), ('Nova', Gender=Fem|Number=Sing), ('York', Number=Sing), ('chegou', Mood=Ind|Number=Sing|Person=3|Tense=Past|VerbForm=Fin), ('à', Definite=Def|Gender=Fem|Number=Sing|PronType=Art), ('red', Gender=Masc|Number=Sing), ('zone', Gender=Masc|Number=Sing), ('logo', ), ('na', Definite=Def|Gender=Fem|Number=Sing|PronType=Art), ('primeira', Gender=Fem|NumType=Ord|Number=Sing), ('campanha', Gender=Fem|Number=Sing), ('.', ), ('O', Definite=Def|Gender=Masc|Number=Sing|PronType=Art), ('avanço', Gender=Masc|Number=Sing), (',', ), ('no', Definite=Def|Gender=Masc|Number=Sing|PronType=Art), ('entanto', Gender=Masc|Number=Sing), (',', ), ('parou', Mood=Ind|Number=Sing|Person=3|Tense=Past|VerbForm=Fin), ('na', Definite=Def|Gender=Fem|Number=Sing|PronType=Art), ('linha', Gender=Fem|Number=Sing), ('de', ), ('17', NumType=Card), ('jardas', Gender=Fem|Number=Plur), ('e', ), ('Lawrence', Gender=Masc|Number=Sing), ('Tynes', Number=Sing), ('converteu', Mood=Ind|Number=Sing|Person=3|Tense=Past|VerbForm=Fin), ('o', Definite=Def|Gender=Masc|Number=Sing|PronType=Art), ('field', Gender=Masc|Number=Sing), ('goal', Gender=Masc|Number=Sing), ('de', ), ('32', NumType=Card), ('jardas', Gender=Fem|Number=Plur), ('para', ), ('abrir', VerbForm=Inf), ('o', Definite=Def|Gender=Masc|Number=Sing|PronType=Art), ('placar', Gender=Masc|Number=Sing), ('.', ), ('\\n\\n', ), ('Eli', Gender=Masc|Number=Sing), ('Manning', Number=Sing), ('e', ), ('companhia', Gender=Fem|Number=Sing), ('ficaram', Mood=Ind|Number=Plur|Person=3|Tense=Past|VerbForm=Fin), ('9m54s', NumType=Card), ('com', ), ('a', Definite=Def|Gender=Fem|Number=Sing|PronType=Art), ('bola', Gender=Fem|Number=Sing), (',', ), ('mas', ), ('o', Definite=Def|Gender=Masc|Number=Sing|PronType=Art), ('ataque', Gender=Masc|Number=Sing), ('dos', Definite=Def|Gender=Masc|Number=Plur|PronType=Art), ('Patriots', Gender=Masc|Number=Plur), ('não', Polarity=Neg), ('entrou', Mood=Ind|Number=Sing|Person=3|Tense=Past|VerbForm=Fin), ('em', ), ('campo', Gender=Masc|Number=Sing), ('frio', Gender=Masc|Number=Sing), ('.', ), ('Logo', ), ('no', Definite=Def|Gender=Masc|Number=Sing|PronType=Art), ('retorno', Gender=Masc|Number=Sing), ('do', Definite=Def|Gender=Masc|Number=Sing|PronType=Art), ('kickoff', Gender=Masc|Number=Sing), (',', ), ('o', Definite=Def|Gender=Masc|Number=Sing|PronType=Art), ('running', Gender=Masc|Number=Sing), ('back', Number=Sing), ('Laurence', Gender=Masc|Number=Sing), ('Maroney', Number=Sing), ('avançou', Mood=Ind|Number=Sing|Person=3|Tense=Past|VerbForm=Fin), ('43', NumType=Card), ('jardas', Gender=Fem|Number=Plur), (',', ), ('deixando', VerbForm=Ger), ('Tom', Gender=Masc|Number=Sing), ('Brady', Number=Sing), ('em', ), ('boa', Gender=Fem|Number=Sing), ('posição', Gender=Fem|Number=Sing), ('.', ), ('Com', ), ('passes', Gender=Masc|Number=Plur), ('curtos', Gender=Masc|Number=Plur), (',', ), ('os', Definite=Def|Gender=Masc|Number=Plur|PronType=Art), ('Patriots', Gender=Masc|Number=Plur), ('chegaram', Mood=Ind|Number=Plur|Person=3|VerbForm=Fin), ('à', Definite=Def|Gender=Fem|Number=Sing|PronType=Art), ('linha', Gender=Fem|Number=Sing), ('de', ), ('17', NumType=Card), ('jardas', Gender=Fem|Number=Plur), ('e', ), (',', ), ('graças', ), ('a', ), ('uma', Definite=Ind|Gender=Fem|Number=Sing|PronType=Art), ('penalidade', Gender=Fem|Number=Sing), ('(', ), ('interferência', Gender=Fem|Number=Sing), ('de', ), ('passe', Gender=Masc|Number=Sing), (')', ), ('do', Definite=Def|Gender=Masc|Number=Sing|PronType=Art), ('linebacker', Gender=Masc|Number=Sing), ('Antonio', Gender=Masc|Number=Sing), ('Pierce', Number=Sing), (',', ), ('alcançaram', Mood=Ind|Number=Plur|Person=3|VerbForm=Fin), ('a', Definite=Def|Gender=Fem|Number=Sing|PronType=Art), ('linha', Gender=Fem|Number=Sing), ('de', ), ('uma', Definite=Ind|Gender=Fem|Number=Sing|PronType=Art), ('jarda', Gender=Fem|Number=Sing), ('.', ), ('Maroney', Gender=Masc|Number=Sing), ('avançou', Mood=Ind|Number=Sing|Person=3|Tense=Past|VerbForm=Fin), ('pelo', Definite=Def|Gender=Masc|Number=Sing|PronType=Art), ('chão', Gender=Masc|Number=Sing), ('e', ), ('anotou', Mood=Ind|Number=Sing|Person=3|Tense=Past|VerbForm=Fin), ('o', Definite=Def|Gender=Masc|Number=Sing|PronType=Art), ('primeiro', Gender=Masc|NumType=Ord|Number=Sing), ('touchdown', Gender=Masc|Number=Sing), ('do', Definite=Def|Gender=Masc|Number=Sing|PronType=Art), ('jogo', Gender=Masc|Number=Sing), ('.', ), ('\\n\\n', ), ('Os', Definite=Def|Gender=Masc|Number=Plur|PronType=Art), ('Giants', Gender=Masc|Number=Plur), ('pareciam', Mood=Ind|Number=Plur|Person=3|Tense=Imp|VerbForm=Fin), ('rumo', ), ('à', Definite=Def|Gender=Fem|Number=Sing|PronType=Art), ('virada', Gender=Fem|Number=Sing), ('na', Definite=Def|Gender=Fem|Number=Sing|PronType=Art), ('campanha', Gender=Fem|Number=Sing), ('seguinte', Gender=Fem|Number=Sing), ('.', ), ('Manning', Gender=Masc|Number=Sing), ('achou', Mood=Ind|Number=Sing|Person=3|Tense=Past|VerbForm=Fin), ('Amani', Gender=Masc|Number=Sing), ('Toomer', Number=Sing), ('para', ), ('um', Definite=Ind|Gender=Masc|Number=Sing|PronType=Art), ('avanço', Gender=Masc|Number=Sing), ('de', ), ('38', NumType=Card), ('jardas', Gender=Fem|Number=Plur), (',', ), ('e', ), ('o', Definite=Def|Gender=Masc|Number=Sing|PronType=Art), ('time', Gender=Masc|Number=Sing), ('de', ), ('Nova', Gender=Fem|Number=Sing), ('York', Number=Sing), ('entrou', Mood=Ind|Number=Sing|Person=3|Tense=Past|VerbForm=Fin), ('novamente', ), ('na', Definite=Def|Gender=Fem|Number=Sing|PronType=Art), ('red', Gender=Masc|Number=Sing), ('zone', Gender=Masc|Number=Sing), ('.', ), ('Com', ), ('a', Definite=Def|Gender=Fem|Number=Sing|PronType=Art), ('bola', Gender=Fem|Number=Sing), ('na', Definite=Def|Gender=Fem|Number=Sing|PronType=Art), ('linha', Gender=Fem|Number=Sing), ('de', ), ('14', NumType=Card), ('jardas', Gender=Fem|Number=Plur), ('dos', Definite=Def|Gender=Masc|Number=Plur|PronType=Art), ('Patriots', Gender=Masc|Number=Plur), (',', ), ('os', Definite=Def|Gender=Masc|Number=Plur|PronType=Art), ('Giants', Gender=Masc|Number=Plur), ('sofreram', Mood=Ind|Number=Plur|Person=3|Tense=Past|VerbForm=Fin), ('um', Definite=Ind|Gender=Masc|Number=Sing|PronType=Art), ('revés', Gender=Masc|Number=Sing), ('.', ), ('Manning', Gender=Masc|Number=Sing), ('passou', Mood=Ind|Number=Sing|Person=3|Tense=Past|VerbForm=Fin), ('para', ), ('Steve', Gender=Masc|Number=Sing), ('Smith', Number=Sing), (',', ), ('que', Gender=Masc|Number=Sing|PronType=Rel), ('soltou', Mood=Ind|Number=Sing|Person=3|Tense=Past|VerbForm=Fin), ('a', Definite=Def|Gender=Fem|Number=Sing|PronType=Art), ('bola', Gender=Fem|Number=Sing), ('.', ), ('Ellis', Gender=Masc|Number=Sing), ('Hobbs', Number=Sing), ('aproveitou', Mood=Ind|Number=Sing|Person=3|Tense=Past|VerbForm=Fin), (',', ), ('tomou', Mood=Ind|Number=Sing|Person=3|Tense=Past|VerbForm=Fin), ('a', Definite=Def|Gender=Fem|Number=Sing|PronType=Art), ('posse', Gender=Fem|Number=Sing), ('para', ), ('os', Definite=Def|Gender=Masc|Number=Plur|PronType=Art), ('Patriots', Gender=Masc|Number=Plur), (',', ), ('e', ), ('avançou', Mood=Ind|Number=Sing|Person=3|Tense=Past|VerbForm=Fin), ('23', NumType=Card), ('jardas', Gender=Fem|Number=Plur), ('.', ), ('\\n\\n', ), ('A', Definite=Def|Gender=Fem|Number=Sing|PronType=Art), ('defesa', Gender=Fem|Number=Sing), ('de', ), ('Nova', Gender=Fem|Number=Sing), ('York', Number=Sing), ('manteve', Mood=Ind|Number=Sing|Person=3|Tense=Past|VerbForm=Fin), ('o', Definite=Def|Gender=Masc|Number=Sing|PronType=Art), ('jogo', Gender=Masc|Number=Sing), ('equilibrado', Gender=Masc|Number=Sing), ('.', ), ('Com', ), ('dois', NumType=Card), ('sacks', Gender=Masc|Number=Plur), ('seguidos', Gender=Masc|Number=Plur|VerbForm=Part), (',', ), ('os', Definite=Def|Gender=Masc|Number=Plur|PronType=Art), ('Giants', Gender=Masc|Number=Plur), ('forçaram', Mood=Ind|Number=Plur|Person=3|VerbForm=Fin), ('o', Definite=Def|Gender=Masc|Number=Sing|PronType=Art), ('punt', Gender=Masc|Number=Sing), ('e', ), ('recuperaram', Mood=Ind|Number=Plur|Person=3|Tense=Past|VerbForm=Fin), ('a', Definite=Def|Gender=Fem|Number=Sing|PronType=Art), ('bola', Gender=Fem|Number=Sing), ('.', ), ('Mas', ), ('a', Definite=Def|Gender=Fem|Number=Sing|PronType=Art), ('campanha', Gender=Fem|Number=Sing), ('seguinte', Gender=Fem|Number=Sing), ('provou', Mood=Ind|Number=Sing|Person=3|Tense=Past|VerbForm=Fin), ('ser', VerbForm=Inf), ('outra', Gender=Fem|Number=Sing|PronType=Ind), ('decepção', Gender=Fem|Number=Sing), ('para', ), ('Nova', Gender=Fem|Number=Sing), ('York', Number=Sing), ('.', ), ('O', Definite=Def|Gender=Masc|Number=Sing|PronType=Art), ('time', Gender=Masc|Number=Sing), ('chegou', Mood=Ind|Number=Sing|Person=3|Tense=Past|VerbForm=Fin), ('à', Definite=Def|Gender=Fem|Number=Sing|PronType=Art), ('linha', Gender=Fem|Number=Sing), ('de', ), ('25', NumType=Card), ('jardas', Gender=Fem|Number=Plur), (',', ), ('mas', ), ('Manning', Gender=Masc|Number=Sing), ('sofreu', Mood=Ind|Number=Sing|Person=3|Tense=Past|VerbForm=Fin), ('um', Definite=Ind|Gender=Masc|Number=Sing|PronType=Art), ('sack', Gender=Masc|Number=Sing), ('e', ), ('cometeu', Mood=Ind|Number=Sing|Person=3|Tense=Past|VerbForm=Fin), ('um', Definite=Ind|Gender=Masc|Number=Sing|PronType=Art), ('fumble', Gender=Masc|Number=Sing), (',', ), ('e', ), ('o', Definite=Def|Gender=Masc|Number=Sing|PronType=Art), ('ataque', Gender=Masc|Number=Sing), ('voltou', Mood=Ind|Number=Sing|Person=3|Tense=Past|VerbForm=Fin), ('para', ), ('a', Definite=Def|Gender=Fem|Number=Sing|PronType=Art), ('linha', Gender=Fem|Number=Sing), ('de', ), ('39', NumType=Card), ('jardas', Gender=Fem|Number=Plur), (',', ), ('não', Polarity=Neg), ('conseguindo', VerbForm=Ger), ('pontuar', VerbForm=Inf), ('mais', ), ('uma', ), ('vez', Gender=Masc|Number=Sing), ('.', ), ('\\n\\n', ), ('Os', Definite=Def|Gender=Masc|Number=Plur|PronType=Art), ('Patriots', Gender=Masc|Number=Plur), ('tiveram', Mood=Ind|Number=Plur|Person=3|Tense=Past|VerbForm=Fin), ('uma', Definite=Ind|Gender=Fem|Number=Sing|PronType=Art), ('última', Gender=Fem|NumType=Ord|Number=Sing), ('chance', Gender=Fem|Number=Sing), ('de', ), ('marcar', VerbForm=Inf), ('antes', ), ('do', Definite=Def|Gender=Masc|Number=Sing|PronType=Art), ('intervalo', Gender=Masc|Number=Sing), (',', ), ('mas', ), (',', ), ('a', ), ('22', NumType=Card), ('segundos', Gender=Masc|Number=Plur), ('do', Definite=Def|Gender=Masc|Number=Sing|PronType=Art), ('fim', Gender=Masc|Number=Sing), ('do', Definite=Def|Gender=Masc|Number=Sing|PronType=Art), ('segundo', Gender=Masc|NumType=Ord|Number=Sing), ('período', Gender=Masc|Number=Sing), (',', ), ('Brady', Gender=Masc|Number=Sing), ('foi', Mood=Ind|Number=Sing|Person=3|Tense=Past|VerbForm=Fin), ('novamente', ), ('sacado', Gender=Masc|Number=Sing|VerbForm=Part), ('.', ), ('Desta', ), ('vez', Gender=Fem|Number=Sing), (',', ), ('ele', Case=Nom|Gender=Masc|Number=Sing|Person=3|PronType=Prs), ('cometeu', Mood=Ind|Number=Sing|Person=3|Tense=Past|VerbForm=Fin), ('o', Definite=Def|Gender=Masc|Number=Sing|PronType=Art), ('fumble', Gender=Masc|Number=Sing), ('e', ), ('os', Definite=Def|Gender=Masc|Number=Plur|PronType=Art), ('Giants', Gender=Masc|Number=Plur), ('tomaram', Mood=Ind|Number=Plur|Person=3|VerbForm=Fin), ('a', Definite=Def|Gender=Fem|Number=Sing|PronType=Art), ('posse', Gender=Fem|Number=Sing), ('de', ), ('bola', Gender=Fem|Number=Sing), ('.', ), ('Manning', Gender=Masc|Number=Sing), ('tentou', Mood=Ind|Number=Sing|Person=3|Tense=Past|VerbForm=Fin), ('um', Definite=Ind|Gender=Masc|Number=Sing|PronType=Art), ('passe', Gender=Masc|Number=Sing), ('longo', Gender=Masc|Number=Sing), (',', ), ('de', ), ('50', NumType=Card), ('jardas', Gender=Fem|Number=Plur), (',', ), ('nos', Definite=Def|Gender=Masc|Number=Plur|PronType=Art), ('últimos', Gender=Masc|NumType=Ord|Number=Plur), ('segundos', Gender=Masc|Number=Plur), (',', ), ('mas', ), ('não', Polarity=Neg), ('teve', Mood=Ind|Number=Sing|Person=3|Tense=Past|VerbForm=Fin), ('sucesso', Gender=Masc|Number=Sing), ('.', ), ('\\n\\n', ), ('O', Definite=Def|Gender=Masc|Number=Sing|PronType=Art), ('jogo', Gender=Masc|Number=Sing), ('continuou', Mood=Ind|Number=Sing|Person=3|Tense=Past|VerbForm=Fin), ('amarrado', Gender=Masc|Number=Sing|VerbForm=Part), ('no', Definite=Def|Gender=Masc|Number=Sing|PronType=Art), ('terceiro', Gender=Masc|NumType=Ord|Number=Sing), ('quarto', Gender=Masc|Number=Sing), (',', ), ('com', ), ('as', Definite=Def|Gender=Fem|Number=Plur|PronType=Art), ('defesas', Gender=Fem|Number=Plur), ('levando', VerbForm=Ger), ('a', Definite=Def|Gender=Fem|Number=Sing|PronType=Art), ('melhor', ), ('sobre', ), ('os', Definite=Def|Gender=Masc|Number=Plur|PronType=Art), ('ataques', Gender=Masc|Number=Plur), ('.', ), ('A', Definite=Def|Gender=Fem|Number=Sing|PronType=Art), ('única', Gender=Fem|Number=Sing), ('chance', Gender=Fem|Number=Sing), ('de', ), ('pontuar', VerbForm=Inf), ('do', Definite=Def|Gender=Masc|Number=Sing|PronType=Art), ('período', Gender=Masc|Number=Sing), ('foi', Mood=Ind|Number=Sing|Person=3|Tense=Past|VerbForm=Fin), ('dos', Definite=Def|Gender=Masc|Number=Plur|PronType=Art), ('Patriots', Gender=Masc|Number=Plur), (',', ), ('que', Gender=Masc|Number=Plur|PronType=Rel), ('chegaram', Mood=Ind|Number=Plur|Person=3|Tense=Past|VerbForm=Fin), ('à', Definite=Def|Gender=Fem|Number=Sing|PronType=Art), ('linha', Gender=Fem|Number=Sing), ('de', ), ('31', NumType=Card), ('jardas', Gender=Fem|Number=Plur), ('dos', Definite=Def|Gender=Masc|Number=Plur|PronType=Art), ('Giants', Gender=Masc|Number=Sing), ('.', ), ('O', Definite=Def|Gender=Masc|Number=Sing|PronType=Art), ('técnico', Gender=Masc|Number=Sing), ('Bill', Gender=Masc|Number=Sing), ('Bellichick', Number=Sing), (',', ), ('porém', ), (',', ), ('optou', Mood=Ind|Number=Sing|Person=3|Tense=Past|VerbForm=Fin), ('por', ), ('uma', Definite=Ind|Gender=Fem|Number=Sing|PronType=Art), ('quarta', Gender=Fem|NumType=Ord|Number=Sing), ('descida', Gender=Fem|Number=Sing), ('em', ), ('vez', Gender=Fem|Number=Sing), ('de', ), ('um', Definite=Ind|Gender=Masc|Number=Sing|PronType=Art), ('field', Gender=Masc|Number=Sing), ('goal', Number=Sing), ('.', ), ('Brady', Gender=Masc|Number=Sing), ('tentou', Mood=Ind|Number=Sing|Person=3|Tense=Past|VerbForm=Fin), ('um', Definite=Ind|Gender=Masc|Number=Sing|PronType=Art), ('passe', Gender=Masc|Number=Sing), ('para', ), ('Jabar', Gender=Masc|Number=Sing), ('Gaffney', Number=Sing), (',', ), ('mas', ), ('não', Polarity=Neg), ('conseguiu', Mood=Ind|Number=Sing|Person=3|Tense=Past|VerbForm=Fin), ('completar', VerbForm=Inf), ('.', ), ('\\n\\n', ), ('O', Definite=Def|Gender=Masc|Number=Sing|PronType=Art), ('último', Gender=Masc|NumType=Ord|Number=Sing), ('período', Gender=Masc|Number=Sing), ('começou', Mood=Ind|Number=Sing|Person=3|Tense=Past|VerbForm=Fin), ('arrasador', Gender=Masc|Number=Sing), ('para', ), ('os', Definite=Def|Gender=Masc|Number=Plur|PronType=Art), ('Giants', Gender=Masc|Number=Plur), ('.', ), ('na', Definite=Def|Gender=Fem|Number=Sing|PronType=Art), ('primeira', Gender=Fem|NumType=Ord|Number=Sing), ('jogada', Gender=Fem|Number=Sing), (',', ), ('Manning', Gender=Masc|Number=Sing), ('achou', Mood=Ind|Number=Sing|Person=3|Tense=Past|VerbForm=Fin), ('o', Definite=Def|Gender=Masc|Number=Sing|PronType=Art), ('tight', Gender=Masc|Number=Sing), ('end', ), ('Kevin', Gender=Masc|Number=Sing), ('Boss', Number=Sing), (',', ), ('para', ), ('um', Definite=Ind|Gender=Masc|Number=Sing|PronType=Art), ('incrível', Gender=Masc|Number=Sing), ('avanço', Gender=Masc|Number=Sing), ('de', ), ('45', NumType=Card), ('jardas', Gender=Fem|Number=Plur), (',', ), ('que', Gender=Masc|Number=Sing|PronType=Rel), ('deixou', Mood=Ind|Number=Sing|Person=3|Tense=Past|VerbForm=Fin), ('o', Definite=Def|Gender=Masc|Number=Sing|PronType=Art), ('time', Gender=Masc|Number=Sing), ('na', Definite=Def|Gender=Fem|Number=Sing|PronType=Art), ('linha', Gender=Fem|Number=Sing), ('de', ), ('35', NumType=Card), ('dos', Definite=Def|Gender=Masc|Number=Plur|PronType=Art), ('Patriots', Gender=Masc|Number=Plur), ('.', ), ('Outro', Gender=Masc|Number=Sing|PronType=Ind), ('lançamento', Gender=Masc|Number=Sing), (',', ), ('desta', Definite=Def|Gender=Fem|Number=Sing|PronType=Art), ('vez', Gender=Fem|Number=Sing), ('para', ), ('Steve', Gender=Masc|Number=Sing), ('Smith', Number=Sing), (',', ), ('marcou', Mood=Ind|Number=Sing|Person=3|Tense=Past|VerbForm=Fin), ('o', Definite=Def|Gender=Masc|Number=Sing|PronType=Art), ('avanço', Gender=Masc|Number=Sing), ('até', ), ('a', Definite=Def|Gender=Fem|Number=Sing|PronType=Art), ('linha', Gender=Fem|Number=Sing), ('de', ), ('12', NumType=Card), ('jardas', Gender=Fem|Number=Plur), ('.', ), ('Duas', NumType=Card), ('jogadas', Gender=Fem|Number=Plur), ('depois', ), (',', ), ('David', Gender=Masc|Number=Sing), ('Tyree', Number=Sing), ('pegou', Mood=Ind|Number=Sing|Person=3|Tense=Past|VerbForm=Fin), ('um', Definite=Ind|Gender=Masc|Number=Sing|PronType=Art), ('passe', Gender=Masc|Number=Sing), ('de', ), ('cinco', NumType=Card), ('jardas', Gender=Fem|Number=Plur), ('na', Definite=Def|Gender=Fem|Number=Sing|PronType=Art), ('end', ), ('zone', ), ('para', ), ('anotar', VerbForm=Inf), ('o', Definite=Def|Gender=Masc|Number=Sing|PronType=Art), ('touchdown', Gender=Masc|Number=Sing), ('e', ), ('virar', VerbForm=Inf), ('o', Definite=Def|Gender=Masc|Number=Sing|PronType=Art), ('jogo', Gender=Masc|Number=Sing), ('.', ), ('\\n\\n', ), ('Na', Definite=Def|Gender=Fem|Number=Sing|PronType=Art), ('hora', Gender=Fem|Number=Sing), ('da', Definite=Def|Gender=Fem|Number=Sing|PronType=Art), ('decisão', Gender=Fem|Number=Sing), (',', ), ('o', Definite=Def|Gender=Masc|Number=Sing|PronType=Art), ('ataque', Gender=Masc|Number=Sing), ('dos', Definite=Def|Gender=Masc|Number=Plur|PronType=Art), ('Patriots', Number=Sing), ('voltou', Mood=Ind|Number=Sing|Person=3|Tense=Past|VerbForm=Fin), ('a', ), ('funcionar', VerbForm=Inf), ('.', ), ('Com', ), ('uma', Definite=Ind|Gender=Fem|Number=Sing|PronType=Art), ('série', Gender=Fem|Number=Sing), ('de', ), ('passes', Gender=Masc|Number=Plur), ('curtos', Gender=Masc|Number=Plur), ('e', ), ('variados', Gender=Masc|Number=Plur), (',', ), ('Brady', Gender=Masc|Number=Sing), ('achou', Mood=Ind|Number=Sing|Person=3|Tense=Past|VerbForm=Fin), ('Wes', Gender=Masc|Number=Sing), ('Welker', Number=Sing), (',', ), ('Randy', Gender=Masc|Number=Sing), ('Moss', Number=Sing), ('e', ), ('Kevin', Gender=Masc|Number=Sing), ('Faulk', Number=Sing), ('seguidas', Gender=Fem|Number=Plur|VerbForm=Part), ('vezes', Gender=Fem|Number=Plur), ('até', ), ('chegar', VerbForm=Inf), ('à', Definite=Def|Gender=Fem|Number=Sing|PronType=Art), ('red', Gender=Masc|Number=Sing), ('zone', Gender=Masc|Number=Sing), ('.', ), ('A', Definite=Def|Gender=Fem|Number=Sing|PronType=Art), ('2m45s', Gender=Fem|Number=Sing), ('do', Definite=Def|Gender=Masc|Number=Sing|PronType=Art), ('fim', Gender=Masc|Number=Sing), (',', ), ('o', Definite=Def|Gender=Masc|Number=Sing|PronType=Art), ('quarterback', Gender=Masc|Number=Sing), ('conectou', Mood=Ind|Number=Sing|Person=3|Tense=Past|VerbForm=Fin), ('mais', ), ('uma', ), ('vez', Gender=Fem|Number=Sing), ('com', ), ('Moss', Gender=Masc|Number=Sing), (',', ), ('que', Gender=Masc|Number=Sing|PronType=Rel), ('se', Case=Acc|Gender=Masc|Number=Sing|Person=3|PronType=Prs), ('desmarcou', Mood=Ind|Number=Sing|Person=3|Tense=Past|VerbForm=Fin), ('e', ), ('ficou', Mood=Ind|Number=Sing|Person=3|Tense=Past|VerbForm=Fin), ('livre', Gender=Fem|Number=Sing), ('na', Definite=Def|Gender=Fem|Number=Sing|PronType=Art), ('lateral', Gender=Fem|Number=Sing), ('direita', Gender=Fem|Number=Sing), ('da', Definite=Def|Gender=Fem|Number=Sing|PronType=Art), ('end', ), ('zone', ), ('.', ), ('\\n\\n', ), ('Quando', ), ('os', Definite=Def|Gender=Masc|Number=Plur|PronType=Art), ('fãs', Gender=Masc|Number=Plur), ('de', ), ('New', Gender=Masc|Number=Sing), ('England', Number=Sing), ('já', ), ('comemoravam', Mood=Ind|Number=Plur|Person=3|Tense=Imp|VerbForm=Fin), ('a', Definite=Def|Gender=Fem|Number=Sing|PronType=Art), ('vitória', Gender=Fem|Number=Sing), (',', ), ('o', Definite=Def|Gender=Masc|Number=Sing|PronType=Art), ('inesperado', Gender=Masc|Number=Sing), ('aconteceu', Mood=Ind|Number=Sing|Person=3|Tense=Past|VerbForm=Fin), ('.', ), ('Em', ), ('uma', Definite=Ind|Gender=Fem|Number=Sing|PronType=Art), ('jogada', Gender=Fem|Number=Sing), ('incrível', Gender=Fem|Number=Sing), (',', ), ('Eli', Gender=Masc|Number=Sing), ('Manning', Number=Sing), ('se', Case=Acc|Gender=Masc|Number=Sing|Person=3|PronType=Prs), ('soltou', Mood=Ind|Number=Sing|Person=3|Tense=Past|VerbForm=Fin), ('de', ), ('dois', NumType=Card), ('marcadores', Gender=Masc|Number=Plur), ('que', Gender=Masc|Number=Plur|PronType=Rel), ('o', Case=Acc|Gender=Masc|Number=Sing|Person=3|PronType=Prs), ('seguravam', Mood=Ind|Number=Plur|Person=3|Tense=Imp|VerbForm=Fin), ('pela', Definite=Def|Gender=Fem|Number=Sing|PronType=Art), ('camisa', Gender=Fem|Number=Sing), ('e', ), (',', ), ('na', Definite=Def|Gender=Fem|Number=Sing|PronType=Art), ('corrida', Gender=Fem|Number=Sing), (',', ), ('lançou', Mood=Ind|Number=Sing|Person=3|Tense=Past|VerbForm=Fin), ('para', ), ('Amani', Gender=Masc|Number=Sing), ('Toomer', Number=Sing), ('.', ), ('O', Definite=Def|Gender=Masc|Number=Sing|PronType=Art), ('wide', Gender=Masc|Number=Sing), ('receiver', ), (',', ), ('bem', ), ('marcado', Gender=Masc|Number=Sing|VerbForm=Part), (',', ), ('saltou', Mood=Ind|Number=Sing|Person=3|Tense=Past|VerbForm=Fin), ('e', ), ('conseguiu', Mood=Ind|Number=Sing|Person=3|Tense=Past|VerbForm=Fin), ('a', ), ('fazer', VerbForm=Inf), ('recepção', Gender=Fem|Number=Sing), ('para', ), ('um', Definite=Ind|Gender=Masc|Number=Sing|PronType=Art), ('avanço', Gender=Masc|Number=Sing), ('de', ), ('32', NumType=Card), ('jardas', Gender=Fem|Number=Plur), (',', ), ('deixando', VerbForm=Ger), ('os', Definite=Def|Gender=Masc|Number=Plur|PronType=Art), ('Giants', Gender=Masc|Number=Sing), ('na', Definite=Def|Gender=Fem|Number=Sing|PronType=Art), ('linha', Gender=Fem|Number=Sing), ('de', ), ('24', NumType=Card), ('de', ), ('New', Gender=Masc|Number=Sing), ('England', Number=Sing), ('.', ), ('\\n\\n', ), ('Quatro', NumType=Card), ('jogadas', Gender=Fem|Number=Plur), ('depois', ), (',', ), ('a', ), ('39', NumType=Card), ('segundos', Gender=Masc|Number=Plur), ('do', Definite=Def|Gender=Masc|Number=Sing|PronType=Art), ('fim', Gender=Masc|Number=Sing), (',', ), ('Manning', Gender=Masc|Number=Sing), ('achou', Mood=Ind|Number=Sing|Person=3|Tense=Past|VerbForm=Fin), ('Plaxico', Gender=Masc|Number=Sing), ('Burress', Number=Sing), ('na', Definite=Def|Gender=Fem|Number=Sing|PronType=Art), ('end', Number=Sing), ('zone', ), ('para', ), ('conseguir', VerbForm=Inf), ('o', Definite=Def|Gender=Masc|Number=Sing|PronType=Art), ('touchdown', Gender=Masc|Number=Sing), ('do', Definite=Def|Gender=Masc|Number=Sing|PronType=Art), ('título', Gender=Masc|Number=Sing), ('.', )]\n"
          ]
        }
      ]
    },
    {
      "cell_type": "markdown",
      "metadata": {
        "id": "CRkAsWlZ2dVQ"
      },
      "source": [
        "### spaCy - Entidades Nomeadas\n",
        "\n"
      ]
    },
    {
      "cell_type": "code",
      "metadata": {
        "id": "acRoNNosysdY"
      },
      "source": [
        "# Recaptulando os first steps\n",
        "import spacy\n",
        "nlp = spacy.load('pt_core_news_lg')\n",
        "doc = nlp(corpus)"
      ],
      "execution_count": null,
      "outputs": []
    },
    {
      "cell_type": "code",
      "metadata": {
        "colab": {
          "base_uri": "https://localhost:8080/"
        },
        "id": "NIdEq6-y0DRg",
        "outputId": "f509c3e6-6786-425c-f565-4021dc4534cf"
      },
      "source": [
        "# Classificando os tokens que são do tipo entidades nomeadas\n",
        "# através do atributo ents do objeto doc\n",
        "entidades_nomeadas = list(doc.ents)\n",
        "print(entidades_nomeadas)"
      ],
      "execution_count": null,
      "outputs": [
        {
          "output_type": "stream",
          "name": "stdout",
          "text": [
            "[Giants, Patriots, Super Bowl XLII\n",
            ", Azarões, New England, Eli Manning, Plaxico Burress, New York Giants, New England Patriots, Glendale, Super Bowl XLII, Super Bowl, Tom Brady, NFL, Giants, Super Bowl, Peyton Manning, Eli, NFL, Indianapolis Colts, Giants, Brandon Jacobs, Nova York, red zone, Lawrence Tynes, Eli Manning, Patriots, Laurence Maroney, Tom Brady, Patriots, Antonio Pierce, Maroney, Giants, Manning, Amani Toomer, Nova York, red zone, Patriots, Giants, Manning, Steve Smith, Ellis Hobbs, Patriots, Nova York, Giants, Nova York, Manning, Patriots, Brady, Giants, Manning, Patriots, Giants, Bill Bellichick, Brady, Jabar Gaffney, Giants, Manning, Kevin Boss, Patriots, Steve Smith, David Tyree, end zone, Patriots, Brady, Wes Welker, Randy Moss, Kevin Faulk, red zone, Moss, end zone, New England, Eli Manning, Amani Toomer, Giants, New England, Manning, Plaxico Burress, end zone]\n"
          ]
        }
      ]
    },
    {
      "cell_type": "code",
      "metadata": {
        "colab": {
          "base_uri": "https://localhost:8080/"
        },
        "id": "XPzh0HZL0ZxV",
        "outputId": "1bbddff0-3d46-4d08-d35d-919464ccc779"
      },
      "source": [
        "# Identificando o tipo de nome de cada entidade nomeada\n",
        "detalhes_entidades = [(entidade, entidade.label_) for entidade in entidades_nomeadas]\n",
        "print(detalhes_entidades)\n",
        "# O etiquetador do spaCy no modelo de linguagem em português também reconhece nomes em inglês:"
      ],
      "execution_count": null,
      "outputs": [
        {
          "output_type": "stream",
          "name": "stdout",
          "text": [
            "[(Giants, 'ORG'), (Patriots, 'MISC'), (Super Bowl XLII\n",
            ", 'ORG'), (Azarões, 'LOC'), (New England, 'LOC'), (Eli Manning, 'PER'), (Plaxico Burress, 'PER'), (New York Giants, 'ORG'), (New England Patriots, 'MISC'), (Glendale, 'LOC'), (Super Bowl XLII, 'ORG'), (Super Bowl, 'ORG'), (Tom Brady, 'PER'), (NFL, 'ORG'), (Giants, 'ORG'), (Super Bowl, 'ORG'), (Peyton Manning, 'PER'), (Eli, 'PER'), (NFL, 'ORG'), (Indianapolis Colts, 'ORG'), (Giants, 'ORG'), (Brandon Jacobs, 'PER'), (Nova York, 'LOC'), (red zone, 'ORG'), (Lawrence Tynes, 'PER'), (Eli Manning, 'PER'), (Patriots, 'MISC'), (Laurence Maroney, 'PER'), (Tom Brady, 'PER'), (Patriots, 'MISC'), (Antonio Pierce, 'PER'), (Maroney, 'PER'), (Giants, 'ORG'), (Manning, 'PER'), (Amani Toomer, 'PER'), (Nova York, 'LOC'), (red zone, 'ORG'), (Patriots, 'MISC'), (Giants, 'ORG'), (Manning, 'PER'), (Steve Smith, 'PER'), (Ellis Hobbs, 'PER'), (Patriots, 'MISC'), (Nova York, 'LOC'), (Giants, 'ORG'), (Nova York, 'LOC'), (Manning, 'PER'), (Patriots, 'MISC'), (Brady, 'PER'), (Giants, 'ORG'), (Manning, 'PER'), (Patriots, 'MISC'), (Giants, 'ORG'), (Bill Bellichick, 'PER'), (Brady, 'PER'), (Jabar Gaffney, 'PER'), (Giants, 'ORG'), (Manning, 'PER'), (Kevin Boss, 'PER'), (Patriots, 'MISC'), (Steve Smith, 'PER'), (David Tyree, 'PER'), (end zone, 'ORG'), (Patriots, 'MISC'), (Brady, 'PER'), (Wes Welker, 'PER'), (Randy Moss, 'PER'), (Kevin Faulk, 'PER'), (red zone, 'ORG'), (Moss, 'PER'), (end zone, 'ORG'), (New England, 'LOC'), (Eli Manning, 'PER'), (Amani Toomer, 'PER'), (Giants, 'ORG'), (New England, 'LOC'), (Manning, 'PER'), (Plaxico Burress, 'PER'), (end zone, 'ORG')]\n"
          ]
        }
      ]
    },
    {
      "cell_type": "code",
      "metadata": {
        "id": "tGjXwedn1rYr"
      },
      "source": [
        "# Modelo gráfico do reconhecimento das entidades nomeadas\n",
        "# através do módulo displacy incluso na biblioteca\n",
        "html = spacy.displacy.render(doc, style='ent')\n",
        "output_path = open('entidades_nomeadas.html', 'w', encoding='utf-8')\n",
        "output_path.write(html)\n",
        "output_path.close()"
      ],
      "execution_count": null,
      "outputs": []
    },
    {
      "cell_type": "markdown",
      "metadata": {
        "id": "21NwKmDPvIO0"
      },
      "source": [
        "### spaCy - Análise sintática\n",
        "\n",
        "Verificável através do atributo .dep_ dos tokens.\\\n",
        "Consulta de etiquetas: https://emorynlp.github.io/nlp4j/components/dependency-parsing.html\n",
        "\n"
      ]
    },
    {
      "cell_type": "code",
      "metadata": {
        "colab": {
          "base_uri": "https://localhost:8080/"
        },
        "id": "Zl-eHiqU2rFI",
        "outputId": "3e2f6b6d-7660-42db-9798-daf3ef3b5e47"
      },
      "source": [
        "analise_sintatica = [(token.orth_, token.dep_) for token in doc]\n",
        "print(analise_sintatica)"
      ],
      "execution_count": null,
      "outputs": [
        {
          "output_type": "stream",
          "name": "stdout",
          "text": [
            "[('Giants', 'nsubj'), ('batem', 'ROOT'), ('os', 'det'), ('Patriots', 'obj'), ('no', 'case'), ('Super', 'obl'), ('Bowl', 'flat:name'), ('XLII', 'flat:name'), ('\\n', 'dep'), ('Azarões', 'flat:name'), ('acabam', 'conj'), ('com', 'case'), ('a', 'det'), ('invencibilidade', 'obl'), ('de', 'case'), ('New', 'nmod'), ('England', 'flat:name'), ('e', 'cc'), ('ficam', 'conj'), ('com', 'case'), ('o', 'det'), ('título', 'obl'), ('da', 'case'), ('temporada', 'nmod'), ('\\n', 'aux:pass'), ('04/02/2008', 'obl'), ('-', 'punct'), ('01h07', 'obl'), ('m', 'obj'), ('-', 'punct'), ('Atualizado', 'acl'), ('em', 'case'), ('04/02/2008', 'obl'), ('-', 'punct'), ('09h49', 'nsubj'), ('m', 'punct'), ('\\n\\n', 'parataxis'), ('Com', 'case'), ('um', 'det'), ('passe', 'nmod'), ('de', 'case'), ('Eli', 'nmod'), ('Manning', 'flat:name'), ('para', 'case'), ('Plaxico', 'nmod'), ('Burress', 'flat:name'), ('a', 'case'), ('39', 'nummod'), ('segundos', 'nmod'), ('do', 'case'), ('fim', 'nmod'), (',', 'punct'), ('o', 'det'), ('New', 'nsubj'), ('York', 'flat:name'), ('Giants', 'flat:name'), ('anotou', 'ROOT'), ('o', 'det'), ('touchdown', 'obj'), ('decisivo', 'amod'), ('e', 'cc'), ('derrubou', 'conj'), ('o', 'det'), ('favorito', 'obj'), ('New', 'appos'), ('England', 'flat:name'), ('Patriots', 'flat:name'), ('por', 'case'), ('17', 'obl'), ('a', 'case'), ('14', 'nmod'), ('neste', 'case'), ('domingo', 'nmod'), (',', 'punct'), ('em', 'case'), ('Glendale', 'obl'), (',', 'punct'), ('no', 'case'), ('Super', 'obl'), ('Bowl', 'flat:name'), ('XLII', 'flat:name'), ('.', 'punct'), ('O', 'det'), ('resultado', 'nsubj'), (',', 'punct'), ('uma', 'appos'), ('das', 'case'), ('maiores', 'amod'), ('zebras', 'nmod'), ('da', 'case'), ('história', 'nmod'), ('do', 'case'), ('Super', 'nmod'), ('Bowl', 'flat:name'), (',', 'punct'), ('acabou', 'ROOT'), ('com', 'case'), ('a', 'det'), ('temporada', 'obl'), ('perfeita', 'amod'), ('de', 'case'), ('Tom', 'nmod'), ('Brady', 'flat:name'), ('e', 'cc'), ('companhia', 'conj'), (',', 'punct'), ('que', 'nsubj'), ('esperavam', 'acl:relcl'), ('fazer', 'xcomp'), ('história', 'obj'), ('ao', 'mark'), ('levantar', 'advcl'), ('o', 'det'), ('troféu', 'obj'), ('da', 'case'), ('NFL', 'nmod'), ('sem', 'mark'), ('sofrer', 'advcl'), ('uma', 'det'), ('derrota', 'obj'), ('no', 'case'), ('ano', 'nmod'), ('.', 'punct'), ('\\n\\n', 'advmod'), ('A', 'det'), ('vitória', 'nsubj'), ('dos', 'case'), ('Giants', 'nmod'), (',', 'punct'), ('porém', 'cc'), (',', 'punct'), ('também', 'advmod'), ('ficará', 'ROOT'), ('para', 'case'), ('a', 'det'), ('história', 'obl'), ('.', 'punct'), ('Pela', 'obl'), ('primeira', 'case'), ('vez', 'nmod'), (',', 'punct'), ('irmãos', 'nsubj'), ('quarterbacks', 'appos'), ('triunfam', 'ROOT'), ('no', 'case'), ('Super', 'obl'), ('Bowl', 'flat:name'), ('em', 'case'), ('temporadas', 'obl'), ('consecutivas', 'amod'), ('.', 'punct'), ('No', 'case'), ('ano', 'obl'), ('passado', 'amod'), (',', 'punct'), ('Peyton', 'nsubj'), ('Manning', 'flat:name'), (',', 'punct'), ('irmão', 'appos'), ('de', 'case'), ('Eli', 'nmod'), (',', 'punct'), ('chegou', 'ROOT'), ('ao', 'case'), ('título', 'obl'), ('máximo', 'amod'), ('da', 'case'), ('NFL', 'nmod'), ('pelo', 'case'), ('Indianapolis', 'nmod'), ('Colts', 'flat:name'), ('.', 'punct'), ('\\n\\n', 'ROOT'), ('A', 'det'), ('partida', 'nsubj'), ('\\n\\n', 'advmod'), ('Os', 'det'), ('Giants', 'nsubj'), ('começaram', 'ROOT'), ('com', 'case'), ('a', 'det'), ('posse', 'obl'), ('de', 'case'), ('bola', 'nmod'), (',', 'punct'), ('e', 'cc'), ('mostraram', 'conj'), ('logo', 'advmod'), ('que', 'mark'), ('iriam', 'aux'), ('alongar', 'ccomp'), ('ao', 'case'), ('máximo', 'obl'), ('suas', 'det'), ('posses', 'obj'), ('de', 'case'), ('bola', 'nmod'), ('.', 'punct'), ('Misturando', 'advcl'), ('corridas', 'obj'), ('com', 'case'), ('Brandon', 'nmod'), ('Jacobs', 'flat:name'), ('e', 'cc'), ('passes', 'conj'), ('curtos', 'amod'), (',', 'punct'), ('o', 'det'), ('time', 'nsubj'), ('de', 'case'), ('Nova', 'nmod'), ('York', 'flat:name'), ('chegou', 'ROOT'), ('à', 'case'), ('red', 'amod'), ('zone', 'obl'), ('logo', 'advmod'), ('na', 'case'), ('primeira', 'amod'), ('campanha', 'obl'), ('.', 'punct'), ('O', 'det'), ('avanço', 'nsubj'), (',', 'punct'), ('no', 'cc'), ('entanto', 'fixed'), (',', 'punct'), ('parou', 'ROOT'), ('na', 'case'), ('linha', 'obl'), ('de', 'case'), ('17', 'nummod'), ('jardas', 'nmod'), ('e', 'cc'), ('Lawrence', 'conj'), ('Tynes', 'flat:name'), ('converteu', 'conj'), ('o', 'det'), ('field', 'obj'), ('goal', 'flat:name'), ('de', 'case'), ('32', 'nummod'), ('jardas', 'nmod'), ('para', 'mark'), ('abrir', 'advcl'), ('o', 'det'), ('placar', 'obj'), ('.', 'punct'), ('\\n\\n', 'advmod'), ('Eli', 'nsubj'), ('Manning', 'flat:name'), ('e', 'cc'), ('companhia', 'conj'), ('ficaram', 'ROOT'), ('9m54s', 'obj'), ('com', 'case'), ('a', 'det'), ('bola', 'nmod'), (',', 'punct'), ('mas', 'cc'), ('o', 'det'), ('ataque', 'nsubj'), ('dos', 'case'), ('Patriots', 'nmod'), ('não', 'advmod'), ('entrou', 'conj'), ('em', 'case'), ('campo', 'obl'), ('frio', 'amod'), ('.', 'punct'), ('Logo', 'advmod'), ('no', 'case'), ('retorno', 'obl'), ('do', 'case'), ('kickoff', 'nmod'), (',', 'punct'), ('o', 'det'), ('running', 'ROOT'), ('back', 'amod'), ('Laurence', 'nsubj'), ('Maroney', 'flat:name'), ('avançou', 'ROOT'), ('43', 'nummod'), ('jardas', 'obj'), (',', 'punct'), ('deixando', 'advcl'), ('Tom', 'obj'), ('Brady', 'flat:name'), ('em', 'case'), ('boa', 'amod'), ('posição', 'obl'), ('.', 'punct'), ('Com', 'case'), ('passes', 'obl'), ('curtos', 'amod'), (',', 'punct'), ('os', 'det'), ('Patriots', 'nsubj'), ('chegaram', 'ROOT'), ('à', 'case'), ('linha', 'obl'), ('de', 'case'), ('17', 'nummod'), ('jardas', 'nmod'), ('e', 'cc'), (',', 'punct'), ('graças', 'case'), ('a', 'det'), ('uma', 'det'), ('penalidade', 'obl'), ('(', 'punct'), ('interferência', 'appos'), ('de', 'case'), ('passe', 'nmod'), (')', 'punct'), ('do', 'case'), ('linebacker', 'nmod'), ('Antonio', 'appos'), ('Pierce', 'flat:name'), (',', 'punct'), ('alcançaram', 'conj'), ('a', 'det'), ('linha', 'obj'), ('de', 'case'), ('uma', 'det'), ('jarda', 'nmod'), ('.', 'punct'), ('Maroney', 'nsubj'), ('avançou', 'ROOT'), ('pelo', 'case'), ('chão', 'obl'), ('e', 'cc'), ('anotou', 'conj'), ('o', 'det'), ('primeiro', 'amod'), ('touchdown', 'obj'), ('do', 'case'), ('jogo', 'nmod'), ('.', 'punct'), ('\\n\\n', 'ROOT'), ('Os', 'det'), ('Giants', 'nsubj'), ('pareciam', 'ROOT'), ('rumo', 'advmod'), ('à', 'case'), ('virada', 'obl'), ('na', 'case'), ('campanha', 'nmod'), ('seguinte', 'amod'), ('.', 'punct'), ('Manning', 'nsubj'), ('achou', 'ROOT'), ('Amani', 'obj'), ('Toomer', 'flat:name'), ('para', 'case'), ('um', 'det'), ('avanço', 'obl'), ('de', 'case'), ('38', 'nummod'), ('jardas', 'nmod'), (',', 'punct'), ('e', 'cc'), ('o', 'det'), ('time', 'conj'), ('de', 'case'), ('Nova', 'nmod'), ('York', 'flat:name'), ('entrou', 'conj'), ('novamente', 'advmod'), ('na', 'case'), ('red', 'amod'), ('zone', 'obl'), ('.', 'punct'), ('Com', 'case'), ('a', 'det'), ('bola', 'obl'), ('na', 'case'), ('linha', 'nmod'), ('de', 'case'), ('14', 'nummod'), ('jardas', 'nmod'), ('dos', 'case'), ('Patriots', 'nmod'), (',', 'punct'), ('os', 'det'), ('Giants', 'nsubj'), ('sofreram', 'ROOT'), ('um', 'det'), ('revés', 'obj'), ('.', 'punct'), ('Manning', 'nsubj'), ('passou', 'ROOT'), ('para', 'case'), ('Steve', 'obl'), ('Smith', 'flat:name'), (',', 'punct'), ('que', 'nsubj'), ('soltou', 'acl:relcl'), ('a', 'det'), ('bola', 'obj'), ('.', 'punct'), ('Ellis', 'nsubj'), ('Hobbs', 'flat:name'), ('aproveitou', 'ROOT'), (',', 'punct'), ('tomou', 'conj'), ('a', 'det'), ('posse', 'obj'), ('para', 'case'), ('os', 'det'), ('Patriots', 'nmod'), (',', 'punct'), ('e', 'cc'), ('avançou', 'conj'), ('23', 'nummod'), ('jardas', 'obj'), ('.', 'punct'), ('\\n\\n', 'advmod'), ('A', 'det'), ('defesa', 'nsubj'), ('de', 'case'), ('Nova', 'nmod'), ('York', 'flat:name'), ('manteve', 'ROOT'), ('o', 'det'), ('jogo', 'obj'), ('equilibrado', 'amod'), ('.', 'punct'), ('Com', 'case'), ('dois', 'nummod'), ('sacks', 'obl'), ('seguidos', 'acl'), (',', 'punct'), ('os', 'det'), ('Giants', 'nsubj'), ('forçaram', 'ROOT'), ('o', 'det'), ('punt', 'obj'), ('e', 'cc'), ('recuperaram', 'conj'), ('a', 'det'), ('bola', 'obj'), ('.', 'punct'), ('Mas', 'cc'), ('a', 'det'), ('campanha', 'nsubj'), ('seguinte', 'amod'), ('provou', 'ROOT'), ('ser', 'cop'), ('outra', 'det'), ('decepção', 'xcomp'), ('para', 'case'), ('Nova', 'nmod'), ('York', 'flat:name'), ('.', 'punct'), ('O', 'det'), ('time', 'nsubj'), ('chegou', 'ROOT'), ('à', 'case'), ('linha', 'obl'), ('de', 'case'), ('25', 'nummod'), ('jardas', 'nmod'), (',', 'punct'), ('mas', 'cc'), ('Manning', 'nsubj'), ('sofreu', 'conj'), ('um', 'det'), ('sack', 'obj'), ('e', 'cc'), ('cometeu', 'conj'), ('um', 'det'), ('fumble', 'obj'), (',', 'punct'), ('e', 'cc'), ('o', 'det'), ('ataque', 'nsubj'), ('voltou', 'conj'), ('para', 'case'), ('a', 'det'), ('linha', 'obl'), ('de', 'case'), ('39', 'nummod'), ('jardas', 'nmod'), (',', 'punct'), ('não', 'advmod'), ('conseguindo', 'advcl'), ('pontuar', 'xcomp'), ('mais', 'obl'), ('uma', 'case'), ('vez', 'obl'), ('.', 'punct'), ('\\n\\n', 'ROOT'), ('Os', 'det'), ('Patriots', 'nsubj'), ('tiveram', 'ROOT'), ('uma', 'det'), ('última', 'amod'), ('chance', 'obj'), ('de', 'mark'), ('marcar', 'acl'), ('antes', 'advmod'), ('do', 'case'), ('intervalo', 'obl'), (',', 'punct'), ('mas', 'cc'), (',', 'punct'), ('a', 'case'), ('22', 'nummod'), ('segundos', 'obl'), ('do', 'case'), ('fim', 'nmod'), ('do', 'case'), ('segundo', 'amod'), ('período', 'nmod'), (',', 'punct'), ('Brady', 'nsubj'), ('foi', 'aux:pass'), ('novamente', 'advmod'), ('sacado', 'conj'), ('.', 'punct'), ('Desta', 'case'), ('vez', 'obl'), (',', 'punct'), ('ele', 'nsubj'), ('cometeu', 'ROOT'), ('o', 'det'), ('fumble', 'obj'), ('e', 'cc'), ('os', 'det'), ('Giants', 'nsubj'), ('tomaram', 'conj'), ('a', 'det'), ('posse', 'obj'), ('de', 'case'), ('bola', 'nmod'), ('.', 'punct'), ('Manning', 'nsubj'), ('tentou', 'ROOT'), ('um', 'det'), ('passe', 'obj'), ('longo', 'amod'), (',', 'punct'), ('de', 'case'), ('50', 'nummod'), ('jardas', 'obl'), (',', 'punct'), ('nos', 'case'), ('últimos', 'amod'), ('segundos', 'obl'), (',', 'punct'), ('mas', 'cc'), ('não', 'advmod'), ('teve', 'conj'), ('sucesso', 'obj'), ('.', 'punct'), ('\\n\\n', 'advmod'), ('O', 'det'), ('jogo', 'nsubj'), ('continuou', 'ROOT'), ('amarrado', 'xcomp'), ('no', 'case'), ('terceiro', 'amod'), ('quarto', 'obl'), (',', 'punct'), ('com', 'case'), ('as', 'det'), ('defesas', 'obl'), ('levando', 'acl'), ('a', 'det'), ('melhor', 'obj'), ('sobre', 'case'), ('os', 'det'), ('ataques', 'obl'), ('.', 'punct'), ('A', 'det'), ('única', 'amod'), ('chance', 'nsubj'), ('de', 'mark'), ('pontuar', 'acl'), ('do', 'case'), ('período', 'obl'), ('foi', 'cop'), ('dos', 'case'), ('Patriots', 'ROOT'), (',', 'punct'), ('que', 'nsubj'), ('chegaram', 'acl:relcl'), ('à', 'case'), ('linha', 'obl'), ('de', 'case'), ('31', 'nummod'), ('jardas', 'nmod'), ('dos', 'case'), ('Giants', 'nmod'), ('.', 'punct'), ('O', 'det'), ('técnico', 'nsubj'), ('Bill', 'appos'), ('Bellichick', 'flat:name'), (',', 'punct'), ('porém', 'cc'), (',', 'punct'), ('optou', 'ROOT'), ('por', 'case'), ('uma', 'det'), ('quarta', 'amod'), ('descida', 'obl'), ('em', 'case'), ('vez', 'obl'), ('de', 'case'), ('um', 'det'), ('field', 'obj'), ('goal', 'amod'), ('.', 'punct'), ('Brady', 'nsubj'), ('tentou', 'ROOT'), ('um', 'det'), ('passe', 'obj'), ('para', 'case'), ('Jabar', 'obl'), ('Gaffney', 'flat:name'), (',', 'punct'), ('mas', 'cc'), ('não', 'advmod'), ('conseguiu', 'conj'), ('completar', 'xcomp'), ('.', 'punct'), ('\\n\\n', 'advmod'), ('O', 'det'), ('último', 'amod'), ('período', 'nsubj'), ('começou', 'ROOT'), ('arrasador', 'xcomp'), ('para', 'case'), ('os', 'det'), ('Giants', 'obl'), ('.', 'punct'), ('na', 'case'), ('primeira', 'amod'), ('jogada', 'obl'), (',', 'punct'), ('Manning', 'nsubj'), ('achou', 'ROOT'), ('o', 'det'), ('tight', 'obj'), ('end', 'flat:name'), ('Kevin', 'appos'), ('Boss', 'flat:name'), (',', 'punct'), ('para', 'case'), ('um', 'det'), ('incrível', 'amod'), ('avanço', 'obl'), ('de', 'case'), ('45', 'nummod'), ('jardas', 'nmod'), (',', 'punct'), ('que', 'nsubj'), ('deixou', 'acl:relcl'), ('o', 'det'), ('time', 'obj'), ('na', 'case'), ('linha', 'obl'), ('de', 'case'), ('35', 'nmod'), ('dos', 'case'), ('Patriots', 'nmod'), ('.', 'punct'), ('Outro', 'det'), ('lançamento', 'nsubj'), (',', 'punct'), ('desta', 'case'), ('vez', 'nmod'), ('para', 'case'), ('Steve', 'nmod'), ('Smith', 'flat:name'), (',', 'punct'), ('marcou', 'ROOT'), ('o', 'det'), ('avanço', 'obj'), ('até', 'case'), ('a', 'det'), ('linha', 'obl'), ('de', 'case'), ('12', 'nummod'), ('jardas', 'nmod'), ('.', 'punct'), ('Duas', 'nummod'), ('jogadas', 'obl'), ('depois', 'advmod'), (',', 'punct'), ('David', 'nsubj'), ('Tyree', 'flat:name'), ('pegou', 'ROOT'), ('um', 'det'), ('passe', 'obj'), ('de', 'case'), ('cinco', 'nummod'), ('jardas', 'nmod'), ('na', 'case'), ('end', 'nmod'), ('zone', 'flat:name'), ('para', 'mark'), ('anotar', 'advcl'), ('o', 'det'), ('touchdown', 'obj'), ('e', 'cc'), ('virar', 'conj'), ('o', 'det'), ('jogo', 'obj'), ('.', 'punct'), ('\\n\\n', 'advmod'), ('Na', 'case'), ('hora', 'obl'), ('da', 'case'), ('decisão', 'nmod'), (',', 'punct'), ('o', 'det'), ('ataque', 'nsubj'), ('dos', 'case'), ('Patriots', 'nmod'), ('voltou', 'ROOT'), ('a', 'mark'), ('funcionar', 'xcomp'), ('.', 'punct'), ('Com', 'case'), ('uma', 'det'), ('série', 'obl'), ('de', 'case'), ('passes', 'nmod'), ('curtos', 'amod'), ('e', 'cc'), ('variados', 'conj'), (',', 'punct'), ('Brady', 'nsubj'), ('achou', 'ROOT'), ('Wes', 'obj'), ('Welker', 'flat:name'), (',', 'punct'), ('Randy', 'dep'), ('Moss', 'flat:name'), ('e', 'cc'), ('Kevin', 'conj'), ('Faulk', 'flat:name'), ('seguidas', 'xcomp'), ('vezes', 'obj'), ('até', 'mark'), ('chegar', 'advcl'), ('à', 'case'), ('red', 'amod'), ('zone', 'obl'), ('.', 'punct'), ('A', 'case'), ('2m45s', 'obl'), ('do', 'case'), ('fim', 'nmod'), (',', 'punct'), ('o', 'det'), ('quarterback', 'nsubj'), ('conectou', 'ROOT'), ('mais', 'advmod'), ('uma', 'case'), ('vez', 'obl'), ('com', 'case'), ('Moss', 'obl'), (',', 'punct'), ('que', 'nsubj'), ('se', 'expl'), ('desmarcou', 'acl:relcl'), ('e', 'cc'), ('ficou', 'conj'), ('livre', 'xcomp'), ('na', 'case'), ('lateral', 'obl'), ('direita', 'amod'), ('da', 'case'), ('end', 'nmod'), ('zone', 'flat:name'), ('.', 'punct'), ('\\n\\n', 'advmod'), ('Quando', 'mark'), ('os', 'det'), ('fãs', 'nsubj'), ('de', 'case'), ('New', 'nmod'), ('England', 'flat:name'), ('já', 'advmod'), ('comemoravam', 'advcl'), ('a', 'det'), ('vitória', 'obj'), (',', 'punct'), ('o', 'det'), ('inesperado', 'nsubj'), ('aconteceu', 'ROOT'), ('.', 'punct'), ('Em', 'case'), ('uma', 'det'), ('jogada', 'obl'), ('incrível', 'amod'), (',', 'punct'), ('Eli', 'nsubj'), ('Manning', 'flat:name'), ('se', 'expl'), ('soltou', 'ROOT'), ('de', 'case'), ('dois', 'nummod'), ('marcadores', 'obj'), ('que', 'nsubj'), ('o', 'obj'), ('seguravam', 'acl:relcl'), ('pela', 'case'), ('camisa', 'obl'), ('e', 'cc'), (',', 'punct'), ('na', 'case'), ('corrida', 'obl'), (',', 'punct'), ('lançou', 'conj'), ('para', 'case'), ('Amani', 'obl'), ('Toomer', 'flat:name'), ('.', 'punct'), ('O', 'det'), ('wide', 'nsubj'), ('receiver', 'flat:name'), (',', 'punct'), ('bem', 'advmod'), ('marcado', 'acl'), (',', 'punct'), ('saltou', 'ROOT'), ('e', 'cc'), ('conseguiu', 'conj'), ('a', 'mark'), ('fazer', 'xcomp'), ('recepção', 'obj'), ('para', 'case'), ('um', 'det'), ('avanço', 'nmod'), ('de', 'case'), ('32', 'nummod'), ('jardas', 'nmod'), (',', 'punct'), ('deixando', 'advcl'), ('os', 'det'), ('Giants', 'obj'), ('na', 'case'), ('linha', 'obl'), ('de', 'case'), ('24', 'nmod'), ('de', 'case'), ('New', 'nmod'), ('England', 'flat:name'), ('.', 'punct'), ('\\n\\n', 'advmod'), ('Quatro', 'nummod'), ('jogadas', 'obl'), ('depois', 'advmod'), (',', 'punct'), ('a', 'case'), ('39', 'nummod'), ('segundos', 'obl'), ('do', 'case'), ('fim', 'nmod'), (',', 'punct'), ('Manning', 'nsubj'), ('achou', 'ROOT'), ('Plaxico', 'obj'), ('Burress', 'flat:name'), ('na', 'case'), ('end', 'obl'), ('zone', 'flat:name'), ('para', 'mark'), ('conseguir', 'advcl'), ('o', 'det'), ('touchdown', 'obj'), ('do', 'case'), ('título', 'nmod'), ('.', 'punct')]\n"
          ]
        }
      ]
    },
    {
      "cell_type": "code",
      "metadata": {
        "id": "qTHET8cP4nm8"
      },
      "source": [
        "# Assim como fizemos com entidades, é possível ver graficamente\n",
        "# as classificações sintáticas do objeto doc\n",
        "visualizar_sintaxe = spacy.displacy.render(doc, style = 'dep')\n",
        "#o parm style determina o que será destacado na visualização\n",
        "\n",
        "output_path = open('análise_sintatica.html', 'w', encoding='utf-8')\n",
        "output_path.write(visualizar_sintaxe)\n",
        "output_path.close()"
      ],
      "execution_count": null,
      "outputs": []
    }
  ]
}